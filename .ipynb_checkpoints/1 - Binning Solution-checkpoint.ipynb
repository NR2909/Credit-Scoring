{
 "cells": [
  {
   "cell_type": "markdown",
   "metadata": {},
   "source": [
    "![](https://www.ieseg.fr/wp-content/uploads/IESEG-Logo-2012-rgb.jpg)"
   ]
  },
  {
   "cell_type": "markdown",
   "metadata": {},
   "source": [
    "# Data Preprocessing - Binning techniques"
   ]
  },
  {
   "cell_type": "markdown",
   "metadata": {},
   "source": [
    "Data Set HMEQ\n",
    "The data set HMEQ reports characteristics and delinquency information for 5,960 home equity loans. A home equity loan is a loan where the obligor uses the equity of his or her home as the underlying collateral. The data set has the following characteristics:\n",
    "- BAD: 1 = applicant defaulted on loan or seriously delinquent; 0 = applicant paid loan\n",
    "- LOAN: Amount of the loan request\n",
    "- MORTDUE: Amount due on existing mortgage\n",
    "- VALUE: Value of current property\n",
    "- REASON: DebtCon = debt consolidation; HomeImp = home improvement\n",
    "- JOB: Occupational categories\n",
    "- YOJ: Years at present job\n",
    "- DEROG: Number of major derogatory reports\n",
    "- DELINQ: Number of delinquent credit lines\n",
    "- CLAGE: Age of oldest credit line in months\n",
    "- NINQ: Number of recent credit inquiries\n",
    "- CLNO: Number of credit lines\n",
    "- DEBTINC: Debt-to-income ratio"
   ]
  },
  {
   "cell_type": "code",
   "execution_count": 66,
   "metadata": {},
   "outputs": [],
   "source": [
    "import pandas as pd\n",
    "import numpy as np \n",
    "import matplotlib.pyplot as plt"
   ]
  },
  {
   "cell_type": "markdown",
   "metadata": {},
   "source": [
    "# Read and Explore data"
   ]
  },
  {
   "cell_type": "code",
   "execution_count": 67,
   "metadata": {},
   "outputs": [],
   "source": [
    "# read dataset\n",
    "hmeq = pd.read_csv('../Data/hmeq.csv')"
   ]
  },
  {
   "cell_type": "code",
   "execution_count": 68,
   "metadata": {},
   "outputs": [
    {
     "data": {
      "text/html": [
       "<div>\n",
       "<style scoped>\n",
       "    .dataframe tbody tr th:only-of-type {\n",
       "        vertical-align: middle;\n",
       "    }\n",
       "\n",
       "    .dataframe tbody tr th {\n",
       "        vertical-align: top;\n",
       "    }\n",
       "\n",
       "    .dataframe thead th {\n",
       "        text-align: right;\n",
       "    }\n",
       "</style>\n",
       "<table border=\"1\" class=\"dataframe\">\n",
       "  <thead>\n",
       "    <tr style=\"text-align: right;\">\n",
       "      <th></th>\n",
       "      <th>BAD</th>\n",
       "      <th>LOAN</th>\n",
       "      <th>MORTDUE</th>\n",
       "      <th>VALUE</th>\n",
       "      <th>REASON</th>\n",
       "      <th>JOB</th>\n",
       "      <th>YOJ</th>\n",
       "      <th>DEROG</th>\n",
       "      <th>DELINQ</th>\n",
       "      <th>CLAGE</th>\n",
       "      <th>NINQ</th>\n",
       "      <th>CLNO</th>\n",
       "      <th>DEBTINC</th>\n",
       "    </tr>\n",
       "  </thead>\n",
       "  <tbody>\n",
       "    <tr>\n",
       "      <th>0</th>\n",
       "      <td>1</td>\n",
       "      <td>1100</td>\n",
       "      <td>25860.0</td>\n",
       "      <td>39025.0</td>\n",
       "      <td>HomeImp</td>\n",
       "      <td>Other</td>\n",
       "      <td>10.5</td>\n",
       "      <td>0.0</td>\n",
       "      <td>0.0</td>\n",
       "      <td>94.366667</td>\n",
       "      <td>1.0</td>\n",
       "      <td>9.0</td>\n",
       "      <td>NaN</td>\n",
       "    </tr>\n",
       "    <tr>\n",
       "      <th>1</th>\n",
       "      <td>1</td>\n",
       "      <td>1300</td>\n",
       "      <td>70053.0</td>\n",
       "      <td>68400.0</td>\n",
       "      <td>HomeImp</td>\n",
       "      <td>Other</td>\n",
       "      <td>7.0</td>\n",
       "      <td>0.0</td>\n",
       "      <td>2.0</td>\n",
       "      <td>121.833333</td>\n",
       "      <td>0.0</td>\n",
       "      <td>14.0</td>\n",
       "      <td>NaN</td>\n",
       "    </tr>\n",
       "    <tr>\n",
       "      <th>2</th>\n",
       "      <td>1</td>\n",
       "      <td>1500</td>\n",
       "      <td>13500.0</td>\n",
       "      <td>16700.0</td>\n",
       "      <td>HomeImp</td>\n",
       "      <td>Other</td>\n",
       "      <td>4.0</td>\n",
       "      <td>0.0</td>\n",
       "      <td>0.0</td>\n",
       "      <td>149.466667</td>\n",
       "      <td>1.0</td>\n",
       "      <td>10.0</td>\n",
       "      <td>NaN</td>\n",
       "    </tr>\n",
       "    <tr>\n",
       "      <th>3</th>\n",
       "      <td>1</td>\n",
       "      <td>1500</td>\n",
       "      <td>NaN</td>\n",
       "      <td>NaN</td>\n",
       "      <td>NaN</td>\n",
       "      <td>NaN</td>\n",
       "      <td>NaN</td>\n",
       "      <td>NaN</td>\n",
       "      <td>NaN</td>\n",
       "      <td>NaN</td>\n",
       "      <td>NaN</td>\n",
       "      <td>NaN</td>\n",
       "      <td>NaN</td>\n",
       "    </tr>\n",
       "    <tr>\n",
       "      <th>4</th>\n",
       "      <td>0</td>\n",
       "      <td>1700</td>\n",
       "      <td>97800.0</td>\n",
       "      <td>112000.0</td>\n",
       "      <td>HomeImp</td>\n",
       "      <td>Office</td>\n",
       "      <td>3.0</td>\n",
       "      <td>0.0</td>\n",
       "      <td>0.0</td>\n",
       "      <td>93.333333</td>\n",
       "      <td>0.0</td>\n",
       "      <td>14.0</td>\n",
       "      <td>NaN</td>\n",
       "    </tr>\n",
       "  </tbody>\n",
       "</table>\n",
       "</div>"
      ],
      "text/plain": [
       "   BAD  LOAN  MORTDUE     VALUE   REASON     JOB   YOJ  DEROG  DELINQ  \\\n",
       "0    1  1100  25860.0   39025.0  HomeImp   Other  10.5    0.0     0.0   \n",
       "1    1  1300  70053.0   68400.0  HomeImp   Other   7.0    0.0     2.0   \n",
       "2    1  1500  13500.0   16700.0  HomeImp   Other   4.0    0.0     0.0   \n",
       "3    1  1500      NaN       NaN      NaN     NaN   NaN    NaN     NaN   \n",
       "4    0  1700  97800.0  112000.0  HomeImp  Office   3.0    0.0     0.0   \n",
       "\n",
       "        CLAGE  NINQ  CLNO  DEBTINC  \n",
       "0   94.366667   1.0   9.0      NaN  \n",
       "1  121.833333   0.0  14.0      NaN  \n",
       "2  149.466667   1.0  10.0      NaN  \n",
       "3         NaN   NaN   NaN      NaN  \n",
       "4   93.333333   0.0  14.0      NaN  "
      ]
     },
     "execution_count": 68,
     "metadata": {},
     "output_type": "execute_result"
    }
   ],
   "source": [
    "hmeq.head()"
   ]
  },
  {
   "cell_type": "code",
   "execution_count": 69,
   "metadata": {},
   "outputs": [
    {
     "data": {
      "text/plain": [
       "(5960, 13)"
      ]
     },
     "execution_count": 69,
     "metadata": {},
     "output_type": "execute_result"
    }
   ],
   "source": [
    "hmeq.shape"
   ]
  },
  {
   "cell_type": "code",
   "execution_count": 70,
   "metadata": {},
   "outputs": [
    {
     "data": {
      "text/html": [
       "<div>\n",
       "<style scoped>\n",
       "    .dataframe tbody tr th:only-of-type {\n",
       "        vertical-align: middle;\n",
       "    }\n",
       "\n",
       "    .dataframe tbody tr th {\n",
       "        vertical-align: top;\n",
       "    }\n",
       "\n",
       "    .dataframe thead th {\n",
       "        text-align: right;\n",
       "    }\n",
       "</style>\n",
       "<table border=\"1\" class=\"dataframe\">\n",
       "  <thead>\n",
       "    <tr style=\"text-align: right;\">\n",
       "      <th></th>\n",
       "      <th>BAD</th>\n",
       "      <th>LOAN</th>\n",
       "      <th>MORTDUE</th>\n",
       "      <th>VALUE</th>\n",
       "      <th>YOJ</th>\n",
       "      <th>DEROG</th>\n",
       "      <th>DELINQ</th>\n",
       "      <th>CLAGE</th>\n",
       "      <th>NINQ</th>\n",
       "      <th>CLNO</th>\n",
       "      <th>DEBTINC</th>\n",
       "    </tr>\n",
       "  </thead>\n",
       "  <tbody>\n",
       "    <tr>\n",
       "      <th>count</th>\n",
       "      <td>5960.000000</td>\n",
       "      <td>5960.000000</td>\n",
       "      <td>5442.000000</td>\n",
       "      <td>5848.000000</td>\n",
       "      <td>5445.000000</td>\n",
       "      <td>5252.000000</td>\n",
       "      <td>5380.000000</td>\n",
       "      <td>5652.000000</td>\n",
       "      <td>5450.000000</td>\n",
       "      <td>5738.000000</td>\n",
       "      <td>4693.000000</td>\n",
       "    </tr>\n",
       "    <tr>\n",
       "      <th>mean</th>\n",
       "      <td>0.199497</td>\n",
       "      <td>18607.969799</td>\n",
       "      <td>73760.817200</td>\n",
       "      <td>101776.048741</td>\n",
       "      <td>8.922268</td>\n",
       "      <td>0.254570</td>\n",
       "      <td>0.449442</td>\n",
       "      <td>179.766275</td>\n",
       "      <td>1.186055</td>\n",
       "      <td>21.296096</td>\n",
       "      <td>33.779915</td>\n",
       "    </tr>\n",
       "    <tr>\n",
       "      <th>std</th>\n",
       "      <td>0.399656</td>\n",
       "      <td>11207.480417</td>\n",
       "      <td>44457.609458</td>\n",
       "      <td>57385.775334</td>\n",
       "      <td>7.573982</td>\n",
       "      <td>0.846047</td>\n",
       "      <td>1.127266</td>\n",
       "      <td>85.810092</td>\n",
       "      <td>1.728675</td>\n",
       "      <td>10.138933</td>\n",
       "      <td>8.601746</td>\n",
       "    </tr>\n",
       "    <tr>\n",
       "      <th>min</th>\n",
       "      <td>0.000000</td>\n",
       "      <td>1100.000000</td>\n",
       "      <td>2063.000000</td>\n",
       "      <td>8000.000000</td>\n",
       "      <td>0.000000</td>\n",
       "      <td>0.000000</td>\n",
       "      <td>0.000000</td>\n",
       "      <td>0.000000</td>\n",
       "      <td>0.000000</td>\n",
       "      <td>0.000000</td>\n",
       "      <td>0.524499</td>\n",
       "    </tr>\n",
       "    <tr>\n",
       "      <th>25%</th>\n",
       "      <td>0.000000</td>\n",
       "      <td>11100.000000</td>\n",
       "      <td>46276.000000</td>\n",
       "      <td>66075.500000</td>\n",
       "      <td>3.000000</td>\n",
       "      <td>0.000000</td>\n",
       "      <td>0.000000</td>\n",
       "      <td>115.116702</td>\n",
       "      <td>0.000000</td>\n",
       "      <td>15.000000</td>\n",
       "      <td>29.140031</td>\n",
       "    </tr>\n",
       "    <tr>\n",
       "      <th>50%</th>\n",
       "      <td>0.000000</td>\n",
       "      <td>16300.000000</td>\n",
       "      <td>65019.000000</td>\n",
       "      <td>89235.500000</td>\n",
       "      <td>7.000000</td>\n",
       "      <td>0.000000</td>\n",
       "      <td>0.000000</td>\n",
       "      <td>173.466667</td>\n",
       "      <td>1.000000</td>\n",
       "      <td>20.000000</td>\n",
       "      <td>34.818262</td>\n",
       "    </tr>\n",
       "    <tr>\n",
       "      <th>75%</th>\n",
       "      <td>0.000000</td>\n",
       "      <td>23300.000000</td>\n",
       "      <td>91488.000000</td>\n",
       "      <td>119824.250000</td>\n",
       "      <td>13.000000</td>\n",
       "      <td>0.000000</td>\n",
       "      <td>0.000000</td>\n",
       "      <td>231.562278</td>\n",
       "      <td>2.000000</td>\n",
       "      <td>26.000000</td>\n",
       "      <td>39.003141</td>\n",
       "    </tr>\n",
       "    <tr>\n",
       "      <th>max</th>\n",
       "      <td>1.000000</td>\n",
       "      <td>89900.000000</td>\n",
       "      <td>399550.000000</td>\n",
       "      <td>855909.000000</td>\n",
       "      <td>41.000000</td>\n",
       "      <td>10.000000</td>\n",
       "      <td>15.000000</td>\n",
       "      <td>1168.233561</td>\n",
       "      <td>17.000000</td>\n",
       "      <td>71.000000</td>\n",
       "      <td>203.312149</td>\n",
       "    </tr>\n",
       "  </tbody>\n",
       "</table>\n",
       "</div>"
      ],
      "text/plain": [
       "               BAD          LOAN        MORTDUE          VALUE          YOJ  \\\n",
       "count  5960.000000   5960.000000    5442.000000    5848.000000  5445.000000   \n",
       "mean      0.199497  18607.969799   73760.817200  101776.048741     8.922268   \n",
       "std       0.399656  11207.480417   44457.609458   57385.775334     7.573982   \n",
       "min       0.000000   1100.000000    2063.000000    8000.000000     0.000000   \n",
       "25%       0.000000  11100.000000   46276.000000   66075.500000     3.000000   \n",
       "50%       0.000000  16300.000000   65019.000000   89235.500000     7.000000   \n",
       "75%       0.000000  23300.000000   91488.000000  119824.250000    13.000000   \n",
       "max       1.000000  89900.000000  399550.000000  855909.000000    41.000000   \n",
       "\n",
       "             DEROG       DELINQ        CLAGE         NINQ         CLNO  \\\n",
       "count  5252.000000  5380.000000  5652.000000  5450.000000  5738.000000   \n",
       "mean      0.254570     0.449442   179.766275     1.186055    21.296096   \n",
       "std       0.846047     1.127266    85.810092     1.728675    10.138933   \n",
       "min       0.000000     0.000000     0.000000     0.000000     0.000000   \n",
       "25%       0.000000     0.000000   115.116702     0.000000    15.000000   \n",
       "50%       0.000000     0.000000   173.466667     1.000000    20.000000   \n",
       "75%       0.000000     0.000000   231.562278     2.000000    26.000000   \n",
       "max      10.000000    15.000000  1168.233561    17.000000    71.000000   \n",
       "\n",
       "           DEBTINC  \n",
       "count  4693.000000  \n",
       "mean     33.779915  \n",
       "std       8.601746  \n",
       "min       0.524499  \n",
       "25%      29.140031  \n",
       "50%      34.818262  \n",
       "75%      39.003141  \n",
       "max     203.312149  "
      ]
     },
     "execution_count": 70,
     "metadata": {},
     "output_type": "execute_result"
    }
   ],
   "source": [
    "hmeq.describe()"
   ]
  },
  {
   "cell_type": "code",
   "execution_count": 71,
   "metadata": {},
   "outputs": [
    {
     "data": {
      "text/plain": [
       "BAD           0\n",
       "LOAN          0\n",
       "MORTDUE     518\n",
       "VALUE       112\n",
       "REASON      252\n",
       "JOB         279\n",
       "YOJ         515\n",
       "DEROG       708\n",
       "DELINQ      580\n",
       "CLAGE       308\n",
       "NINQ        510\n",
       "CLNO        222\n",
       "DEBTINC    1267\n",
       "dtype: int64"
      ]
     },
     "execution_count": 71,
     "metadata": {},
     "output_type": "execute_result"
    }
   ],
   "source": [
    "hmeq.isna().sum()"
   ]
  },
  {
   "cell_type": "code",
   "execution_count": 72,
   "metadata": {},
   "outputs": [
    {
     "data": {
      "text/plain": [
       "Text(0.5, 1.0, 'Distribution Bad Loans')"
      ]
     },
     "execution_count": 72,
     "metadata": {},
     "output_type": "execute_result"
    },
    {
     "data": {
      "image/png": "[encoded data removed]",
      "text/plain": [
       "<Figure size 432x288 with 1 Axes>"
      ]
     },
     "metadata": {},
     "output_type": "display_data"
    }
   ],
   "source": [
    "hmeq[\"BAD\"].value_counts().plot.pie(autopct=\"%1.2f%%\")\n",
    "plt.title(\"Distribution Bad Loans\")"
   ]
  },
  {
   "cell_type": "markdown",
   "metadata": {},
   "source": [
    "# Exercise 1"
   ]
  },
  {
   "cell_type": "code",
   "execution_count": 73,
   "metadata": {},
   "outputs": [
    {
     "data": {
      "text/plain": [
       "Other      2388\n",
       "ProfExe    1276\n",
       "Office      948\n",
       "Mgr         767\n",
       "Self        193\n",
       "Sales       109\n",
       "Name: JOB, dtype: int64"
      ]
     },
     "execution_count": 73,
     "metadata": {},
     "output_type": "execute_result"
    }
   ],
   "source": [
    "# number of applicants per job\n",
    "hmeq[\"JOB\"].value_counts()"
   ]
  },
  {
   "cell_type": "code",
   "execution_count": 74,
   "metadata": {},
   "outputs": [
    {
     "data": {
      "text/html": [
       "<div>\n",
       "<style scoped>\n",
       "    .dataframe tbody tr th:only-of-type {\n",
       "        vertical-align: middle;\n",
       "    }\n",
       "\n",
       "    .dataframe tbody tr th {\n",
       "        vertical-align: top;\n",
       "    }\n",
       "\n",
       "    .dataframe thead th {\n",
       "        text-align: right;\n",
       "    }\n",
       "</style>\n",
       "<table border=\"1\" class=\"dataframe\">\n",
       "  <thead>\n",
       "    <tr style=\"text-align: right;\">\n",
       "      <th>BAD</th>\n",
       "      <th>0</th>\n",
       "      <th>1</th>\n",
       "    </tr>\n",
       "    <tr>\n",
       "      <th>JOB</th>\n",
       "      <th></th>\n",
       "      <th></th>\n",
       "    </tr>\n",
       "  </thead>\n",
       "  <tbody>\n",
       "    <tr>\n",
       "      <th>Mgr</th>\n",
       "      <td>588</td>\n",
       "      <td>179</td>\n",
       "    </tr>\n",
       "    <tr>\n",
       "      <th>Office</th>\n",
       "      <td>823</td>\n",
       "      <td>125</td>\n",
       "    </tr>\n",
       "    <tr>\n",
       "      <th>Other</th>\n",
       "      <td>1834</td>\n",
       "      <td>554</td>\n",
       "    </tr>\n",
       "    <tr>\n",
       "      <th>ProfExe</th>\n",
       "      <td>1064</td>\n",
       "      <td>212</td>\n",
       "    </tr>\n",
       "    <tr>\n",
       "      <th>Sales</th>\n",
       "      <td>71</td>\n",
       "      <td>38</td>\n",
       "    </tr>\n",
       "    <tr>\n",
       "      <th>Self</th>\n",
       "      <td>135</td>\n",
       "      <td>58</td>\n",
       "    </tr>\n",
       "  </tbody>\n",
       "</table>\n",
       "</div>"
      ],
      "text/plain": [
       "BAD         0    1\n",
       "JOB               \n",
       "Mgr       588  179\n",
       "Office    823  125\n",
       "Other    1834  554\n",
       "ProfExe  1064  212\n",
       "Sales      71   38\n",
       "Self      135   58"
      ]
     },
     "execution_count": 74,
     "metadata": {},
     "output_type": "execute_result"
    }
   ],
   "source": [
    "# Odds based grouping (step-by-step)\n",
    "\n",
    "# number of Goods / Bads for each job\n",
    "ct = pd.crosstab(hmeq[\"JOB\"], hmeq[\"BAD\"])\n",
    "ct"
   ]
  },
  {
   "cell_type": "code",
   "execution_count": 75,
   "metadata": {},
   "outputs": [
    {
     "data": {
      "text/html": [
       "<div>\n",
       "<style scoped>\n",
       "    .dataframe tbody tr th:only-of-type {\n",
       "        vertical-align: middle;\n",
       "    }\n",
       "\n",
       "    .dataframe tbody tr th {\n",
       "        vertical-align: top;\n",
       "    }\n",
       "\n",
       "    .dataframe thead th {\n",
       "        text-align: right;\n",
       "    }\n",
       "</style>\n",
       "<table border=\"1\" class=\"dataframe\">\n",
       "  <thead>\n",
       "    <tr style=\"text-align: right;\">\n",
       "      <th>BAD</th>\n",
       "      <th>0</th>\n",
       "      <th>1</th>\n",
       "      <th>odds</th>\n",
       "    </tr>\n",
       "    <tr>\n",
       "      <th>JOB</th>\n",
       "      <th></th>\n",
       "      <th></th>\n",
       "      <th></th>\n",
       "    </tr>\n",
       "  </thead>\n",
       "  <tbody>\n",
       "    <tr>\n",
       "      <th>Mgr</th>\n",
       "      <td>588</td>\n",
       "      <td>179</td>\n",
       "      <td>0.233377</td>\n",
       "    </tr>\n",
       "    <tr>\n",
       "      <th>Office</th>\n",
       "      <td>823</td>\n",
       "      <td>125</td>\n",
       "      <td>0.131857</td>\n",
       "    </tr>\n",
       "    <tr>\n",
       "      <th>Other</th>\n",
       "      <td>1834</td>\n",
       "      <td>554</td>\n",
       "      <td>0.231993</td>\n",
       "    </tr>\n",
       "    <tr>\n",
       "      <th>ProfExe</th>\n",
       "      <td>1064</td>\n",
       "      <td>212</td>\n",
       "      <td>0.166144</td>\n",
       "    </tr>\n",
       "    <tr>\n",
       "      <th>Sales</th>\n",
       "      <td>71</td>\n",
       "      <td>38</td>\n",
       "      <td>0.348624</td>\n",
       "    </tr>\n",
       "    <tr>\n",
       "      <th>Self</th>\n",
       "      <td>135</td>\n",
       "      <td>58</td>\n",
       "      <td>0.300518</td>\n",
       "    </tr>\n",
       "  </tbody>\n",
       "</table>\n",
       "</div>"
      ],
      "text/plain": [
       "BAD         0    1      odds\n",
       "JOB                         \n",
       "Mgr       588  179  0.233377\n",
       "Office    823  125  0.131857\n",
       "Other    1834  554  0.231993\n",
       "ProfExe  1064  212  0.166144\n",
       "Sales      71   38  0.348624\n",
       "Self      135   58  0.300518"
      ]
     },
     "execution_count": 75,
     "metadata": {},
     "output_type": "execute_result"
    }
   ],
   "source": [
    "# Compute odds\n",
    "ct[\"odds\"] = np.array(ct.iloc[:,1] / (ct.iloc[:,0] + ct.iloc[:,1]))\n",
    "ct"
   ]
  },
  {
   "cell_type": "code",
   "execution_count": 76,
   "metadata": {},
   "outputs": [
    {
     "data": {
      "text/html": [
       "<div>\n",
       "<style scoped>\n",
       "    .dataframe tbody tr th:only-of-type {\n",
       "        vertical-align: middle;\n",
       "    }\n",
       "\n",
       "    .dataframe tbody tr th {\n",
       "        vertical-align: top;\n",
       "    }\n",
       "\n",
       "    .dataframe thead th {\n",
       "        text-align: right;\n",
       "    }\n",
       "</style>\n",
       "<table border=\"1\" class=\"dataframe\">\n",
       "  <thead>\n",
       "    <tr style=\"text-align: right;\">\n",
       "      <th>JOB</th>\n",
       "      <th>Mgr</th>\n",
       "      <th>Office</th>\n",
       "      <th>Other</th>\n",
       "      <th>ProfExe</th>\n",
       "      <th>Sales</th>\n",
       "      <th>Self</th>\n",
       "    </tr>\n",
       "    <tr>\n",
       "      <th>JOB</th>\n",
       "      <th></th>\n",
       "      <th></th>\n",
       "      <th></th>\n",
       "      <th></th>\n",
       "      <th></th>\n",
       "      <th></th>\n",
       "    </tr>\n",
       "  </thead>\n",
       "  <tbody>\n",
       "    <tr>\n",
       "      <th>Mgr</th>\n",
       "      <td>0.000000</td>\n",
       "      <td>0.101520</td>\n",
       "      <td>0.001383</td>\n",
       "      <td>0.067233</td>\n",
       "      <td>0.115247</td>\n",
       "      <td>0.067141</td>\n",
       "    </tr>\n",
       "    <tr>\n",
       "      <th>Office</th>\n",
       "      <td>0.101520</td>\n",
       "      <td>0.000000</td>\n",
       "      <td>0.100137</td>\n",
       "      <td>0.034288</td>\n",
       "      <td>0.216767</td>\n",
       "      <td>0.168662</td>\n",
       "    </tr>\n",
       "    <tr>\n",
       "      <th>Other</th>\n",
       "      <td>0.001383</td>\n",
       "      <td>0.100137</td>\n",
       "      <td>0.000000</td>\n",
       "      <td>0.065849</td>\n",
       "      <td>0.116631</td>\n",
       "      <td>0.068525</td>\n",
       "    </tr>\n",
       "    <tr>\n",
       "      <th>ProfExe</th>\n",
       "      <td>0.067233</td>\n",
       "      <td>0.034288</td>\n",
       "      <td>0.065849</td>\n",
       "      <td>0.000000</td>\n",
       "      <td>0.182480</td>\n",
       "      <td>0.134374</td>\n",
       "    </tr>\n",
       "    <tr>\n",
       "      <th>Sales</th>\n",
       "      <td>0.115247</td>\n",
       "      <td>0.216767</td>\n",
       "      <td>0.116631</td>\n",
       "      <td>0.182480</td>\n",
       "      <td>0.000000</td>\n",
       "      <td>0.048106</td>\n",
       "    </tr>\n",
       "    <tr>\n",
       "      <th>Self</th>\n",
       "      <td>0.067141</td>\n",
       "      <td>0.168662</td>\n",
       "      <td>0.068525</td>\n",
       "      <td>0.134374</td>\n",
       "      <td>0.048106</td>\n",
       "      <td>0.000000</td>\n",
       "    </tr>\n",
       "  </tbody>\n",
       "</table>\n",
       "</div>"
      ],
      "text/plain": [
       "JOB           Mgr    Office     Other   ProfExe     Sales      Self\n",
       "JOB                                                                \n",
       "Mgr      0.000000  0.101520  0.001383  0.067233  0.115247  0.067141\n",
       "Office   0.101520  0.000000  0.100137  0.034288  0.216767  0.168662\n",
       "Other    0.001383  0.100137  0.000000  0.065849  0.116631  0.068525\n",
       "ProfExe  0.067233  0.034288  0.065849  0.000000  0.182480  0.134374\n",
       "Sales    0.115247  0.216767  0.116631  0.182480  0.000000  0.048106\n",
       "Self     0.067141  0.168662  0.068525  0.134374  0.048106  0.000000"
      ]
     },
     "execution_count": 76,
     "metadata": {},
     "output_type": "execute_result"
    }
   ],
   "source": [
    "# absolute difference between odds for all jobs\n",
    "diff = np.abs(np.subtract.outer(ct[\"odds\"].values, ct[\"odds\"].values))\n",
    "\n",
    "pd.DataFrame(diff, columns=ct.index, index=ct.index)"
   ]
  },
  {
   "cell_type": "code",
   "execution_count": 77,
   "metadata": {},
   "outputs": [
    {
     "data": {
      "text/plain": [
       "['Mgr', 'Other']"
      ]
     },
     "execution_count": 77,
     "metadata": {},
     "output_type": "execute_result"
    }
   ],
   "source": [
    "# replace zeros with infinity\n",
    "diff[diff==0] = np.inf\n",
    "\n",
    "# for i in range(diff.shape[0]): diff[i,i] = np.inf\n",
    "\n",
    "# select pair with smallest difference\n",
    "pair = np.unravel_index(diff.argmin(), diff.shape)\n",
    "\n",
    "# print job names\n",
    "pair_name = list(ct.index[[*pair]])\n",
    "pair_name"
   ]
  },
  {
   "cell_type": "code",
   "execution_count": 78,
   "metadata": {},
   "outputs": [
    {
     "data": {
      "text/plain": [
       "Mgr_Other    3155\n",
       "ProfExe      1276\n",
       "Office        948\n",
       "Self          193\n",
       "Sales         109\n",
       "Name: JOB, dtype: int64"
      ]
     },
     "execution_count": 78,
     "metadata": {},
     "output_type": "execute_result"
    }
   ],
   "source": [
    "# copy df\n",
    "hmeq1 = hmeq.copy()\n",
    "\n",
    "# replace values in jobs column\n",
    "for job in pair_name:\n",
    "    hmeq1[\"JOB\"].replace(job, \"_\".join(pair_name), inplace=True)\n",
    "\n",
    "# display updated value counts\n",
    "hmeq1[\"JOB\"].value_counts()"
   ]
  },
  {
   "cell_type": "markdown",
   "metadata": {},
   "source": [
    "# Exercise 2"
   ]
  },
  {
   "cell_type": "code",
   "execution_count": 79,
   "metadata": {},
   "outputs": [],
   "source": [
    "# define odds based grouping function\n",
    "# recursive with two stopping criteria: \n",
    "# number of bins (min_bins), max difference in odds (max_delta)\n",
    "\n",
    "def step_OBG(var, target, max_delta=0.05, min_bins=3):\n",
    "    \"\"\"\n",
    "    Odds based grouping for categorical variables (recursive function) \n",
    "    \"\"\"\n",
    "\n",
    "    # convert variable to string\n",
    "    var = var.astype(str).copy()\n",
    "\n",
    "    # check stopping criteria: min bins\n",
    "    if len(np.unique(var)) <= min_bins:\n",
    "        return var\n",
    "\n",
    "    # compute odds\n",
    "    ct = pd.crosstab(var, target)\n",
    "    odds = np.array(ct.iloc[:,1] / (ct.iloc[:,0] + ct.iloc[:,1]))\n",
    "    diff = np.abs(np.triu(np.subtract.outer(odds, odds)))\n",
    "    diff[diff==0] = np.inf\n",
    "\n",
    "    # check stopping criteria: max_delta\n",
    "    if np.min(diff) > max_delta:\n",
    "        return var\n",
    "\n",
    "    # get index for levels with min delta\n",
    "    a, b = np.unravel_index(diff.argmin(), diff.shape)\n",
    "    \n",
    "    name_a, name_b = list(ct.index[[a,b]])\n",
    "    name_update = f\"{name_a}_{name_b}\"\n",
    "\n",
    "    # group levels of variable\n",
    "    var_update = var.replace(name_a, name_update).replace(name_b, name_update)\n",
    "\n",
    "    # recursive call\n",
    "    return step_OBG(var_update, target, max_delta, min_bins)"
   ]
  },
  {
   "cell_type": "code",
   "execution_count": 80,
   "metadata": {},
   "outputs": [
    {
     "data": {
      "text/plain": [
       "Mgr_Other             3155\n",
       "Office_ProfExe_nan    2503\n",
       "Sales_Self             302\n",
       "Name: JOB, dtype: int64"
      ]
     },
     "execution_count": 80,
     "metadata": {},
     "output_type": "execute_result"
    }
   ],
   "source": [
    "# copy df\n",
    "hmeq2 = hmeq.copy()\n",
    "\n",
    "# apply function\n",
    "hmeq2[\"JOB\"] = step_OBG(hmeq[\"JOB\"], hmeq[\"BAD\"], max_delta=0.1, min_bins=3)\n",
    "\n",
    "# display value counts\n",
    "hmeq2[\"JOB\"].value_counts()"
   ]
  },
  {
   "cell_type": "markdown",
   "metadata": {},
   "source": [
    "# Exercise 3"
   ]
  },
  {
   "cell_type": "code",
   "execution_count": 81,
   "metadata": {},
   "outputs": [],
   "source": [
    "# copy df\n",
    "hmeq3 = hmeq.copy()\n",
    "\n",
    "# cut 'CLAGE' variable in q=10 quantiles\n",
    "hmeq3['CLAGE_bin'] = pd.qcut(hmeq3['CLAGE'], q=10, labels=False, duplicates='drop')\n",
    "\n",
    "# fill na values with -1 and convert in str\n",
    "hmeq3['CLAGE_bin'] = hmeq3['CLAGE_bin'].fillna(-1).astype(str)"
   ]
  },
  {
   "cell_type": "code",
   "execution_count": 82,
   "metadata": {},
   "outputs": [
    {
     "data": {
      "text/plain": [
       "-1.0_1.0_2.0_3.0_4.0    2569\n",
       "5.0_6.0_7.0             1694\n",
       "8.0_9.0                 1131\n",
       "0.0                      566\n",
       "Name: CLAGE, dtype: int64"
      ]
     },
     "execution_count": 82,
     "metadata": {},
     "output_type": "execute_result"
    }
   ],
   "source": [
    "# apply function\n",
    "hmeq3['CLAGE'] = step_OBG(hmeq3[\"CLAGE_bin\"], hmeq3[\"BAD\"], max_delta=0.05, min_bins=4)\n",
    "\n",
    "# display value counts\n",
    "hmeq3['CLAGE'].value_counts()"
   ]
  },
  {
   "cell_type": "markdown",
   "metadata": {},
   "source": [
    "# Exercise 4"
   ]
  },
  {
   "cell_type": "code",
   "execution_count": 18,
   "metadata": {},
   "outputs": [
    {
     "data": {
      "text/html": [
       "<div>\n",
       "<style scoped>\n",
       "    .dataframe tbody tr th:only-of-type {\n",
       "        vertical-align: middle;\n",
       "    }\n",
       "\n",
       "    .dataframe tbody tr th {\n",
       "        vertical-align: top;\n",
       "    }\n",
       "\n",
       "    .dataframe thead th {\n",
       "        text-align: right;\n",
       "    }\n",
       "</style>\n",
       "<table border=\"1\" class=\"dataframe\">\n",
       "  <thead>\n",
       "    <tr style=\"text-align: right;\">\n",
       "      <th></th>\n",
       "      <th>Good</th>\n",
       "      <th>Bad</th>\n",
       "    </tr>\n",
       "    <tr>\n",
       "      <th>JOB</th>\n",
       "      <th></th>\n",
       "      <th></th>\n",
       "    </tr>\n",
       "  </thead>\n",
       "  <tbody>\n",
       "    <tr>\n",
       "      <th>Mgr</th>\n",
       "      <td>588</td>\n",
       "      <td>179</td>\n",
       "    </tr>\n",
       "    <tr>\n",
       "      <th>Office</th>\n",
       "      <td>823</td>\n",
       "      <td>125</td>\n",
       "    </tr>\n",
       "    <tr>\n",
       "      <th>Other</th>\n",
       "      <td>1834</td>\n",
       "      <td>554</td>\n",
       "    </tr>\n",
       "    <tr>\n",
       "      <th>ProfExe</th>\n",
       "      <td>1064</td>\n",
       "      <td>212</td>\n",
       "    </tr>\n",
       "    <tr>\n",
       "      <th>Sales</th>\n",
       "      <td>71</td>\n",
       "      <td>38</td>\n",
       "    </tr>\n",
       "    <tr>\n",
       "      <th>Self</th>\n",
       "      <td>135</td>\n",
       "      <td>58</td>\n",
       "    </tr>\n",
       "  </tbody>\n",
       "</table>\n",
       "</div>"
      ],
      "text/plain": [
       "         Good  Bad\n",
       "JOB               \n",
       "Mgr       588  179\n",
       "Office    823  125\n",
       "Other    1834  554\n",
       "ProfExe  1064  212\n",
       "Sales      71   38\n",
       "Self      135   58"
      ]
     },
     "execution_count": 18,
     "metadata": {},
     "output_type": "execute_result"
    }
   ],
   "source": [
    "ct = pd.crosstab(hmeq[\"JOB\"], hmeq[\"BAD\"])\n",
    "ct.columns = [\"Good\", \"Bad\"]\n",
    "ct"
   ]
  },
  {
   "cell_type": "code",
   "execution_count": 19,
   "metadata": {},
   "outputs": [
    {
     "data": {
      "text/html": [
       "<div>\n",
       "<style scoped>\n",
       "    .dataframe tbody tr th:only-of-type {\n",
       "        vertical-align: middle;\n",
       "    }\n",
       "\n",
       "    .dataframe tbody tr th {\n",
       "        vertical-align: top;\n",
       "    }\n",
       "\n",
       "    .dataframe thead th {\n",
       "        text-align: right;\n",
       "    }\n",
       "</style>\n",
       "<table border=\"1\" class=\"dataframe\">\n",
       "  <thead>\n",
       "    <tr style=\"text-align: right;\">\n",
       "      <th></th>\n",
       "      <th>Good</th>\n",
       "      <th>Bad</th>\n",
       "      <th>Total</th>\n",
       "      <th>DistrG</th>\n",
       "      <th>DistrB</th>\n",
       "      <th>WOE</th>\n",
       "      <th>IV</th>\n",
       "    </tr>\n",
       "    <tr>\n",
       "      <th>JOB</th>\n",
       "      <th></th>\n",
       "      <th></th>\n",
       "      <th></th>\n",
       "      <th></th>\n",
       "      <th></th>\n",
       "      <th></th>\n",
       "      <th></th>\n",
       "    </tr>\n",
       "  </thead>\n",
       "  <tbody>\n",
       "    <tr>\n",
       "      <th>Mgr</th>\n",
       "      <td>588</td>\n",
       "      <td>179</td>\n",
       "      <td>767</td>\n",
       "      <td>0.130233</td>\n",
       "      <td>0.153516</td>\n",
       "      <td>-0.164485</td>\n",
       "      <td>0.003830</td>\n",
       "    </tr>\n",
       "    <tr>\n",
       "      <th>Office</th>\n",
       "      <td>823</td>\n",
       "      <td>125</td>\n",
       "      <td>948</td>\n",
       "      <td>0.182281</td>\n",
       "      <td>0.107204</td>\n",
       "      <td>0.530816</td>\n",
       "      <td>0.039852</td>\n",
       "    </tr>\n",
       "    <tr>\n",
       "      <th>Other</th>\n",
       "      <td>1834</td>\n",
       "      <td>554</td>\n",
       "      <td>2388</td>\n",
       "      <td>0.406202</td>\n",
       "      <td>0.475129</td>\n",
       "      <td>-0.156736</td>\n",
       "      <td>0.010803</td>\n",
       "    </tr>\n",
       "    <tr>\n",
       "      <th>ProfExe</th>\n",
       "      <td>1064</td>\n",
       "      <td>212</td>\n",
       "      <td>1276</td>\n",
       "      <td>0.235659</td>\n",
       "      <td>0.181818</td>\n",
       "      <td>0.259378</td>\n",
       "      <td>0.013965</td>\n",
       "    </tr>\n",
       "    <tr>\n",
       "      <th>Sales</th>\n",
       "      <td>71</td>\n",
       "      <td>38</td>\n",
       "      <td>109</td>\n",
       "      <td>0.015725</td>\n",
       "      <td>0.032590</td>\n",
       "      <td>-0.728732</td>\n",
       "      <td>0.012290</td>\n",
       "    </tr>\n",
       "    <tr>\n",
       "      <th>Self</th>\n",
       "      <td>135</td>\n",
       "      <td>58</td>\n",
       "      <td>193</td>\n",
       "      <td>0.029900</td>\n",
       "      <td>0.049743</td>\n",
       "      <td>-0.508994</td>\n",
       "      <td>0.010100</td>\n",
       "    </tr>\n",
       "  </tbody>\n",
       "</table>\n",
       "</div>"
      ],
      "text/plain": [
       "         Good  Bad  Total    DistrG    DistrB       WOE        IV\n",
       "JOB                                                              \n",
       "Mgr       588  179    767  0.130233  0.153516 -0.164485  0.003830\n",
       "Office    823  125    948  0.182281  0.107204  0.530816  0.039852\n",
       "Other    1834  554   2388  0.406202  0.475129 -0.156736  0.010803\n",
       "ProfExe  1064  212   1276  0.235659  0.181818  0.259378  0.013965\n",
       "Sales      71   38    109  0.015725  0.032590 -0.728732  0.012290\n",
       "Self      135   58    193  0.029900  0.049743 -0.508994  0.010100"
      ]
     },
     "execution_count": 19,
     "metadata": {},
     "output_type": "execute_result"
    }
   ],
   "source": [
    "# compute WOE and IV values\n",
    "ct['Total']     = ct['Good'] + ct['Bad']\n",
    "ct['DistrG']    = ct['Good'] / np.sum(ct['Good'])\n",
    "ct['DistrB']    = ct['Bad'] / np.sum(ct['Bad'])\n",
    "ct['WOE']       = np.log(ct['DistrG'] / ct['DistrB'])\n",
    "ct['IV']        = (ct['DistrG'] - ct['DistrB']) * ct['WOE']\n",
    "ct"
   ]
  },
  {
   "cell_type": "code",
   "execution_count": 20,
   "metadata": {},
   "outputs": [
    {
     "data": {
      "text/plain": [
       "0.09084000233324224"
      ]
     },
     "execution_count": 20,
     "metadata": {},
     "output_type": "execute_result"
    }
   ],
   "source": [
    "# Information Value for JOB variable\n",
    "np.sum(ct['IV'])"
   ]
  },
  {
   "cell_type": "code",
   "execution_count": 21,
   "metadata": {},
   "outputs": [
    {
     "data": {
      "text/html": [
       "<div>\n",
       "<style scoped>\n",
       "    .dataframe tbody tr th:only-of-type {\n",
       "        vertical-align: middle;\n",
       "    }\n",
       "\n",
       "    .dataframe tbody tr th {\n",
       "        vertical-align: top;\n",
       "    }\n",
       "\n",
       "    .dataframe thead th {\n",
       "        text-align: right;\n",
       "    }\n",
       "</style>\n",
       "<table border=\"1\" class=\"dataframe\">\n",
       "  <thead>\n",
       "    <tr style=\"text-align: right;\">\n",
       "      <th>JOB</th>\n",
       "      <th>Mgr</th>\n",
       "      <th>Office</th>\n",
       "      <th>Other</th>\n",
       "      <th>ProfExe</th>\n",
       "      <th>Sales</th>\n",
       "      <th>Self</th>\n",
       "    </tr>\n",
       "    <tr>\n",
       "      <th>JOB</th>\n",
       "      <th></th>\n",
       "      <th></th>\n",
       "      <th></th>\n",
       "      <th></th>\n",
       "      <th></th>\n",
       "      <th></th>\n",
       "    </tr>\n",
       "  </thead>\n",
       "  <tbody>\n",
       "    <tr>\n",
       "      <th>Mgr</th>\n",
       "      <td>0.000000</td>\n",
       "      <td>0.695301</td>\n",
       "      <td>0.007749</td>\n",
       "      <td>0.423863</td>\n",
       "      <td>0.564247</td>\n",
       "      <td>0.344509</td>\n",
       "    </tr>\n",
       "    <tr>\n",
       "      <th>Office</th>\n",
       "      <td>0.695301</td>\n",
       "      <td>0.000000</td>\n",
       "      <td>0.687552</td>\n",
       "      <td>0.271438</td>\n",
       "      <td>1.259549</td>\n",
       "      <td>1.039811</td>\n",
       "    </tr>\n",
       "    <tr>\n",
       "      <th>Other</th>\n",
       "      <td>0.007749</td>\n",
       "      <td>0.687552</td>\n",
       "      <td>0.000000</td>\n",
       "      <td>0.416114</td>\n",
       "      <td>0.571996</td>\n",
       "      <td>0.352258</td>\n",
       "    </tr>\n",
       "    <tr>\n",
       "      <th>ProfExe</th>\n",
       "      <td>0.423863</td>\n",
       "      <td>0.271438</td>\n",
       "      <td>0.416114</td>\n",
       "      <td>0.000000</td>\n",
       "      <td>0.988111</td>\n",
       "      <td>0.768373</td>\n",
       "    </tr>\n",
       "    <tr>\n",
       "      <th>Sales</th>\n",
       "      <td>0.564247</td>\n",
       "      <td>1.259549</td>\n",
       "      <td>0.571996</td>\n",
       "      <td>0.988111</td>\n",
       "      <td>0.000000</td>\n",
       "      <td>0.219738</td>\n",
       "    </tr>\n",
       "    <tr>\n",
       "      <th>Self</th>\n",
       "      <td>0.344509</td>\n",
       "      <td>1.039811</td>\n",
       "      <td>0.352258</td>\n",
       "      <td>0.768373</td>\n",
       "      <td>0.219738</td>\n",
       "      <td>0.000000</td>\n",
       "    </tr>\n",
       "  </tbody>\n",
       "</table>\n",
       "</div>"
      ],
      "text/plain": [
       "JOB           Mgr    Office     Other   ProfExe     Sales      Self\n",
       "JOB                                                                \n",
       "Mgr      0.000000  0.695301  0.007749  0.423863  0.564247  0.344509\n",
       "Office   0.695301  0.000000  0.687552  0.271438  1.259549  1.039811\n",
       "Other    0.007749  0.687552  0.000000  0.416114  0.571996  0.352258\n",
       "ProfExe  0.423863  0.271438  0.416114  0.000000  0.988111  0.768373\n",
       "Sales    0.564247  1.259549  0.571996  0.988111  0.000000  0.219738\n",
       "Self     0.344509  1.039811  0.352258  0.768373  0.219738  0.000000"
      ]
     },
     "execution_count": 21,
     "metadata": {},
     "output_type": "execute_result"
    }
   ],
   "source": [
    "# absolute difference between odds for all jobs\n",
    "diff = np.abs(np.subtract.outer(ct[\"WOE\"].values, ct[\"WOE\"].values))\n",
    "\n",
    "pd.DataFrame(diff, columns=ct.index, index=ct.index)"
   ]
  },
  {
   "cell_type": "code",
   "execution_count": 22,
   "metadata": {},
   "outputs": [
    {
     "data": {
      "text/plain": [
       "['Mgr', 'Other']"
      ]
     },
     "execution_count": 22,
     "metadata": {},
     "output_type": "execute_result"
    }
   ],
   "source": [
    "# replace zeros with infinity\n",
    "diff[diff==0] = np.inf\n",
    "\n",
    "# select pair with smallest difference\n",
    "pair = np.unravel_index(diff.argmin(), diff.shape)\n",
    "\n",
    "# print job names\n",
    "pair_name = list(ct.index[[*pair]])\n",
    "pair_name"
   ]
  },
  {
   "cell_type": "code",
   "execution_count": 23,
   "metadata": {},
   "outputs": [
    {
     "data": {
      "text/plain": [
       "Mgr_Other    3155\n",
       "ProfExe      1276\n",
       "Office        948\n",
       "Self          193\n",
       "Sales         109\n",
       "Name: JOB, dtype: int64"
      ]
     },
     "execution_count": 23,
     "metadata": {},
     "output_type": "execute_result"
    }
   ],
   "source": [
    "# copy df\n",
    "hmeq4 = hmeq.copy()\n",
    "\n",
    "# replace values in jobs column\n",
    "for job in pair_name:\n",
    "    hmeq4[\"JOB\"].replace(job, \"_\".join(pair_name), inplace=True)\n",
    "\n",
    "# display updated value counts\n",
    "hmeq4[\"JOB\"].value_counts()"
   ]
  },
  {
   "cell_type": "markdown",
   "metadata": {},
   "source": [
    "# Exercise 5"
   ]
  },
  {
   "cell_type": "code",
   "execution_count": 24,
   "metadata": {},
   "outputs": [],
   "source": [
    "# import module\n",
    "from Binning import OBG"
   ]
  },
  {
   "cell_type": "code",
   "execution_count": 25,
   "metadata": {},
   "outputs": [
    {
     "data": {
      "text/plain": [
       "JOB_1    3155\n",
       "JOB_2    2224\n",
       "JOB_3     302\n",
       "JOB_4     279\n",
       "Name: JOB, dtype: int64"
      ]
     },
     "execution_count": 25,
     "metadata": {},
     "output_type": "execute_result"
    }
   ],
   "source": [
    "# Apply odds based grouping to the \"JOB\" variable \n",
    "job_obg = OBG.OBGEncoder(pred_var=\"JOB\", target_var=\"BAD\")\n",
    "hmeq5 = job_obg.fit_transform(hmeq, max_delta=0.05, min_bins=3)\n",
    "\n",
    "# check bins assigned to job variable\n",
    "hmeq5[\"JOB\"].value_counts()"
   ]
  },
  {
   "cell_type": "code",
   "execution_count": 26,
   "metadata": {},
   "outputs": [
    {
     "data": {
      "text/plain": [
       "{'Mgr': 'JOB_1',\n",
       " 'Other': 'JOB_1',\n",
       " 'Office': 'JOB_2',\n",
       " 'ProfExe': 'JOB_2',\n",
       " 'Sales': 'JOB_3',\n",
       " 'Self': 'JOB_3',\n",
       " 'nan': 'JOB_4'}"
      ]
     },
     "execution_count": 26,
     "metadata": {},
     "output_type": "execute_result"
    }
   ],
   "source": [
    "# binned variables are stored in fit dictionary\n",
    "job_obg.fit_dict"
   ]
  },
  {
   "cell_type": "code",
   "execution_count": 27,
   "metadata": {},
   "outputs": [
    {
     "name": "stdout",
     "output_type": "stream",
     "text": [
      "Detected 'float64' variable, automatically transformed using q=10 quantiles ... \n"
     ]
    },
    {
     "data": {
      "text/plain": [
       "CLAGE_3    2825\n",
       "CLAGE_1    2569\n",
       "CLAGE_2     566\n",
       "Name: CLAGE, dtype: int64"
      ]
     },
     "execution_count": 27,
     "metadata": {},
     "output_type": "execute_result"
    }
   ],
   "source": [
    "# Apply odds based grouping to the \"CLAGE\" variable \n",
    "\n",
    "# continous variables are automatically transformed to categorical\n",
    "clage_obg = OBG.OBGEncoder(pred_var=\"CLAGE\", target_var=\"BAD\")\n",
    "hmeq5 = clage_obg.fit_transform(hmeq, max_delta=0.05, min_bins=3, q=10)\n",
    "\n",
    "# check bins assigned to job variable\n",
    "hmeq5[\"CLAGE\"].value_counts()"
   ]
  },
  {
   "cell_type": "code",
   "execution_count": 28,
   "metadata": {},
   "outputs": [
    {
     "data": {
      "text/plain": [
       "{0: {'orig_min': 0.0, 'orig_max': 84.551104187},\n",
       " 1: {'orig_min': 84.583010054, 'orig_max': 105.76796088},\n",
       " 2: {'orig_min': 105.77172611, 'orig_max': 122.81558408},\n",
       " 3: {'orig_min': 122.83333333, 'orig_max': 145.1},\n",
       " 4: {'orig_min': 145.10187268, 'orig_max': 173.46666667},\n",
       " 5: {'orig_min': 173.49413187, 'orig_max': 193.0814529},\n",
       " 6: {'orig_min': 193.1196811, 'orig_max': 215.61201633},\n",
       " 7: {'orig_min': 215.75086797, 'orig_max': 247.03727185},\n",
       " 8: {'orig_min': 247.1, 'orig_max': 295.6669448},\n",
       " 9: {'orig_min': 295.72131731, 'orig_max': 1168.2335609}}"
      ]
     },
     "execution_count": 28,
     "metadata": {},
     "output_type": "execute_result"
    }
   ],
   "source": [
    "# lookup dictionary stores cutoff values for continous variable\n",
    "clage_obg.lookup"
   ]
  },
  {
   "cell_type": "markdown",
   "metadata": {},
   "source": [
    "# Exercise 6"
   ]
  },
  {
   "cell_type": "code",
   "execution_count": 29,
   "metadata": {},
   "outputs": [],
   "source": [
    "# import module\n",
    "from Binning import WOE"
   ]
  },
  {
   "cell_type": "code",
   "execution_count": 30,
   "metadata": {},
   "outputs": [
    {
     "name": "stdout",
     "output_type": "stream",
     "text": [
      "Fitted 3 bins for 'JOB' (levels=8)...\n"
     ]
    },
    {
     "data": {
      "text/plain": [
       "JOB_2    3457\n",
       "JOB_1    2224\n",
       "JOB_3     279\n",
       "Name: JOB, dtype: int64"
      ]
     },
     "execution_count": 30,
     "metadata": {},
     "output_type": "execute_result"
    }
   ],
   "source": [
    "# Apply WOE binning to the \"JOB\" variable\n",
    "job_woe = WOE.WOEEncoder(pred_var=\"JOB\", target_var=\"BAD\")\n",
    "hmeq6 = job_woe.fit_transform(hmeq, stop_limit=0.05)\n",
    "\n",
    "# check bins assigned to job variable\n",
    "hmeq6[\"JOB\"].value_counts()"
   ]
  },
  {
   "cell_type": "code",
   "execution_count": 31,
   "metadata": {},
   "outputs": [
    {
     "data": {
      "text/html": [
       "<div>\n",
       "<style scoped>\n",
       "    .dataframe tbody tr th:only-of-type {\n",
       "        vertical-align: middle;\n",
       "    }\n",
       "\n",
       "    .dataframe tbody tr th {\n",
       "        vertical-align: top;\n",
       "    }\n",
       "\n",
       "    .dataframe thead th {\n",
       "        text-align: right;\n",
       "    }\n",
       "</style>\n",
       "<table border=\"1\" class=\"dataframe\">\n",
       "  <thead>\n",
       "    <tr style=\"text-align: right;\">\n",
       "      <th></th>\n",
       "      <th>stop_limit</th>\n",
       "      <th>iv_total</th>\n",
       "      <th>n_bins</th>\n",
       "    </tr>\n",
       "  </thead>\n",
       "  <tbody>\n",
       "    <tr>\n",
       "      <th>0</th>\n",
       "      <td>0.010</td>\n",
       "      <td>0.117007</td>\n",
       "      <td>4</td>\n",
       "    </tr>\n",
       "    <tr>\n",
       "      <th>1</th>\n",
       "      <td>0.025</td>\n",
       "      <td>0.117007</td>\n",
       "      <td>4</td>\n",
       "    </tr>\n",
       "    <tr>\n",
       "      <th>2</th>\n",
       "      <td>0.050</td>\n",
       "      <td>0.106860</td>\n",
       "      <td>3</td>\n",
       "    </tr>\n",
       "    <tr>\n",
       "      <th>3</th>\n",
       "      <td>0.100</td>\n",
       "      <td>0.106860</td>\n",
       "      <td>3</td>\n",
       "    </tr>\n",
       "  </tbody>\n",
       "</table>\n",
       "</div>"
      ],
      "text/plain": [
       "   stop_limit  iv_total  n_bins\n",
       "0       0.010  0.117007       4\n",
       "1       0.025  0.117007       4\n",
       "2       0.050  0.106860       3\n",
       "3       0.100  0.106860       3"
      ]
     },
     "execution_count": 31,
     "metadata": {},
     "output_type": "execute_result"
    }
   ],
   "source": [
    "# test multiple stop limits\n",
    "job_woe.test_limit(hmeq)"
   ]
  },
  {
   "cell_type": "code",
   "execution_count": 32,
   "metadata": {},
   "outputs": [
    {
     "data": {
      "text/plain": [
       "{'ProfExe': 'JOB_1',\n",
       " 'Office': 'JOB_1',\n",
       " 'Other': 'JOB_2',\n",
       " 'Sales': 'JOB_2',\n",
       " 'Mgr': 'JOB_2',\n",
       " 'Self': 'JOB_2',\n",
       " 'Missing': 'JOB_3',\n",
       " 'nan': 'JOB_3'}"
      ]
     },
     "execution_count": 32,
     "metadata": {},
     "output_type": "execute_result"
    }
   ],
   "source": [
    "# binned variables are stored in fit dictionary\n",
    "job_woe.fit_dict"
   ]
  },
  {
   "cell_type": "code",
   "execution_count": 33,
   "metadata": {},
   "outputs": [
    {
     "name": "stdout",
     "output_type": "stream",
     "text": [
      "Detected 'float64' variable, automatically transformed using q=10 quantiles ... \n",
      "Fitted 3 bins for 'CLAGE' (levels=12)...\n"
     ]
    },
    {
     "data": {
      "text/plain": [
       "CLAGE_3    2825\n",
       "CLAGE_2    2569\n",
       "CLAGE_1     566\n",
       "Name: CLAGE, dtype: int64"
      ]
     },
     "execution_count": 33,
     "metadata": {},
     "output_type": "execute_result"
    }
   ],
   "source": [
    "# Apply WOE binning to the \"CLAGE\" variable\n",
    "clage_woe = WOE.WOEEncoder(pred_var=\"CLAGE\", target_var=\"BAD\")\n",
    "hmeq6 = clage_woe.fit_transform(hmeq, stop_limit=0.05, q=10)\n",
    "\n",
    "# check bins assigned to job variable\n",
    "hmeq6[\"CLAGE\"].value_counts()"
   ]
  },
  {
   "cell_type": "code",
   "execution_count": 34,
   "metadata": {},
   "outputs": [
    {
     "name": "stdout",
     "output_type": "stream",
     "text": [
      "Detected 'float64' variable, automatically transformed using q=10 quantiles ... \n"
     ]
    },
    {
     "data": {
      "text/html": [
       "<div>\n",
       "<style scoped>\n",
       "    .dataframe tbody tr th:only-of-type {\n",
       "        vertical-align: middle;\n",
       "    }\n",
       "\n",
       "    .dataframe tbody tr th {\n",
       "        vertical-align: top;\n",
       "    }\n",
       "\n",
       "    .dataframe thead th {\n",
       "        text-align: right;\n",
       "    }\n",
       "</style>\n",
       "<table border=\"1\" class=\"dataframe\">\n",
       "  <thead>\n",
       "    <tr style=\"text-align: right;\">\n",
       "      <th></th>\n",
       "      <th>stop_limit</th>\n",
       "      <th>iv_total</th>\n",
       "      <th>n_bins</th>\n",
       "    </tr>\n",
       "  </thead>\n",
       "  <tbody>\n",
       "    <tr>\n",
       "      <th>0</th>\n",
       "      <td>0.010</td>\n",
       "      <td>0.226413</td>\n",
       "      <td>4</td>\n",
       "    </tr>\n",
       "    <tr>\n",
       "      <th>1</th>\n",
       "      <td>0.025</td>\n",
       "      <td>0.211796</td>\n",
       "      <td>3</td>\n",
       "    </tr>\n",
       "    <tr>\n",
       "      <th>2</th>\n",
       "      <td>0.050</td>\n",
       "      <td>0.211796</td>\n",
       "      <td>3</td>\n",
       "    </tr>\n",
       "    <tr>\n",
       "      <th>3</th>\n",
       "      <td>0.100</td>\n",
       "      <td>0.211796</td>\n",
       "      <td>3</td>\n",
       "    </tr>\n",
       "  </tbody>\n",
       "</table>\n",
       "</div>"
      ],
      "text/plain": [
       "   stop_limit  iv_total  n_bins\n",
       "0       0.010  0.226413       4\n",
       "1       0.025  0.211796       3\n",
       "2       0.050  0.211796       3\n",
       "3       0.100  0.211796       3"
      ]
     },
     "execution_count": 34,
     "metadata": {},
     "output_type": "execute_result"
    }
   ],
   "source": [
    "clage_woe.test_limit(hmeq, q=10)"
   ]
  },
  {
   "cell_type": "code",
   "execution_count": 35,
   "metadata": {},
   "outputs": [
    {
     "data": {
      "text/plain": [
       "{'0': 'CLAGE_1',\n",
       " '-1': 'CLAGE_2',\n",
       " '1': 'CLAGE_2',\n",
       " '2': 'CLAGE_2',\n",
       " '3': 'CLAGE_2',\n",
       " '4': 'CLAGE_2',\n",
       " '5': 'CLAGE_3',\n",
       " '6': 'CLAGE_3',\n",
       " '7': 'CLAGE_3',\n",
       " '8': 'CLAGE_3',\n",
       " '9': 'CLAGE_3',\n",
       " 'nan': 'CLAGE_2'}"
      ]
     },
     "execution_count": 35,
     "metadata": {},
     "output_type": "execute_result"
    }
   ],
   "source": [
    "# for continous variables the fit dictionary displays the quantiles\n",
    "clage_woe.fit_dict"
   ]
  },
  {
   "cell_type": "markdown",
   "metadata": {},
   "source": [
    "# Exercise 7"
   ]
  },
  {
   "cell_type": "code",
   "execution_count": 35,
   "metadata": {},
   "outputs": [],
   "source": [
    "# pip install category_encoders"
   ]
  },
  {
   "cell_type": "code",
   "execution_count": 36,
   "metadata": {},
   "outputs": [],
   "source": [
    "from category_encoders import WOEEncoder\n",
    "\n",
    "# copy df\n",
    "hmeq7 = hmeq.copy()\n",
    "\n",
    "# WOE encode JOB and CLAGE\n",
    "ce_woe = WOEEncoder()\n",
    "hmeq7[[\"JOB\", \"CLAGE\"]] = ce_woe.fit_transform(X=hmeq7[[\"JOB\", \"CLAGE\"]], y=hmeq7[\"BAD\"])"
   ]
  },
  {
   "cell_type": "code",
   "execution_count": 37,
   "metadata": {},
   "outputs": [
    {
     "data": {
      "text/plain": [
       " 0.192350    2388\n",
       "-0.221256    1276\n",
       "-0.489707     948\n",
       " 0.202712     767\n",
       "-0.982841     279\n",
       " 0.553064     193\n",
       " 0.775077     109\n",
       "Name: JOB, dtype: int64"
      ]
     },
     "execution_count": 37,
     "metadata": {},
     "output_type": "execute_result"
    }
   ],
   "source": [
    "# inspect bins for JOB variable\n",
    "hmeq7[\"JOB\"].value_counts()"
   ]
  },
  {
   "cell_type": "code",
   "execution_count": 38,
   "metadata": {},
   "outputs": [
    {
     "data": {
      "text/plain": [
       "5315"
      ]
     },
     "execution_count": 38,
     "metadata": {},
     "output_type": "execute_result"
    }
   ],
   "source": [
    "len(hmeq7[\"CLAGE\"].unique())"
   ]
  },
  {
   "cell_type": "code",
   "execution_count": 39,
   "metadata": {},
   "outputs": [
    {
     "data": {
      "text/plain": [
       "102.500000    7\n",
       "206.966667    7\n",
       "123.766667    6\n",
       "109.566667    6\n",
       "95.366667     6\n",
       "             ..\n",
       "135.191907    1\n",
       "408.187646    1\n",
       "29.856365     1\n",
       "285.386126    1\n",
       "238.314471    1\n",
       "Name: CLAGE, Length: 5314, dtype: int64"
      ]
     },
     "execution_count": 39,
     "metadata": {},
     "output_type": "execute_result"
    }
   ],
   "source": [
    "# inspect bins for JOB variable\n",
    "hmeq7[\"CLAGE\"].value_counts()\n",
    "\n",
    "# -> continuous variables are not binned correctly without prior categorization"
   ]
  }
 ],
 "metadata": {
  "interpreter": {
   "hash": "63fd5069d213b44bf678585dea6b12cceca9941eaf7f819626cde1f2670de90d"
  },
  "kernelspec": {
   "display_name": "Python 3",
   "language": "python",
   "name": "python3"
  },
  "language_info": {
   "codemirror_mode": {
    "name": "ipython",
    "version": 3
   },
   "file_extension": ".py",
   "mimetype": "text/x-python",
   "name": "python",
   "nbconvert_exporter": "python",
   "pygments_lexer": "ipython3",
   "version": "3.9.4"
  }
 },
 "nbformat": 4,
 "nbformat_minor": 2
}
