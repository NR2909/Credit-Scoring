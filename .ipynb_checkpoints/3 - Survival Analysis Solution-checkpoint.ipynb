{
 "cells": [
  {
   "cell_type": "markdown",
   "metadata": {},
   "source": [
    "![](https://www.ieseg.fr/wp-content/uploads/IESEG-Logo-2012-rgb.jpg)"
   ]
  },
  {
   "cell_type": "code",
   "execution_count": 1,
   "metadata": {},
   "outputs": [],
   "source": [
    "# pip install lifelines"
   ]
  },
  {
   "cell_type": "code",
   "execution_count": 2,
   "metadata": {},
   "outputs": [],
   "source": [
    "import lifelines # pip install lifelines\n",
    "import pandas as pd \n",
    "import numpy as np \n",
    "import matplotlib.pyplot as plt"
   ]
  },
  {
   "cell_type": "code",
   "execution_count": 3,
   "metadata": {},
   "outputs": [],
   "source": [
    "# load dataset\n",
    "credit_surv = pd.read_csv('../Data/surv_home_credit.csv')"
   ]
  },
  {
   "cell_type": "code",
   "execution_count": 4,
   "metadata": {},
   "outputs": [
    {
     "data": {
      "text/html": [
       "<div>\n",
       "<style scoped>\n",
       "    .dataframe tbody tr th:only-of-type {\n",
       "        vertical-align: middle;\n",
       "    }\n",
       "\n",
       "    .dataframe tbody tr th {\n",
       "        vertical-align: top;\n",
       "    }\n",
       "\n",
       "    .dataframe thead th {\n",
       "        text-align: right;\n",
       "    }\n",
       "</style>\n",
       "<table border=\"1\" class=\"dataframe\">\n",
       "  <thead>\n",
       "    <tr style=\"text-align: right;\">\n",
       "      <th></th>\n",
       "      <th>ID</th>\n",
       "      <th>TARGET</th>\n",
       "      <th>GENDER</th>\n",
       "      <th>FLAG_OWN_CAR</th>\n",
       "      <th>FLAG_OWN_REALTY</th>\n",
       "      <th>CNT_CHILDREN</th>\n",
       "      <th>NAME_CONTRACT_TYPE</th>\n",
       "      <th>AMT_APPLICATION</th>\n",
       "      <th>AMT_CREDIT</th>\n",
       "      <th>PURPOSE</th>\n",
       "      <th>CHANNEL</th>\n",
       "      <th>TIME</th>\n",
       "      <th>CNT_INSTALMENT</th>\n",
       "      <th>CNT_INSTALMENT_FUTURE</th>\n",
       "      <th>AMT_BALANCE</th>\n",
       "      <th>AMT_CREDIT_LIMIT_ACTUAL</th>\n",
       "      <th>DEFAULT_TIME</th>\n",
       "    </tr>\n",
       "  </thead>\n",
       "  <tbody>\n",
       "    <tr>\n",
       "      <th>0</th>\n",
       "      <td>1496653</td>\n",
       "      <td>0</td>\n",
       "      <td>F</td>\n",
       "      <td>N</td>\n",
       "      <td>Y</td>\n",
       "      <td>0</td>\n",
       "      <td>Cash loans</td>\n",
       "      <td>225000.0</td>\n",
       "      <td>290200.5</td>\n",
       "      <td>Repairs</td>\n",
       "      <td>Credit and cash offices</td>\n",
       "      <td>16</td>\n",
       "      <td>8.0</td>\n",
       "      <td>0.0</td>\n",
       "      <td>0.0</td>\n",
       "      <td>45000</td>\n",
       "      <td>0</td>\n",
       "    </tr>\n",
       "    <tr>\n",
       "      <th>1</th>\n",
       "      <td>1496653</td>\n",
       "      <td>0</td>\n",
       "      <td>F</td>\n",
       "      <td>N</td>\n",
       "      <td>Y</td>\n",
       "      <td>0</td>\n",
       "      <td>Cash loans</td>\n",
       "      <td>225000.0</td>\n",
       "      <td>290200.5</td>\n",
       "      <td>Repairs</td>\n",
       "      <td>Credit and cash offices</td>\n",
       "      <td>24</td>\n",
       "      <td>24.0</td>\n",
       "      <td>24.0</td>\n",
       "      <td>0.0</td>\n",
       "      <td>112500</td>\n",
       "      <td>0</td>\n",
       "    </tr>\n",
       "    <tr>\n",
       "      <th>2</th>\n",
       "      <td>1496653</td>\n",
       "      <td>0</td>\n",
       "      <td>F</td>\n",
       "      <td>N</td>\n",
       "      <td>Y</td>\n",
       "      <td>0</td>\n",
       "      <td>Cash loans</td>\n",
       "      <td>225000.0</td>\n",
       "      <td>290200.5</td>\n",
       "      <td>Repairs</td>\n",
       "      <td>Credit and cash offices</td>\n",
       "      <td>18</td>\n",
       "      <td>24.0</td>\n",
       "      <td>18.0</td>\n",
       "      <td>0.0</td>\n",
       "      <td>45000</td>\n",
       "      <td>0</td>\n",
       "    </tr>\n",
       "  </tbody>\n",
       "</table>\n",
       "</div>"
      ],
      "text/plain": [
       "        ID  TARGET GENDER FLAG_OWN_CAR FLAG_OWN_REALTY  CNT_CHILDREN  \\\n",
       "0  1496653       0      F            N               Y             0   \n",
       "1  1496653       0      F            N               Y             0   \n",
       "2  1496653       0      F            N               Y             0   \n",
       "\n",
       "  NAME_CONTRACT_TYPE  AMT_APPLICATION  AMT_CREDIT  PURPOSE  \\\n",
       "0         Cash loans         225000.0    290200.5  Repairs   \n",
       "1         Cash loans         225000.0    290200.5  Repairs   \n",
       "2         Cash loans         225000.0    290200.5  Repairs   \n",
       "\n",
       "                   CHANNEL  TIME  CNT_INSTALMENT  CNT_INSTALMENT_FUTURE  \\\n",
       "0  Credit and cash offices    16             8.0                    0.0   \n",
       "1  Credit and cash offices    24            24.0                   24.0   \n",
       "2  Credit and cash offices    18            24.0                   18.0   \n",
       "\n",
       "   AMT_BALANCE  AMT_CREDIT_LIMIT_ACTUAL  DEFAULT_TIME  \n",
       "0          0.0                    45000             0  \n",
       "1          0.0                   112500             0  \n",
       "2          0.0                    45000             0  "
      ]
     },
     "execution_count": 4,
     "metadata": {},
     "output_type": "execute_result"
    }
   ],
   "source": [
    "credit_surv.head(3)"
   ]
  },
  {
   "cell_type": "markdown",
   "metadata": {},
   "source": [
    "# Exercise 1"
   ]
  },
  {
   "cell_type": "code",
   "execution_count": 5,
   "metadata": {},
   "outputs": [],
   "source": [
    "# aggregate CHANNEL and PURPOSE values to reduce dimensionality\n",
    "credit_surv[\"CHANNEL\"] = credit_surv[\"CHANNEL\"].apply(lambda x: x if x in [\"Credit and cash offices\", \"Country-wide\"] else \"Other\")\n",
    "credit_surv[\"PURPOSE\"] = credit_surv[\"PURPOSE\"].apply(lambda x: \"Missing\" if x in [\"XNA\", \"XAP\"] else \"Other\")"
   ]
  },
  {
   "cell_type": "code",
   "execution_count": 6,
   "metadata": {},
   "outputs": [],
   "source": [
    "# create dummy variables\n",
    "credit_surv = pd.get_dummies(credit_surv, drop_first=True)"
   ]
  },
  {
   "cell_type": "code",
   "execution_count": 7,
   "metadata": {},
   "outputs": [],
   "source": [
    "# simple imputation: drop na values\n",
    "credit_surv = credit_surv.dropna(subset=[\"CNT_INSTALMENT\", \"CNT_INSTALMENT_FUTURE\"])"
   ]
  },
  {
   "cell_type": "code",
   "execution_count": 8,
   "metadata": {},
   "outputs": [
    {
     "data": {
      "text/plain": [
       "<AxesSubplot:ylabel='TARGET'>"
      ]
     },
     "execution_count": 8,
     "metadata": {},
     "output_type": "execute_result"
    },
    {
     "data": {
      "image/png": "[encoded data removed]",
      "text/plain": [
       "<Figure size 360x576 with 1 Axes>"
      ]
     },
     "metadata": {},
     "output_type": "display_data"
    }
   ],
   "source": [
    "# display number of defaults\n",
    "credit_surv.groupby(\"ID\").agg({\"TARGET\":np.max})[\"TARGET\"].value_counts().plot.pie(autopct='%.2f%%', figsize=(5,8))"
   ]
  },
  {
   "cell_type": "markdown",
   "metadata": {},
   "source": [
    "# Exercise 2"
   ]
  },
  {
   "cell_type": "code",
   "execution_count": 9,
   "metadata": {},
   "outputs": [],
   "source": [
    "# convert episodic data to static\n",
    "credit_static = credit_surv.groupby(\"ID\").agg(np.max).reset_index()"
   ]
  },
  {
   "cell_type": "code",
   "execution_count": 10,
   "metadata": {},
   "outputs": [
    {
     "data": {
      "image/png": "[encoded data removed]",
      "text/plain": [
       "<Figure size 432x288 with 1 Axes>"
      ]
     },
     "metadata": {
      "needs_background": "light"
     },
     "output_type": "display_data"
    }
   ],
   "source": [
    "from lifelines.plotting import plot_lifetimes\n",
    "\n",
    "df_samp = credit_static.sample(20)\n",
    "ax = plot_lifetimes(df_samp[\"TIME\"], event_observed=df_samp[\"TARGET\"])\n",
    "ax.set_xlabel(\"Time\")\n",
    "ax.set_title(\"Time to default\")\n",
    "plt.show()"
   ]
  },
  {
   "cell_type": "markdown",
   "metadata": {},
   "source": [
    "# Exercise 3"
   ]
  },
  {
   "cell_type": "code",
   "execution_count": 11,
   "metadata": {},
   "outputs": [
    {
     "data": {
      "image/png": "[encoded data removed]",
      "text/plain": [
       "<Figure size 576x360 with 2 Axes>"
      ]
     },
     "metadata": {
      "needs_background": "light"
     },
     "output_type": "display_data"
    }
   ],
   "source": [
    "from lifelines import KaplanMeierFitter\n",
    "\n",
    "kmf = KaplanMeierFitter()\n",
    "# fit on static data: TIME indicates the last observed timestep, TARGET indicates whether the customer defaulted\n",
    "kmf.fit(credit_static['TIME'], credit_static['TARGET'], label='Kaplan Meier Estimator')\n",
    "\n",
    "# plot survival function\n",
    "ax = kmf.plot_survival_function(at_risk_counts=True,figsize=(8,5))\n",
    "ax.set_ylabel('Probability of non-default')\n",
    "plt.show()"
   ]
  },
  {
   "cell_type": "code",
   "execution_count": 12,
   "metadata": {},
   "outputs": [
    {
     "name": "stdout",
     "output_type": "stream",
     "text": [
      "19.0\n"
     ]
    },
    {
     "data": {
      "image/png": "[encoded data removed]",
      "text/plain": [
       "<Figure size 576x360 with 2 Axes>"
      ]
     },
     "metadata": {
      "needs_background": "light"
     },
     "output_type": "display_data"
    }
   ],
   "source": [
    "# Median default_time?\n",
    "median_default = credit_static.query(\"TARGET==1\")[\"TIME\"].median()\n",
    "print(median_default)\n",
    "\n",
    "# add to plot\n",
    "ax = kmf.plot_survival_function(at_risk_counts=True,figsize=(8,5))\n",
    "ax.set_ylabel('Probability of non-default')\n",
    "plt.plot([median_default, median_default], [0,1], 'k-', c=\"red\")\n",
    "plt.show()"
   ]
  },
  {
   "cell_type": "code",
   "execution_count": 13,
   "metadata": {},
   "outputs": [
    {
     "data": {
      "text/html": [
       "<div>\n",
       "<style scoped>\n",
       "    .dataframe tbody tr th:only-of-type {\n",
       "        vertical-align: middle;\n",
       "    }\n",
       "\n",
       "    .dataframe tbody tr th {\n",
       "        vertical-align: top;\n",
       "    }\n",
       "\n",
       "    .dataframe thead th {\n",
       "        text-align: right;\n",
       "    }\n",
       "</style>\n",
       "<table border=\"1\" class=\"dataframe\">\n",
       "  <thead>\n",
       "    <tr style=\"text-align: right;\">\n",
       "      <th></th>\n",
       "      <th>removed</th>\n",
       "      <th>observed</th>\n",
       "      <th>censored</th>\n",
       "      <th>entrance</th>\n",
       "      <th>at_risk</th>\n",
       "    </tr>\n",
       "    <tr>\n",
       "      <th>event_at</th>\n",
       "      <th></th>\n",
       "      <th></th>\n",
       "      <th></th>\n",
       "      <th></th>\n",
       "      <th></th>\n",
       "    </tr>\n",
       "  </thead>\n",
       "  <tbody>\n",
       "    <tr>\n",
       "      <th>0.0</th>\n",
       "      <td>0</td>\n",
       "      <td>0</td>\n",
       "      <td>0</td>\n",
       "      <td>1214</td>\n",
       "      <td>1214</td>\n",
       "    </tr>\n",
       "    <tr>\n",
       "      <th>1.0</th>\n",
       "      <td>5</td>\n",
       "      <td>1</td>\n",
       "      <td>4</td>\n",
       "      <td>0</td>\n",
       "      <td>1214</td>\n",
       "    </tr>\n",
       "    <tr>\n",
       "      <th>2.0</th>\n",
       "      <td>11</td>\n",
       "      <td>0</td>\n",
       "      <td>11</td>\n",
       "      <td>0</td>\n",
       "      <td>1209</td>\n",
       "    </tr>\n",
       "    <tr>\n",
       "      <th>3.0</th>\n",
       "      <td>24</td>\n",
       "      <td>2</td>\n",
       "      <td>22</td>\n",
       "      <td>0</td>\n",
       "      <td>1198</td>\n",
       "    </tr>\n",
       "    <tr>\n",
       "      <th>4.0</th>\n",
       "      <td>20</td>\n",
       "      <td>2</td>\n",
       "      <td>18</td>\n",
       "      <td>0</td>\n",
       "      <td>1174</td>\n",
       "    </tr>\n",
       "    <tr>\n",
       "      <th>...</th>\n",
       "      <td>...</td>\n",
       "      <td>...</td>\n",
       "      <td>...</td>\n",
       "      <td>...</td>\n",
       "      <td>...</td>\n",
       "    </tr>\n",
       "    <tr>\n",
       "      <th>91.0</th>\n",
       "      <td>2</td>\n",
       "      <td>2</td>\n",
       "      <td>0</td>\n",
       "      <td>0</td>\n",
       "      <td>6</td>\n",
       "    </tr>\n",
       "    <tr>\n",
       "      <th>92.0</th>\n",
       "      <td>1</td>\n",
       "      <td>0</td>\n",
       "      <td>1</td>\n",
       "      <td>0</td>\n",
       "      <td>4</td>\n",
       "    </tr>\n",
       "    <tr>\n",
       "      <th>93.0</th>\n",
       "      <td>1</td>\n",
       "      <td>0</td>\n",
       "      <td>1</td>\n",
       "      <td>0</td>\n",
       "      <td>3</td>\n",
       "    </tr>\n",
       "    <tr>\n",
       "      <th>94.0</th>\n",
       "      <td>1</td>\n",
       "      <td>0</td>\n",
       "      <td>1</td>\n",
       "      <td>0</td>\n",
       "      <td>2</td>\n",
       "    </tr>\n",
       "    <tr>\n",
       "      <th>95.0</th>\n",
       "      <td>1</td>\n",
       "      <td>0</td>\n",
       "      <td>1</td>\n",
       "      <td>0</td>\n",
       "      <td>1</td>\n",
       "    </tr>\n",
       "  </tbody>\n",
       "</table>\n",
       "<p>95 rows × 5 columns</p>\n",
       "</div>"
      ],
      "text/plain": [
       "          removed  observed  censored  entrance  at_risk\n",
       "event_at                                                \n",
       "0.0             0         0         0      1214     1214\n",
       "1.0             5         1         4         0     1214\n",
       "2.0            11         0        11         0     1209\n",
       "3.0            24         2        22         0     1198\n",
       "4.0            20         2        18         0     1174\n",
       "...           ...       ...       ...       ...      ...\n",
       "91.0            2         2         0         0        6\n",
       "92.0            1         0         1         0        4\n",
       "93.0            1         0         1         0        3\n",
       "94.0            1         0         1         0        2\n",
       "95.0            1         0         1         0        1\n",
       "\n",
       "[95 rows x 5 columns]"
      ]
     },
     "execution_count": 13,
     "metadata": {},
     "output_type": "execute_result"
    }
   ],
   "source": [
    "kmf.event_table"
   ]
  },
  {
   "cell_type": "code",
   "execution_count": 14,
   "metadata": {},
   "outputs": [
    {
     "data": {
      "text/plain": [
       "<AxesSubplot:xlabel='timeline'>"
      ]
     },
     "execution_count": 14,
     "metadata": {},
     "output_type": "execute_result"
    },
    {
     "data": {
      "image/png": "[encoded data removed]",
      "text/plain": [
       "<Figure size 432x288 with 1 Axes>"
      ]
     },
     "metadata": {
      "needs_background": "light"
     },
     "output_type": "display_data"
    }
   ],
   "source": [
    "# plot cumulative hazard function\n",
    "kmf.plot_cumulative_density()"
   ]
  },
  {
   "cell_type": "code",
   "execution_count": 15,
   "metadata": {},
   "outputs": [
    {
     "data": {
      "text/plain": [
       "0.14791502230674092"
      ]
     },
     "execution_count": 15,
     "metadata": {},
     "output_type": "execute_result"
    }
   ],
   "source": [
    "# \"predict\" probability to default at time 60\n",
    "\n",
    "# 1 - probability of non-default at time 60\n",
    "1 - kmf.predict(60)"
   ]
  },
  {
   "cell_type": "markdown",
   "metadata": {},
   "source": [
    "# Exercise 4"
   ]
  },
  {
   "cell_type": "code",
   "execution_count": 16,
   "metadata": {},
   "outputs": [
    {
     "data": {
      "text/plain": [
       "<AxesSubplot:ylabel='GENDER_M'>"
      ]
     },
     "execution_count": 16,
     "metadata": {},
     "output_type": "execute_result"
    },
    {
     "data": {
      "image/png": "[encoded data removed]",
      "text/plain": [
       "<Figure size 360x576 with 1 Axes>"
      ]
     },
     "metadata": {},
     "output_type": "display_data"
    }
   ],
   "source": [
    "# display pie chart gender\n",
    "credit_static[\"GENDER_M\"].value_counts().plot.pie(autopct='%.2f%%', figsize=(5,8))"
   ]
  },
  {
   "cell_type": "code",
   "execution_count": 17,
   "metadata": {},
   "outputs": [
    {
     "data": {
      "image/png": "[encoded data removed]",
      "text/plain": [
       "<Figure size 504x432 with 2 Axes>"
      ]
     },
     "metadata": {
      "needs_background": "light"
     },
     "output_type": "display_data"
    }
   ],
   "source": [
    "# Compare two groups\n",
    "\n",
    "kmf1 = KaplanMeierFitter()\n",
    "kmf2 = KaplanMeierFitter()\n",
    "\n",
    "fig, ax = plt.subplots(1,1 , figsize=(7,6))\n",
    "\n",
    "# subset data\n",
    "df1 = credit_static.loc[credit_static[\"GENDER_M\"] == 1,:]\n",
    "df2 = credit_static.loc[credit_static[\"GENDER_M\"] == 0,:]\n",
    "\n",
    "# fit subset gender = male\n",
    "ax = kmf1.fit(df1['TIME'], df1['TARGET'], label='Male').plot_survival_function(ax=ax)\n",
    "\n",
    "# fit subset gender = female\n",
    "ax = kmf2.fit(df2['TIME'], df2['TARGET'], label='Female').plot_survival_function(ax=ax)\n",
    "\n",
    "from lifelines.plotting import add_at_risk_counts\n",
    "add_at_risk_counts(kmf1, kmf2, ax=ax)\n",
    "plt.tight_layout()"
   ]
  },
  {
   "cell_type": "code",
   "execution_count": 18,
   "metadata": {},
   "outputs": [
    {
     "data": {
      "text/html": [
       "<div>\n",
       "<style scoped>\n",
       "    .dataframe tbody tr th:only-of-type {\n",
       "        vertical-align: middle;\n",
       "    }\n",
       "\n",
       "    .dataframe tbody tr th {\n",
       "        vertical-align: top;\n",
       "    }\n",
       "\n",
       "    .dataframe thead th {\n",
       "        text-align: right;\n",
       "    }\n",
       "</style>\n",
       "<table border=\"1\" class=\"dataframe\">\n",
       "  <thead>\n",
       "    <tr style=\"text-align: right;\">\n",
       "      <th></th>\n",
       "      <th>test_statistic</th>\n",
       "      <th>p</th>\n",
       "      <th>-log2(p)</th>\n",
       "    </tr>\n",
       "  </thead>\n",
       "  <tbody>\n",
       "    <tr>\n",
       "      <th>0</th>\n",
       "      <td>3.972382</td>\n",
       "      <td>0.046252</td>\n",
       "      <td>4.434331</td>\n",
       "    </tr>\n",
       "  </tbody>\n",
       "</table>\n",
       "</div>"
      ],
      "text/plain": [
       "   test_statistic         p  -log2(p)\n",
       "0        3.972382  0.046252  4.434331"
      ]
     },
     "execution_count": 18,
     "metadata": {},
     "output_type": "execute_result"
    }
   ],
   "source": [
    "# Perform logrank test to assess whether there is a difference between Males and Females in time to default\n",
    "\n",
    "from lifelines.statistics import logrank_test\n",
    "\n",
    "# Null-Hypothesis: No difference between the two groups\n",
    "res = logrank_test(df1['TIME'], df2['TIME'], event_observed_A=df1['TARGET'],event_observed_B=df2['TARGET'])\n",
    "\n",
    "# We can reject the Null-Hypothesis (p < 0.05)\n",
    "res.summary "
   ]
  },
  {
   "cell_type": "markdown",
   "metadata": {},
   "source": [
    "# Exercise 5"
   ]
  },
  {
   "cell_type": "code",
   "execution_count": 19,
   "metadata": {},
   "outputs": [],
   "source": [
    "# Exclude time varying variables\n",
    "credit_sub = credit_static[[\"ID\", \"TARGET\", \"TIME\", \"AMT_APPLICATION\", \"AMT_CREDIT\", 'GENDER_M', \"CNT_CHILDREN\", \"FLAG_OWN_CAR_Y\", \"FLAG_OWN_REALTY_Y\", 'PURPOSE_Other',\n",
    " 'CHANNEL_Credit and cash offices', 'CHANNEL_Other']].set_index(\"ID\")"
   ]
  },
  {
   "cell_type": "code",
   "execution_count": 20,
   "metadata": {},
   "outputs": [
    {
     "data": {
      "text/html": [
       "<div>\n",
       "<style scoped>\n",
       "    .dataframe tbody tr th:only-of-type {\n",
       "        vertical-align: middle;\n",
       "    }\n",
       "\n",
       "    .dataframe tbody tr th {\n",
       "        vertical-align: top;\n",
       "    }\n",
       "\n",
       "    .dataframe thead th {\n",
       "        text-align: right;\n",
       "    }\n",
       "</style>\n",
       "<table border=\"1\" class=\"dataframe\">\n",
       "  <thead>\n",
       "    <tr style=\"text-align: right;\">\n",
       "      <th></th>\n",
       "      <th>coef</th>\n",
       "      <th>exp(coef)</th>\n",
       "      <th>se(coef)</th>\n",
       "      <th>coef lower 95%</th>\n",
       "      <th>coef upper 95%</th>\n",
       "      <th>exp(coef) lower 95%</th>\n",
       "      <th>exp(coef) upper 95%</th>\n",
       "      <th>cmp to</th>\n",
       "      <th>z</th>\n",
       "      <th>p</th>\n",
       "      <th>-log2(p)</th>\n",
       "    </tr>\n",
       "    <tr>\n",
       "      <th>covariate</th>\n",
       "      <th></th>\n",
       "      <th></th>\n",
       "      <th></th>\n",
       "      <th></th>\n",
       "      <th></th>\n",
       "      <th></th>\n",
       "      <th></th>\n",
       "      <th></th>\n",
       "      <th></th>\n",
       "      <th></th>\n",
       "      <th></th>\n",
       "    </tr>\n",
       "  </thead>\n",
       "  <tbody>\n",
       "    <tr>\n",
       "      <th>AMT_APPLICATION</th>\n",
       "      <td>-0.000009</td>\n",
       "      <td>0.999991</td>\n",
       "      <td>0.000003</td>\n",
       "      <td>-0.000015</td>\n",
       "      <td>-0.000002</td>\n",
       "      <td>0.999985</td>\n",
       "      <td>0.999998</td>\n",
       "      <td>0.0</td>\n",
       "      <td>-2.450685</td>\n",
       "      <td>0.014258</td>\n",
       "      <td>6.132036</td>\n",
       "    </tr>\n",
       "    <tr>\n",
       "      <th>AMT_CREDIT</th>\n",
       "      <td>0.000009</td>\n",
       "      <td>1.000009</td>\n",
       "      <td>0.000003</td>\n",
       "      <td>0.000002</td>\n",
       "      <td>0.000015</td>\n",
       "      <td>1.000002</td>\n",
       "      <td>1.000015</td>\n",
       "      <td>0.0</td>\n",
       "      <td>2.689040</td>\n",
       "      <td>0.007166</td>\n",
       "      <td>7.124662</td>\n",
       "    </tr>\n",
       "    <tr>\n",
       "      <th>GENDER_M</th>\n",
       "      <td>0.651276</td>\n",
       "      <td>1.917987</td>\n",
       "      <td>0.223463</td>\n",
       "      <td>0.213297</td>\n",
       "      <td>1.089256</td>\n",
       "      <td>1.237752</td>\n",
       "      <td>2.972061</td>\n",
       "      <td>0.0</td>\n",
       "      <td>2.914469</td>\n",
       "      <td>0.003563</td>\n",
       "      <td>8.132715</td>\n",
       "    </tr>\n",
       "    <tr>\n",
       "      <th>CNT_CHILDREN</th>\n",
       "      <td>-0.074478</td>\n",
       "      <td>0.928227</td>\n",
       "      <td>0.148158</td>\n",
       "      <td>-0.364862</td>\n",
       "      <td>0.215906</td>\n",
       "      <td>0.694292</td>\n",
       "      <td>1.240985</td>\n",
       "      <td>0.0</td>\n",
       "      <td>-0.502697</td>\n",
       "      <td>0.615178</td>\n",
       "      <td>0.700925</td>\n",
       "    </tr>\n",
       "    <tr>\n",
       "      <th>FLAG_OWN_CAR_Y</th>\n",
       "      <td>-0.465139</td>\n",
       "      <td>0.628048</td>\n",
       "      <td>0.237650</td>\n",
       "      <td>-0.930925</td>\n",
       "      <td>0.000646</td>\n",
       "      <td>0.394189</td>\n",
       "      <td>1.000647</td>\n",
       "      <td>0.0</td>\n",
       "      <td>-1.957244</td>\n",
       "      <td>0.050319</td>\n",
       "      <td>4.312759</td>\n",
       "    </tr>\n",
       "    <tr>\n",
       "      <th>FLAG_OWN_REALTY_Y</th>\n",
       "      <td>-0.015290</td>\n",
       "      <td>0.984827</td>\n",
       "      <td>0.221751</td>\n",
       "      <td>-0.449913</td>\n",
       "      <td>0.419334</td>\n",
       "      <td>0.637684</td>\n",
       "      <td>1.520948</td>\n",
       "      <td>0.0</td>\n",
       "      <td>-0.068949</td>\n",
       "      <td>0.945030</td>\n",
       "      <td>0.081568</td>\n",
       "    </tr>\n",
       "    <tr>\n",
       "      <th>PURPOSE_Other</th>\n",
       "      <td>0.662920</td>\n",
       "      <td>1.940449</td>\n",
       "      <td>0.473319</td>\n",
       "      <td>-0.264769</td>\n",
       "      <td>1.590608</td>\n",
       "      <td>0.767383</td>\n",
       "      <td>4.906734</td>\n",
       "      <td>0.0</td>\n",
       "      <td>1.400576</td>\n",
       "      <td>0.161341</td>\n",
       "      <td>2.631815</td>\n",
       "    </tr>\n",
       "    <tr>\n",
       "      <th>CHANNEL_Credit and cash offices</th>\n",
       "      <td>-0.117535</td>\n",
       "      <td>0.889109</td>\n",
       "      <td>0.313967</td>\n",
       "      <td>-0.732899</td>\n",
       "      <td>0.497828</td>\n",
       "      <td>0.480514</td>\n",
       "      <td>1.645145</td>\n",
       "      <td>0.0</td>\n",
       "      <td>-0.374356</td>\n",
       "      <td>0.708140</td>\n",
       "      <td>0.497894</td>\n",
       "    </tr>\n",
       "    <tr>\n",
       "      <th>CHANNEL_Other</th>\n",
       "      <td>0.528972</td>\n",
       "      <td>1.697186</td>\n",
       "      <td>0.247064</td>\n",
       "      <td>0.044735</td>\n",
       "      <td>1.013208</td>\n",
       "      <td>1.045751</td>\n",
       "      <td>2.754424</td>\n",
       "      <td>0.0</td>\n",
       "      <td>2.141030</td>\n",
       "      <td>0.032272</td>\n",
       "      <td>4.953589</td>\n",
       "    </tr>\n",
       "  </tbody>\n",
       "</table>\n",
       "</div>"
      ],
      "text/plain": [
       "                                     coef  exp(coef)  se(coef)  \\\n",
       "covariate                                                        \n",
       "AMT_APPLICATION                 -0.000009   0.999991  0.000003   \n",
       "AMT_CREDIT                       0.000009   1.000009  0.000003   \n",
       "GENDER_M                         0.651276   1.917987  0.223463   \n",
       "CNT_CHILDREN                    -0.074478   0.928227  0.148158   \n",
       "FLAG_OWN_CAR_Y                  -0.465139   0.628048  0.237650   \n",
       "FLAG_OWN_REALTY_Y               -0.015290   0.984827  0.221751   \n",
       "PURPOSE_Other                    0.662920   1.940449  0.473319   \n",
       "CHANNEL_Credit and cash offices -0.117535   0.889109  0.313967   \n",
       "CHANNEL_Other                    0.528972   1.697186  0.247064   \n",
       "\n",
       "                                 coef lower 95%  coef upper 95%  \\\n",
       "covariate                                                         \n",
       "AMT_APPLICATION                       -0.000015       -0.000002   \n",
       "AMT_CREDIT                             0.000002        0.000015   \n",
       "GENDER_M                               0.213297        1.089256   \n",
       "CNT_CHILDREN                          -0.364862        0.215906   \n",
       "FLAG_OWN_CAR_Y                        -0.930925        0.000646   \n",
       "FLAG_OWN_REALTY_Y                     -0.449913        0.419334   \n",
       "PURPOSE_Other                         -0.264769        1.590608   \n",
       "CHANNEL_Credit and cash offices       -0.732899        0.497828   \n",
       "CHANNEL_Other                          0.044735        1.013208   \n",
       "\n",
       "                                 exp(coef) lower 95%  exp(coef) upper 95%  \\\n",
       "covariate                                                                   \n",
       "AMT_APPLICATION                             0.999985             0.999998   \n",
       "AMT_CREDIT                                  1.000002             1.000015   \n",
       "GENDER_M                                    1.237752             2.972061   \n",
       "CNT_CHILDREN                                0.694292             1.240985   \n",
       "FLAG_OWN_CAR_Y                              0.394189             1.000647   \n",
       "FLAG_OWN_REALTY_Y                           0.637684             1.520948   \n",
       "PURPOSE_Other                               0.767383             4.906734   \n",
       "CHANNEL_Credit and cash offices             0.480514             1.645145   \n",
       "CHANNEL_Other                               1.045751             2.754424   \n",
       "\n",
       "                                 cmp to         z         p  -log2(p)  \n",
       "covariate                                                              \n",
       "AMT_APPLICATION                     0.0 -2.450685  0.014258  6.132036  \n",
       "AMT_CREDIT                          0.0  2.689040  0.007166  7.124662  \n",
       "GENDER_M                            0.0  2.914469  0.003563  8.132715  \n",
       "CNT_CHILDREN                        0.0 -0.502697  0.615178  0.700925  \n",
       "FLAG_OWN_CAR_Y                      0.0 -1.957244  0.050319  4.312759  \n",
       "FLAG_OWN_REALTY_Y                   0.0 -0.068949  0.945030  0.081568  \n",
       "PURPOSE_Other                       0.0  1.400576  0.161341  2.631815  \n",
       "CHANNEL_Credit and cash offices     0.0 -0.374356  0.708140  0.497894  \n",
       "CHANNEL_Other                       0.0  2.141030  0.032272  4.953589  "
      ]
     },
     "execution_count": 20,
     "metadata": {},
     "output_type": "execute_result"
    }
   ],
   "source": [
    "from lifelines import CoxPHFitter\n",
    "\n",
    "cph = CoxPHFitter()\n",
    "\n",
    "# fit model on static data\n",
    "cph.fit(credit_sub, 'TIME', event_col='TARGET')\n",
    "cph.summary"
   ]
  },
  {
   "cell_type": "code",
   "execution_count": 21,
   "metadata": {},
   "outputs": [
    {
     "data": {
      "text/plain": [
       "<AxesSubplot:xlabel='log(HR) (95% CI)'>"
      ]
     },
     "execution_count": 21,
     "metadata": {},
     "output_type": "execute_result"
    },
    {
     "data": {
      "image/png": "[encoded data removed]",
      "text/plain": [
       "<Figure size 432x288 with 1 Axes>"
      ]
     },
     "metadata": {
      "needs_background": "light"
     },
     "output_type": "display_data"
    }
   ],
   "source": [
    "cph.plot()"
   ]
  },
  {
   "cell_type": "code",
   "execution_count": 22,
   "metadata": {},
   "outputs": [
    {
     "name": "stdout",
     "output_type": "stream",
     "text": [
      "covariate\n",
      "AMT_APPLICATION                   -0.000009\n",
      "AMT_CREDIT                         0.000009\n",
      "GENDER_M                           0.651276\n",
      "CNT_CHILDREN                      -0.074478\n",
      "FLAG_OWN_CAR_Y                    -0.465139\n",
      "FLAG_OWN_REALTY_Y                 -0.015290\n",
      "PURPOSE_Other                      0.662920\n",
      "CHANNEL_Credit and cash offices   -0.117535\n",
      "CHANNEL_Other                      0.528972\n",
      "Name: coef, dtype: float64\n",
      "\n",
      " 1 EUR in additional credit granted decreases the probability to default by 0.001%\n"
     ]
    }
   ],
   "source": [
    "print(cph.params_)\n",
    "\n",
    "# Interpretation (under ceteris paribus assumption): \n",
    "print('\\n 1 EUR in additional credit granted decreases the probability to default by {:.3f}%'.format((np.exp(0.000009) - 1)*100))"
   ]
  },
  {
   "cell_type": "code",
   "execution_count": 23,
   "metadata": {},
   "outputs": [
    {
     "data": {
      "text/plain": [
       "<AxesSubplot:>"
      ]
     },
     "execution_count": 23,
     "metadata": {},
     "output_type": "execute_result"
    },
    {
     "data": {
      "image/png": "[encoded data removed]",
      "text/plain": [
       "<Figure size 720x432 with 1 Axes>"
      ]
     },
     "metadata": {
      "needs_background": "light"
     },
     "output_type": "display_data"
    }
   ],
   "source": [
    "# Individual survival functions\n",
    "cph.predict_survival_function(credit_sub.sample(20)).plot(figsize=(10,6))"
   ]
  },
  {
   "cell_type": "code",
   "execution_count": 24,
   "metadata": {},
   "outputs": [
    {
     "data": {
      "text/html": [
       "<div>\n",
       "<style scoped>\n",
       "    .dataframe tbody tr th:only-of-type {\n",
       "        vertical-align: middle;\n",
       "    }\n",
       "\n",
       "    .dataframe tbody tr th {\n",
       "        vertical-align: top;\n",
       "    }\n",
       "\n",
       "    .dataframe thead th {\n",
       "        text-align: right;\n",
       "    }\n",
       "</style>\n",
       "<table border=\"1\" class=\"dataframe\">\n",
       "  <thead>\n",
       "    <tr style=\"text-align: right;\">\n",
       "      <th></th>\n",
       "      <th>baseline hazard</th>\n",
       "    </tr>\n",
       "  </thead>\n",
       "  <tbody>\n",
       "    <tr>\n",
       "      <th>1.0</th>\n",
       "      <td>0.000720</td>\n",
       "    </tr>\n",
       "    <tr>\n",
       "      <th>2.0</th>\n",
       "      <td>0.000000</td>\n",
       "    </tr>\n",
       "    <tr>\n",
       "      <th>3.0</th>\n",
       "      <td>0.001457</td>\n",
       "    </tr>\n",
       "    <tr>\n",
       "      <th>4.0</th>\n",
       "      <td>0.001488</td>\n",
       "    </tr>\n",
       "    <tr>\n",
       "      <th>5.0</th>\n",
       "      <td>0.000758</td>\n",
       "    </tr>\n",
       "    <tr>\n",
       "      <th>...</th>\n",
       "      <td>...</td>\n",
       "    </tr>\n",
       "    <tr>\n",
       "      <th>91.0</th>\n",
       "      <td>0.352680</td>\n",
       "    </tr>\n",
       "    <tr>\n",
       "      <th>92.0</th>\n",
       "      <td>0.000000</td>\n",
       "    </tr>\n",
       "    <tr>\n",
       "      <th>93.0</th>\n",
       "      <td>0.000000</td>\n",
       "    </tr>\n",
       "    <tr>\n",
       "      <th>94.0</th>\n",
       "      <td>0.000000</td>\n",
       "    </tr>\n",
       "    <tr>\n",
       "      <th>95.0</th>\n",
       "      <td>0.000000</td>\n",
       "    </tr>\n",
       "  </tbody>\n",
       "</table>\n",
       "<p>94 rows × 1 columns</p>\n",
       "</div>"
      ],
      "text/plain": [
       "      baseline hazard\n",
       "1.0          0.000720\n",
       "2.0          0.000000\n",
       "3.0          0.001457\n",
       "4.0          0.001488\n",
       "5.0          0.000758\n",
       "...               ...\n",
       "91.0         0.352680\n",
       "92.0         0.000000\n",
       "93.0         0.000000\n",
       "94.0         0.000000\n",
       "95.0         0.000000\n",
       "\n",
       "[94 rows x 1 columns]"
      ]
     },
     "execution_count": 24,
     "metadata": {},
     "output_type": "execute_result"
    }
   ],
   "source": [
    "# difference to logreg models:'intercept' term\n",
    "cph.baseline_hazard_"
   ]
  },
  {
   "cell_type": "code",
   "execution_count": 25,
   "metadata": {},
   "outputs": [
    {
     "data": {
      "text/plain": [
       "0.6418464695343246"
      ]
     },
     "execution_count": 25,
     "metadata": {},
     "output_type": "execute_result"
    }
   ],
   "source": [
    "# Goodness of fit measure (can be interpreted similar to AUC)\n",
    "cph.concordance_index_"
   ]
  },
  {
   "cell_type": "markdown",
   "metadata": {},
   "source": [
    "# Exercise 6"
   ]
  },
  {
   "cell_type": "code",
   "execution_count": 26,
   "metadata": {},
   "outputs": [],
   "source": [
    "# select variables used in previous model + time varying variables\n",
    "credit_tv = pd.merge(credit_surv[[\"ID\", \"DEFAULT_TIME\", 'CNT_INSTALMENT', 'CNT_INSTALMENT_FUTURE', \"AMT_BALANCE\", \"AMT_CREDIT_LIMIT_ACTUAL\", \"AMT_APPLICATION\", \"AMT_CREDIT\", 'GENDER_M', \"CNT_CHILDREN\", \"FLAG_OWN_CAR_Y\", \"FLAG_OWN_REALTY_Y\", 'PURPOSE_Other', 'CHANNEL_Credit and cash offices', 'CHANNEL_Other']], credit_static[[\"ID\", \"TIME\"]]\\\n",
    ".rename(columns={\"TIME\":\"time_end\"}), on=\"ID\", how=\"inner\") \n",
    "\n",
    "# Assumption: time always starts at 0 (no interval censored data)\n",
    "credit_tv[\"first_time\"] = 0"
   ]
  },
  {
   "cell_type": "code",
   "execution_count": 27,
   "metadata": {},
   "outputs": [
    {
     "name": "stdout",
     "output_type": "stream",
     "text": [
      "Iteration 7: norm_delta = 0.00000, step_size = 1.00000, ll = -748.53823, newton_decrement = 0.00000, seconds_since_start = 0.6Convergence completed after 7 iterations.\n"
     ]
    },
    {
     "data": {
      "text/html": [
       "<div>\n",
       "<style scoped>\n",
       "    .dataframe tbody tr th:only-of-type {\n",
       "        vertical-align: middle;\n",
       "    }\n",
       "\n",
       "    .dataframe tbody tr th {\n",
       "        vertical-align: top;\n",
       "    }\n",
       "\n",
       "    .dataframe thead th {\n",
       "        text-align: right;\n",
       "    }\n",
       "</style>\n",
       "<table border=\"1\" class=\"dataframe\">\n",
       "  <thead>\n",
       "    <tr style=\"text-align: right;\">\n",
       "      <th></th>\n",
       "      <th>coef</th>\n",
       "      <th>exp(coef)</th>\n",
       "      <th>se(coef)</th>\n",
       "      <th>coef lower 95%</th>\n",
       "      <th>coef upper 95%</th>\n",
       "      <th>exp(coef) lower 95%</th>\n",
       "      <th>exp(coef) upper 95%</th>\n",
       "      <th>cmp to</th>\n",
       "      <th>z</th>\n",
       "      <th>p</th>\n",
       "      <th>-log2(p)</th>\n",
       "    </tr>\n",
       "    <tr>\n",
       "      <th>covariate</th>\n",
       "      <th></th>\n",
       "      <th></th>\n",
       "      <th></th>\n",
       "      <th></th>\n",
       "      <th></th>\n",
       "      <th></th>\n",
       "      <th></th>\n",
       "      <th></th>\n",
       "      <th></th>\n",
       "      <th></th>\n",
       "      <th></th>\n",
       "    </tr>\n",
       "  </thead>\n",
       "  <tbody>\n",
       "    <tr>\n",
       "      <th>CNT_INSTALMENT</th>\n",
       "      <td>-4.032211e-01</td>\n",
       "      <td>0.668164</td>\n",
       "      <td>4.828620e-02</td>\n",
       "      <td>-4.978603e-01</td>\n",
       "      <td>-0.308582</td>\n",
       "      <td>0.607830</td>\n",
       "      <td>0.734488</td>\n",
       "      <td>0.0</td>\n",
       "      <td>-8.350648</td>\n",
       "      <td>6.788934e-17</td>\n",
       "      <td>53.709593</td>\n",
       "    </tr>\n",
       "    <tr>\n",
       "      <th>CNT_INSTALMENT_FUTURE</th>\n",
       "      <td>4.463706e-01</td>\n",
       "      <td>1.562631</td>\n",
       "      <td>4.741752e-02</td>\n",
       "      <td>3.534340e-01</td>\n",
       "      <td>0.539307</td>\n",
       "      <td>1.423949</td>\n",
       "      <td>1.714819</td>\n",
       "      <td>0.0</td>\n",
       "      <td>9.413622</td>\n",
       "      <td>4.793305e-21</td>\n",
       "      <td>67.499469</td>\n",
       "    </tr>\n",
       "    <tr>\n",
       "      <th>AMT_BALANCE</th>\n",
       "      <td>-2.039735e-07</td>\n",
       "      <td>1.000000</td>\n",
       "      <td>1.071443e-06</td>\n",
       "      <td>-2.303962e-06</td>\n",
       "      <td>0.000002</td>\n",
       "      <td>0.999998</td>\n",
       "      <td>1.000002</td>\n",
       "      <td>0.0</td>\n",
       "      <td>-0.190373</td>\n",
       "      <td>8.490170e-01</td>\n",
       "      <td>0.236135</td>\n",
       "    </tr>\n",
       "    <tr>\n",
       "      <th>AMT_CREDIT_LIMIT_ACTUAL</th>\n",
       "      <td>1.405219e-06</td>\n",
       "      <td>1.000001</td>\n",
       "      <td>7.084128e-07</td>\n",
       "      <td>1.675580e-08</td>\n",
       "      <td>0.000003</td>\n",
       "      <td>1.000000</td>\n",
       "      <td>1.000003</td>\n",
       "      <td>0.0</td>\n",
       "      <td>1.983617</td>\n",
       "      <td>4.729860e-02</td>\n",
       "      <td>4.402059</td>\n",
       "    </tr>\n",
       "    <tr>\n",
       "      <th>AMT_APPLICATION</th>\n",
       "      <td>-3.921719e-06</td>\n",
       "      <td>0.999996</td>\n",
       "      <td>3.853291e-06</td>\n",
       "      <td>-1.147403e-05</td>\n",
       "      <td>0.000004</td>\n",
       "      <td>0.999989</td>\n",
       "      <td>1.000004</td>\n",
       "      <td>0.0</td>\n",
       "      <td>-1.017758</td>\n",
       "      <td>3.087928e-01</td>\n",
       "      <td>1.695289</td>\n",
       "    </tr>\n",
       "    <tr>\n",
       "      <th>AMT_CREDIT</th>\n",
       "      <td>2.944296e-06</td>\n",
       "      <td>1.000003</td>\n",
       "      <td>3.616716e-06</td>\n",
       "      <td>-4.144336e-06</td>\n",
       "      <td>0.000010</td>\n",
       "      <td>0.999996</td>\n",
       "      <td>1.000010</td>\n",
       "      <td>0.0</td>\n",
       "      <td>0.814080</td>\n",
       "      <td>4.155991e-01</td>\n",
       "      <td>1.266736</td>\n",
       "    </tr>\n",
       "    <tr>\n",
       "      <th>GENDER_M</th>\n",
       "      <td>8.049710e-01</td>\n",
       "      <td>2.236632</td>\n",
       "      <td>2.297431e-01</td>\n",
       "      <td>3.546829e-01</td>\n",
       "      <td>1.255259</td>\n",
       "      <td>1.425728</td>\n",
       "      <td>3.508747</td>\n",
       "      <td>0.0</td>\n",
       "      <td>3.503788</td>\n",
       "      <td>4.586900e-04</td>\n",
       "      <td>11.090193</td>\n",
       "    </tr>\n",
       "    <tr>\n",
       "      <th>CNT_CHILDREN</th>\n",
       "      <td>-6.662390e-02</td>\n",
       "      <td>0.935547</td>\n",
       "      <td>1.530163e-01</td>\n",
       "      <td>-3.665304e-01</td>\n",
       "      <td>0.233283</td>\n",
       "      <td>0.693135</td>\n",
       "      <td>1.262738</td>\n",
       "      <td>0.0</td>\n",
       "      <td>-0.435404</td>\n",
       "      <td>6.632693e-01</td>\n",
       "      <td>0.592333</td>\n",
       "    </tr>\n",
       "    <tr>\n",
       "      <th>FLAG_OWN_CAR_Y</th>\n",
       "      <td>-4.336934e-01</td>\n",
       "      <td>0.648111</td>\n",
       "      <td>2.418103e-01</td>\n",
       "      <td>-9.076328e-01</td>\n",
       "      <td>0.040246</td>\n",
       "      <td>0.403478</td>\n",
       "      <td>1.041067</td>\n",
       "      <td>0.0</td>\n",
       "      <td>-1.793527</td>\n",
       "      <td>7.288862e-02</td>\n",
       "      <td>3.778163</td>\n",
       "    </tr>\n",
       "    <tr>\n",
       "      <th>FLAG_OWN_REALTY_Y</th>\n",
       "      <td>1.392010e-01</td>\n",
       "      <td>1.149355</td>\n",
       "      <td>2.262556e-01</td>\n",
       "      <td>-3.042518e-01</td>\n",
       "      <td>0.582654</td>\n",
       "      <td>0.737675</td>\n",
       "      <td>1.790784</td>\n",
       "      <td>0.0</td>\n",
       "      <td>0.615238</td>\n",
       "      <td>5.383976e-01</td>\n",
       "      <td>0.893256</td>\n",
       "    </tr>\n",
       "    <tr>\n",
       "      <th>PURPOSE_Other</th>\n",
       "      <td>7.031222e-01</td>\n",
       "      <td>2.020050</td>\n",
       "      <td>4.719262e-01</td>\n",
       "      <td>-2.218362e-01</td>\n",
       "      <td>1.628081</td>\n",
       "      <td>0.801047</td>\n",
       "      <td>5.094088</td>\n",
       "      <td>0.0</td>\n",
       "      <td>1.489899</td>\n",
       "      <td>1.362509e-01</td>\n",
       "      <td>2.875662</td>\n",
       "    </tr>\n",
       "    <tr>\n",
       "      <th>CHANNEL_Credit and cash offices</th>\n",
       "      <td>-2.192003e-01</td>\n",
       "      <td>0.803161</td>\n",
       "      <td>3.200724e-01</td>\n",
       "      <td>-8.465306e-01</td>\n",
       "      <td>0.408130</td>\n",
       "      <td>0.428900</td>\n",
       "      <td>1.504003</td>\n",
       "      <td>0.0</td>\n",
       "      <td>-0.684846</td>\n",
       "      <td>4.934412e-01</td>\n",
       "      <td>1.019050</td>\n",
       "    </tr>\n",
       "    <tr>\n",
       "      <th>CHANNEL_Other</th>\n",
       "      <td>5.119643e-01</td>\n",
       "      <td>1.668565</td>\n",
       "      <td>2.516345e-01</td>\n",
       "      <td>1.876977e-02</td>\n",
       "      <td>1.005159</td>\n",
       "      <td>1.018947</td>\n",
       "      <td>2.732341</td>\n",
       "      <td>0.0</td>\n",
       "      <td>2.034555</td>\n",
       "      <td>4.189563e-02</td>\n",
       "      <td>4.577056</td>\n",
       "    </tr>\n",
       "  </tbody>\n",
       "</table>\n",
       "</div>"
      ],
      "text/plain": [
       "                                         coef  exp(coef)      se(coef)  \\\n",
       "covariate                                                                \n",
       "CNT_INSTALMENT                  -4.032211e-01   0.668164  4.828620e-02   \n",
       "CNT_INSTALMENT_FUTURE            4.463706e-01   1.562631  4.741752e-02   \n",
       "AMT_BALANCE                     -2.039735e-07   1.000000  1.071443e-06   \n",
       "AMT_CREDIT_LIMIT_ACTUAL          1.405219e-06   1.000001  7.084128e-07   \n",
       "AMT_APPLICATION                 -3.921719e-06   0.999996  3.853291e-06   \n",
       "AMT_CREDIT                       2.944296e-06   1.000003  3.616716e-06   \n",
       "GENDER_M                         8.049710e-01   2.236632  2.297431e-01   \n",
       "CNT_CHILDREN                    -6.662390e-02   0.935547  1.530163e-01   \n",
       "FLAG_OWN_CAR_Y                  -4.336934e-01   0.648111  2.418103e-01   \n",
       "FLAG_OWN_REALTY_Y                1.392010e-01   1.149355  2.262556e-01   \n",
       "PURPOSE_Other                    7.031222e-01   2.020050  4.719262e-01   \n",
       "CHANNEL_Credit and cash offices -2.192003e-01   0.803161  3.200724e-01   \n",
       "CHANNEL_Other                    5.119643e-01   1.668565  2.516345e-01   \n",
       "\n",
       "                                 coef lower 95%  coef upper 95%  \\\n",
       "covariate                                                         \n",
       "CNT_INSTALMENT                    -4.978603e-01       -0.308582   \n",
       "CNT_INSTALMENT_FUTURE              3.534340e-01        0.539307   \n",
       "AMT_BALANCE                       -2.303962e-06        0.000002   \n",
       "AMT_CREDIT_LIMIT_ACTUAL            1.675580e-08        0.000003   \n",
       "AMT_APPLICATION                   -1.147403e-05        0.000004   \n",
       "AMT_CREDIT                        -4.144336e-06        0.000010   \n",
       "GENDER_M                           3.546829e-01        1.255259   \n",
       "CNT_CHILDREN                      -3.665304e-01        0.233283   \n",
       "FLAG_OWN_CAR_Y                    -9.076328e-01        0.040246   \n",
       "FLAG_OWN_REALTY_Y                 -3.042518e-01        0.582654   \n",
       "PURPOSE_Other                     -2.218362e-01        1.628081   \n",
       "CHANNEL_Credit and cash offices   -8.465306e-01        0.408130   \n",
       "CHANNEL_Other                      1.876977e-02        1.005159   \n",
       "\n",
       "                                 exp(coef) lower 95%  exp(coef) upper 95%  \\\n",
       "covariate                                                                   \n",
       "CNT_INSTALMENT                              0.607830             0.734488   \n",
       "CNT_INSTALMENT_FUTURE                       1.423949             1.714819   \n",
       "AMT_BALANCE                                 0.999998             1.000002   \n",
       "AMT_CREDIT_LIMIT_ACTUAL                     1.000000             1.000003   \n",
       "AMT_APPLICATION                             0.999989             1.000004   \n",
       "AMT_CREDIT                                  0.999996             1.000010   \n",
       "GENDER_M                                    1.425728             3.508747   \n",
       "CNT_CHILDREN                                0.693135             1.262738   \n",
       "FLAG_OWN_CAR_Y                              0.403478             1.041067   \n",
       "FLAG_OWN_REALTY_Y                           0.737675             1.790784   \n",
       "PURPOSE_Other                               0.801047             5.094088   \n",
       "CHANNEL_Credit and cash offices             0.428900             1.504003   \n",
       "CHANNEL_Other                               1.018947             2.732341   \n",
       "\n",
       "                                 cmp to         z             p   -log2(p)  \n",
       "covariate                                                                   \n",
       "CNT_INSTALMENT                      0.0 -8.350648  6.788934e-17  53.709593  \n",
       "CNT_INSTALMENT_FUTURE               0.0  9.413622  4.793305e-21  67.499469  \n",
       "AMT_BALANCE                         0.0 -0.190373  8.490170e-01   0.236135  \n",
       "AMT_CREDIT_LIMIT_ACTUAL             0.0  1.983617  4.729860e-02   4.402059  \n",
       "AMT_APPLICATION                     0.0 -1.017758  3.087928e-01   1.695289  \n",
       "AMT_CREDIT                          0.0  0.814080  4.155991e-01   1.266736  \n",
       "GENDER_M                            0.0  3.503788  4.586900e-04  11.090193  \n",
       "CNT_CHILDREN                        0.0 -0.435404  6.632693e-01   0.592333  \n",
       "FLAG_OWN_CAR_Y                      0.0 -1.793527  7.288862e-02   3.778163  \n",
       "FLAG_OWN_REALTY_Y                   0.0  0.615238  5.383976e-01   0.893256  \n",
       "PURPOSE_Other                       0.0  1.489899  1.362509e-01   2.875662  \n",
       "CHANNEL_Credit and cash offices     0.0 -0.684846  4.934412e-01   1.019050  \n",
       "CHANNEL_Other                       0.0  2.034555  4.189563e-02   4.577056  "
      ]
     },
     "execution_count": 27,
     "metadata": {},
     "output_type": "execute_result"
    }
   ],
   "source": [
    "from lifelines import CoxTimeVaryingFitter\n",
    "\n",
    "# Note: credit_tv contains both time varying and static variables \n",
    "ctv = CoxTimeVaryingFitter()\n",
    "ctv.fit(credit_tv, id_col=\"ID\", event_col=\"DEFAULT_TIME\", start_col=\"first_time\", stop_col=\"time_end\", show_progress=True)\n",
    "ctv.summary"
   ]
  },
  {
   "cell_type": "code",
   "execution_count": 28,
   "metadata": {},
   "outputs": [
    {
     "data": {
      "text/plain": [
       "covariate\n",
       "CNT_INSTALMENT                     0.0000\n",
       "CNT_INSTALMENT_FUTURE              0.0000\n",
       "AMT_BALANCE                        0.8490\n",
       "AMT_CREDIT_LIMIT_ACTUAL            0.0473\n",
       "AMT_APPLICATION                    0.3088\n",
       "AMT_CREDIT                         0.4156\n",
       "GENDER_M                           0.0005\n",
       "CNT_CHILDREN                       0.6633\n",
       "FLAG_OWN_CAR_Y                     0.0729\n",
       "FLAG_OWN_REALTY_Y                  0.5384\n",
       "PURPOSE_Other                      0.1363\n",
       "CHANNEL_Credit and cash offices    0.4934\n",
       "CHANNEL_Other                      0.0419\n",
       "Name: p, dtype: float64"
      ]
     },
     "execution_count": 28,
     "metadata": {},
     "output_type": "execute_result"
    }
   ],
   "source": [
    "# inspect p-values\n",
    "round(ctv.summary['p'], 4)"
   ]
  },
  {
   "cell_type": "code",
   "execution_count": 29,
   "metadata": {},
   "outputs": [
    {
     "data": {
      "text/plain": [
       "<AxesSubplot:xlabel='log(HR) (95% CI)'>"
      ]
     },
     "execution_count": 29,
     "metadata": {},
     "output_type": "execute_result"
    },
    {
     "data": {
      "image/png": "[encoded data removed]",
      "text/plain": [
       "<Figure size 432x288 with 1 Axes>"
      ]
     },
     "metadata": {
      "needs_background": "light"
     },
     "output_type": "display_data"
    }
   ],
   "source": [
    "ctv.plot()"
   ]
  },
  {
   "cell_type": "code",
   "execution_count": 30,
   "metadata": {},
   "outputs": [
    {
     "name": "stdout",
     "output_type": "stream",
     "text": [
      "covariate\n",
      "CNT_INSTALMENT                    -0.403221\n",
      "CNT_INSTALMENT_FUTURE              0.446371\n",
      "AMT_BALANCE                       -0.000000\n",
      "AMT_CREDIT_LIMIT_ACTUAL            0.000001\n",
      "AMT_APPLICATION                   -0.000004\n",
      "AMT_CREDIT                         0.000003\n",
      "GENDER_M                           0.804971\n",
      "CNT_CHILDREN                      -0.066624\n",
      "FLAG_OWN_CAR_Y                    -0.433693\n",
      "FLAG_OWN_REALTY_Y                  0.139201\n",
      "PURPOSE_Other                      0.703122\n",
      "CHANNEL_Credit and cash offices   -0.219200\n",
      "CHANNEL_Other                      0.511964\n",
      "dtype: float64\n",
      "\n",
      " An additional unpaid installment (due in the future) increases the probability to default by 56.263%\n"
     ]
    }
   ],
   "source": [
    "# print parameter values\n",
    "print(round(ctv.params_, 6))\n",
    "\n",
    "# Interpretation (under ceteris paribus assumption): \n",
    "print('\\n An additional unpaid installment (due in the future) increases the probability to default by {:.3f}%'.format((np.exp(4.463706e-01) - 1)*100))"
   ]
  },
  {
   "cell_type": "code",
   "execution_count": 31,
   "metadata": {},
   "outputs": [
    {
     "data": {
      "text/plain": [
       "<AxesSubplot:>"
      ]
     },
     "execution_count": 31,
     "metadata": {},
     "output_type": "execute_result"
    },
    {
     "data": {
      "image/png": "[encoded data removed]",
      "text/plain": [
       "<Figure size 432x288 with 1 Axes>"
      ]
     },
     "metadata": {
      "needs_background": "light"
     },
     "output_type": "display_data"
    }
   ],
   "source": [
    "np.exp(ctv.baseline_cumulative_hazard_).plot()"
   ]
  }
 ],
 "metadata": {
  "interpreter": {
   "hash": "63fd5069d213b44bf678585dea6b12cceca9941eaf7f819626cde1f2670de90d"
  },
  "kernelspec": {
   "display_name": "Python 3",
   "language": "python",
   "name": "python3"
  },
  "language_info": {
   "codemirror_mode": {
    "name": "ipython",
    "version": 3
   },
   "file_extension": ".py",
   "mimetype": "text/x-python",
   "name": "python",
   "nbconvert_exporter": "python",
   "pygments_lexer": "ipython3",
   "version": "3.9.4"
  }
 },
 "nbformat": 4,
 "nbformat_minor": 2
}
