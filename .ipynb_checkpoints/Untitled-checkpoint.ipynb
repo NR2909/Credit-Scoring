{
 "cells": [
  {
   "cell_type": "code",
   "execution_count": 1,
   "id": "af02832f",
   "metadata": {},
   "outputs": [
    {
     "name": "stderr",
     "output_type": "stream",
     "text": [
      "C:\\tools\\Anaconda3\\envs\\py\\lib\\site-packages\\numpy\\_distributor_init.py:30: UserWarning: loaded more than 1 DLL from .libs:\n",
      "C:\\tools\\Anaconda3\\envs\\py\\lib\\site-packages\\numpy\\.libs\\libopenblas.EL2C6PLE4ZYW3ECEVIV3OXXGRN2NRFM2.gfortran-win_amd64.dll\n",
      "C:\\tools\\Anaconda3\\envs\\py\\lib\\site-packages\\numpy\\.libs\\libopenblas.WCDJNK7YVMPZQ2ME2ZZHJJRJ3JIKNDB7.gfortran-win_amd64.dll\n",
      "  warnings.warn(\"loaded more than 1 DLL from .libs:\"\n"
     ]
    }
   ],
   "source": [
    "import pandas as pd \n",
    "import numpy as np \n",
    "import matplotlib.pyplot as plt\n",
    "import plotly.graph_objects as go\n",
    "from collections import defaultdict\n",
    "\n",
    "from sklearn.linear_model    import LogisticRegression\n",
    "from sklearn.metrics         import *\n",
    "from sklearn.model_selection import GridSearchCV, train_test_split\n",
    "import seaborn as sns\n",
    "# import module\n",
    "from Binning import WOE\n",
    "from sklearn.model_selection import train_test_split\n",
    "from sklearn.ensemble import RandomForestRegressor\n",
    "from sklearn.inspection import permutation_importance\n",
    "import warnings\n",
    "warnings.filterwarnings('ignore')\n",
    "from sklearn.linear_model import LogisticRegression\n",
    "from sklearn.ensemble import RandomForestClassifier, AdaBoostClassifier \n",
    "from sklearn.neighbors import KNeighborsClassifier\n",
    "from sklearn.tree import DecisionTreeClassifier\n",
    "from sklearn.svm import SVC\n",
    "from sklearn.neural_network import MLPClassifier"
   ]
  },
  {
   "cell_type": "markdown",
   "id": "6a11e5f1",
   "metadata": {},
   "source": [
    "## Read Data"
   ]
  },
  {
   "cell_type": "code",
   "execution_count": 2,
   "id": "6512a71c",
   "metadata": {},
   "outputs": [],
   "source": [
    "# Read datasets\n",
    "accept = pd.read_csv('./Assignment2022_Data/RealEstateLoans_accepts.csv')\n",
    "reject = pd.read_csv('./Assignment2022_Data/RealEstateLoans_rejects.csv')"
   ]
  },
  {
   "cell_type": "code",
   "execution_count": 3,
   "id": "ff1c64db",
   "metadata": {},
   "outputs": [
    {
     "data": {
      "text/html": [
       "<div>\n",
       "<style scoped>\n",
       "    .dataframe tbody tr th:only-of-type {\n",
       "        vertical-align: middle;\n",
       "    }\n",
       "\n",
       "    .dataframe tbody tr th {\n",
       "        vertical-align: top;\n",
       "    }\n",
       "\n",
       "    .dataframe thead th {\n",
       "        text-align: right;\n",
       "    }\n",
       "</style>\n",
       "<table border=\"1\" class=\"dataframe\">\n",
       "  <thead>\n",
       "    <tr style=\"text-align: right;\">\n",
       "      <th></th>\n",
       "      <th>total_income</th>\n",
       "      <th>loan_amount</th>\n",
       "      <th>term</th>\n",
       "      <th>interest_rate</th>\n",
       "      <th>own_car</th>\n",
       "      <th>own_house</th>\n",
       "      <th>nr_children</th>\n",
       "      <th>income_type</th>\n",
       "      <th>education_type</th>\n",
       "      <th>family_status</th>\n",
       "      <th>...</th>\n",
       "      <th>occupation_type</th>\n",
       "      <th>family_count</th>\n",
       "      <th>EXT1</th>\n",
       "      <th>EXT2</th>\n",
       "      <th>EXT3</th>\n",
       "      <th>EXT4</th>\n",
       "      <th>EXT5</th>\n",
       "      <th>EXT6</th>\n",
       "      <th>EXT7</th>\n",
       "      <th>Default</th>\n",
       "    </tr>\n",
       "  </thead>\n",
       "  <tbody>\n",
       "    <tr>\n",
       "      <th>0</th>\n",
       "      <td>157500.0</td>\n",
       "      <td>288562.5</td>\n",
       "      <td>30</td>\n",
       "      <td>3.737395</td>\n",
       "      <td>Y</td>\n",
       "      <td>N</td>\n",
       "      <td>0</td>\n",
       "      <td>Commercial associate</td>\n",
       "      <td>Secondary / secondary special</td>\n",
       "      <td>Married</td>\n",
       "      <td>...</td>\n",
       "      <td>Drivers</td>\n",
       "      <td>2.0</td>\n",
       "      <td>NaN</td>\n",
       "      <td>0.541308</td>\n",
       "      <td>0.236611</td>\n",
       "      <td>0</td>\n",
       "      <td>0</td>\n",
       "      <td>0</td>\n",
       "      <td>0</td>\n",
       "      <td>0</td>\n",
       "    </tr>\n",
       "    <tr>\n",
       "      <th>1</th>\n",
       "      <td>76500.0</td>\n",
       "      <td>225000.0</td>\n",
       "      <td>48</td>\n",
       "      <td>3.654300</td>\n",
       "      <td>N</td>\n",
       "      <td>Y</td>\n",
       "      <td>3</td>\n",
       "      <td>Working</td>\n",
       "      <td>Secondary / secondary special</td>\n",
       "      <td>Separated</td>\n",
       "      <td>...</td>\n",
       "      <td>Laborers</td>\n",
       "      <td>4.0</td>\n",
       "      <td>NaN</td>\n",
       "      <td>0.395423</td>\n",
       "      <td>0.673830</td>\n",
       "      <td>0</td>\n",
       "      <td>1</td>\n",
       "      <td>0</td>\n",
       "      <td>0</td>\n",
       "      <td>0</td>\n",
       "    </tr>\n",
       "    <tr>\n",
       "      <th>2</th>\n",
       "      <td>67500.0</td>\n",
       "      <td>409653.0</td>\n",
       "      <td>12</td>\n",
       "      <td>3.262865</td>\n",
       "      <td>Y</td>\n",
       "      <td>N</td>\n",
       "      <td>0</td>\n",
       "      <td>Working</td>\n",
       "      <td>Secondary / secondary special</td>\n",
       "      <td>Civil marriage</td>\n",
       "      <td>...</td>\n",
       "      <td>Laborers</td>\n",
       "      <td>2.0</td>\n",
       "      <td>NaN</td>\n",
       "      <td>0.649417</td>\n",
       "      <td>0.042929</td>\n",
       "      <td>0</td>\n",
       "      <td>1</td>\n",
       "      <td>0</td>\n",
       "      <td>0</td>\n",
       "      <td>1</td>\n",
       "    </tr>\n",
       "    <tr>\n",
       "      <th>3</th>\n",
       "      <td>180000.0</td>\n",
       "      <td>328405.5</td>\n",
       "      <td>24</td>\n",
       "      <td>4.773736</td>\n",
       "      <td>Y</td>\n",
       "      <td>N</td>\n",
       "      <td>1</td>\n",
       "      <td>Working</td>\n",
       "      <td>Secondary / secondary special</td>\n",
       "      <td>Separated</td>\n",
       "      <td>...</td>\n",
       "      <td>Laborers</td>\n",
       "      <td>2.0</td>\n",
       "      <td>0.512811</td>\n",
       "      <td>0.337838</td>\n",
       "      <td>0.852828</td>\n",
       "      <td>0</td>\n",
       "      <td>1</td>\n",
       "      <td>0</td>\n",
       "      <td>0</td>\n",
       "      <td>0</td>\n",
       "    </tr>\n",
       "    <tr>\n",
       "      <th>4</th>\n",
       "      <td>130500.0</td>\n",
       "      <td>1225224.0</td>\n",
       "      <td>60</td>\n",
       "      <td>2.867961</td>\n",
       "      <td>N</td>\n",
       "      <td>N</td>\n",
       "      <td>0</td>\n",
       "      <td>Pensioner</td>\n",
       "      <td>Secondary / secondary special</td>\n",
       "      <td>Married</td>\n",
       "      <td>...</td>\n",
       "      <td>NaN</td>\n",
       "      <td>2.0</td>\n",
       "      <td>0.595440</td>\n",
       "      <td>0.537174</td>\n",
       "      <td>0.367291</td>\n",
       "      <td>0</td>\n",
       "      <td>0</td>\n",
       "      <td>0</td>\n",
       "      <td>0</td>\n",
       "      <td>0</td>\n",
       "    </tr>\n",
       "  </tbody>\n",
       "</table>\n",
       "<p>5 rows × 29 columns</p>\n",
       "</div>"
      ],
      "text/plain": [
       "   total_income  loan_amount  term  interest_rate own_car own_house  \\\n",
       "0      157500.0     288562.5    30       3.737395       Y         N   \n",
       "1       76500.0     225000.0    48       3.654300       N         Y   \n",
       "2       67500.0     409653.0    12       3.262865       Y         N   \n",
       "3      180000.0     328405.5    24       4.773736       Y         N   \n",
       "4      130500.0    1225224.0    60       2.867961       N         N   \n",
       "\n",
       "   nr_children           income_type                 education_type  \\\n",
       "0            0  Commercial associate  Secondary / secondary special   \n",
       "1            3               Working  Secondary / secondary special   \n",
       "2            0               Working  Secondary / secondary special   \n",
       "3            1               Working  Secondary / secondary special   \n",
       "4            0             Pensioner  Secondary / secondary special   \n",
       "\n",
       "    family_status  ... occupation_type  family_count      EXT1      EXT2  \\\n",
       "0         Married  ...         Drivers           2.0       NaN  0.541308   \n",
       "1       Separated  ...        Laborers           4.0       NaN  0.395423   \n",
       "2  Civil marriage  ...        Laborers           2.0       NaN  0.649417   \n",
       "3       Separated  ...        Laborers           2.0  0.512811  0.337838   \n",
       "4         Married  ...             NaN           2.0  0.595440  0.537174   \n",
       "\n",
       "       EXT3  EXT4  EXT5  EXT6  EXT7 Default  \n",
       "0  0.236611     0     0     0     0       0  \n",
       "1  0.673830     0     1     0     0       0  \n",
       "2  0.042929     0     1     0     0       1  \n",
       "3  0.852828     0     1     0     0       0  \n",
       "4  0.367291     0     0     0     0       0  \n",
       "\n",
       "[5 rows x 29 columns]"
      ]
     },
     "execution_count": 3,
     "metadata": {},
     "output_type": "execute_result"
    }
   ],
   "source": [
    "accept.head()"
   ]
  },
  {
   "cell_type": "code",
   "execution_count": 4,
   "id": "283702b1",
   "metadata": {},
   "outputs": [
    {
     "data": {
      "text/html": [
       "<div>\n",
       "<style scoped>\n",
       "    .dataframe tbody tr th:only-of-type {\n",
       "        vertical-align: middle;\n",
       "    }\n",
       "\n",
       "    .dataframe tbody tr th {\n",
       "        vertical-align: top;\n",
       "    }\n",
       "\n",
       "    .dataframe thead th {\n",
       "        text-align: right;\n",
       "    }\n",
       "</style>\n",
       "<table border=\"1\" class=\"dataframe\">\n",
       "  <thead>\n",
       "    <tr style=\"text-align: right;\">\n",
       "      <th></th>\n",
       "      <th>total_income</th>\n",
       "      <th>loan_amount</th>\n",
       "      <th>term</th>\n",
       "      <th>interest_rate</th>\n",
       "      <th>own_car</th>\n",
       "      <th>own_house</th>\n",
       "      <th>nr_children</th>\n",
       "      <th>income_type</th>\n",
       "      <th>education_type</th>\n",
       "      <th>family_status</th>\n",
       "      <th>...</th>\n",
       "      <th>days_phone_change</th>\n",
       "      <th>occupation_type</th>\n",
       "      <th>family_count</th>\n",
       "      <th>EXT1</th>\n",
       "      <th>EXT2</th>\n",
       "      <th>EXT3</th>\n",
       "      <th>EXT4</th>\n",
       "      <th>EXT5</th>\n",
       "      <th>EXT6</th>\n",
       "      <th>EXT7</th>\n",
       "    </tr>\n",
       "  </thead>\n",
       "  <tbody>\n",
       "    <tr>\n",
       "      <th>0</th>\n",
       "      <td>270000.0</td>\n",
       "      <td>888840.0</td>\n",
       "      <td>48</td>\n",
       "      <td>2.344399</td>\n",
       "      <td>N</td>\n",
       "      <td>Y</td>\n",
       "      <td>1</td>\n",
       "      <td>Commercial associate</td>\n",
       "      <td>Higher education</td>\n",
       "      <td>Married</td>\n",
       "      <td>...</td>\n",
       "      <td>-1866.0</td>\n",
       "      <td>Core staff</td>\n",
       "      <td>3.0</td>\n",
       "      <td>NaN</td>\n",
       "      <td>0.409056</td>\n",
       "      <td>0.687933</td>\n",
       "      <td>0</td>\n",
       "      <td>1</td>\n",
       "      <td>0</td>\n",
       "      <td>0</td>\n",
       "    </tr>\n",
       "    <tr>\n",
       "      <th>1</th>\n",
       "      <td>90000.0</td>\n",
       "      <td>562491.0</td>\n",
       "      <td>36</td>\n",
       "      <td>3.195584</td>\n",
       "      <td>N</td>\n",
       "      <td>Y</td>\n",
       "      <td>0</td>\n",
       "      <td>Working</td>\n",
       "      <td>Secondary / secondary special</td>\n",
       "      <td>Married</td>\n",
       "      <td>...</td>\n",
       "      <td>-1821.0</td>\n",
       "      <td>Laborers</td>\n",
       "      <td>2.0</td>\n",
       "      <td>0.398079</td>\n",
       "      <td>0.693795</td>\n",
       "      <td>0.563835</td>\n",
       "      <td>0</td>\n",
       "      <td>1</td>\n",
       "      <td>0</td>\n",
       "      <td>0</td>\n",
       "    </tr>\n",
       "    <tr>\n",
       "      <th>2</th>\n",
       "      <td>225000.0</td>\n",
       "      <td>790830.0</td>\n",
       "      <td>48</td>\n",
       "      <td>3.156887</td>\n",
       "      <td>Y</td>\n",
       "      <td>Y</td>\n",
       "      <td>0</td>\n",
       "      <td>Working</td>\n",
       "      <td>Secondary / secondary special</td>\n",
       "      <td>Single / not married</td>\n",
       "      <td>...</td>\n",
       "      <td>0.0</td>\n",
       "      <td>Laborers</td>\n",
       "      <td>1.0</td>\n",
       "      <td>0.023845</td>\n",
       "      <td>0.420569</td>\n",
       "      <td>0.692559</td>\n",
       "      <td>0</td>\n",
       "      <td>1</td>\n",
       "      <td>0</td>\n",
       "      <td>0</td>\n",
       "    </tr>\n",
       "    <tr>\n",
       "      <th>3</th>\n",
       "      <td>135000.0</td>\n",
       "      <td>900000.0</td>\n",
       "      <td>42</td>\n",
       "      <td>3.472026</td>\n",
       "      <td>N</td>\n",
       "      <td>N</td>\n",
       "      <td>0</td>\n",
       "      <td>Commercial associate</td>\n",
       "      <td>Secondary / secondary special</td>\n",
       "      <td>Married</td>\n",
       "      <td>...</td>\n",
       "      <td>-1068.0</td>\n",
       "      <td>Sales staff</td>\n",
       "      <td>2.0</td>\n",
       "      <td>NaN</td>\n",
       "      <td>0.108418</td>\n",
       "      <td>0.441836</td>\n",
       "      <td>0</td>\n",
       "      <td>0</td>\n",
       "      <td>0</td>\n",
       "      <td>1</td>\n",
       "    </tr>\n",
       "    <tr>\n",
       "      <th>4</th>\n",
       "      <td>67500.0</td>\n",
       "      <td>808650.0</td>\n",
       "      <td>24</td>\n",
       "      <td>2.610668</td>\n",
       "      <td>N</td>\n",
       "      <td>N</td>\n",
       "      <td>0</td>\n",
       "      <td>Pensioner</td>\n",
       "      <td>Secondary / secondary special</td>\n",
       "      <td>Single / not married</td>\n",
       "      <td>...</td>\n",
       "      <td>-488.0</td>\n",
       "      <td>NaN</td>\n",
       "      <td>1.0</td>\n",
       "      <td>NaN</td>\n",
       "      <td>0.508502</td>\n",
       "      <td>0.771362</td>\n",
       "      <td>0</td>\n",
       "      <td>1</td>\n",
       "      <td>0</td>\n",
       "      <td>0</td>\n",
       "    </tr>\n",
       "  </tbody>\n",
       "</table>\n",
       "<p>5 rows × 28 columns</p>\n",
       "</div>"
      ],
      "text/plain": [
       "   total_income  loan_amount  term  interest_rate own_car own_house  \\\n",
       "0      270000.0     888840.0    48       2.344399       N         Y   \n",
       "1       90000.0     562491.0    36       3.195584       N         Y   \n",
       "2      225000.0     790830.0    48       3.156887       Y         Y   \n",
       "3      135000.0     900000.0    42       3.472026       N         N   \n",
       "4       67500.0     808650.0    24       2.610668       N         N   \n",
       "\n",
       "   nr_children           income_type                 education_type  \\\n",
       "0            1  Commercial associate               Higher education   \n",
       "1            0               Working  Secondary / secondary special   \n",
       "2            0               Working  Secondary / secondary special   \n",
       "3            0  Commercial associate  Secondary / secondary special   \n",
       "4            0             Pensioner  Secondary / secondary special   \n",
       "\n",
       "          family_status  ... days_phone_change  occupation_type  family_count  \\\n",
       "0               Married  ...           -1866.0       Core staff           3.0   \n",
       "1               Married  ...           -1821.0         Laborers           2.0   \n",
       "2  Single / not married  ...               0.0         Laborers           1.0   \n",
       "3               Married  ...           -1068.0      Sales staff           2.0   \n",
       "4  Single / not married  ...            -488.0              NaN           1.0   \n",
       "\n",
       "       EXT1      EXT2      EXT3  EXT4  EXT5  EXT6 EXT7  \n",
       "0       NaN  0.409056  0.687933     0     1     0    0  \n",
       "1  0.398079  0.693795  0.563835     0     1     0    0  \n",
       "2  0.023845  0.420569  0.692559     0     1     0    0  \n",
       "3       NaN  0.108418  0.441836     0     0     0    1  \n",
       "4       NaN  0.508502  0.771362     0     1     0    0  \n",
       "\n",
       "[5 rows x 28 columns]"
      ]
     },
     "execution_count": 4,
     "metadata": {},
     "output_type": "execute_result"
    }
   ],
   "source": [
    "reject.head()"
   ]
  },
  {
   "cell_type": "code",
   "execution_count": 5,
   "id": "322882b1",
   "metadata": {},
   "outputs": [
    {
     "data": {
      "text/plain": [
       "total_income                   0\n",
       "loan_amount                    0\n",
       "term                           0\n",
       "interest_rate                  0\n",
       "own_car                        0\n",
       "own_house                      0\n",
       "nr_children                    0\n",
       "income_type                    0\n",
       "education_type                 0\n",
       "family_status                  0\n",
       "housing_type                   0\n",
       "region_population_ratio        0\n",
       "days_birth                     0\n",
       "days_employed                  0\n",
       "days_registration              0\n",
       "mobile_number                  0\n",
       "phone_number                   0\n",
       "email                          0\n",
       "days_phone_change              0\n",
       "occupation_type             5922\n",
       "family_count                   0\n",
       "EXT1                       10415\n",
       "EXT2                          33\n",
       "EXT3                        3640\n",
       "EXT4                           0\n",
       "EXT5                           0\n",
       "EXT6                           0\n",
       "EXT7                           0\n",
       "Default                        0\n",
       "dtype: int64"
      ]
     },
     "execution_count": 5,
     "metadata": {},
     "output_type": "execute_result"
    }
   ],
   "source": [
    "accept.isna().sum()"
   ]
  },
  {
   "cell_type": "code",
   "execution_count": 6,
   "id": "53a978ba",
   "metadata": {},
   "outputs": [
    {
     "data": {
      "text/plain": [
       "total_income                  0\n",
       "loan_amount                   0\n",
       "term                          0\n",
       "interest_rate                 0\n",
       "own_car                       0\n",
       "own_house                     0\n",
       "nr_children                   0\n",
       "income_type                   0\n",
       "education_type                0\n",
       "family_status                 0\n",
       "housing_type                  0\n",
       "region_population_ratio       0\n",
       "days_birth                    0\n",
       "days_employed                 0\n",
       "days_registration             0\n",
       "mobile_number                 0\n",
       "phone_number                  0\n",
       "email                         0\n",
       "days_phone_change             0\n",
       "occupation_type            2751\n",
       "family_count                  0\n",
       "EXT1                       5273\n",
       "EXT2                         16\n",
       "EXT3                       1812\n",
       "EXT4                          0\n",
       "EXT5                          0\n",
       "EXT6                          0\n",
       "EXT7                          0\n",
       "dtype: int64"
      ]
     },
     "execution_count": 6,
     "metadata": {},
     "output_type": "execute_result"
    }
   ],
   "source": [
    "reject.isna().sum()"
   ]
  },
  {
   "cell_type": "code",
   "execution_count": 7,
   "id": "bea7b06d",
   "metadata": {},
   "outputs": [
    {
     "data": {
      "text/plain": [
       "Index(['total_income', 'loan_amount', 'term', 'interest_rate', 'own_car',\n",
       "       'own_house', 'nr_children', 'income_type', 'education_type',\n",
       "       'family_status', 'housing_type', 'region_population_ratio',\n",
       "       'days_birth', 'days_employed', 'days_registration', 'mobile_number',\n",
       "       'phone_number', 'email', 'days_phone_change', 'occupation_type',\n",
       "       'family_count', 'EXT1', 'EXT2', 'EXT3', 'EXT4', 'EXT5', 'EXT6', 'EXT7',\n",
       "       'Default'],\n",
       "      dtype='object')"
      ]
     },
     "execution_count": 7,
     "metadata": {},
     "output_type": "execute_result"
    }
   ],
   "source": [
    "accept.columns"
   ]
  },
  {
   "cell_type": "code",
   "execution_count": 8,
   "id": "3b87cade",
   "metadata": {},
   "outputs": [
    {
     "data": {
      "text/plain": [
       "Text(0.5, 1.0, 'Distribution Default')"
      ]
     },
     "execution_count": 8,
     "metadata": {},
     "output_type": "execute_result"
    },
    {
     "data": {
      "image/png": "[encoded data removed]",
      "text/plain": [
       "<Figure size 432x288 with 1 Axes>"
      ]
     },
     "metadata": {},
     "output_type": "display_data"
    }
   ],
   "source": [
    "accept[\"Default\"].value_counts().plot.pie(autopct=\"%1.2f%%\")\n",
    "plt.title(\"Distribution Default\")"
   ]
  },
  {
   "cell_type": "code",
   "execution_count": 9,
   "id": "103d64e2",
   "metadata": {},
   "outputs": [
    {
     "data": {
      "image/png": "[encoded data removed]",
      "text/plain": [
       "<Figure size 432x288 with 2 Axes>"
      ]
     },
     "metadata": {
      "needs_background": "light"
     },
     "output_type": "display_data"
    },
    {
     "data": {
      "text/plain": [
       "<Figure size 1440x720 with 0 Axes>"
      ]
     },
     "metadata": {},
     "output_type": "display_data"
    }
   ],
   "source": [
    "# Correlation between all the Features\n",
    "# Correlation Plot\n",
    "\n",
    "hm = sns.heatmap(accept.corr(), annot = True)\n",
    "plt.figure(figsize=(20, 10))\n",
    "plt.show()"
   ]
  },
  {
   "cell_type": "code",
   "execution_count": 10,
   "id": "2f9fdfeb",
   "metadata": {},
   "outputs": [
    {
     "data": {
      "text/html": [
       "<style type=\"text/css\">\n",
       "#T_d3806_row0_col0, #T_d3806_row1_col1, #T_d3806_row2_col2, #T_d3806_row3_col3, #T_d3806_row4_col4, #T_d3806_row5_col5, #T_d3806_row6_col6, #T_d3806_row7_col7, #T_d3806_row8_col8, #T_d3806_row10_col10, #T_d3806_row11_col11, #T_d3806_row12_col12, #T_d3806_row13_col13, #T_d3806_row14_col14, #T_d3806_row15_col15, #T_d3806_row16_col16, #T_d3806_row17_col17, #T_d3806_row18_col18, #T_d3806_row19_col19, #T_d3806_row20_col20, #T_d3806_row21_col21 {\n",
       "  background-color: #b40426;\n",
       "  color: #f1f1f1;\n",
       "}\n",
       "#T_d3806_row0_col1 {\n",
       "  background-color: #e6d7cf;\n",
       "  color: #000000;\n",
       "}\n",
       "#T_d3806_row0_col2, #T_d3806_row10_col15, #T_d3806_row12_col1, #T_d3806_row14_col3, #T_d3806_row15_col18 {\n",
       "  background-color: #82a6fb;\n",
       "  color: #f1f1f1;\n",
       "}\n",
       "#T_d3806_row0_col3, #T_d3806_row1_col8, #T_d3806_row3_col21 {\n",
       "  background-color: #7597f6;\n",
       "  color: #f1f1f1;\n",
       "}\n",
       "#T_d3806_row0_col4, #T_d3806_row12_col21, #T_d3806_row14_col0, #T_d3806_row21_col8 {\n",
       "  background-color: #80a3fa;\n",
       "  color: #f1f1f1;\n",
       "}\n",
       "#T_d3806_row0_col5, #T_d3806_row3_col18, #T_d3806_row21_col1 {\n",
       "  background-color: #89acfd;\n",
       "  color: #000000;\n",
       "}\n",
       "#T_d3806_row0_col6, #T_d3806_row12_col6 {\n",
       "  background-color: #cad8ef;\n",
       "  color: #000000;\n",
       "}\n",
       "#T_d3806_row0_col7, #T_d3806_row6_col3, #T_d3806_row7_col16, #T_d3806_row8_col1, #T_d3806_row12_col14, #T_d3806_row21_col14 {\n",
       "  background-color: #98b9ff;\n",
       "  color: #000000;\n",
       "}\n",
       "#T_d3806_row0_col8, #T_d3806_row2_col18, #T_d3806_row6_col21 {\n",
       "  background-color: #86a9fc;\n",
       "  color: #f1f1f1;\n",
       "}\n",
       "#T_d3806_row0_col9, #T_d3806_row1_col9, #T_d3806_row2_col9, #T_d3806_row3_col9, #T_d3806_row4_col9, #T_d3806_row5_col9, #T_d3806_row6_col9, #T_d3806_row7_col9, #T_d3806_row8_col9, #T_d3806_row9_col0, #T_d3806_row9_col1, #T_d3806_row9_col2, #T_d3806_row9_col3, #T_d3806_row9_col4, #T_d3806_row9_col5, #T_d3806_row9_col6, #T_d3806_row9_col7, #T_d3806_row9_col8, #T_d3806_row9_col9, #T_d3806_row9_col10, #T_d3806_row9_col11, #T_d3806_row9_col12, #T_d3806_row9_col13, #T_d3806_row9_col14, #T_d3806_row9_col15, #T_d3806_row9_col16, #T_d3806_row9_col17, #T_d3806_row9_col18, #T_d3806_row9_col19, #T_d3806_row9_col20, #T_d3806_row9_col21, #T_d3806_row10_col9, #T_d3806_row11_col9, #T_d3806_row12_col9, #T_d3806_row13_col9, #T_d3806_row14_col9, #T_d3806_row14_col19, #T_d3806_row15_col9, #T_d3806_row16_col9, #T_d3806_row16_col17, #T_d3806_row16_col19, #T_d3806_row17_col9, #T_d3806_row17_col16, #T_d3806_row18_col9, #T_d3806_row19_col9, #T_d3806_row19_col14, #T_d3806_row19_col16, #T_d3806_row20_col9, #T_d3806_row21_col9 {\n",
       "  background-color: #000000;\n",
       "  color: #f1f1f1;\n",
       "}\n",
       "#T_d3806_row0_col10, #T_d3806_row14_col12 {\n",
       "  background-color: #4961d2;\n",
       "  color: #f1f1f1;\n",
       "}\n",
       "#T_d3806_row0_col11, #T_d3806_row3_col8, #T_d3806_row4_col15, #T_d3806_row4_col20, #T_d3806_row5_col18, #T_d3806_row10_col4, #T_d3806_row11_col21, #T_d3806_row13_col0, #T_d3806_row14_col2, #T_d3806_row16_col13, #T_d3806_row17_col15, #T_d3806_row20_col21 {\n",
       "  background-color: #6f92f3;\n",
       "  color: #f1f1f1;\n",
       "}\n",
       "#T_d3806_row0_col12, #T_d3806_row3_col15, #T_d3806_row5_col8, #T_d3806_row10_col2, #T_d3806_row15_col8, #T_d3806_row15_col10 {\n",
       "  background-color: #5f7fe8;\n",
       "  color: #f1f1f1;\n",
       "}\n",
       "#T_d3806_row0_col13, #T_d3806_row8_col12, #T_d3806_row12_col8 {\n",
       "  background-color: #81a4fb;\n",
       "  color: #f1f1f1;\n",
       "}\n",
       "#T_d3806_row0_col14, #T_d3806_row10_col14 {\n",
       "  background-color: #c9d7f0;\n",
       "  color: #000000;\n",
       "}\n",
       "#T_d3806_row0_col15 {\n",
       "  background-color: #9dbdff;\n",
       "  color: #000000;\n",
       "}\n",
       "#T_d3806_row0_col16, #T_d3806_row14_col13 {\n",
       "  background-color: #5d7ce6;\n",
       "  color: #f1f1f1;\n",
       "}\n",
       "#T_d3806_row0_col17, #T_d3806_row7_col17, #T_d3806_row8_col17, #T_d3806_row14_col6, #T_d3806_row14_col17, #T_d3806_row15_col21, #T_d3806_row21_col16, #T_d3806_row21_col17 {\n",
       "  background-color: #3d50c3;\n",
       "  color: #f1f1f1;\n",
       "}\n",
       "#T_d3806_row0_col18, #T_d3806_row0_col20, #T_d3806_row3_col12, #T_d3806_row3_col20, #T_d3806_row7_col12, #T_d3806_row8_col20, #T_d3806_row12_col4, #T_d3806_row14_col20, #T_d3806_row15_col13, #T_d3806_row21_col13, #T_d3806_row21_col20 {\n",
       "  background-color: #799cf8;\n",
       "  color: #f1f1f1;\n",
       "}\n",
       "#T_d3806_row0_col19, #T_d3806_row2_col19, #T_d3806_row3_col17, #T_d3806_row5_col19, #T_d3806_row6_col10, #T_d3806_row6_col17, #T_d3806_row6_col19, #T_d3806_row13_col19, #T_d3806_row17_col19, #T_d3806_row20_col19 {\n",
       "  background-color: #3f53c6;\n",
       "  color: #f1f1f1;\n",
       "}\n",
       "#T_d3806_row0_col21, #T_d3806_row2_col12, #T_d3806_row3_col16, #T_d3806_row13_col16, #T_d3806_row20_col0 {\n",
       "  background-color: #688aef;\n",
       "  color: #f1f1f1;\n",
       "}\n",
       "#T_d3806_row1_col0 {\n",
       "  background-color: #d1dae9;\n",
       "  color: #000000;\n",
       "}\n",
       "#T_d3806_row1_col2, #T_d3806_row2_col14 {\n",
       "  background-color: #c6d6f1;\n",
       "  color: #000000;\n",
       "}\n",
       "#T_d3806_row1_col3, #T_d3806_row3_col1, #T_d3806_row3_col2, #T_d3806_row6_col7, #T_d3806_row6_col14, #T_d3806_row6_col16, #T_d3806_row7_col0, #T_d3806_row7_col4, #T_d3806_row7_col6, #T_d3806_row7_col8, #T_d3806_row7_col11, #T_d3806_row7_col13, #T_d3806_row7_col18, #T_d3806_row8_col10, #T_d3806_row12_col15, #T_d3806_row15_col12, #T_d3806_row15_col19, #T_d3806_row16_col21, #T_d3806_row18_col5, #T_d3806_row18_col17, #T_d3806_row18_col19, #T_d3806_row18_col20 {\n",
       "  background-color: #3b4cc0;\n",
       "  color: #f1f1f1;\n",
       "}\n",
       "#T_d3806_row1_col4, #T_d3806_row6_col0, #T_d3806_row8_col0, #T_d3806_row8_col21, #T_d3806_row11_col13, #T_d3806_row12_col18, #T_d3806_row17_col4, #T_d3806_row17_col13, #T_d3806_row21_col4 {\n",
       "  background-color: #7da0f9;\n",
       "  color: #f1f1f1;\n",
       "}\n",
       "#T_d3806_row1_col5, #T_d3806_row3_col13, #T_d3806_row4_col21, #T_d3806_row5_col13, #T_d3806_row7_col20, #T_d3806_row13_col15, #T_d3806_row19_col8, #T_d3806_row20_col4, #T_d3806_row20_col8, #T_d3806_row20_col13 {\n",
       "  background-color: #7295f4;\n",
       "  color: #f1f1f1;\n",
       "}\n",
       "#T_d3806_row1_col6, #T_d3806_row2_col7, #T_d3806_row5_col6 {\n",
       "  background-color: #b3cdfb;\n",
       "  color: #000000;\n",
       "}\n",
       "#T_d3806_row1_col7 {\n",
       "  background-color: #a9c6fd;\n",
       "  color: #000000;\n",
       "}\n",
       "#T_d3806_row1_col10, #T_d3806_row8_col16, #T_d3806_row12_col0, #T_d3806_row16_col5, #T_d3806_row16_col8 {\n",
       "  background-color: #5572df;\n",
       "  color: #f1f1f1;\n",
       "}\n",
       "#T_d3806_row1_col11, #T_d3806_row6_col15, #T_d3806_row18_col0 {\n",
       "  background-color: #5673e0;\n",
       "  color: #f1f1f1;\n",
       "}\n",
       "#T_d3806_row1_col12, #T_d3806_row5_col11, #T_d3806_row10_col8 {\n",
       "  background-color: #5e7de7;\n",
       "  color: #f1f1f1;\n",
       "}\n",
       "#T_d3806_row1_col13, #T_d3806_row2_col0 {\n",
       "  background-color: #8db0fe;\n",
       "  color: #000000;\n",
       "}\n",
       "#T_d3806_row1_col14 {\n",
       "  background-color: #d9dce1;\n",
       "  color: #000000;\n",
       "}\n",
       "#T_d3806_row1_col15, #T_d3806_row4_col14, #T_d3806_row5_col0, #T_d3806_row11_col1, #T_d3806_row12_col3, #T_d3806_row21_col3 {\n",
       "  background-color: #9abbff;\n",
       "  color: #000000;\n",
       "}\n",
       "#T_d3806_row1_col16, #T_d3806_row5_col20, #T_d3806_row11_col8, #T_d3806_row11_col15 {\n",
       "  background-color: #7b9ff9;\n",
       "  color: #f1f1f1;\n",
       "}\n",
       "#T_d3806_row1_col17, #T_d3806_row4_col19, #T_d3806_row7_col19, #T_d3806_row10_col19, #T_d3806_row11_col17, #T_d3806_row11_col19, #T_d3806_row12_col17, #T_d3806_row14_col8, #T_d3806_row19_col17, #T_d3806_row20_col17, #T_d3806_row21_col19 {\n",
       "  background-color: #3e51c5;\n",
       "  color: #f1f1f1;\n",
       "}\n",
       "#T_d3806_row1_col18, #T_d3806_row11_col0, #T_d3806_row17_col18, #T_d3806_row19_col18 {\n",
       "  background-color: #85a8fc;\n",
       "  color: #f1f1f1;\n",
       "}\n",
       "#T_d3806_row1_col19, #T_d3806_row4_col10, #T_d3806_row4_col17, #T_d3806_row8_col5, #T_d3806_row13_col17 {\n",
       "  background-color: #4358cb;\n",
       "  color: #f1f1f1;\n",
       "}\n",
       "#T_d3806_row1_col20, #T_d3806_row2_col3, #T_d3806_row2_col20, #T_d3806_row11_col20, #T_d3806_row14_col18, #T_d3806_row15_col4 {\n",
       "  background-color: #7699f6;\n",
       "  color: #f1f1f1;\n",
       "}\n",
       "#T_d3806_row1_col21, #T_d3806_row5_col2, #T_d3806_row7_col21, #T_d3806_row10_col21, #T_d3806_row11_col16, #T_d3806_row18_col16 {\n",
       "  background-color: #6282ea;\n",
       "  color: #f1f1f1;\n",
       "}\n",
       "#T_d3806_row2_col1 {\n",
       "  background-color: #e4d9d2;\n",
       "  color: #000000;\n",
       "}\n",
       "#T_d3806_row2_col4, #T_d3806_row2_col16, #T_d3806_row10_col16, #T_d3806_row17_col20, #T_d3806_row18_col7, #T_d3806_row19_col4, #T_d3806_row19_col13, #T_d3806_row19_col20 {\n",
       "  background-color: #779af7;\n",
       "  color: #f1f1f1;\n",
       "}\n",
       "#T_d3806_row2_col5, #T_d3806_row8_col2, #T_d3806_row19_col2 {\n",
       "  background-color: #5b7ae5;\n",
       "  color: #f1f1f1;\n",
       "}\n",
       "#T_d3806_row2_col6 {\n",
       "  background-color: #b9d0f9;\n",
       "  color: #000000;\n",
       "}\n",
       "#T_d3806_row2_col8, #T_d3806_row4_col12, #T_d3806_row5_col4, #T_d3806_row5_col16, #T_d3806_row13_col20, #T_d3806_row14_col5, #T_d3806_row17_col8, #T_d3806_row17_col12 {\n",
       "  background-color: #7093f3;\n",
       "  color: #f1f1f1;\n",
       "}\n",
       "#T_d3806_row2_col10, #T_d3806_row7_col2, #T_d3806_row7_col10, #T_d3806_row10_col11, #T_d3806_row21_col11 {\n",
       "  background-color: #516ddb;\n",
       "  color: #f1f1f1;\n",
       "}\n",
       "#T_d3806_row2_col11, #T_d3806_row13_col5, #T_d3806_row20_col11 {\n",
       "  background-color: #4e68d8;\n",
       "  color: #f1f1f1;\n",
       "}\n",
       "#T_d3806_row2_col13, #T_d3806_row7_col1, #T_d3806_row10_col18, #T_d3806_row11_col4, #T_d3806_row18_col8 {\n",
       "  background-color: #7ea1fa;\n",
       "  color: #f1f1f1;\n",
       "}\n",
       "#T_d3806_row2_col15, #T_d3806_row15_col3, #T_d3806_row21_col12 {\n",
       "  background-color: #84a7fc;\n",
       "  color: #f1f1f1;\n",
       "}\n",
       "#T_d3806_row2_col17, #T_d3806_row3_col19, #T_d3806_row5_col17, #T_d3806_row12_col10, #T_d3806_row15_col17 {\n",
       "  background-color: #3c4ec2;\n",
       "  color: #f1f1f1;\n",
       "}\n",
       "#T_d3806_row2_col21, #T_d3806_row13_col12, #T_d3806_row16_col4, #T_d3806_row17_col21, #T_d3806_row19_col15, #T_d3806_row19_col21, #T_d3806_row20_col15, #T_d3806_row20_col16 {\n",
       "  background-color: #6c8ff1;\n",
       "  color: #f1f1f1;\n",
       "}\n",
       "#T_d3806_row3_col0 {\n",
       "  background-color: #445acc;\n",
       "  color: #f1f1f1;\n",
       "}\n",
       "#T_d3806_row3_col4, #T_d3806_row6_col20, #T_d3806_row16_col18, #T_d3806_row18_col21 {\n",
       "  background-color: #7a9df8;\n",
       "  color: #f1f1f1;\n",
       "}\n",
       "#T_d3806_row3_col5, #T_d3806_row6_col5 {\n",
       "  background-color: #4a63d3;\n",
       "  color: #f1f1f1;\n",
       "}\n",
       "#T_d3806_row3_col6 {\n",
       "  background-color: #bfd3f6;\n",
       "  color: #000000;\n",
       "}\n",
       "#T_d3806_row3_col7, #T_d3806_row12_col7, #T_d3806_row14_col1 {\n",
       "  background-color: #c0d4f5;\n",
       "  color: #000000;\n",
       "}\n",
       "#T_d3806_row3_col10, #T_d3806_row12_col5 {\n",
       "  background-color: #465ecf;\n",
       "  color: #f1f1f1;\n",
       "}\n",
       "#T_d3806_row3_col11, #T_d3806_row4_col5, #T_d3806_row20_col18 {\n",
       "  background-color: #4c66d6;\n",
       "  color: #f1f1f1;\n",
       "}\n",
       "#T_d3806_row3_col14, #T_d3806_row5_col15, #T_d3806_row18_col14 {\n",
       "  background-color: #aac7fd;\n",
       "  color: #000000;\n",
       "}\n",
       "#T_d3806_row4_col0, #T_d3806_row13_col21, #T_d3806_row15_col2, #T_d3806_row20_col12 {\n",
       "  background-color: #6e90f2;\n",
       "  color: #f1f1f1;\n",
       "}\n",
       "#T_d3806_row4_col1, #T_d3806_row19_col1 {\n",
       "  background-color: #97b8ff;\n",
       "  color: #000000;\n",
       "}\n",
       "#T_d3806_row4_col2, #T_d3806_row11_col2, #T_d3806_row18_col2, #T_d3806_row20_col5, #T_d3806_row21_col2 {\n",
       "  background-color: #5977e3;\n",
       "  color: #f1f1f1;\n",
       "}\n",
       "#T_d3806_row4_col3, #T_d3806_row17_col3, #T_d3806_row20_col3 {\n",
       "  background-color: #96b7ff;\n",
       "  color: #000000;\n",
       "}\n",
       "#T_d3806_row4_col6 {\n",
       "  background-color: #f1cdba;\n",
       "  color: #000000;\n",
       "}\n",
       "#T_d3806_row4_col7, #T_d3806_row6_col12, #T_d3806_row13_col7 {\n",
       "  background-color: #88abfd;\n",
       "  color: #000000;\n",
       "}\n",
       "#T_d3806_row4_col8 {\n",
       "  background-color: #a5c3fe;\n",
       "  color: #000000;\n",
       "}\n",
       "#T_d3806_row4_col11, #T_d3806_row13_col11, #T_d3806_row14_col11, #T_d3806_row18_col11, #T_d3806_row19_col5 {\n",
       "  background-color: #5470de;\n",
       "  color: #f1f1f1;\n",
       "}\n",
       "#T_d3806_row4_col13, #T_d3806_row13_col4 {\n",
       "  background-color: #d65244;\n",
       "  color: #f1f1f1;\n",
       "}\n",
       "#T_d3806_row4_col16, #T_d3806_row5_col21, #T_d3806_row17_col0, #T_d3806_row18_col12 {\n",
       "  background-color: #6485ec;\n",
       "  color: #f1f1f1;\n",
       "}\n",
       "#T_d3806_row4_col18 {\n",
       "  background-color: #9fbfff;\n",
       "  color: #000000;\n",
       "}\n",
       "#T_d3806_row5_col1 {\n",
       "  background-color: #adc9fd;\n",
       "  color: #000000;\n",
       "}\n",
       "#T_d3806_row5_col3, #T_d3806_row6_col1 {\n",
       "  background-color: #8badfd;\n",
       "  color: #000000;\n",
       "}\n",
       "#T_d3806_row5_col7, #T_d3806_row17_col7, #T_d3806_row19_col7, #T_d3806_row20_col14 {\n",
       "  background-color: #bad0f8;\n",
       "  color: #000000;\n",
       "}\n",
       "#T_d3806_row5_col10, #T_d3806_row18_col15 {\n",
       "  background-color: #6b8df0;\n",
       "  color: #f1f1f1;\n",
       "}\n",
       "#T_d3806_row5_col12, #T_d3806_row10_col0, #T_d3806_row11_col5, #T_d3806_row20_col10 {\n",
       "  background-color: #6384eb;\n",
       "  color: #f1f1f1;\n",
       "}\n",
       "#T_d3806_row5_col14, #T_d3806_row11_col6, #T_d3806_row21_col6 {\n",
       "  background-color: #cbd8ee;\n",
       "  color: #000000;\n",
       "}\n",
       "#T_d3806_row6_col2, #T_d3806_row12_col16, #T_d3806_row16_col12, #T_d3806_row17_col2 {\n",
       "  background-color: #5875e1;\n",
       "  color: #f1f1f1;\n",
       "}\n",
       "#T_d3806_row6_col4 {\n",
       "  background-color: #d3dbe7;\n",
       "  color: #000000;\n",
       "}\n",
       "#T_d3806_row6_col8 {\n",
       "  background-color: #cedaeb;\n",
       "  color: #000000;\n",
       "}\n",
       "#T_d3806_row6_col11, #T_d3806_row7_col15, #T_d3806_row11_col12 {\n",
       "  background-color: #6a8bef;\n",
       "  color: #f1f1f1;\n",
       "}\n",
       "#T_d3806_row6_col13 {\n",
       "  background-color: #c7d7f0;\n",
       "  color: #000000;\n",
       "}\n",
       "#T_d3806_row6_col18, #T_d3806_row15_col7, #T_d3806_row20_col7 {\n",
       "  background-color: #b6cefa;\n",
       "  color: #000000;\n",
       "}\n",
       "#T_d3806_row7_col3, #T_d3806_row10_col1 {\n",
       "  background-color: #9bbcff;\n",
       "  color: #000000;\n",
       "}\n",
       "#T_d3806_row7_col5, #T_d3806_row12_col2, #T_d3806_row14_col4, #T_d3806_row16_col0, #T_d3806_row16_col10, #T_d3806_row17_col5 {\n",
       "  background-color: #536edd;\n",
       "  color: #f1f1f1;\n",
       "}\n",
       "#T_d3806_row7_col14 {\n",
       "  background-color: #ecd3c5;\n",
       "  color: #000000;\n",
       "}\n",
       "#T_d3806_row8_col3, #T_d3806_row15_col0, #T_d3806_row15_col5, #T_d3806_row20_col1 {\n",
       "  background-color: #93b5fe;\n",
       "  color: #000000;\n",
       "}\n",
       "#T_d3806_row8_col4, #T_d3806_row11_col7 {\n",
       "  background-color: #abc8fd;\n",
       "  color: #000000;\n",
       "}\n",
       "#T_d3806_row8_col6 {\n",
       "  background-color: #f0cdbb;\n",
       "  color: #000000;\n",
       "}\n",
       "#T_d3806_row8_col7, #T_d3806_row10_col3, #T_d3806_row13_col3, #T_d3806_row16_col6 {\n",
       "  background-color: #8fb1fe;\n",
       "  color: #000000;\n",
       "}\n",
       "#T_d3806_row8_col11, #T_d3806_row15_col11, #T_d3806_row20_col2 {\n",
       "  background-color: #5a78e4;\n",
       "  color: #f1f1f1;\n",
       "}\n",
       "#T_d3806_row8_col13, #T_d3806_row14_col16 {\n",
       "  background-color: #a7c5fe;\n",
       "  color: #000000;\n",
       "}\n",
       "#T_d3806_row8_col14 {\n",
       "  background-color: #90b2fe;\n",
       "  color: #000000;\n",
       "}\n",
       "#T_d3806_row8_col15, #T_d3806_row10_col12, #T_d3806_row13_col2, #T_d3806_row16_col2, #T_d3806_row21_col0 {\n",
       "  background-color: #6180e9;\n",
       "  color: #f1f1f1;\n",
       "}\n",
       "#T_d3806_row8_col18, #T_d3806_row15_col16, #T_d3806_row16_col15, #T_d3806_row17_col1, #T_d3806_row18_col3, #T_d3806_row21_col18 {\n",
       "  background-color: #94b6ff;\n",
       "  color: #000000;\n",
       "}\n",
       "#T_d3806_row8_col19, #T_d3806_row16_col11, #T_d3806_row21_col10, #T_d3806_row21_col15 {\n",
       "  background-color: #4055c8;\n",
       "  color: #f1f1f1;\n",
       "}\n",
       "#T_d3806_row10_col5, #T_d3806_row10_col13, #T_d3806_row12_col13, #T_d3806_row12_col20, #T_d3806_row15_col20, #T_d3806_row16_col20, #T_d3806_row19_col12 {\n",
       "  background-color: #7396f5;\n",
       "  color: #f1f1f1;\n",
       "}\n",
       "#T_d3806_row10_col6, #T_d3806_row14_col15 {\n",
       "  background-color: #b1cbfc;\n",
       "  color: #000000;\n",
       "}\n",
       "#T_d3806_row10_col7 {\n",
       "  background-color: #bed2f6;\n",
       "  color: #000000;\n",
       "}\n",
       "#T_d3806_row10_col17, #T_d3806_row12_col19, #T_d3806_row18_col10 {\n",
       "  background-color: #4257c9;\n",
       "  color: #f1f1f1;\n",
       "}\n",
       "#T_d3806_row10_col20, #T_d3806_row11_col18, #T_d3806_row16_col3 {\n",
       "  background-color: #8caffe;\n",
       "  color: #000000;\n",
       "}\n",
       "#T_d3806_row11_col3, #T_d3806_row18_col1, #T_d3806_row18_col4, #T_d3806_row18_col13, #T_d3806_row19_col3 {\n",
       "  background-color: #92b4fe;\n",
       "  color: #000000;\n",
       "}\n",
       "#T_d3806_row11_col10, #T_d3806_row17_col11, #T_d3806_row19_col11 {\n",
       "  background-color: #4f69d9;\n",
       "  color: #f1f1f1;\n",
       "}\n",
       "#T_d3806_row11_col14, #T_d3806_row17_col6, #T_d3806_row19_col6 {\n",
       "  background-color: #bbd1f8;\n",
       "  color: #000000;\n",
       "}\n",
       "#T_d3806_row12_col11, #T_d3806_row13_col10 {\n",
       "  background-color: #485fd1;\n",
       "  color: #f1f1f1;\n",
       "}\n",
       "#T_d3806_row13_col1, #T_d3806_row15_col6 {\n",
       "  background-color: #a6c4fe;\n",
       "  color: #000000;\n",
       "}\n",
       "#T_d3806_row13_col6 {\n",
       "  background-color: #ebd3c6;\n",
       "  color: #000000;\n",
       "}\n",
       "#T_d3806_row13_col8 {\n",
       "  background-color: #a2c1ff;\n",
       "  color: #000000;\n",
       "}\n",
       "#T_d3806_row13_col14 {\n",
       "  background-color: #a3c2fe;\n",
       "  color: #000000;\n",
       "}\n",
       "#T_d3806_row13_col18 {\n",
       "  background-color: #a1c0ff;\n",
       "  color: #000000;\n",
       "}\n",
       "#T_d3806_row14_col7 {\n",
       "  background-color: #edd2c3;\n",
       "  color: #000000;\n",
       "}\n",
       "#T_d3806_row14_col10, #T_d3806_row19_col0 {\n",
       "  background-color: #6687ed;\n",
       "  color: #f1f1f1;\n",
       "}\n",
       "#T_d3806_row14_col21 {\n",
       "  background-color: #455cce;\n",
       "  color: #f1f1f1;\n",
       "}\n",
       "#T_d3806_row15_col1, #T_d3806_row17_col14 {\n",
       "  background-color: #b7cff9;\n",
       "  color: #000000;\n",
       "}\n",
       "#T_d3806_row15_col14 {\n",
       "  background-color: #e0dbd8;\n",
       "  color: #000000;\n",
       "}\n",
       "#T_d3806_row16_col1 {\n",
       "  background-color: #9ebeff;\n",
       "  color: #000000;\n",
       "}\n",
       "#T_d3806_row16_col7 {\n",
       "  background-color: #d4dbe6;\n",
       "  color: #000000;\n",
       "}\n",
       "#T_d3806_row16_col14 {\n",
       "  background-color: #dbdcde;\n",
       "  color: #000000;\n",
       "}\n",
       "#T_d3806_row17_col10 {\n",
       "  background-color: #506bda;\n",
       "  color: #f1f1f1;\n",
       "}\n",
       "#T_d3806_row18_col6 {\n",
       "  background-color: #dadce0;\n",
       "  color: #000000;\n",
       "}\n",
       "#T_d3806_row19_col10, #T_d3806_row21_col5 {\n",
       "  background-color: #4b64d5;\n",
       "  color: #f1f1f1;\n",
       "}\n",
       "#T_d3806_row20_col6 {\n",
       "  background-color: #bcd2f7;\n",
       "  color: #000000;\n",
       "}\n",
       "#T_d3806_row21_col7 {\n",
       "  background-color: #b2ccfb;\n",
       "  color: #000000;\n",
       "}\n",
       "</style>\n",
       "<table id=\"T_d3806\">\n",
       "  <thead>\n",
       "    <tr>\n",
       "      <th class=\"blank level0\" >&nbsp;</th>\n",
       "      <th id=\"T_d3806_level0_col0\" class=\"col_heading level0 col0\" >total_income</th>\n",
       "      <th id=\"T_d3806_level0_col1\" class=\"col_heading level0 col1\" >loan_amount</th>\n",
       "      <th id=\"T_d3806_level0_col2\" class=\"col_heading level0 col2\" >term</th>\n",
       "      <th id=\"T_d3806_level0_col3\" class=\"col_heading level0 col3\" >interest_rate</th>\n",
       "      <th id=\"T_d3806_level0_col4\" class=\"col_heading level0 col4\" >nr_children</th>\n",
       "      <th id=\"T_d3806_level0_col5\" class=\"col_heading level0 col5\" >region_population_ratio</th>\n",
       "      <th id=\"T_d3806_level0_col6\" class=\"col_heading level0 col6\" >days_birth</th>\n",
       "      <th id=\"T_d3806_level0_col7\" class=\"col_heading level0 col7\" >days_employed</th>\n",
       "      <th id=\"T_d3806_level0_col8\" class=\"col_heading level0 col8\" >days_registration</th>\n",
       "      <th id=\"T_d3806_level0_col9\" class=\"col_heading level0 col9\" >mobile_number</th>\n",
       "      <th id=\"T_d3806_level0_col10\" class=\"col_heading level0 col10\" >phone_number</th>\n",
       "      <th id=\"T_d3806_level0_col11\" class=\"col_heading level0 col11\" >email</th>\n",
       "      <th id=\"T_d3806_level0_col12\" class=\"col_heading level0 col12\" >days_phone_change</th>\n",
       "      <th id=\"T_d3806_level0_col13\" class=\"col_heading level0 col13\" >family_count</th>\n",
       "      <th id=\"T_d3806_level0_col14\" class=\"col_heading level0 col14\" >EXT1</th>\n",
       "      <th id=\"T_d3806_level0_col15\" class=\"col_heading level0 col15\" >EXT2</th>\n",
       "      <th id=\"T_d3806_level0_col16\" class=\"col_heading level0 col16\" >EXT3</th>\n",
       "      <th id=\"T_d3806_level0_col17\" class=\"col_heading level0 col17\" >EXT4</th>\n",
       "      <th id=\"T_d3806_level0_col18\" class=\"col_heading level0 col18\" >EXT5</th>\n",
       "      <th id=\"T_d3806_level0_col19\" class=\"col_heading level0 col19\" >EXT6</th>\n",
       "      <th id=\"T_d3806_level0_col20\" class=\"col_heading level0 col20\" >EXT7</th>\n",
       "      <th id=\"T_d3806_level0_col21\" class=\"col_heading level0 col21\" >Default</th>\n",
       "    </tr>\n",
       "  </thead>\n",
       "  <tbody>\n",
       "    <tr>\n",
       "      <th id=\"T_d3806_level0_row0\" class=\"row_heading level0 row0\" >total_income</th>\n",
       "      <td id=\"T_d3806_row0_col0\" class=\"data row0 col0\" >1.000000</td>\n",
       "      <td id=\"T_d3806_row0_col1\" class=\"data row0 col1\" >0.365651</td>\n",
       "      <td id=\"T_d3806_row0_col2\" class=\"data row0 col2\" >0.127720</td>\n",
       "      <td id=\"T_d3806_row0_col3\" class=\"data row0 col3\" >-0.124613</td>\n",
       "      <td id=\"T_d3806_row0_col4\" class=\"data row0 col4\" >0.025876</td>\n",
       "      <td id=\"T_d3806_row0_col5\" class=\"data row0 col5\" >0.169554</td>\n",
       "      <td id=\"T_d3806_row0_col6\" class=\"data row0 col6\" >0.075683</td>\n",
       "      <td id=\"T_d3806_row0_col7\" class=\"data row0 col7\" >-0.163323</td>\n",
       "      <td id=\"T_d3806_row0_col8\" class=\"data row0 col8\" >0.073890</td>\n",
       "      <td id=\"T_d3806_row0_col9\" class=\"data row0 col9\" >nan</td>\n",
       "      <td id=\"T_d3806_row0_col10\" class=\"data row0 col10\" >-0.011521</td>\n",
       "      <td id=\"T_d3806_row0_col11\" class=\"data row0 col11\" >0.102804</td>\n",
       "      <td id=\"T_d3806_row0_col12\" class=\"data row0 col12\" >-0.061815</td>\n",
       "      <td id=\"T_d3806_row0_col13\" class=\"data row0 col13\" >0.031064</td>\n",
       "      <td id=\"T_d3806_row0_col14\" class=\"data row0 col14\" >0.083766</td>\n",
       "      <td id=\"T_d3806_row0_col15\" class=\"data row0 col15\" >0.146862</td>\n",
       "      <td id=\"T_d3806_row0_col16\" class=\"data row0 col16\" >-0.070479</td>\n",
       "      <td id=\"T_d3806_row0_col17\" class=\"data row0 col17\" >-0.005805</td>\n",
       "      <td id=\"T_d3806_row0_col18\" class=\"data row0 col18\" >-0.055841</td>\n",
       "      <td id=\"T_d3806_row0_col19\" class=\"data row0 col19\" >-0.000840</td>\n",
       "      <td id=\"T_d3806_row0_col20\" class=\"data row0 col20\" >0.006212</td>\n",
       "      <td id=\"T_d3806_row0_col21\" class=\"data row0 col21\" >-0.019170</td>\n",
       "    </tr>\n",
       "    <tr>\n",
       "      <th id=\"T_d3806_level0_row1\" class=\"row_heading level0 row1\" >loan_amount</th>\n",
       "      <td id=\"T_d3806_row1_col0\" class=\"data row1 col0\" >0.365651</td>\n",
       "      <td id=\"T_d3806_row1_col1\" class=\"data row1 col1\" >1.000000</td>\n",
       "      <td id=\"T_d3806_row1_col2\" class=\"data row1 col2\" >0.352010</td>\n",
       "      <td id=\"T_d3806_row1_col3\" class=\"data row1 col3\" >-0.371299</td>\n",
       "      <td id=\"T_d3806_row1_col4\" class=\"data row1 col4\" >0.012520</td>\n",
       "      <td id=\"T_d3806_row1_col5\" class=\"data row1 col5\" >0.094757</td>\n",
       "      <td id=\"T_d3806_row1_col6\" class=\"data row1 col6\" >-0.034525</td>\n",
       "      <td id=\"T_d3806_row1_col7\" class=\"data row1 col7\" >-0.083337</td>\n",
       "      <td id=\"T_d3806_row1_col8\" class=\"data row1 col8\" >0.014587</td>\n",
       "      <td id=\"T_d3806_row1_col9\" class=\"data row1 col9\" >nan</td>\n",
       "      <td id=\"T_d3806_row1_col10\" class=\"data row1 col10\" >0.025994</td>\n",
       "      <td id=\"T_d3806_row1_col11\" class=\"data row1 col11\" >0.022526</td>\n",
       "      <td id=\"T_d3806_row1_col12\" class=\"data row1 col12\" >-0.066930</td>\n",
       "      <td id=\"T_d3806_row1_col13\" class=\"data row1 col13\" >0.072944</td>\n",
       "      <td id=\"T_d3806_row1_col14\" class=\"data row1 col14\" >0.179479</td>\n",
       "      <td id=\"T_d3806_row1_col15\" class=\"data row1 col15\" >0.141002</td>\n",
       "      <td id=\"T_d3806_row1_col16\" class=\"data row1 col16\" >0.036500</td>\n",
       "      <td id=\"T_d3806_row1_col17\" class=\"data row1 col17\" >-0.000328</td>\n",
       "      <td id=\"T_d3806_row1_col18\" class=\"data row1 col18\" >-0.009795</td>\n",
       "      <td id=\"T_d3806_row1_col19\" class=\"data row1 col19\" >0.012635</td>\n",
       "      <td id=\"T_d3806_row1_col20\" class=\"data row1 col20\" >-0.005246</td>\n",
       "      <td id=\"T_d3806_row1_col21\" class=\"data row1 col21\" >-0.043963</td>\n",
       "    </tr>\n",
       "    <tr>\n",
       "      <th id=\"T_d3806_level0_row2\" class=\"row_heading level0 row2\" >term</th>\n",
       "      <td id=\"T_d3806_row2_col0\" class=\"data row2 col0\" >0.127720</td>\n",
       "      <td id=\"T_d3806_row2_col1\" class=\"data row2 col1\" >0.352010</td>\n",
       "      <td id=\"T_d3806_row2_col2\" class=\"data row2 col2\" >1.000000</td>\n",
       "      <td id=\"T_d3806_row2_col3\" class=\"data row2 col3\" >-0.117133</td>\n",
       "      <td id=\"T_d3806_row2_col4\" class=\"data row2 col4\" >-0.005173</td>\n",
       "      <td id=\"T_d3806_row2_col5\" class=\"data row2 col5\" >0.025211</td>\n",
       "      <td id=\"T_d3806_row2_col6\" class=\"data row2 col6\" >-0.009217</td>\n",
       "      <td id=\"T_d3806_row2_col7\" class=\"data row2 col7\" >-0.033600</td>\n",
       "      <td id=\"T_d3806_row2_col8\" class=\"data row2 col8\" >0.000978</td>\n",
       "      <td id=\"T_d3806_row2_col9\" class=\"data row2 col9\" >nan</td>\n",
       "      <td id=\"T_d3806_row2_col10\" class=\"data row2 col10\" >0.017566</td>\n",
       "      <td id=\"T_d3806_row2_col11\" class=\"data row2 col11\" >-0.004496</td>\n",
       "      <td id=\"T_d3806_row2_col12\" class=\"data row2 col12\" >-0.029606</td>\n",
       "      <td id=\"T_d3806_row2_col13\" class=\"data row2 col13\" >0.021964</td>\n",
       "      <td id=\"T_d3806_row2_col14\" class=\"data row2 col14\" >0.067528</td>\n",
       "      <td id=\"T_d3806_row2_col15\" class=\"data row2 col15\" >0.062641</td>\n",
       "      <td id=\"T_d3806_row2_col16\" class=\"data row2 col16\" >0.019759</td>\n",
       "      <td id=\"T_d3806_row2_col17\" class=\"data row2 col17\" >-0.009168</td>\n",
       "      <td id=\"T_d3806_row2_col18\" class=\"data row2 col18\" >-0.004935</td>\n",
       "      <td id=\"T_d3806_row2_col19\" class=\"data row2 col19\" >0.002085</td>\n",
       "      <td id=\"T_d3806_row2_col20\" class=\"data row2 col20\" >-0.001747</td>\n",
       "      <td id=\"T_d3806_row2_col21\" class=\"data row2 col21\" >-0.004101</td>\n",
       "    </tr>\n",
       "    <tr>\n",
       "      <th id=\"T_d3806_level0_row3\" class=\"row_heading level0 row3\" >interest_rate</th>\n",
       "      <td id=\"T_d3806_row3_col0\" class=\"data row3 col0\" >-0.124613</td>\n",
       "      <td id=\"T_d3806_row3_col1\" class=\"data row3 col1\" >-0.371299</td>\n",
       "      <td id=\"T_d3806_row3_col2\" class=\"data row3 col2\" >-0.117133</td>\n",
       "      <td id=\"T_d3806_row3_col3\" class=\"data row3 col3\" >1.000000</td>\n",
       "      <td id=\"T_d3806_row3_col4\" class=\"data row3 col4\" >0.005989</td>\n",
       "      <td id=\"T_d3806_row3_col5\" class=\"data row3 col5\" >-0.035497</td>\n",
       "      <td id=\"T_d3806_row3_col6\" class=\"data row3 col6\" >0.019178</td>\n",
       "      <td id=\"T_d3806_row3_col7\" class=\"data row3 col7\" >0.030347</td>\n",
       "      <td id=\"T_d3806_row3_col8\" class=\"data row3 col8\" >-0.003972</td>\n",
       "      <td id=\"T_d3806_row3_col9\" class=\"data row3 col9\" >nan</td>\n",
       "      <td id=\"T_d3806_row3_col10\" class=\"data row3 col10\" >-0.020450</td>\n",
       "      <td id=\"T_d3806_row3_col11\" class=\"data row3 col11\" >-0.007933</td>\n",
       "      <td id=\"T_d3806_row3_col12\" class=\"data row3 col12\" >0.024343</td>\n",
       "      <td id=\"T_d3806_row3_col13\" class=\"data row3 col13\" >-0.019449</td>\n",
       "      <td id=\"T_d3806_row3_col14\" class=\"data row3 col14\" >-0.069375</td>\n",
       "      <td id=\"T_d3806_row3_col15\" class=\"data row3 col15\" >-0.061325</td>\n",
       "      <td id=\"T_d3806_row3_col16\" class=\"data row3 col16\" >-0.032065</td>\n",
       "      <td id=\"T_d3806_row3_col17\" class=\"data row3 col17\" >0.004589</td>\n",
       "      <td id=\"T_d3806_row3_col18\" class=\"data row3 col18\" >0.002254</td>\n",
       "      <td id=\"T_d3806_row3_col19\" class=\"data row3 col19\" >-0.012220</td>\n",
       "      <td id=\"T_d3806_row3_col20\" class=\"data row3 col20\" >0.005166</td>\n",
       "      <td id=\"T_d3806_row3_col21\" class=\"data row3 col21\" >0.021891</td>\n",
       "    </tr>\n",
       "    <tr>\n",
       "      <th id=\"T_d3806_level0_row4\" class=\"row_heading level0 row4\" >nr_children</th>\n",
       "      <td id=\"T_d3806_row4_col0\" class=\"data row4 col0\" >0.025876</td>\n",
       "      <td id=\"T_d3806_row4_col1\" class=\"data row4 col1\" >0.012520</td>\n",
       "      <td id=\"T_d3806_row4_col2\" class=\"data row4 col2\" >-0.005173</td>\n",
       "      <td id=\"T_d3806_row4_col3\" class=\"data row4 col3\" >0.005989</td>\n",
       "      <td id=\"T_d3806_row4_col4\" class=\"data row4 col4\" >1.000000</td>\n",
       "      <td id=\"T_d3806_row4_col5\" class=\"data row4 col5\" >-0.028615</td>\n",
       "      <td id=\"T_d3806_row4_col6\" class=\"data row4 col6\" >0.335703</td>\n",
       "      <td id=\"T_d3806_row4_col7\" class=\"data row4 col7\" >-0.239646</td>\n",
       "      <td id=\"T_d3806_row4_col8\" class=\"data row4 col8\" >0.177472</td>\n",
       "      <td id=\"T_d3806_row4_col9\" class=\"data row4 col9\" >nan</td>\n",
       "      <td id=\"T_d3806_row4_col10\" class=\"data row4 col10\" >-0.034905</td>\n",
       "      <td id=\"T_d3806_row4_col11\" class=\"data row4 col11\" >0.017126</td>\n",
       "      <td id=\"T_d3806_row4_col12\" class=\"data row4 col12\" >-0.002016</td>\n",
       "      <td id=\"T_d3806_row4_col13\" class=\"data row4 col13\" >0.878577</td>\n",
       "      <td id=\"T_d3806_row4_col14\" class=\"data row4 col14\" >-0.141682</td>\n",
       "      <td id=\"T_d3806_row4_col15\" class=\"data row4 col15\" >-0.007638</td>\n",
       "      <td id=\"T_d3806_row4_col16\" class=\"data row4 col16\" >-0.044673</td>\n",
       "      <td id=\"T_d3806_row4_col17\" class=\"data row4 col17\" >0.016300</td>\n",
       "      <td id=\"T_d3806_row4_col18\" class=\"data row4 col18\" >0.086830</td>\n",
       "      <td id=\"T_d3806_row4_col19\" class=\"data row4 col19\" >-0.004168</td>\n",
       "      <td id=\"T_d3806_row4_col20\" class=\"data row4 col20\" >-0.026119</td>\n",
       "      <td id=\"T_d3806_row4_col21\" class=\"data row4 col21\" >0.013556</td>\n",
       "    </tr>\n",
       "    <tr>\n",
       "      <th id=\"T_d3806_level0_row5\" class=\"row_heading level0 row5\" >region_population_ratio</th>\n",
       "      <td id=\"T_d3806_row5_col0\" class=\"data row5 col0\" >0.169554</td>\n",
       "      <td id=\"T_d3806_row5_col1\" class=\"data row5 col1\" >0.094757</td>\n",
       "      <td id=\"T_d3806_row5_col2\" class=\"data row5 col2\" >0.025211</td>\n",
       "      <td id=\"T_d3806_row5_col3\" class=\"data row5 col3\" >-0.035497</td>\n",
       "      <td id=\"T_d3806_row5_col4\" class=\"data row5 col4\" >-0.028615</td>\n",
       "      <td id=\"T_d3806_row5_col5\" class=\"data row5 col5\" >1.000000</td>\n",
       "      <td id=\"T_d3806_row5_col6\" class=\"data row5 col6\" >-0.036161</td>\n",
       "      <td id=\"T_d3806_row5_col7\" class=\"data row5 col7\" >-0.006457</td>\n",
       "      <td id=\"T_d3806_row5_col8\" class=\"data row5 col8\" >-0.062622</td>\n",
       "      <td id=\"T_d3806_row5_col9\" class=\"data row5 col9\" >nan</td>\n",
       "      <td id=\"T_d3806_row5_col10\" class=\"data row5 col10\" >0.099539</td>\n",
       "      <td id=\"T_d3806_row5_col11\" class=\"data row5 col11\" >0.051244</td>\n",
       "      <td id=\"T_d3806_row5_col12\" class=\"data row5 col12\" >-0.049704</td>\n",
       "      <td id=\"T_d3806_row5_col13\" class=\"data row5 col13\" >-0.022336</td>\n",
       "      <td id=\"T_d3806_row5_col14\" class=\"data row5 col14\" >0.092323</td>\n",
       "      <td id=\"T_d3806_row5_col15\" class=\"data row5 col15\" >0.197703</td>\n",
       "      <td id=\"T_d3806_row5_col16\" class=\"data row5 col16\" >0.000508</td>\n",
       "      <td id=\"T_d3806_row5_col17\" class=\"data row5 col17\" >-0.006022</td>\n",
       "      <td id=\"T_d3806_row5_col18\" class=\"data row5 col18\" >-0.093566</td>\n",
       "      <td id=\"T_d3806_row5_col19\" class=\"data row5 col19\" >-0.001183</td>\n",
       "      <td id=\"T_d3806_row5_col20\" class=\"data row5 col20\" >0.016553</td>\n",
       "      <td id=\"T_d3806_row5_col21\" class=\"data row5 col21\" >-0.031123</td>\n",
       "    </tr>\n",
       "    <tr>\n",
       "      <th id=\"T_d3806_level0_row6\" class=\"row_heading level0 row6\" >days_birth</th>\n",
       "      <td id=\"T_d3806_row6_col0\" class=\"data row6 col0\" >0.075683</td>\n",
       "      <td id=\"T_d3806_row6_col1\" class=\"data row6 col1\" >-0.034525</td>\n",
       "      <td id=\"T_d3806_row6_col2\" class=\"data row6 col2\" >-0.009217</td>\n",
       "      <td id=\"T_d3806_row6_col3\" class=\"data row6 col3\" >0.019178</td>\n",
       "      <td id=\"T_d3806_row6_col4\" class=\"data row6 col4\" >0.335703</td>\n",
       "      <td id=\"T_d3806_row6_col5\" class=\"data row6 col5\" >-0.036161</td>\n",
       "      <td id=\"T_d3806_row6_col6\" class=\"data row6 col6\" >1.000000</td>\n",
       "      <td id=\"T_d3806_row6_col7\" class=\"data row6 col7\" >-0.621405</td>\n",
       "      <td id=\"T_d3806_row6_col8\" class=\"data row6 col8\" >0.332671</td>\n",
       "      <td id=\"T_d3806_row6_col9\" class=\"data row6 col9\" >nan</td>\n",
       "      <td id=\"T_d3806_row6_col10\" class=\"data row6 col10\" >-0.047905</td>\n",
       "      <td id=\"T_d3806_row6_col11\" class=\"data row6 col11\" >0.087654</td>\n",
       "      <td id=\"T_d3806_row6_col12\" class=\"data row6 col12\" >0.080114</td>\n",
       "      <td id=\"T_d3806_row6_col13\" class=\"data row6 col13\" >0.288088</td>\n",
       "      <td id=\"T_d3806_row6_col14\" class=\"data row6 col14\" >-0.603327</td>\n",
       "      <td id=\"T_d3806_row6_col15\" class=\"data row6 col15\" >-0.096483</td>\n",
       "      <td id=\"T_d3806_row6_col16\" class=\"data row6 col16\" >-0.206576</td>\n",
       "      <td id=\"T_d3806_row6_col17\" class=\"data row6 col17\" >0.002383</td>\n",
       "      <td id=\"T_d3806_row6_col18\" class=\"data row6 col18\" >0.173316</td>\n",
       "      <td id=\"T_d3806_row6_col19\" class=\"data row6 col19\" >0.000743</td>\n",
       "      <td id=\"T_d3806_row6_col20\" class=\"data row6 col20\" >0.010899</td>\n",
       "      <td id=\"T_d3806_row6_col21\" class=\"data row6 col21\" >0.081906</td>\n",
       "    </tr>\n",
       "    <tr>\n",
       "      <th id=\"T_d3806_level0_row7\" class=\"row_heading level0 row7\" >days_employed</th>\n",
       "      <td id=\"T_d3806_row7_col0\" class=\"data row7 col0\" >-0.163323</td>\n",
       "      <td id=\"T_d3806_row7_col1\" class=\"data row7 col1\" >-0.083337</td>\n",
       "      <td id=\"T_d3806_row7_col2\" class=\"data row7 col2\" >-0.033600</td>\n",
       "      <td id=\"T_d3806_row7_col3\" class=\"data row7 col3\" >0.030347</td>\n",
       "      <td id=\"T_d3806_row7_col4\" class=\"data row7 col4\" >-0.239646</td>\n",
       "      <td id=\"T_d3806_row7_col5\" class=\"data row7 col5\" >-0.006457</td>\n",
       "      <td id=\"T_d3806_row7_col6\" class=\"data row7 col6\" >-0.621405</td>\n",
       "      <td id=\"T_d3806_row7_col7\" class=\"data row7 col7\" >1.000000</td>\n",
       "      <td id=\"T_d3806_row7_col8\" class=\"data row7 col8\" >-0.205652</td>\n",
       "      <td id=\"T_d3806_row7_col9\" class=\"data row7 col9\" >nan</td>\n",
       "      <td id=\"T_d3806_row7_col10\" class=\"data row7 col10\" >0.016741</td>\n",
       "      <td id=\"T_d3806_row7_col11\" class=\"data row7 col11\" >-0.074483</td>\n",
       "      <td id=\"T_d3806_row7_col12\" class=\"data row7 col12\" >0.026004</td>\n",
       "      <td id=\"T_d3806_row7_col13\" class=\"data row7 col13\" >-0.236585</td>\n",
       "      <td id=\"T_d3806_row7_col14\" class=\"data row7 col14\" >0.300670</td>\n",
       "      <td id=\"T_d3806_row7_col15\" class=\"data row7 col15\" >-0.023098</td>\n",
       "      <td id=\"T_d3806_row7_col16\" class=\"data row7 col16\" >0.137261</td>\n",
       "      <td id=\"T_d3806_row7_col17\" class=\"data row7 col17\" >-0.003458</td>\n",
       "      <td id=\"T_d3806_row7_col18\" class=\"data row7 col18\" >-0.311147</td>\n",
       "      <td id=\"T_d3806_row7_col19\" class=\"data row7 col19\" >-0.003661</td>\n",
       "      <td id=\"T_d3806_row7_col20\" class=\"data row7 col20\" >-0.019940</td>\n",
       "      <td id=\"T_d3806_row7_col21\" class=\"data row7 col21\" >-0.042557</td>\n",
       "    </tr>\n",
       "    <tr>\n",
       "      <th id=\"T_d3806_level0_row8\" class=\"row_heading level0 row8\" >days_registration</th>\n",
       "      <td id=\"T_d3806_row8_col0\" class=\"data row8 col0\" >0.073890</td>\n",
       "      <td id=\"T_d3806_row8_col1\" class=\"data row8 col1\" >0.014587</td>\n",
       "      <td id=\"T_d3806_row8_col2\" class=\"data row8 col2\" >0.000978</td>\n",
       "      <td id=\"T_d3806_row8_col3\" class=\"data row8 col3\" >-0.003972</td>\n",
       "      <td id=\"T_d3806_row8_col4\" class=\"data row8 col4\" >0.177472</td>\n",
       "      <td id=\"T_d3806_row8_col5\" class=\"data row8 col5\" >-0.062622</td>\n",
       "      <td id=\"T_d3806_row8_col6\" class=\"data row8 col6\" >0.332671</td>\n",
       "      <td id=\"T_d3806_row8_col7\" class=\"data row8 col7\" >-0.205652</td>\n",
       "      <td id=\"T_d3806_row8_col8\" class=\"data row8 col8\" >1.000000</td>\n",
       "      <td id=\"T_d3806_row8_col9\" class=\"data row8 col9\" >nan</td>\n",
       "      <td id=\"T_d3806_row8_col10\" class=\"data row8 col10\" >-0.065598</td>\n",
       "      <td id=\"T_d3806_row8_col11\" class=\"data row8 col11\" >0.035768</td>\n",
       "      <td id=\"T_d3806_row8_col12\" class=\"data row8 col12\" >0.056174</td>\n",
       "      <td id=\"T_d3806_row8_col13\" class=\"data row8 col13\" >0.167212</td>\n",
       "      <td id=\"T_d3806_row8_col14\" class=\"data row8 col14\" >-0.189253</td>\n",
       "      <td id=\"T_d3806_row8_col15\" class=\"data row8 col15\" >-0.059936</td>\n",
       "      <td id=\"T_d3806_row8_col16\" class=\"data row8 col16\" >-0.101875</td>\n",
       "      <td id=\"T_d3806_row8_col17\" class=\"data row8 col17\" >-0.002484</td>\n",
       "      <td id=\"T_d3806_row8_col18\" class=\"data row8 col18\" >0.046558</td>\n",
       "      <td id=\"T_d3806_row8_col19\" class=\"data row8 col19\" >0.003927</td>\n",
       "      <td id=\"T_d3806_row8_col20\" class=\"data row8 col20\" >0.003678</td>\n",
       "      <td id=\"T_d3806_row8_col21\" class=\"data row8 col21\" >0.052308</td>\n",
       "    </tr>\n",
       "    <tr>\n",
       "      <th id=\"T_d3806_level0_row9\" class=\"row_heading level0 row9\" >mobile_number</th>\n",
       "      <td id=\"T_d3806_row9_col0\" class=\"data row9 col0\" >nan</td>\n",
       "      <td id=\"T_d3806_row9_col1\" class=\"data row9 col1\" >nan</td>\n",
       "      <td id=\"T_d3806_row9_col2\" class=\"data row9 col2\" >nan</td>\n",
       "      <td id=\"T_d3806_row9_col3\" class=\"data row9 col3\" >nan</td>\n",
       "      <td id=\"T_d3806_row9_col4\" class=\"data row9 col4\" >nan</td>\n",
       "      <td id=\"T_d3806_row9_col5\" class=\"data row9 col5\" >nan</td>\n",
       "      <td id=\"T_d3806_row9_col6\" class=\"data row9 col6\" >nan</td>\n",
       "      <td id=\"T_d3806_row9_col7\" class=\"data row9 col7\" >nan</td>\n",
       "      <td id=\"T_d3806_row9_col8\" class=\"data row9 col8\" >nan</td>\n",
       "      <td id=\"T_d3806_row9_col9\" class=\"data row9 col9\" >nan</td>\n",
       "      <td id=\"T_d3806_row9_col10\" class=\"data row9 col10\" >nan</td>\n",
       "      <td id=\"T_d3806_row9_col11\" class=\"data row9 col11\" >nan</td>\n",
       "      <td id=\"T_d3806_row9_col12\" class=\"data row9 col12\" >nan</td>\n",
       "      <td id=\"T_d3806_row9_col13\" class=\"data row9 col13\" >nan</td>\n",
       "      <td id=\"T_d3806_row9_col14\" class=\"data row9 col14\" >nan</td>\n",
       "      <td id=\"T_d3806_row9_col15\" class=\"data row9 col15\" >nan</td>\n",
       "      <td id=\"T_d3806_row9_col16\" class=\"data row9 col16\" >nan</td>\n",
       "      <td id=\"T_d3806_row9_col17\" class=\"data row9 col17\" >nan</td>\n",
       "      <td id=\"T_d3806_row9_col18\" class=\"data row9 col18\" >nan</td>\n",
       "      <td id=\"T_d3806_row9_col19\" class=\"data row9 col19\" >nan</td>\n",
       "      <td id=\"T_d3806_row9_col20\" class=\"data row9 col20\" >nan</td>\n",
       "      <td id=\"T_d3806_row9_col21\" class=\"data row9 col21\" >nan</td>\n",
       "    </tr>\n",
       "    <tr>\n",
       "      <th id=\"T_d3806_level0_row10\" class=\"row_heading level0 row10\" >phone_number</th>\n",
       "      <td id=\"T_d3806_row10_col0\" class=\"data row10 col0\" >-0.011521</td>\n",
       "      <td id=\"T_d3806_row10_col1\" class=\"data row10 col1\" >0.025994</td>\n",
       "      <td id=\"T_d3806_row10_col2\" class=\"data row10 col2\" >0.017566</td>\n",
       "      <td id=\"T_d3806_row10_col3\" class=\"data row10 col3\" >-0.020450</td>\n",
       "      <td id=\"T_d3806_row10_col4\" class=\"data row10 col4\" >-0.034905</td>\n",
       "      <td id=\"T_d3806_row10_col5\" class=\"data row10 col5\" >0.099539</td>\n",
       "      <td id=\"T_d3806_row10_col6\" class=\"data row10 col6\" >-0.047905</td>\n",
       "      <td id=\"T_d3806_row10_col7\" class=\"data row10 col7\" >0.016741</td>\n",
       "      <td id=\"T_d3806_row10_col8\" class=\"data row10 col8\" >-0.065598</td>\n",
       "      <td id=\"T_d3806_row10_col9\" class=\"data row10 col9\" >nan</td>\n",
       "      <td id=\"T_d3806_row10_col10\" class=\"data row10 col10\" >1.000000</td>\n",
       "      <td id=\"T_d3806_row10_col11\" class=\"data row10 col11\" >0.007773</td>\n",
       "      <td id=\"T_d3806_row10_col12\" class=\"data row10 col12\" >-0.057327</td>\n",
       "      <td id=\"T_d3806_row10_col13\" class=\"data row10 col13\" >-0.016860</td>\n",
       "      <td id=\"T_d3806_row10_col14\" class=\"data row10 col14\" >0.080379</td>\n",
       "      <td id=\"T_d3806_row10_col15\" class=\"data row10 col15\" >0.061318</td>\n",
       "      <td id=\"T_d3806_row10_col16\" class=\"data row10 col16\" >0.020561</td>\n",
       "      <td id=\"T_d3806_row10_col17\" class=\"data row10 col17\" >0.011663</td>\n",
       "      <td id=\"T_d3806_row10_col18\" class=\"data row10 col18\" >-0.037688</td>\n",
       "      <td id=\"T_d3806_row10_col19\" class=\"data row10 col19\" >-0.004623</td>\n",
       "      <td id=\"T_d3806_row10_col20\" class=\"data row10 col20\" >0.075139</td>\n",
       "      <td id=\"T_d3806_row10_col21\" class=\"data row10 col21\" >-0.042727</td>\n",
       "    </tr>\n",
       "    <tr>\n",
       "      <th id=\"T_d3806_level0_row11\" class=\"row_heading level0 row11\" >email</th>\n",
       "      <td id=\"T_d3806_row11_col0\" class=\"data row11 col0\" >0.102804</td>\n",
       "      <td id=\"T_d3806_row11_col1\" class=\"data row11 col1\" >0.022526</td>\n",
       "      <td id=\"T_d3806_row11_col2\" class=\"data row11 col2\" >-0.004496</td>\n",
       "      <td id=\"T_d3806_row11_col3\" class=\"data row11 col3\" >-0.007933</td>\n",
       "      <td id=\"T_d3806_row11_col4\" class=\"data row11 col4\" >0.017126</td>\n",
       "      <td id=\"T_d3806_row11_col5\" class=\"data row11 col5\" >0.051244</td>\n",
       "      <td id=\"T_d3806_row11_col6\" class=\"data row11 col6\" >0.087654</td>\n",
       "      <td id=\"T_d3806_row11_col7\" class=\"data row11 col7\" >-0.074483</td>\n",
       "      <td id=\"T_d3806_row11_col8\" class=\"data row11 col8\" >0.035768</td>\n",
       "      <td id=\"T_d3806_row11_col9\" class=\"data row11 col9\" >nan</td>\n",
       "      <td id=\"T_d3806_row11_col10\" class=\"data row11 col10\" >0.007773</td>\n",
       "      <td id=\"T_d3806_row11_col11\" class=\"data row11 col11\" >1.000000</td>\n",
       "      <td id=\"T_d3806_row11_col12\" class=\"data row11 col12\" >-0.027105</td>\n",
       "      <td id=\"T_d3806_row11_col13\" class=\"data row11 col13\" >0.017841</td>\n",
       "      <td id=\"T_d3806_row11_col14\" class=\"data row11 col14\" >0.014587</td>\n",
       "      <td id=\"T_d3806_row11_col15\" class=\"data row11 col15\" >0.035926</td>\n",
       "      <td id=\"T_d3806_row11_col16\" class=\"data row11 col16\" >-0.051572</td>\n",
       "      <td id=\"T_d3806_row11_col17\" class=\"data row11 col17\" >-0.001842</td>\n",
       "      <td id=\"T_d3806_row11_col18\" class=\"data row11 col18\" >0.014044</td>\n",
       "      <td id=\"T_d3806_row11_col19\" class=\"data row11 col19\" >-0.001842</td>\n",
       "      <td id=\"T_d3806_row11_col20\" class=\"data row11 col20\" >-0.004307</td>\n",
       "      <td id=\"T_d3806_row11_col21\" class=\"data row11 col21\" >0.005865</td>\n",
       "    </tr>\n",
       "    <tr>\n",
       "      <th id=\"T_d3806_level0_row12\" class=\"row_heading level0 row12\" >days_phone_change</th>\n",
       "      <td id=\"T_d3806_row12_col0\" class=\"data row12 col0\" >-0.061815</td>\n",
       "      <td id=\"T_d3806_row12_col1\" class=\"data row12 col1\" >-0.066930</td>\n",
       "      <td id=\"T_d3806_row12_col2\" class=\"data row12 col2\" >-0.029606</td>\n",
       "      <td id=\"T_d3806_row12_col3\" class=\"data row12 col3\" >0.024343</td>\n",
       "      <td id=\"T_d3806_row12_col4\" class=\"data row12 col4\" >-0.002016</td>\n",
       "      <td id=\"T_d3806_row12_col5\" class=\"data row12 col5\" >-0.049704</td>\n",
       "      <td id=\"T_d3806_row12_col6\" class=\"data row12 col6\" >0.080114</td>\n",
       "      <td id=\"T_d3806_row12_col7\" class=\"data row12 col7\" >0.026004</td>\n",
       "      <td id=\"T_d3806_row12_col8\" class=\"data row12 col8\" >0.056174</td>\n",
       "      <td id=\"T_d3806_row12_col9\" class=\"data row12 col9\" >nan</td>\n",
       "      <td id=\"T_d3806_row12_col10\" class=\"data row12 col10\" >-0.057327</td>\n",
       "      <td id=\"T_d3806_row12_col11\" class=\"data row12 col11\" >-0.027105</td>\n",
       "      <td id=\"T_d3806_row12_col12\" class=\"data row12 col12\" >1.000000</td>\n",
       "      <td id=\"T_d3806_row12_col13\" class=\"data row12 col13\" >-0.017431</td>\n",
       "      <td id=\"T_d3806_row12_col14\" class=\"data row12 col14\" >-0.146525</td>\n",
       "      <td id=\"T_d3806_row12_col15\" class=\"data row12 col15\" >-0.206908</td>\n",
       "      <td id=\"T_d3806_row12_col16\" class=\"data row12 col16\" >-0.092605</td>\n",
       "      <td id=\"T_d3806_row12_col17\" class=\"data row12 col17\" >-0.000025</td>\n",
       "      <td id=\"T_d3806_row12_col18\" class=\"data row12 col18\" >-0.041970</td>\n",
       "      <td id=\"T_d3806_row12_col19\" class=\"data row12 col19\" >0.008462</td>\n",
       "      <td id=\"T_d3806_row12_col20\" class=\"data row12 col20\" >-0.012225</td>\n",
       "      <td id=\"T_d3806_row12_col21\" class=\"data row12 col21\" >0.062679</td>\n",
       "    </tr>\n",
       "    <tr>\n",
       "      <th id=\"T_d3806_level0_row13\" class=\"row_heading level0 row13\" >family_count</th>\n",
       "      <td id=\"T_d3806_row13_col0\" class=\"data row13 col0\" >0.031064</td>\n",
       "      <td id=\"T_d3806_row13_col1\" class=\"data row13 col1\" >0.072944</td>\n",
       "      <td id=\"T_d3806_row13_col2\" class=\"data row13 col2\" >0.021964</td>\n",
       "      <td id=\"T_d3806_row13_col3\" class=\"data row13 col3\" >-0.019449</td>\n",
       "      <td id=\"T_d3806_row13_col4\" class=\"data row13 col4\" >0.878577</td>\n",
       "      <td id=\"T_d3806_row13_col5\" class=\"data row13 col5\" >-0.022336</td>\n",
       "      <td id=\"T_d3806_row13_col6\" class=\"data row13 col6\" >0.288088</td>\n",
       "      <td id=\"T_d3806_row13_col7\" class=\"data row13 col7\" >-0.236585</td>\n",
       "      <td id=\"T_d3806_row13_col8\" class=\"data row13 col8\" >0.167212</td>\n",
       "      <td id=\"T_d3806_row13_col9\" class=\"data row13 col9\" >nan</td>\n",
       "      <td id=\"T_d3806_row13_col10\" class=\"data row13 col10\" >-0.016860</td>\n",
       "      <td id=\"T_d3806_row13_col11\" class=\"data row13 col11\" >0.017841</td>\n",
       "      <td id=\"T_d3806_row13_col12\" class=\"data row13 col12\" >-0.017431</td>\n",
       "      <td id=\"T_d3806_row13_col13\" class=\"data row13 col13\" >1.000000</td>\n",
       "      <td id=\"T_d3806_row13_col14\" class=\"data row13 col14\" >-0.096797</td>\n",
       "      <td id=\"T_d3806_row13_col15\" class=\"data row13 col15\" >0.001851</td>\n",
       "      <td id=\"T_d3806_row13_col16\" class=\"data row13 col16\" >-0.030813</td>\n",
       "      <td id=\"T_d3806_row13_col17\" class=\"data row13 col17\" >0.015037</td>\n",
       "      <td id=\"T_d3806_row13_col18\" class=\"data row13 col18\" >0.090196</td>\n",
       "      <td id=\"T_d3806_row13_col19\" class=\"data row13 col19\" >-0.001184</td>\n",
       "      <td id=\"T_d3806_row13_col20\" class=\"data row13 col20\" >-0.022246</td>\n",
       "      <td id=\"T_d3806_row13_col21\" class=\"data row13 col21\" >0.001833</td>\n",
       "    </tr>\n",
       "    <tr>\n",
       "      <th id=\"T_d3806_level0_row14\" class=\"row_heading level0 row14\" >EXT1</th>\n",
       "      <td id=\"T_d3806_row14_col0\" class=\"data row14 col0\" >0.083766</td>\n",
       "      <td id=\"T_d3806_row14_col1\" class=\"data row14 col1\" >0.179479</td>\n",
       "      <td id=\"T_d3806_row14_col2\" class=\"data row14 col2\" >0.067528</td>\n",
       "      <td id=\"T_d3806_row14_col3\" class=\"data row14 col3\" >-0.069375</td>\n",
       "      <td id=\"T_d3806_row14_col4\" class=\"data row14 col4\" >-0.141682</td>\n",
       "      <td id=\"T_d3806_row14_col5\" class=\"data row14 col5\" >0.092323</td>\n",
       "      <td id=\"T_d3806_row14_col6\" class=\"data row14 col6\" >-0.603327</td>\n",
       "      <td id=\"T_d3806_row14_col7\" class=\"data row14 col7\" >0.300670</td>\n",
       "      <td id=\"T_d3806_row14_col8\" class=\"data row14 col8\" >-0.189253</td>\n",
       "      <td id=\"T_d3806_row14_col9\" class=\"data row14 col9\" >nan</td>\n",
       "      <td id=\"T_d3806_row14_col10\" class=\"data row14 col10\" >0.080379</td>\n",
       "      <td id=\"T_d3806_row14_col11\" class=\"data row14 col11\" >0.014587</td>\n",
       "      <td id=\"T_d3806_row14_col12\" class=\"data row14 col12\" >-0.146525</td>\n",
       "      <td id=\"T_d3806_row14_col13\" class=\"data row14 col13\" >-0.096797</td>\n",
       "      <td id=\"T_d3806_row14_col14\" class=\"data row14 col14\" >1.000000</td>\n",
       "      <td id=\"T_d3806_row14_col15\" class=\"data row14 col15\" >0.217804</td>\n",
       "      <td id=\"T_d3806_row14_col16\" class=\"data row14 col16\" >0.188677</td>\n",
       "      <td id=\"T_d3806_row14_col17\" class=\"data row14 col17\" >-0.003270</td>\n",
       "      <td id=\"T_d3806_row14_col18\" class=\"data row14 col18\" >-0.068140</td>\n",
       "      <td id=\"T_d3806_row14_col19\" class=\"data row14 col19\" >nan</td>\n",
       "      <td id=\"T_d3806_row14_col20\" class=\"data row14 col20\" >0.006258</td>\n",
       "      <td id=\"T_d3806_row14_col21\" class=\"data row14 col21\" >-0.149607</td>\n",
       "    </tr>\n",
       "    <tr>\n",
       "      <th id=\"T_d3806_level0_row15\" class=\"row_heading level0 row15\" >EXT2</th>\n",
       "      <td id=\"T_d3806_row15_col0\" class=\"data row15 col0\" >0.146862</td>\n",
       "      <td id=\"T_d3806_row15_col1\" class=\"data row15 col1\" >0.141002</td>\n",
       "      <td id=\"T_d3806_row15_col2\" class=\"data row15 col2\" >0.062641</td>\n",
       "      <td id=\"T_d3806_row15_col3\" class=\"data row15 col3\" >-0.061325</td>\n",
       "      <td id=\"T_d3806_row15_col4\" class=\"data row15 col4\" >-0.007638</td>\n",
       "      <td id=\"T_d3806_row15_col5\" class=\"data row15 col5\" >0.197703</td>\n",
       "      <td id=\"T_d3806_row15_col6\" class=\"data row15 col6\" >-0.096483</td>\n",
       "      <td id=\"T_d3806_row15_col7\" class=\"data row15 col7\" >-0.023098</td>\n",
       "      <td id=\"T_d3806_row15_col8\" class=\"data row15 col8\" >-0.059936</td>\n",
       "      <td id=\"T_d3806_row15_col9\" class=\"data row15 col9\" >nan</td>\n",
       "      <td id=\"T_d3806_row15_col10\" class=\"data row15 col10\" >0.061318</td>\n",
       "      <td id=\"T_d3806_row15_col11\" class=\"data row15 col11\" >0.035926</td>\n",
       "      <td id=\"T_d3806_row15_col12\" class=\"data row15 col12\" >-0.206908</td>\n",
       "      <td id=\"T_d3806_row15_col13\" class=\"data row15 col13\" >0.001851</td>\n",
       "      <td id=\"T_d3806_row15_col14\" class=\"data row15 col14\" >0.217804</td>\n",
       "      <td id=\"T_d3806_row15_col15\" class=\"data row15 col15\" >1.000000</td>\n",
       "      <td id=\"T_d3806_row15_col16\" class=\"data row15 col16\" >0.122202</td>\n",
       "      <td id=\"T_d3806_row15_col17\" class=\"data row15 col17\" >-0.006101</td>\n",
       "      <td id=\"T_d3806_row15_col18\" class=\"data row15 col18\" >-0.022918</td>\n",
       "      <td id=\"T_d3806_row15_col19\" class=\"data row15 col19\" >-0.017448</td>\n",
       "      <td id=\"T_d3806_row15_col20\" class=\"data row15 col20\" >-0.014236</td>\n",
       "      <td id=\"T_d3806_row15_col21\" class=\"data row15 col21\" >-0.181646</td>\n",
       "    </tr>\n",
       "    <tr>\n",
       "      <th id=\"T_d3806_level0_row16\" class=\"row_heading level0 row16\" >EXT3</th>\n",
       "      <td id=\"T_d3806_row16_col0\" class=\"data row16 col0\" >-0.070479</td>\n",
       "      <td id=\"T_d3806_row16_col1\" class=\"data row16 col1\" >0.036500</td>\n",
       "      <td id=\"T_d3806_row16_col2\" class=\"data row16 col2\" >0.019759</td>\n",
       "      <td id=\"T_d3806_row16_col3\" class=\"data row16 col3\" >-0.032065</td>\n",
       "      <td id=\"T_d3806_row16_col4\" class=\"data row16 col4\" >-0.044673</td>\n",
       "      <td id=\"T_d3806_row16_col5\" class=\"data row16 col5\" >0.000508</td>\n",
       "      <td id=\"T_d3806_row16_col6\" class=\"data row16 col6\" >-0.206576</td>\n",
       "      <td id=\"T_d3806_row16_col7\" class=\"data row16 col7\" >0.137261</td>\n",
       "      <td id=\"T_d3806_row16_col8\" class=\"data row16 col8\" >-0.101875</td>\n",
       "      <td id=\"T_d3806_row16_col9\" class=\"data row16 col9\" >nan</td>\n",
       "      <td id=\"T_d3806_row16_col10\" class=\"data row16 col10\" >0.020561</td>\n",
       "      <td id=\"T_d3806_row16_col11\" class=\"data row16 col11\" >-0.051572</td>\n",
       "      <td id=\"T_d3806_row16_col12\" class=\"data row16 col12\" >-0.092605</td>\n",
       "      <td id=\"T_d3806_row16_col13\" class=\"data row16 col13\" >-0.030813</td>\n",
       "      <td id=\"T_d3806_row16_col14\" class=\"data row16 col14\" >0.188677</td>\n",
       "      <td id=\"T_d3806_row16_col15\" class=\"data row16 col15\" >0.122202</td>\n",
       "      <td id=\"T_d3806_row16_col16\" class=\"data row16 col16\" >1.000000</td>\n",
       "      <td id=\"T_d3806_row16_col17\" class=\"data row16 col17\" >nan</td>\n",
       "      <td id=\"T_d3806_row16_col18\" class=\"data row16 col18\" >-0.051757</td>\n",
       "      <td id=\"T_d3806_row16_col19\" class=\"data row16 col19\" >nan</td>\n",
       "      <td id=\"T_d3806_row16_col20\" class=\"data row16 col20\" >-0.013428</td>\n",
       "      <td id=\"T_d3806_row16_col21\" class=\"data row16 col21\" >-0.193244</td>\n",
       "    </tr>\n",
       "    <tr>\n",
       "      <th id=\"T_d3806_level0_row17\" class=\"row_heading level0 row17\" >EXT4</th>\n",
       "      <td id=\"T_d3806_row17_col0\" class=\"data row17 col0\" >-0.005805</td>\n",
       "      <td id=\"T_d3806_row17_col1\" class=\"data row17 col1\" >-0.000328</td>\n",
       "      <td id=\"T_d3806_row17_col2\" class=\"data row17 col2\" >-0.009168</td>\n",
       "      <td id=\"T_d3806_row17_col3\" class=\"data row17 col3\" >0.004589</td>\n",
       "      <td id=\"T_d3806_row17_col4\" class=\"data row17 col4\" >0.016300</td>\n",
       "      <td id=\"T_d3806_row17_col5\" class=\"data row17 col5\" >-0.006022</td>\n",
       "      <td id=\"T_d3806_row17_col6\" class=\"data row17 col6\" >0.002383</td>\n",
       "      <td id=\"T_d3806_row17_col7\" class=\"data row17 col7\" >-0.003458</td>\n",
       "      <td id=\"T_d3806_row17_col8\" class=\"data row17 col8\" >-0.002484</td>\n",
       "      <td id=\"T_d3806_row17_col9\" class=\"data row17 col9\" >nan</td>\n",
       "      <td id=\"T_d3806_row17_col10\" class=\"data row17 col10\" >0.011663</td>\n",
       "      <td id=\"T_d3806_row17_col11\" class=\"data row17 col11\" >-0.001842</td>\n",
       "      <td id=\"T_d3806_row17_col12\" class=\"data row17 col12\" >-0.000025</td>\n",
       "      <td id=\"T_d3806_row17_col13\" class=\"data row17 col13\" >0.015037</td>\n",
       "      <td id=\"T_d3806_row17_col14\" class=\"data row17 col14\" >-0.003270</td>\n",
       "      <td id=\"T_d3806_row17_col15\" class=\"data row17 col15\" >-0.006101</td>\n",
       "      <td id=\"T_d3806_row17_col16\" class=\"data row17 col16\" >nan</td>\n",
       "      <td id=\"T_d3806_row17_col17\" class=\"data row17 col17\" >1.000000</td>\n",
       "      <td id=\"T_d3806_row17_col18\" class=\"data row17 col18\" >-0.013906</td>\n",
       "      <td id=\"T_d3806_row17_col19\" class=\"data row17 col19\" >-0.000054</td>\n",
       "      <td id=\"T_d3806_row17_col20\" class=\"data row17 col20\" >-0.000901</td>\n",
       "      <td id=\"T_d3806_row17_col21\" class=\"data row17 col21\" >-0.002244</td>\n",
       "    </tr>\n",
       "    <tr>\n",
       "      <th id=\"T_d3806_level0_row18\" class=\"row_heading level0 row18\" >EXT5</th>\n",
       "      <td id=\"T_d3806_row18_col0\" class=\"data row18 col0\" >-0.055841</td>\n",
       "      <td id=\"T_d3806_row18_col1\" class=\"data row18 col1\" >-0.009795</td>\n",
       "      <td id=\"T_d3806_row18_col2\" class=\"data row18 col2\" >-0.004935</td>\n",
       "      <td id=\"T_d3806_row18_col3\" class=\"data row18 col3\" >0.002254</td>\n",
       "      <td id=\"T_d3806_row18_col4\" class=\"data row18 col4\" >0.086830</td>\n",
       "      <td id=\"T_d3806_row18_col5\" class=\"data row18 col5\" >-0.093566</td>\n",
       "      <td id=\"T_d3806_row18_col6\" class=\"data row18 col6\" >0.173316</td>\n",
       "      <td id=\"T_d3806_row18_col7\" class=\"data row18 col7\" >-0.311147</td>\n",
       "      <td id=\"T_d3806_row18_col8\" class=\"data row18 col8\" >0.046558</td>\n",
       "      <td id=\"T_d3806_row18_col9\" class=\"data row18 col9\" >nan</td>\n",
       "      <td id=\"T_d3806_row18_col10\" class=\"data row18 col10\" >-0.037688</td>\n",
       "      <td id=\"T_d3806_row18_col11\" class=\"data row18 col11\" >0.014044</td>\n",
       "      <td id=\"T_d3806_row18_col12\" class=\"data row18 col12\" >-0.041970</td>\n",
       "      <td id=\"T_d3806_row18_col13\" class=\"data row18 col13\" >0.090196</td>\n",
       "      <td id=\"T_d3806_row18_col14\" class=\"data row18 col14\" >-0.068140</td>\n",
       "      <td id=\"T_d3806_row18_col15\" class=\"data row18 col15\" >-0.022918</td>\n",
       "      <td id=\"T_d3806_row18_col16\" class=\"data row18 col16\" >-0.051757</td>\n",
       "      <td id=\"T_d3806_row18_col17\" class=\"data row18 col17\" >-0.013906</td>\n",
       "      <td id=\"T_d3806_row18_col18\" class=\"data row18 col18\" >1.000000</td>\n",
       "      <td id=\"T_d3806_row18_col19\" class=\"data row18 col19\" >-0.013906</td>\n",
       "      <td id=\"T_d3806_row18_col20\" class=\"data row18 col20\" >-0.232329</td>\n",
       "      <td id=\"T_d3806_row18_col21\" class=\"data row18 col21\" >0.043697</td>\n",
       "    </tr>\n",
       "    <tr>\n",
       "      <th id=\"T_d3806_level0_row19\" class=\"row_heading level0 row19\" >EXT6</th>\n",
       "      <td id=\"T_d3806_row19_col0\" class=\"data row19 col0\" >-0.000840</td>\n",
       "      <td id=\"T_d3806_row19_col1\" class=\"data row19 col1\" >0.012635</td>\n",
       "      <td id=\"T_d3806_row19_col2\" class=\"data row19 col2\" >0.002085</td>\n",
       "      <td id=\"T_d3806_row19_col3\" class=\"data row19 col3\" >-0.012220</td>\n",
       "      <td id=\"T_d3806_row19_col4\" class=\"data row19 col4\" >-0.004168</td>\n",
       "      <td id=\"T_d3806_row19_col5\" class=\"data row19 col5\" >-0.001183</td>\n",
       "      <td id=\"T_d3806_row19_col6\" class=\"data row19 col6\" >0.000743</td>\n",
       "      <td id=\"T_d3806_row19_col7\" class=\"data row19 col7\" >-0.003661</td>\n",
       "      <td id=\"T_d3806_row19_col8\" class=\"data row19 col8\" >0.003927</td>\n",
       "      <td id=\"T_d3806_row19_col9\" class=\"data row19 col9\" >nan</td>\n",
       "      <td id=\"T_d3806_row19_col10\" class=\"data row19 col10\" >-0.004623</td>\n",
       "      <td id=\"T_d3806_row19_col11\" class=\"data row19 col11\" >-0.001842</td>\n",
       "      <td id=\"T_d3806_row19_col12\" class=\"data row19 col12\" >0.008462</td>\n",
       "      <td id=\"T_d3806_row19_col13\" class=\"data row19 col13\" >-0.001184</td>\n",
       "      <td id=\"T_d3806_row19_col14\" class=\"data row19 col14\" >nan</td>\n",
       "      <td id=\"T_d3806_row19_col15\" class=\"data row19 col15\" >-0.017448</td>\n",
       "      <td id=\"T_d3806_row19_col16\" class=\"data row19 col16\" >nan</td>\n",
       "      <td id=\"T_d3806_row19_col17\" class=\"data row19 col17\" >-0.000054</td>\n",
       "      <td id=\"T_d3806_row19_col18\" class=\"data row19 col18\" >-0.013906</td>\n",
       "      <td id=\"T_d3806_row19_col19\" class=\"data row19 col19\" >1.000000</td>\n",
       "      <td id=\"T_d3806_row19_col20\" class=\"data row19 col20\" >-0.000901</td>\n",
       "      <td id=\"T_d3806_row19_col21\" class=\"data row19 col21\" >-0.002244</td>\n",
       "    </tr>\n",
       "    <tr>\n",
       "      <th id=\"T_d3806_level0_row20\" class=\"row_heading level0 row20\" >EXT7</th>\n",
       "      <td id=\"T_d3806_row20_col0\" class=\"data row20 col0\" >0.006212</td>\n",
       "      <td id=\"T_d3806_row20_col1\" class=\"data row20 col1\" >-0.005246</td>\n",
       "      <td id=\"T_d3806_row20_col2\" class=\"data row20 col2\" >-0.001747</td>\n",
       "      <td id=\"T_d3806_row20_col3\" class=\"data row20 col3\" >0.005166</td>\n",
       "      <td id=\"T_d3806_row20_col4\" class=\"data row20 col4\" >-0.026119</td>\n",
       "      <td id=\"T_d3806_row20_col5\" class=\"data row20 col5\" >0.016553</td>\n",
       "      <td id=\"T_d3806_row20_col6\" class=\"data row20 col6\" >0.010899</td>\n",
       "      <td id=\"T_d3806_row20_col7\" class=\"data row20 col7\" >-0.019940</td>\n",
       "      <td id=\"T_d3806_row20_col8\" class=\"data row20 col8\" >0.003678</td>\n",
       "      <td id=\"T_d3806_row20_col9\" class=\"data row20 col9\" >nan</td>\n",
       "      <td id=\"T_d3806_row20_col10\" class=\"data row20 col10\" >0.075139</td>\n",
       "      <td id=\"T_d3806_row20_col11\" class=\"data row20 col11\" >-0.004307</td>\n",
       "      <td id=\"T_d3806_row20_col12\" class=\"data row20 col12\" >-0.012225</td>\n",
       "      <td id=\"T_d3806_row20_col13\" class=\"data row20 col13\" >-0.022246</td>\n",
       "      <td id=\"T_d3806_row20_col14\" class=\"data row20 col14\" >0.006258</td>\n",
       "      <td id=\"T_d3806_row20_col15\" class=\"data row20 col15\" >-0.014236</td>\n",
       "      <td id=\"T_d3806_row20_col16\" class=\"data row20 col16\" >-0.013428</td>\n",
       "      <td id=\"T_d3806_row20_col17\" class=\"data row20 col17\" >-0.000901</td>\n",
       "      <td id=\"T_d3806_row20_col18\" class=\"data row20 col18\" >-0.232329</td>\n",
       "      <td id=\"T_d3806_row20_col19\" class=\"data row20 col19\" >-0.000901</td>\n",
       "      <td id=\"T_d3806_row20_col20\" class=\"data row20 col20\" >1.000000</td>\n",
       "      <td id=\"T_d3806_row20_col21\" class=\"data row20 col21\" >0.005587</td>\n",
       "    </tr>\n",
       "    <tr>\n",
       "      <th id=\"T_d3806_level0_row21\" class=\"row_heading level0 row21\" >Default</th>\n",
       "      <td id=\"T_d3806_row21_col0\" class=\"data row21 col0\" >-0.019170</td>\n",
       "      <td id=\"T_d3806_row21_col1\" class=\"data row21 col1\" >-0.043963</td>\n",
       "      <td id=\"T_d3806_row21_col2\" class=\"data row21 col2\" >-0.004101</td>\n",
       "      <td id=\"T_d3806_row21_col3\" class=\"data row21 col3\" >0.021891</td>\n",
       "      <td id=\"T_d3806_row21_col4\" class=\"data row21 col4\" >0.013556</td>\n",
       "      <td id=\"T_d3806_row21_col5\" class=\"data row21 col5\" >-0.031123</td>\n",
       "      <td id=\"T_d3806_row21_col6\" class=\"data row21 col6\" >0.081906</td>\n",
       "      <td id=\"T_d3806_row21_col7\" class=\"data row21 col7\" >-0.042557</td>\n",
       "      <td id=\"T_d3806_row21_col8\" class=\"data row21 col8\" >0.052308</td>\n",
       "      <td id=\"T_d3806_row21_col9\" class=\"data row21 col9\" >nan</td>\n",
       "      <td id=\"T_d3806_row21_col10\" class=\"data row21 col10\" >-0.042727</td>\n",
       "      <td id=\"T_d3806_row21_col11\" class=\"data row21 col11\" >0.005865</td>\n",
       "      <td id=\"T_d3806_row21_col12\" class=\"data row21 col12\" >0.062679</td>\n",
       "      <td id=\"T_d3806_row21_col13\" class=\"data row21 col13\" >0.001833</td>\n",
       "      <td id=\"T_d3806_row21_col14\" class=\"data row21 col14\" >-0.149607</td>\n",
       "      <td id=\"T_d3806_row21_col15\" class=\"data row21 col15\" >-0.181646</td>\n",
       "      <td id=\"T_d3806_row21_col16\" class=\"data row21 col16\" >-0.193244</td>\n",
       "      <td id=\"T_d3806_row21_col17\" class=\"data row21 col17\" >-0.002244</td>\n",
       "      <td id=\"T_d3806_row21_col18\" class=\"data row21 col18\" >0.043697</td>\n",
       "      <td id=\"T_d3806_row21_col19\" class=\"data row21 col19\" >-0.002244</td>\n",
       "      <td id=\"T_d3806_row21_col20\" class=\"data row21 col20\" >0.005587</td>\n",
       "      <td id=\"T_d3806_row21_col21\" class=\"data row21 col21\" >1.000000</td>\n",
       "    </tr>\n",
       "  </tbody>\n",
       "</table>\n"
      ],
      "text/plain": [
       "<pandas.io.formats.style.Styler at 0x1b1dd585820>"
      ]
     },
     "execution_count": 10,
     "metadata": {},
     "output_type": "execute_result"
    }
   ],
   "source": [
    "corr = accept.corr()\n",
    "\n",
    "corr.style.background_gradient(cmap='coolwarm')"
   ]
  },
  {
   "cell_type": "code",
   "execution_count": 11,
   "id": "372ac50e",
   "metadata": {},
   "outputs": [
    {
     "data": {
      "text/plain": [
       "18549"
      ]
     },
     "execution_count": 11,
     "metadata": {},
     "output_type": "execute_result"
    }
   ],
   "source": [
    "len(accept)"
   ]
  },
  {
   "cell_type": "code",
   "execution_count": 12,
   "id": "e89b8fb6",
   "metadata": {},
   "outputs": [
    {
     "data": {
      "text/plain": [
       "9112"
      ]
     },
     "execution_count": 12,
     "metadata": {},
     "output_type": "execute_result"
    }
   ],
   "source": [
    "len(reject)"
   ]
  },
  {
   "cell_type": "code",
   "execution_count": 13,
   "id": "f3cd7761",
   "metadata": {},
   "outputs": [
    {
     "data": {
      "text/plain": [
       "Index(['total_income', 'loan_amount', 'term', 'interest_rate', 'own_car',\n",
       "       'own_house', 'nr_children', 'income_type', 'education_type',\n",
       "       'family_status', 'housing_type', 'region_population_ratio',\n",
       "       'days_birth', 'days_employed', 'days_registration', 'mobile_number',\n",
       "       'phone_number', 'email', 'days_phone_change', 'occupation_type',\n",
       "       'family_count', 'EXT1', 'EXT2', 'EXT3', 'EXT4', 'EXT5', 'EXT6', 'EXT7',\n",
       "       'Default'],\n",
       "      dtype='object')"
      ]
     },
     "execution_count": 13,
     "metadata": {},
     "output_type": "execute_result"
    }
   ],
   "source": [
    "accept.columns"
   ]
  },
  {
   "cell_type": "code",
   "execution_count": 14,
   "id": "93cb2880",
   "metadata": {},
   "outputs": [
    {
     "name": "stdout",
     "output_type": "stream",
     "text": [
      "There are 7 categorical Columns in Dataset\n"
     ]
    }
   ],
   "source": [
    "## checking if any categorical Features are there in the Dataset\n",
    "categorical_data = accept.select_dtypes(exclude=[np.number])\n",
    "print (\"There are {} categorical Columns in Dataset\".format(categorical_data.shape[1]))"
   ]
  },
  {
   "cell_type": "code",
   "execution_count": 15,
   "id": "9cd193a2",
   "metadata": {},
   "outputs": [
    {
     "data": {
      "text/plain": [
       "own_car            True\n",
       "own_house          True\n",
       "income_type        True\n",
       "education_type     True\n",
       "family_status      True\n",
       "housing_type       True\n",
       "occupation_type    True\n",
       "dtype: bool"
      ]
     },
     "execution_count": 15,
     "metadata": {},
     "output_type": "execute_result"
    }
   ],
   "source": [
    "# Name of all the Categorical Features Present in the Dataset\n",
    "categorical_data.any()"
   ]
  },
  {
   "cell_type": "code",
   "execution_count": 16,
   "id": "0cd65459",
   "metadata": {},
   "outputs": [],
   "source": [
    "def drop_cols_na(df, threshold):\n",
    "    return df[df.columns[df.isna().sum() / len(df) < threshold]]"
   ]
  },
  {
   "cell_type": "code",
   "execution_count": 17,
   "id": "e84bc7ea",
   "metadata": {},
   "outputs": [],
   "source": [
    "# drop missing values with 30% thresh hold\n",
    "accept = drop_cols_na(accept, 0.40)\n",
    "reject = drop_cols_na(reject, 0.40)"
   ]
  },
  {
   "cell_type": "code",
   "execution_count": 18,
   "id": "bea90c6e",
   "metadata": {},
   "outputs": [
    {
     "data": {
      "text/plain": [
       "Index(['total_income', 'loan_amount', 'term', 'interest_rate', 'own_car',\n",
       "       'own_house', 'nr_children', 'income_type', 'education_type',\n",
       "       'family_status', 'housing_type', 'region_population_ratio',\n",
       "       'days_birth', 'days_employed', 'days_registration', 'mobile_number',\n",
       "       'phone_number', 'email', 'days_phone_change', 'occupation_type',\n",
       "       'family_count', 'EXT2', 'EXT3', 'EXT4', 'EXT5', 'EXT6', 'EXT7',\n",
       "       'Default'],\n",
       "      dtype='object')"
      ]
     },
     "execution_count": 18,
     "metadata": {},
     "output_type": "execute_result"
    }
   ],
   "source": [
    "accept.columns"
   ]
  },
  {
   "cell_type": "code",
   "execution_count": 19,
   "id": "c57bb5d1",
   "metadata": {},
   "outputs": [],
   "source": [
    "# filling the NaN values\n",
    "accept['EXT2'] = accept.EXT2.fillna(accept.EXT2.mean())\n",
    "reject['EXT2'] = reject.EXT2.fillna(accept.EXT2.mean())\n",
    "accept['EXT3'] = accept.EXT3.fillna(accept.EXT3.mean())\n",
    "reject['EXT3'] = reject.EXT3.fillna(accept.EXT3.mean())\n",
    "accept['occupation_type'] = accept.occupation_type.fillna('other')\n",
    "reject['occupation_type'] = reject.occupation_type.fillna('other')"
   ]
  },
  {
   "cell_type": "code",
   "execution_count": 20,
   "id": "38e05552",
   "metadata": {},
   "outputs": [],
   "source": [
    "from sklearn.preprocessing import LabelEncoder\n",
    "model = LabelEncoder()\n",
    "accept['own_car'] = model.fit_transform(accept['own_car'].astype('str'))\n",
    "accept['own_house'] = model.fit_transform(accept['own_house'].astype('str'))\n",
    "#accept['income_type'] = model.fit_transform(accept['income_type'].astype('str'))\n",
    "accept['education_type'] = model.fit_transform(accept['education_type'].astype('str'))\n",
    "accept['family_status'] = model.fit_transform(accept['family_status'].astype('str'))\n",
    "accept['housing_type'] = model.fit_transform(accept['housing_type'].astype('str'))\n",
    "accept['occupation_type'] = model.fit_transform(accept['occupation_type'].astype('str'))\n",
    "\n",
    "reject['own_car'] = model.fit_transform(reject['own_car'].astype('str'))\n",
    "reject['own_house'] = model.fit_transform(reject['own_house'].astype('str'))\n",
    "#reject['income_type'] = model.fit_transform(reject['income_type'].astype('str'))\n",
    "reject['education_type'] = model.fit_transform(reject['education_type'].astype('str'))\n",
    "reject['family_status'] = model.fit_transform(reject['family_status'].astype('str'))\n",
    "reject['housing_type'] = model.fit_transform(reject['housing_type'].astype('str'))\n",
    "reject['occupation_type'] = model.fit_transform(reject['occupation_type'].astype('str'))\n"
   ]
  },
  {
   "cell_type": "code",
   "execution_count": 21,
   "id": "667cdf08",
   "metadata": {},
   "outputs": [
    {
     "data": {
      "text/plain": [
       "Working                 9567\n",
       "Commercial associate    4158\n",
       "Pensioner               3454\n",
       "State servant           1368\n",
       "Student                    1\n",
       "Unemployed                 1\n",
       "Name: income_type, dtype: int64"
      ]
     },
     "execution_count": 21,
     "metadata": {},
     "output_type": "execute_result"
    }
   ],
   "source": [
    "accept[\"income_type\"].value_counts()"
   ]
  },
  {
   "cell_type": "code",
   "execution_count": 22,
   "id": "c0b12932",
   "metadata": {},
   "outputs": [],
   "source": [
    "accept[\"income_type\"] = accept[\"income_type\"].map({\"Working\":1, \"Commercial associate\":2, \"Pensioner\":3, 'State servant':4,\n",
    "                             'Student':5, 'Unemployed':6})"
   ]
  },
  {
   "cell_type": "code",
   "execution_count": 23,
   "id": "780a990f",
   "metadata": {},
   "outputs": [],
   "source": [
    "reject[\"income_type\"] = reject[\"income_type\"].map({\"Working\":1, \"Commercial associate\":2, \"Pensioner\":3, 'State servant':4\n",
    "                             })"
   ]
  },
  {
   "cell_type": "code",
   "execution_count": 24,
   "id": "e9ac800f",
   "metadata": {},
   "outputs": [
    {
     "data": {
      "text/html": [
       "<div>\n",
       "<style scoped>\n",
       "    .dataframe tbody tr th:only-of-type {\n",
       "        vertical-align: middle;\n",
       "    }\n",
       "\n",
       "    .dataframe tbody tr th {\n",
       "        vertical-align: top;\n",
       "    }\n",
       "\n",
       "    .dataframe thead th {\n",
       "        text-align: right;\n",
       "    }\n",
       "</style>\n",
       "<table border=\"1\" class=\"dataframe\">\n",
       "  <thead>\n",
       "    <tr style=\"text-align: right;\">\n",
       "      <th></th>\n",
       "      <th>total_income</th>\n",
       "      <th>loan_amount</th>\n",
       "      <th>term</th>\n",
       "      <th>interest_rate</th>\n",
       "      <th>own_car</th>\n",
       "      <th>own_house</th>\n",
       "      <th>nr_children</th>\n",
       "      <th>income_type</th>\n",
       "      <th>education_type</th>\n",
       "      <th>family_status</th>\n",
       "      <th>...</th>\n",
       "      <th>days_phone_change</th>\n",
       "      <th>occupation_type</th>\n",
       "      <th>family_count</th>\n",
       "      <th>EXT2</th>\n",
       "      <th>EXT3</th>\n",
       "      <th>EXT4</th>\n",
       "      <th>EXT5</th>\n",
       "      <th>EXT6</th>\n",
       "      <th>EXT7</th>\n",
       "      <th>Default</th>\n",
       "    </tr>\n",
       "  </thead>\n",
       "  <tbody>\n",
       "    <tr>\n",
       "      <th>0</th>\n",
       "      <td>157500.0</td>\n",
       "      <td>288562.5</td>\n",
       "      <td>30</td>\n",
       "      <td>3.737395</td>\n",
       "      <td>1</td>\n",
       "      <td>0</td>\n",
       "      <td>0</td>\n",
       "      <td>2</td>\n",
       "      <td>4</td>\n",
       "      <td>1</td>\n",
       "      <td>...</td>\n",
       "      <td>0.0</td>\n",
       "      <td>4</td>\n",
       "      <td>2.0</td>\n",
       "      <td>0.541308</td>\n",
       "      <td>0.236611</td>\n",
       "      <td>0</td>\n",
       "      <td>0</td>\n",
       "      <td>0</td>\n",
       "      <td>0</td>\n",
       "      <td>0</td>\n",
       "    </tr>\n",
       "    <tr>\n",
       "      <th>1</th>\n",
       "      <td>76500.0</td>\n",
       "      <td>225000.0</td>\n",
       "      <td>48</td>\n",
       "      <td>3.654300</td>\n",
       "      <td>0</td>\n",
       "      <td>1</td>\n",
       "      <td>3</td>\n",
       "      <td>1</td>\n",
       "      <td>4</td>\n",
       "      <td>2</td>\n",
       "      <td>...</td>\n",
       "      <td>-2547.0</td>\n",
       "      <td>8</td>\n",
       "      <td>4.0</td>\n",
       "      <td>0.395423</td>\n",
       "      <td>0.673830</td>\n",
       "      <td>0</td>\n",
       "      <td>1</td>\n",
       "      <td>0</td>\n",
       "      <td>0</td>\n",
       "      <td>0</td>\n",
       "    </tr>\n",
       "    <tr>\n",
       "      <th>2</th>\n",
       "      <td>67500.0</td>\n",
       "      <td>409653.0</td>\n",
       "      <td>12</td>\n",
       "      <td>3.262865</td>\n",
       "      <td>1</td>\n",
       "      <td>0</td>\n",
       "      <td>0</td>\n",
       "      <td>1</td>\n",
       "      <td>4</td>\n",
       "      <td>0</td>\n",
       "      <td>...</td>\n",
       "      <td>-1502.0</td>\n",
       "      <td>8</td>\n",
       "      <td>2.0</td>\n",
       "      <td>0.649417</td>\n",
       "      <td>0.042929</td>\n",
       "      <td>0</td>\n",
       "      <td>1</td>\n",
       "      <td>0</td>\n",
       "      <td>0</td>\n",
       "      <td>1</td>\n",
       "    </tr>\n",
       "    <tr>\n",
       "      <th>3</th>\n",
       "      <td>180000.0</td>\n",
       "      <td>328405.5</td>\n",
       "      <td>24</td>\n",
       "      <td>4.773736</td>\n",
       "      <td>1</td>\n",
       "      <td>0</td>\n",
       "      <td>1</td>\n",
       "      <td>1</td>\n",
       "      <td>4</td>\n",
       "      <td>2</td>\n",
       "      <td>...</td>\n",
       "      <td>-1611.0</td>\n",
       "      <td>8</td>\n",
       "      <td>2.0</td>\n",
       "      <td>0.337838</td>\n",
       "      <td>0.852828</td>\n",
       "      <td>0</td>\n",
       "      <td>1</td>\n",
       "      <td>0</td>\n",
       "      <td>0</td>\n",
       "      <td>0</td>\n",
       "    </tr>\n",
       "    <tr>\n",
       "      <th>4</th>\n",
       "      <td>130500.0</td>\n",
       "      <td>1225224.0</td>\n",
       "      <td>60</td>\n",
       "      <td>2.867961</td>\n",
       "      <td>0</td>\n",
       "      <td>0</td>\n",
       "      <td>0</td>\n",
       "      <td>3</td>\n",
       "      <td>4</td>\n",
       "      <td>1</td>\n",
       "      <td>...</td>\n",
       "      <td>-1181.0</td>\n",
       "      <td>18</td>\n",
       "      <td>2.0</td>\n",
       "      <td>0.537174</td>\n",
       "      <td>0.367291</td>\n",
       "      <td>0</td>\n",
       "      <td>0</td>\n",
       "      <td>0</td>\n",
       "      <td>0</td>\n",
       "      <td>0</td>\n",
       "    </tr>\n",
       "  </tbody>\n",
       "</table>\n",
       "<p>5 rows × 28 columns</p>\n",
       "</div>"
      ],
      "text/plain": [
       "   total_income  loan_amount  term  interest_rate  own_car  own_house  \\\n",
       "0      157500.0     288562.5    30       3.737395        1          0   \n",
       "1       76500.0     225000.0    48       3.654300        0          1   \n",
       "2       67500.0     409653.0    12       3.262865        1          0   \n",
       "3      180000.0     328405.5    24       4.773736        1          0   \n",
       "4      130500.0    1225224.0    60       2.867961        0          0   \n",
       "\n",
       "   nr_children  income_type  education_type  family_status  ...  \\\n",
       "0            0            2               4              1  ...   \n",
       "1            3            1               4              2  ...   \n",
       "2            0            1               4              0  ...   \n",
       "3            1            1               4              2  ...   \n",
       "4            0            3               4              1  ...   \n",
       "\n",
       "   days_phone_change  occupation_type  family_count      EXT2      EXT3  EXT4  \\\n",
       "0                0.0                4           2.0  0.541308  0.236611     0   \n",
       "1            -2547.0                8           4.0  0.395423  0.673830     0   \n",
       "2            -1502.0                8           2.0  0.649417  0.042929     0   \n",
       "3            -1611.0                8           2.0  0.337838  0.852828     0   \n",
       "4            -1181.0               18           2.0  0.537174  0.367291     0   \n",
       "\n",
       "   EXT5  EXT6  EXT7  Default  \n",
       "0     0     0     0        0  \n",
       "1     1     0     0        0  \n",
       "2     1     0     0        1  \n",
       "3     1     0     0        0  \n",
       "4     0     0     0        0  \n",
       "\n",
       "[5 rows x 28 columns]"
      ]
     },
     "execution_count": 24,
     "metadata": {},
     "output_type": "execute_result"
    }
   ],
   "source": [
    "accept.head()"
   ]
  },
  {
   "cell_type": "code",
   "execution_count": 25,
   "id": "d8c5f1f5",
   "metadata": {},
   "outputs": [
    {
     "data": {
      "text/html": [
       "<div>\n",
       "<style scoped>\n",
       "    .dataframe tbody tr th:only-of-type {\n",
       "        vertical-align: middle;\n",
       "    }\n",
       "\n",
       "    .dataframe tbody tr th {\n",
       "        vertical-align: top;\n",
       "    }\n",
       "\n",
       "    .dataframe thead th {\n",
       "        text-align: right;\n",
       "    }\n",
       "</style>\n",
       "<table border=\"1\" class=\"dataframe\">\n",
       "  <thead>\n",
       "    <tr style=\"text-align: right;\">\n",
       "      <th></th>\n",
       "      <th>total_income</th>\n",
       "      <th>loan_amount</th>\n",
       "      <th>term</th>\n",
       "      <th>interest_rate</th>\n",
       "      <th>own_car</th>\n",
       "      <th>own_house</th>\n",
       "      <th>nr_children</th>\n",
       "      <th>income_type</th>\n",
       "      <th>education_type</th>\n",
       "      <th>family_status</th>\n",
       "      <th>...</th>\n",
       "      <th>email</th>\n",
       "      <th>days_phone_change</th>\n",
       "      <th>occupation_type</th>\n",
       "      <th>family_count</th>\n",
       "      <th>EXT2</th>\n",
       "      <th>EXT3</th>\n",
       "      <th>EXT4</th>\n",
       "      <th>EXT5</th>\n",
       "      <th>EXT6</th>\n",
       "      <th>EXT7</th>\n",
       "    </tr>\n",
       "  </thead>\n",
       "  <tbody>\n",
       "    <tr>\n",
       "      <th>0</th>\n",
       "      <td>270000.0</td>\n",
       "      <td>888840.0</td>\n",
       "      <td>48</td>\n",
       "      <td>2.344399</td>\n",
       "      <td>0</td>\n",
       "      <td>1</td>\n",
       "      <td>1</td>\n",
       "      <td>2</td>\n",
       "      <td>1</td>\n",
       "      <td>1</td>\n",
       "      <td>...</td>\n",
       "      <td>0</td>\n",
       "      <td>-1866.0</td>\n",
       "      <td>3</td>\n",
       "      <td>3.0</td>\n",
       "      <td>0.409056</td>\n",
       "      <td>0.687933</td>\n",
       "      <td>0</td>\n",
       "      <td>1</td>\n",
       "      <td>0</td>\n",
       "      <td>0</td>\n",
       "    </tr>\n",
       "    <tr>\n",
       "      <th>1</th>\n",
       "      <td>90000.0</td>\n",
       "      <td>562491.0</td>\n",
       "      <td>36</td>\n",
       "      <td>3.195584</td>\n",
       "      <td>0</td>\n",
       "      <td>1</td>\n",
       "      <td>0</td>\n",
       "      <td>1</td>\n",
       "      <td>4</td>\n",
       "      <td>1</td>\n",
       "      <td>...</td>\n",
       "      <td>0</td>\n",
       "      <td>-1821.0</td>\n",
       "      <td>8</td>\n",
       "      <td>2.0</td>\n",
       "      <td>0.693795</td>\n",
       "      <td>0.563835</td>\n",
       "      <td>0</td>\n",
       "      <td>1</td>\n",
       "      <td>0</td>\n",
       "      <td>0</td>\n",
       "    </tr>\n",
       "    <tr>\n",
       "      <th>2</th>\n",
       "      <td>225000.0</td>\n",
       "      <td>790830.0</td>\n",
       "      <td>48</td>\n",
       "      <td>3.156887</td>\n",
       "      <td>1</td>\n",
       "      <td>1</td>\n",
       "      <td>0</td>\n",
       "      <td>1</td>\n",
       "      <td>4</td>\n",
       "      <td>3</td>\n",
       "      <td>...</td>\n",
       "      <td>1</td>\n",
       "      <td>0.0</td>\n",
       "      <td>8</td>\n",
       "      <td>1.0</td>\n",
       "      <td>0.420569</td>\n",
       "      <td>0.692559</td>\n",
       "      <td>0</td>\n",
       "      <td>1</td>\n",
       "      <td>0</td>\n",
       "      <td>0</td>\n",
       "    </tr>\n",
       "    <tr>\n",
       "      <th>3</th>\n",
       "      <td>135000.0</td>\n",
       "      <td>900000.0</td>\n",
       "      <td>42</td>\n",
       "      <td>3.472026</td>\n",
       "      <td>0</td>\n",
       "      <td>0</td>\n",
       "      <td>0</td>\n",
       "      <td>2</td>\n",
       "      <td>4</td>\n",
       "      <td>1</td>\n",
       "      <td>...</td>\n",
       "      <td>0</td>\n",
       "      <td>-1068.0</td>\n",
       "      <td>14</td>\n",
       "      <td>2.0</td>\n",
       "      <td>0.108418</td>\n",
       "      <td>0.441836</td>\n",
       "      <td>0</td>\n",
       "      <td>0</td>\n",
       "      <td>0</td>\n",
       "      <td>1</td>\n",
       "    </tr>\n",
       "    <tr>\n",
       "      <th>4</th>\n",
       "      <td>67500.0</td>\n",
       "      <td>808650.0</td>\n",
       "      <td>24</td>\n",
       "      <td>2.610668</td>\n",
       "      <td>0</td>\n",
       "      <td>0</td>\n",
       "      <td>0</td>\n",
       "      <td>3</td>\n",
       "      <td>4</td>\n",
       "      <td>3</td>\n",
       "      <td>...</td>\n",
       "      <td>0</td>\n",
       "      <td>-488.0</td>\n",
       "      <td>18</td>\n",
       "      <td>1.0</td>\n",
       "      <td>0.508502</td>\n",
       "      <td>0.771362</td>\n",
       "      <td>0</td>\n",
       "      <td>1</td>\n",
       "      <td>0</td>\n",
       "      <td>0</td>\n",
       "    </tr>\n",
       "  </tbody>\n",
       "</table>\n",
       "<p>5 rows × 27 columns</p>\n",
       "</div>"
      ],
      "text/plain": [
       "   total_income  loan_amount  term  interest_rate  own_car  own_house  \\\n",
       "0      270000.0     888840.0    48       2.344399        0          1   \n",
       "1       90000.0     562491.0    36       3.195584        0          1   \n",
       "2      225000.0     790830.0    48       3.156887        1          1   \n",
       "3      135000.0     900000.0    42       3.472026        0          0   \n",
       "4       67500.0     808650.0    24       2.610668        0          0   \n",
       "\n",
       "   nr_children  income_type  education_type  family_status  ...  email  \\\n",
       "0            1            2               1              1  ...      0   \n",
       "1            0            1               4              1  ...      0   \n",
       "2            0            1               4              3  ...      1   \n",
       "3            0            2               4              1  ...      0   \n",
       "4            0            3               4              3  ...      0   \n",
       "\n",
       "   days_phone_change  occupation_type  family_count      EXT2      EXT3  EXT4  \\\n",
       "0            -1866.0                3           3.0  0.409056  0.687933     0   \n",
       "1            -1821.0                8           2.0  0.693795  0.563835     0   \n",
       "2                0.0                8           1.0  0.420569  0.692559     0   \n",
       "3            -1068.0               14           2.0  0.108418  0.441836     0   \n",
       "4             -488.0               18           1.0  0.508502  0.771362     0   \n",
       "\n",
       "   EXT5  EXT6  EXT7  \n",
       "0     1     0     0  \n",
       "1     1     0     0  \n",
       "2     1     0     0  \n",
       "3     0     0     1  \n",
       "4     1     0     0  \n",
       "\n",
       "[5 rows x 27 columns]"
      ]
     },
     "execution_count": 25,
     "metadata": {},
     "output_type": "execute_result"
    }
   ],
   "source": [
    "reject.head()"
   ]
  },
  {
   "cell_type": "code",
   "execution_count": 26,
   "id": "bcd5d051",
   "metadata": {},
   "outputs": [],
   "source": [
    "cols = ['total_income', 'loan_amount', 'term', 'interest_rate',\n",
    "        'nr_children',   'region_population_ratio',\n",
    "       'days_employed', 'days_registration', 'family_count', 'EXT2', 'EXT3']"
   ]
  },
  {
   "cell_type": "code",
   "execution_count": 27,
   "id": "67fb9fa1",
   "metadata": {},
   "outputs": [
    {
     "data": {
      "image/png": "[encoded data removed]",
      "text/plain": [
       "<Figure size 432x288 with 1 Axes>"
      ]
     },
     "metadata": {
      "needs_background": "light"
     },
     "output_type": "display_data"
    }
   ],
   "source": [
    "accept_dup = accept[cols]\n",
    "ax = sns.boxplot(data=accept_dup, orient=\"h\", palette=\"Set2\")"
   ]
  },
  {
   "cell_type": "code",
   "execution_count": 28,
   "id": "f360f492",
   "metadata": {},
   "outputs": [
    {
     "data": {
      "image/png": "[encoded data removed]",
      "text/plain": [
       "<Figure size 432x288 with 1 Axes>"
      ]
     },
     "metadata": {
      "needs_background": "light"
     },
     "output_type": "display_data"
    }
   ],
   "source": [
    "reject_dup = reject[cols]\n",
    "ax = sns.boxplot(data=reject_dup, orient=\"h\", palette=\"Set2\")"
   ]
  },
  {
   "cell_type": "code",
   "execution_count": 73,
   "id": "96f08943",
   "metadata": {},
   "outputs": [
    {
     "name": "stdout",
     "output_type": "stream",
     "text": [
      "Removed 318 rows ...\n"
     ]
    }
   ],
   "source": [
    "# from scipy import stats\n",
    "\n",
    "# cols = ['total_income', 'loan_amount', 'days_employed']\n",
    "\n",
    "# # compute zscores\n",
    "# zscores = accept[cols].apply(stats.zscore)\n",
    "\n",
    "# # zscores greater or equal 3 are set to False\n",
    "# mask = np.all(np.abs(zscores.values) < 3, axis=1)\n",
    "\n",
    "# # remove masked rows\n",
    "# accept_zscore = accept.iloc[mask].reset_index(drop=True)\n",
    "\n",
    "# print(f\"Removed {accept.shape[0]-accept_zscore.shape[0]} rows ...\")"
   ]
  },
  {
   "cell_type": "code",
   "execution_count": 29,
   "id": "f290a1b7",
   "metadata": {},
   "outputs": [
    {
     "name": "stdout",
     "output_type": "stream",
     "text": [
      "Removed 208 rows ...\n"
     ]
    }
   ],
   "source": [
    "# # compute zscores\n",
    "# zscores = reject[cols].apply(stats.zscore)\n",
    "\n",
    "# # zscores greater or equal 3 are set to False\n",
    "# mask = np.all(np.abs(zscores.values) < 3, axis=1)\n",
    "\n",
    "# # remove masked rows\n",
    "# reject_zscore = reject.iloc[mask].reset_index(drop=True)\n",
    "\n",
    "# print(f\"Removed {reject.shape[0]-reject_zscore.shape[0]} rows ...\")"
   ]
  },
  {
   "cell_type": "code",
   "execution_count": 30,
   "id": "39e71c56",
   "metadata": {},
   "outputs": [],
   "source": [
    "# Dropping all the columns which makes no sense \n",
    "accept = accept.drop(columns = ['mobile_number', 'phone_number', 'email'])\n",
    "\n",
    "reject = reject.drop(columns = ['mobile_number', 'phone_number', 'email'])"
   ]
  },
  {
   "cell_type": "code",
   "execution_count": 32,
   "id": "91c16a39",
   "metadata": {},
   "outputs": [],
   "source": [
    "X = accept[accept.columns[~accept.columns.isin(['Default'])]]\n",
    "y = accept['Default']"
   ]
  },
  {
   "cell_type": "markdown",
   "id": "c7473c87",
   "metadata": {},
   "source": [
    "## Feature Selection\n",
    "### Correlation matrix"
   ]
  },
  {
   "cell_type": "code",
   "execution_count": 34,
   "id": "1ae58bed",
   "metadata": {},
   "outputs": [
    {
     "data": {
      "text/plain": [
       "<AxesSubplot:>"
      ]
     },
     "execution_count": 34,
     "metadata": {},
     "output_type": "execute_result"
    },
    {
     "data": {
      "image/png": "[encoded data removed]",
      "text/plain": [
       "<Figure size 1440x864 with 2 Axes>"
      ]
     },
     "metadata": {
      "needs_background": "light"
     },
     "output_type": "display_data"
    }
   ],
   "source": [
    "# Compute the correlation matrix\n",
    "corr = accept.corr()\n",
    "# Generate a mask for the upper triangle\n",
    "mask = np.triu(np.ones_like(corr, dtype=bool))\n",
    "\n",
    "# Heatmap\n",
    "fig = plt.figure(figsize=(20,12))\n",
    "sns.heatmap(corr, mask=mask, cmap=plt.cm.bwr, center=0, annot=True, fmt='.2f', square=True)"
   ]
  },
  {
   "cell_type": "code",
   "execution_count": 35,
   "id": "8f75bfbc",
   "metadata": {},
   "outputs": [
    {
     "data": {
      "text/plain": [
       "const                      8.784375e-31\n",
       "total_income               4.857073e-01\n",
       "loan_amount                1.263744e-01\n",
       "term                       3.089045e-02\n",
       "interest_rate              8.715829e-01\n",
       "own_car                    4.478117e-02\n",
       "own_house                  9.161040e-01\n",
       "nr_children                2.274567e-01\n",
       "income_type                9.668963e-03\n",
       "education_type             3.143790e-06\n",
       "family_status              4.746432e-01\n",
       "housing_type               1.830513e-02\n",
       "region_population_ratio    2.516472e-01\n",
       "days_birth                 1.580079e-03\n",
       "days_employed              3.553903e-01\n",
       "days_registration          2.423809e-03\n",
       "days_phone_change          4.586609e-02\n",
       "occupation_type            7.866784e-01\n",
       "family_count               1.342184e-01\n",
       "EXT2                       2.259650e-89\n",
       "EXT3                       1.957532e-84\n",
       "EXT4                       7.036229e-01\n",
       "EXT5                       6.323939e-04\n",
       "EXT6                       5.112838e-01\n",
       "EXT7                       3.034462e-01\n",
       "dtype: float64"
      ]
     },
     "execution_count": 35,
     "metadata": {},
     "output_type": "execute_result"
    }
   ],
   "source": [
    "# #Feature selection using wrapper method\n",
    "# import statsmodels.api as sm\n",
    "# X_new = sm.add_constant(X)\n",
    "# model = sm.OLS(y, X_new).fit()\n",
    "# model.pvalues"
   ]
  },
  {
   "cell_type": "code",
   "execution_count": 36,
   "id": "bd9ff675",
   "metadata": {},
   "outputs": [
    {
     "data": {
      "text/plain": [
       "['own_car',\n",
       " 'income_type',\n",
       " 'education_type',\n",
       " 'housing_type',\n",
       " 'days_birth',\n",
       " 'days_registration',\n",
       " 'days_phone_change',\n",
       " 'family_count',\n",
       " 'EXT2',\n",
       " 'EXT3',\n",
       " 'EXT5']"
      ]
     },
     "execution_count": 36,
     "metadata": {},
     "output_type": "execute_result"
    }
   ],
   "source": [
    "# selected_features = list(X.columns)\n",
    "# pmax = 1\n",
    "# while (len(selected_features)>0):\n",
    "#     p= []\n",
    "#     X_new = X[selected_features]\n",
    "#     X_new = sm.add_constant(X_new)\n",
    "#     model = sm.OLS(y,X_new).fit()\n",
    "#     p = pd.Series(model.pvalues.values[1:],index = selected_features)      \n",
    "#     pmax = max(p)\n",
    "#     feature_pmax = p.idxmax()\n",
    "#     if(pmax>0.05):\n",
    "#         selected_features.remove(feature_pmax)\n",
    "#     else:\n",
    "#         break\n",
    "# selected_features"
   ]
  },
  {
   "cell_type": "code",
   "execution_count": 38,
   "id": "0ef80bee",
   "metadata": {},
   "outputs": [
    {
     "data": {
      "text/plain": [
       "1    9567\n",
       "2    4158\n",
       "3    3454\n",
       "4    1368\n",
       "5       1\n",
       "6       1\n",
       "Name: income_type, dtype: int64"
      ]
     },
     "execution_count": 38,
     "metadata": {},
     "output_type": "execute_result"
    }
   ],
   "source": [
    "X.income_type.value_counts()"
   ]
  },
  {
   "cell_type": "code",
   "execution_count": 53,
   "id": "fef60462",
   "metadata": {},
   "outputs": [
    {
     "data": {
      "text/plain": [
       "RandomForestRegressor(n_estimators=150)"
      ]
     },
     "execution_count": 53,
     "metadata": {},
     "output_type": "execute_result"
    }
   ],
   "source": [
    "rf = RandomForestRegressor(n_estimators=150)\n",
    "rf.fit(X_train, y_train)"
   ]
  },
  {
   "cell_type": "code",
   "execution_count": 60,
   "id": "5f6b3136",
   "metadata": {},
   "outputs": [
    {
     "data": {
      "text/html": [
       "<div>\n",
       "<style scoped>\n",
       "    .dataframe tbody tr th:only-of-type {\n",
       "        vertical-align: middle;\n",
       "    }\n",
       "\n",
       "    .dataframe tbody tr th {\n",
       "        vertical-align: top;\n",
       "    }\n",
       "\n",
       "    .dataframe thead th {\n",
       "        text-align: right;\n",
       "    }\n",
       "</style>\n",
       "<table border=\"1\" class=\"dataframe\">\n",
       "  <thead>\n",
       "    <tr style=\"text-align: right;\">\n",
       "      <th></th>\n",
       "      <th>feature</th>\n",
       "      <th>importance</th>\n",
       "    </tr>\n",
       "  </thead>\n",
       "  <tbody>\n",
       "    <tr>\n",
       "      <th>2</th>\n",
       "      <td>term</td>\n",
       "      <td>11.5</td>\n",
       "    </tr>\n",
       "    <tr>\n",
       "      <th>1</th>\n",
       "      <td>loan_amount</td>\n",
       "      <td>11.0</td>\n",
       "    </tr>\n",
       "    <tr>\n",
       "      <th>3</th>\n",
       "      <td>interest_rate</td>\n",
       "      <td>10.5</td>\n",
       "    </tr>\n",
       "    <tr>\n",
       "      <th>0</th>\n",
       "      <td>total_income</td>\n",
       "      <td>10.0</td>\n",
       "    </tr>\n",
       "    <tr>\n",
       "      <th>22</th>\n",
       "      <td>EXT6</td>\n",
       "      <td>9.5</td>\n",
       "    </tr>\n",
       "    <tr>\n",
       "      <th>23</th>\n",
       "      <td>EXT7</td>\n",
       "      <td>9.0</td>\n",
       "    </tr>\n",
       "    <tr>\n",
       "      <th>9</th>\n",
       "      <td>family_status</td>\n",
       "      <td>8.5</td>\n",
       "    </tr>\n",
       "    <tr>\n",
       "      <th>13</th>\n",
       "      <td>days_employed</td>\n",
       "      <td>8.0</td>\n",
       "    </tr>\n",
       "    <tr>\n",
       "      <th>16</th>\n",
       "      <td>occupation_type</td>\n",
       "      <td>7.5</td>\n",
       "    </tr>\n",
       "    <tr>\n",
       "      <th>20</th>\n",
       "      <td>EXT4</td>\n",
       "      <td>7.0</td>\n",
       "    </tr>\n",
       "    <tr>\n",
       "      <th>17</th>\n",
       "      <td>family_count</td>\n",
       "      <td>6.5</td>\n",
       "    </tr>\n",
       "    <tr>\n",
       "      <th>19</th>\n",
       "      <td>EXT3</td>\n",
       "      <td>6.0</td>\n",
       "    </tr>\n",
       "    <tr>\n",
       "      <th>15</th>\n",
       "      <td>days_phone_change</td>\n",
       "      <td>5.5</td>\n",
       "    </tr>\n",
       "    <tr>\n",
       "      <th>11</th>\n",
       "      <td>region_population_ratio</td>\n",
       "      <td>5.0</td>\n",
       "    </tr>\n",
       "    <tr>\n",
       "      <th>10</th>\n",
       "      <td>housing_type</td>\n",
       "      <td>4.5</td>\n",
       "    </tr>\n",
       "    <tr>\n",
       "      <th>7</th>\n",
       "      <td>income_type</td>\n",
       "      <td>4.0</td>\n",
       "    </tr>\n",
       "    <tr>\n",
       "      <th>8</th>\n",
       "      <td>education_type</td>\n",
       "      <td>3.5</td>\n",
       "    </tr>\n",
       "    <tr>\n",
       "      <th>6</th>\n",
       "      <td>nr_children</td>\n",
       "      <td>3.0</td>\n",
       "    </tr>\n",
       "    <tr>\n",
       "      <th>5</th>\n",
       "      <td>own_house</td>\n",
       "      <td>2.5</td>\n",
       "    </tr>\n",
       "    <tr>\n",
       "      <th>4</th>\n",
       "      <td>own_car</td>\n",
       "      <td>2.0</td>\n",
       "    </tr>\n",
       "    <tr>\n",
       "      <th>21</th>\n",
       "      <td>EXT5</td>\n",
       "      <td>1.5</td>\n",
       "    </tr>\n",
       "    <tr>\n",
       "      <th>12</th>\n",
       "      <td>days_birth</td>\n",
       "      <td>1.0</td>\n",
       "    </tr>\n",
       "    <tr>\n",
       "      <th>18</th>\n",
       "      <td>EXT2</td>\n",
       "      <td>0.5</td>\n",
       "    </tr>\n",
       "    <tr>\n",
       "      <th>14</th>\n",
       "      <td>days_registration</td>\n",
       "      <td>0.0</td>\n",
       "    </tr>\n",
       "  </tbody>\n",
       "</table>\n",
       "</div>"
      ],
      "text/plain": [
       "                    feature  importance\n",
       "2                      term        11.5\n",
       "1               loan_amount        11.0\n",
       "3             interest_rate        10.5\n",
       "0              total_income        10.0\n",
       "22                     EXT6         9.5\n",
       "23                     EXT7         9.0\n",
       "9             family_status         8.5\n",
       "13            days_employed         8.0\n",
       "16          occupation_type         7.5\n",
       "20                     EXT4         7.0\n",
       "17             family_count         6.5\n",
       "19                     EXT3         6.0\n",
       "15        days_phone_change         5.5\n",
       "11  region_population_ratio         5.0\n",
       "10             housing_type         4.5\n",
       "7               income_type         4.0\n",
       "8            education_type         3.5\n",
       "6               nr_children         3.0\n",
       "5                 own_house         2.5\n",
       "4                   own_car         2.0\n",
       "21                     EXT5         1.5\n",
       "12               days_birth         1.0\n",
       "18                     EXT2         0.5\n",
       "14        days_registration         0.0"
      ]
     },
     "execution_count": 60,
     "metadata": {},
     "output_type": "execute_result"
    }
   ],
   "source": [
    "sort_importance = rf.feature_importances_.argsort()\n",
    "# Averaging the Feature Importances! \n",
    "sort_importance = sort_importance / 2\n",
    "sort_importance = pd.DataFrame({'feature': list(X_train.columns), 'importance': sort_importance}).sort_values('importance', ascending = False)\n",
    "sort_importance"
   ]
  },
  {
   "cell_type": "code",
   "execution_count": null,
   "id": "e66f613e",
   "metadata": {},
   "outputs": [],
   "source": [
    "selected_features = "
   ]
  },
  {
   "cell_type": "code",
   "execution_count": 49,
   "id": "b74d1cd8",
   "metadata": {},
   "outputs": [],
   "source": [
    "# X = accept[accept[selected_features].columns[~accept[selected_features].columns.isin(['Default'])]]\n",
    "# y = accept['Default']\n",
    "X = accept[accept.columns[~accept.columns.isin(['Default'])]]\n",
    "y = accept['Default']\n",
    "#Split data in train (80%), test (40%)\n",
    "X_train, X_test, y_train, y_test = train_test_split(X, y, test_size=0.3, stratify = y, random_state=42)\n",
    "\n",
    "#Reset Index \n",
    "X_train = X_train.reset_index(drop=True)\n",
    "X_test = X_test.reset_index(drop=True)\n",
    "\n",
    "y_train = np.array(y_train)\n",
    "y_test = np.array(y_test)"
   ]
  },
  {
   "cell_type": "code",
   "execution_count": 50,
   "id": "9cfde15c",
   "metadata": {},
   "outputs": [
    {
     "name": "stdout",
     "output_type": "stream",
     "text": [
      "(12984, 24) (12984,)\n",
      "[11875  1109]\n"
     ]
    },
    {
     "data": {
      "application/vnd.plotly.v1+json": {
       "config": {
        "plotlyServerURL": "https://plot.ly"
       },
       "data": [
        {
         "hole": 0.5,
         "labels": [
          "Default - 0",
          "Default - 1"
         ],
         "marker": {
          "colors": [
           "rgb(153, 214, 255)",
           "rgb(0, 92, 153)"
          ]
         },
         "type": "pie",
         "values": [
          11875,
          1109
         ]
        }
       ],
       "layout": {
        "template": {
         "data": {
          "bar": [
           {
            "error_x": {
             "color": "#2a3f5f"
            },
            "error_y": {
             "color": "#2a3f5f"
            },
            "marker": {
             "line": {
              "color": "#E5ECF6",
              "width": 0.5
             },
             "pattern": {
              "fillmode": "overlay",
              "size": 10,
              "solidity": 0.2
             }
            },
            "type": "bar"
           }
          ],
          "barpolar": [
           {
            "marker": {
             "line": {
              "color": "#E5ECF6",
              "width": 0.5
             },
             "pattern": {
              "fillmode": "overlay",
              "size": 10,
              "solidity": 0.2
             }
            },
            "type": "barpolar"
           }
          ],
          "carpet": [
           {
            "aaxis": {
             "endlinecolor": "#2a3f5f",
             "gridcolor": "white",
             "linecolor": "white",
             "minorgridcolor": "white",
             "startlinecolor": "#2a3f5f"
            },
            "baxis": {
             "endlinecolor": "#2a3f5f",
             "gridcolor": "white",
             "linecolor": "white",
             "minorgridcolor": "white",
             "startlinecolor": "#2a3f5f"
            },
            "type": "carpet"
           }
          ],
          "choropleth": [
           {
            "colorbar": {
             "outlinewidth": 0,
             "ticks": ""
            },
            "type": "choropleth"
           }
          ],
          "contour": [
           {
            "colorbar": {
             "outlinewidth": 0,
             "ticks": ""
            },
            "colorscale": [
             [
              0,
              "#0d0887"
             ],
             [
              0.1111111111111111,
              "#46039f"
             ],
             [
              0.2222222222222222,
              "#7201a8"
             ],
             [
              0.3333333333333333,
              "#9c179e"
             ],
             [
              0.4444444444444444,
              "#bd3786"
             ],
             [
              0.5555555555555556,
              "#d8576b"
             ],
             [
              0.6666666666666666,
              "#ed7953"
             ],
             [
              0.7777777777777778,
              "#fb9f3a"
             ],
             [
              0.8888888888888888,
              "#fdca26"
             ],
             [
              1,
              "#f0f921"
             ]
            ],
            "type": "contour"
           }
          ],
          "contourcarpet": [
           {
            "colorbar": {
             "outlinewidth": 0,
             "ticks": ""
            },
            "type": "contourcarpet"
           }
          ],
          "heatmap": [
           {
            "colorbar": {
             "outlinewidth": 0,
             "ticks": ""
            },
            "colorscale": [
             [
              0,
              "#0d0887"
             ],
             [
              0.1111111111111111,
              "#46039f"
             ],
             [
              0.2222222222222222,
              "#7201a8"
             ],
             [
              0.3333333333333333,
              "#9c179e"
             ],
             [
              0.4444444444444444,
              "#bd3786"
             ],
             [
              0.5555555555555556,
              "#d8576b"
             ],
             [
              0.6666666666666666,
              "#ed7953"
             ],
             [
              0.7777777777777778,
              "#fb9f3a"
             ],
             [
              0.8888888888888888,
              "#fdca26"
             ],
             [
              1,
              "#f0f921"
             ]
            ],
            "type": "heatmap"
           }
          ],
          "heatmapgl": [
           {
            "colorbar": {
             "outlinewidth": 0,
             "ticks": ""
            },
            "colorscale": [
             [
              0,
              "#0d0887"
             ],
             [
              0.1111111111111111,
              "#46039f"
             ],
             [
              0.2222222222222222,
              "#7201a8"
             ],
             [
              0.3333333333333333,
              "#9c179e"
             ],
             [
              0.4444444444444444,
              "#bd3786"
             ],
             [
              0.5555555555555556,
              "#d8576b"
             ],
             [
              0.6666666666666666,
              "#ed7953"
             ],
             [
              0.7777777777777778,
              "#fb9f3a"
             ],
             [
              0.8888888888888888,
              "#fdca26"
             ],
             [
              1,
              "#f0f921"
             ]
            ],
            "type": "heatmapgl"
           }
          ],
          "histogram": [
           {
            "marker": {
             "pattern": {
              "fillmode": "overlay",
              "size": 10,
              "solidity": 0.2
             }
            },
            "type": "histogram"
           }
          ],
          "histogram2d": [
           {
            "colorbar": {
             "outlinewidth": 0,
             "ticks": ""
            },
            "colorscale": [
             [
              0,
              "#0d0887"
             ],
             [
              0.1111111111111111,
              "#46039f"
             ],
             [
              0.2222222222222222,
              "#7201a8"
             ],
             [
              0.3333333333333333,
              "#9c179e"
             ],
             [
              0.4444444444444444,
              "#bd3786"
             ],
             [
              0.5555555555555556,
              "#d8576b"
             ],
             [
              0.6666666666666666,
              "#ed7953"
             ],
             [
              0.7777777777777778,
              "#fb9f3a"
             ],
             [
              0.8888888888888888,
              "#fdca26"
             ],
             [
              1,
              "#f0f921"
             ]
            ],
            "type": "histogram2d"
           }
          ],
          "histogram2dcontour": [
           {
            "colorbar": {
             "outlinewidth": 0,
             "ticks": ""
            },
            "colorscale": [
             [
              0,
              "#0d0887"
             ],
             [
              0.1111111111111111,
              "#46039f"
             ],
             [
              0.2222222222222222,
              "#7201a8"
             ],
             [
              0.3333333333333333,
              "#9c179e"
             ],
             [
              0.4444444444444444,
              "#bd3786"
             ],
             [
              0.5555555555555556,
              "#d8576b"
             ],
             [
              0.6666666666666666,
              "#ed7953"
             ],
             [
              0.7777777777777778,
              "#fb9f3a"
             ],
             [
              0.8888888888888888,
              "#fdca26"
             ],
             [
              1,
              "#f0f921"
             ]
            ],
            "type": "histogram2dcontour"
           }
          ],
          "mesh3d": [
           {
            "colorbar": {
             "outlinewidth": 0,
             "ticks": ""
            },
            "type": "mesh3d"
           }
          ],
          "parcoords": [
           {
            "line": {
             "colorbar": {
              "outlinewidth": 0,
              "ticks": ""
             }
            },
            "type": "parcoords"
           }
          ],
          "pie": [
           {
            "automargin": true,
            "type": "pie"
           }
          ],
          "scatter": [
           {
            "marker": {
             "colorbar": {
              "outlinewidth": 0,
              "ticks": ""
             }
            },
            "type": "scatter"
           }
          ],
          "scatter3d": [
           {
            "line": {
             "colorbar": {
              "outlinewidth": 0,
              "ticks": ""
             }
            },
            "marker": {
             "colorbar": {
              "outlinewidth": 0,
              "ticks": ""
             }
            },
            "type": "scatter3d"
           }
          ],
          "scattercarpet": [
           {
            "marker": {
             "colorbar": {
              "outlinewidth": 0,
              "ticks": ""
             }
            },
            "type": "scattercarpet"
           }
          ],
          "scattergeo": [
           {
            "marker": {
             "colorbar": {
              "outlinewidth": 0,
              "ticks": ""
             }
            },
            "type": "scattergeo"
           }
          ],
          "scattergl": [
           {
            "marker": {
             "colorbar": {
              "outlinewidth": 0,
              "ticks": ""
             }
            },
            "type": "scattergl"
           }
          ],
          "scattermapbox": [
           {
            "marker": {
             "colorbar": {
              "outlinewidth": 0,
              "ticks": ""
             }
            },
            "type": "scattermapbox"
           }
          ],
          "scatterpolar": [
           {
            "marker": {
             "colorbar": {
              "outlinewidth": 0,
              "ticks": ""
             }
            },
            "type": "scatterpolar"
           }
          ],
          "scatterpolargl": [
           {
            "marker": {
             "colorbar": {
              "outlinewidth": 0,
              "ticks": ""
             }
            },
            "type": "scatterpolargl"
           }
          ],
          "scatterternary": [
           {
            "marker": {
             "colorbar": {
              "outlinewidth": 0,
              "ticks": ""
             }
            },
            "type": "scatterternary"
           }
          ],
          "surface": [
           {
            "colorbar": {
             "outlinewidth": 0,
             "ticks": ""
            },
            "colorscale": [
             [
              0,
              "#0d0887"
             ],
             [
              0.1111111111111111,
              "#46039f"
             ],
             [
              0.2222222222222222,
              "#7201a8"
             ],
             [
              0.3333333333333333,
              "#9c179e"
             ],
             [
              0.4444444444444444,
              "#bd3786"
             ],
             [
              0.5555555555555556,
              "#d8576b"
             ],
             [
              0.6666666666666666,
              "#ed7953"
             ],
             [
              0.7777777777777778,
              "#fb9f3a"
             ],
             [
              0.8888888888888888,
              "#fdca26"
             ],
             [
              1,
              "#f0f921"
             ]
            ],
            "type": "surface"
           }
          ],
          "table": [
           {
            "cells": {
             "fill": {
              "color": "#EBF0F8"
             },
             "line": {
              "color": "white"
             }
            },
            "header": {
             "fill": {
              "color": "#C8D4E3"
             },
             "line": {
              "color": "white"
             }
            },
            "type": "table"
           }
          ]
         },
         "layout": {
          "annotationdefaults": {
           "arrowcolor": "#2a3f5f",
           "arrowhead": 0,
           "arrowwidth": 1
          },
          "autotypenumbers": "strict",
          "coloraxis": {
           "colorbar": {
            "outlinewidth": 0,
            "ticks": ""
           }
          },
          "colorscale": {
           "diverging": [
            [
             0,
             "#8e0152"
            ],
            [
             0.1,
             "#c51b7d"
            ],
            [
             0.2,
             "#de77ae"
            ],
            [
             0.3,
             "#f1b6da"
            ],
            [
             0.4,
             "#fde0ef"
            ],
            [
             0.5,
             "#f7f7f7"
            ],
            [
             0.6,
             "#e6f5d0"
            ],
            [
             0.7,
             "#b8e186"
            ],
            [
             0.8,
             "#7fbc41"
            ],
            [
             0.9,
             "#4d9221"
            ],
            [
             1,
             "#276419"
            ]
           ],
           "sequential": [
            [
             0,
             "#0d0887"
            ],
            [
             0.1111111111111111,
             "#46039f"
            ],
            [
             0.2222222222222222,
             "#7201a8"
            ],
            [
             0.3333333333333333,
             "#9c179e"
            ],
            [
             0.4444444444444444,
             "#bd3786"
            ],
            [
             0.5555555555555556,
             "#d8576b"
            ],
            [
             0.6666666666666666,
             "#ed7953"
            ],
            [
             0.7777777777777778,
             "#fb9f3a"
            ],
            [
             0.8888888888888888,
             "#fdca26"
            ],
            [
             1,
             "#f0f921"
            ]
           ],
           "sequentialminus": [
            [
             0,
             "#0d0887"
            ],
            [
             0.1111111111111111,
             "#46039f"
            ],
            [
             0.2222222222222222,
             "#7201a8"
            ],
            [
             0.3333333333333333,
             "#9c179e"
            ],
            [
             0.4444444444444444,
             "#bd3786"
            ],
            [
             0.5555555555555556,
             "#d8576b"
            ],
            [
             0.6666666666666666,
             "#ed7953"
            ],
            [
             0.7777777777777778,
             "#fb9f3a"
            ],
            [
             0.8888888888888888,
             "#fdca26"
            ],
            [
             1,
             "#f0f921"
            ]
           ]
          },
          "colorway": [
           "#636efa",
           "#EF553B",
           "#00cc96",
           "#ab63fa",
           "#FFA15A",
           "#19d3f3",
           "#FF6692",
           "#B6E880",
           "#FF97FF",
           "#FECB52"
          ],
          "font": {
           "color": "#2a3f5f"
          },
          "geo": {
           "bgcolor": "white",
           "lakecolor": "white",
           "landcolor": "#E5ECF6",
           "showlakes": true,
           "showland": true,
           "subunitcolor": "white"
          },
          "hoverlabel": {
           "align": "left"
          },
          "hovermode": "closest",
          "mapbox": {
           "style": "light"
          },
          "paper_bgcolor": "white",
          "plot_bgcolor": "#E5ECF6",
          "polar": {
           "angularaxis": {
            "gridcolor": "white",
            "linecolor": "white",
            "ticks": ""
           },
           "bgcolor": "#E5ECF6",
           "radialaxis": {
            "gridcolor": "white",
            "linecolor": "white",
            "ticks": ""
           }
          },
          "scene": {
           "xaxis": {
            "backgroundcolor": "#E5ECF6",
            "gridcolor": "white",
            "gridwidth": 2,
            "linecolor": "white",
            "showbackground": true,
            "ticks": "",
            "zerolinecolor": "white"
           },
           "yaxis": {
            "backgroundcolor": "#E5ECF6",
            "gridcolor": "white",
            "gridwidth": 2,
            "linecolor": "white",
            "showbackground": true,
            "ticks": "",
            "zerolinecolor": "white"
           },
           "zaxis": {
            "backgroundcolor": "#E5ECF6",
            "gridcolor": "white",
            "gridwidth": 2,
            "linecolor": "white",
            "showbackground": true,
            "ticks": "",
            "zerolinecolor": "white"
           }
          },
          "shapedefaults": {
           "line": {
            "color": "#2a3f5f"
           }
          },
          "ternary": {
           "aaxis": {
            "gridcolor": "white",
            "linecolor": "white",
            "ticks": ""
           },
           "baxis": {
            "gridcolor": "white",
            "linecolor": "white",
            "ticks": ""
           },
           "bgcolor": "#E5ECF6",
           "caxis": {
            "gridcolor": "white",
            "linecolor": "white",
            "ticks": ""
           }
          },
          "title": {
           "x": 0.05
          },
          "xaxis": {
           "automargin": true,
           "gridcolor": "white",
           "linecolor": "white",
           "ticks": "",
           "title": {
            "standoff": 15
           },
           "zerolinecolor": "white",
           "zerolinewidth": 2
          },
          "yaxis": {
           "automargin": true,
           "gridcolor": "white",
           "linecolor": "white",
           "ticks": "",
           "title": {
            "standoff": 15
           },
           "zerolinecolor": "white",
           "zerolinewidth": 2
          }
         }
        }
       }
      },
      "text/html": [
       "<div>                            <div id=\"09ab83e3-4a77-4289-aac8-72a9c86455c8\" class=\"plotly-graph-div\" style=\"height:525px; width:100%;\"></div>            <script type=\"text/javascript\">                require([\"plotly\"], function(Plotly) {                    window.PLOTLYENV=window.PLOTLYENV || {};                                    if (document.getElementById(\"09ab83e3-4a77-4289-aac8-72a9c86455c8\")) {                    Plotly.newPlot(                        \"09ab83e3-4a77-4289-aac8-72a9c86455c8\",                        [{\"hole\":0.5,\"labels\":[\"Default - 0\",\"Default - 1\"],\"marker\":{\"colors\":[\"rgb(153, 214, 255)\",\"rgb(0, 92, 153)\"]},\"type\":\"pie\",\"values\":[11875,1109]}],                        {\"template\":{\"data\":{\"bar\":[{\"error_x\":{\"color\":\"#2a3f5f\"},\"error_y\":{\"color\":\"#2a3f5f\"},\"marker\":{\"line\":{\"color\":\"#E5ECF6\",\"width\":0.5},\"pattern\":{\"fillmode\":\"overlay\",\"size\":10,\"solidity\":0.2}},\"type\":\"bar\"}],\"barpolar\":[{\"marker\":{\"line\":{\"color\":\"#E5ECF6\",\"width\":0.5},\"pattern\":{\"fillmode\":\"overlay\",\"size\":10,\"solidity\":0.2}},\"type\":\"barpolar\"}],\"carpet\":[{\"aaxis\":{\"endlinecolor\":\"#2a3f5f\",\"gridcolor\":\"white\",\"linecolor\":\"white\",\"minorgridcolor\":\"white\",\"startlinecolor\":\"#2a3f5f\"},\"baxis\":{\"endlinecolor\":\"#2a3f5f\",\"gridcolor\":\"white\",\"linecolor\":\"white\",\"minorgridcolor\":\"white\",\"startlinecolor\":\"#2a3f5f\"},\"type\":\"carpet\"}],\"choropleth\":[{\"colorbar\":{\"outlinewidth\":0,\"ticks\":\"\"},\"type\":\"choropleth\"}],\"contour\":[{\"colorbar\":{\"outlinewidth\":0,\"ticks\":\"\"},\"colorscale\":[[0.0,\"#0d0887\"],[0.1111111111111111,\"#46039f\"],[0.2222222222222222,\"#7201a8\"],[0.3333333333333333,\"#9c179e\"],[0.4444444444444444,\"#bd3786\"],[0.5555555555555556,\"#d8576b\"],[0.6666666666666666,\"#ed7953\"],[0.7777777777777778,\"#fb9f3a\"],[0.8888888888888888,\"#fdca26\"],[1.0,\"#f0f921\"]],\"type\":\"contour\"}],\"contourcarpet\":[{\"colorbar\":{\"outlinewidth\":0,\"ticks\":\"\"},\"type\":\"contourcarpet\"}],\"heatmap\":[{\"colorbar\":{\"outlinewidth\":0,\"ticks\":\"\"},\"colorscale\":[[0.0,\"#0d0887\"],[0.1111111111111111,\"#46039f\"],[0.2222222222222222,\"#7201a8\"],[0.3333333333333333,\"#9c179e\"],[0.4444444444444444,\"#bd3786\"],[0.5555555555555556,\"#d8576b\"],[0.6666666666666666,\"#ed7953\"],[0.7777777777777778,\"#fb9f3a\"],[0.8888888888888888,\"#fdca26\"],[1.0,\"#f0f921\"]],\"type\":\"heatmap\"}],\"heatmapgl\":[{\"colorbar\":{\"outlinewidth\":0,\"ticks\":\"\"},\"colorscale\":[[0.0,\"#0d0887\"],[0.1111111111111111,\"#46039f\"],[0.2222222222222222,\"#7201a8\"],[0.3333333333333333,\"#9c179e\"],[0.4444444444444444,\"#bd3786\"],[0.5555555555555556,\"#d8576b\"],[0.6666666666666666,\"#ed7953\"],[0.7777777777777778,\"#fb9f3a\"],[0.8888888888888888,\"#fdca26\"],[1.0,\"#f0f921\"]],\"type\":\"heatmapgl\"}],\"histogram\":[{\"marker\":{\"pattern\":{\"fillmode\":\"overlay\",\"size\":10,\"solidity\":0.2}},\"type\":\"histogram\"}],\"histogram2d\":[{\"colorbar\":{\"outlinewidth\":0,\"ticks\":\"\"},\"colorscale\":[[0.0,\"#0d0887\"],[0.1111111111111111,\"#46039f\"],[0.2222222222222222,\"#7201a8\"],[0.3333333333333333,\"#9c179e\"],[0.4444444444444444,\"#bd3786\"],[0.5555555555555556,\"#d8576b\"],[0.6666666666666666,\"#ed7953\"],[0.7777777777777778,\"#fb9f3a\"],[0.8888888888888888,\"#fdca26\"],[1.0,\"#f0f921\"]],\"type\":\"histogram2d\"}],\"histogram2dcontour\":[{\"colorbar\":{\"outlinewidth\":0,\"ticks\":\"\"},\"colorscale\":[[0.0,\"#0d0887\"],[0.1111111111111111,\"#46039f\"],[0.2222222222222222,\"#7201a8\"],[0.3333333333333333,\"#9c179e\"],[0.4444444444444444,\"#bd3786\"],[0.5555555555555556,\"#d8576b\"],[0.6666666666666666,\"#ed7953\"],[0.7777777777777778,\"#fb9f3a\"],[0.8888888888888888,\"#fdca26\"],[1.0,\"#f0f921\"]],\"type\":\"histogram2dcontour\"}],\"mesh3d\":[{\"colorbar\":{\"outlinewidth\":0,\"ticks\":\"\"},\"type\":\"mesh3d\"}],\"parcoords\":[{\"line\":{\"colorbar\":{\"outlinewidth\":0,\"ticks\":\"\"}},\"type\":\"parcoords\"}],\"pie\":[{\"automargin\":true,\"type\":\"pie\"}],\"scatter\":[{\"marker\":{\"colorbar\":{\"outlinewidth\":0,\"ticks\":\"\"}},\"type\":\"scatter\"}],\"scatter3d\":[{\"line\":{\"colorbar\":{\"outlinewidth\":0,\"ticks\":\"\"}},\"marker\":{\"colorbar\":{\"outlinewidth\":0,\"ticks\":\"\"}},\"type\":\"scatter3d\"}],\"scattercarpet\":[{\"marker\":{\"colorbar\":{\"outlinewidth\":0,\"ticks\":\"\"}},\"type\":\"scattercarpet\"}],\"scattergeo\":[{\"marker\":{\"colorbar\":{\"outlinewidth\":0,\"ticks\":\"\"}},\"type\":\"scattergeo\"}],\"scattergl\":[{\"marker\":{\"colorbar\":{\"outlinewidth\":0,\"ticks\":\"\"}},\"type\":\"scattergl\"}],\"scattermapbox\":[{\"marker\":{\"colorbar\":{\"outlinewidth\":0,\"ticks\":\"\"}},\"type\":\"scattermapbox\"}],\"scatterpolar\":[{\"marker\":{\"colorbar\":{\"outlinewidth\":0,\"ticks\":\"\"}},\"type\":\"scatterpolar\"}],\"scatterpolargl\":[{\"marker\":{\"colorbar\":{\"outlinewidth\":0,\"ticks\":\"\"}},\"type\":\"scatterpolargl\"}],\"scatterternary\":[{\"marker\":{\"colorbar\":{\"outlinewidth\":0,\"ticks\":\"\"}},\"type\":\"scatterternary\"}],\"surface\":[{\"colorbar\":{\"outlinewidth\":0,\"ticks\":\"\"},\"colorscale\":[[0.0,\"#0d0887\"],[0.1111111111111111,\"#46039f\"],[0.2222222222222222,\"#7201a8\"],[0.3333333333333333,\"#9c179e\"],[0.4444444444444444,\"#bd3786\"],[0.5555555555555556,\"#d8576b\"],[0.6666666666666666,\"#ed7953\"],[0.7777777777777778,\"#fb9f3a\"],[0.8888888888888888,\"#fdca26\"],[1.0,\"#f0f921\"]],\"type\":\"surface\"}],\"table\":[{\"cells\":{\"fill\":{\"color\":\"#EBF0F8\"},\"line\":{\"color\":\"white\"}},\"header\":{\"fill\":{\"color\":\"#C8D4E3\"},\"line\":{\"color\":\"white\"}},\"type\":\"table\"}]},\"layout\":{\"annotationdefaults\":{\"arrowcolor\":\"#2a3f5f\",\"arrowhead\":0,\"arrowwidth\":1},\"autotypenumbers\":\"strict\",\"coloraxis\":{\"colorbar\":{\"outlinewidth\":0,\"ticks\":\"\"}},\"colorscale\":{\"diverging\":[[0,\"#8e0152\"],[0.1,\"#c51b7d\"],[0.2,\"#de77ae\"],[0.3,\"#f1b6da\"],[0.4,\"#fde0ef\"],[0.5,\"#f7f7f7\"],[0.6,\"#e6f5d0\"],[0.7,\"#b8e186\"],[0.8,\"#7fbc41\"],[0.9,\"#4d9221\"],[1,\"#276419\"]],\"sequential\":[[0.0,\"#0d0887\"],[0.1111111111111111,\"#46039f\"],[0.2222222222222222,\"#7201a8\"],[0.3333333333333333,\"#9c179e\"],[0.4444444444444444,\"#bd3786\"],[0.5555555555555556,\"#d8576b\"],[0.6666666666666666,\"#ed7953\"],[0.7777777777777778,\"#fb9f3a\"],[0.8888888888888888,\"#fdca26\"],[1.0,\"#f0f921\"]],\"sequentialminus\":[[0.0,\"#0d0887\"],[0.1111111111111111,\"#46039f\"],[0.2222222222222222,\"#7201a8\"],[0.3333333333333333,\"#9c179e\"],[0.4444444444444444,\"#bd3786\"],[0.5555555555555556,\"#d8576b\"],[0.6666666666666666,\"#ed7953\"],[0.7777777777777778,\"#fb9f3a\"],[0.8888888888888888,\"#fdca26\"],[1.0,\"#f0f921\"]]},\"colorway\":[\"#636efa\",\"#EF553B\",\"#00cc96\",\"#ab63fa\",\"#FFA15A\",\"#19d3f3\",\"#FF6692\",\"#B6E880\",\"#FF97FF\",\"#FECB52\"],\"font\":{\"color\":\"#2a3f5f\"},\"geo\":{\"bgcolor\":\"white\",\"lakecolor\":\"white\",\"landcolor\":\"#E5ECF6\",\"showlakes\":true,\"showland\":true,\"subunitcolor\":\"white\"},\"hoverlabel\":{\"align\":\"left\"},\"hovermode\":\"closest\",\"mapbox\":{\"style\":\"light\"},\"paper_bgcolor\":\"white\",\"plot_bgcolor\":\"#E5ECF6\",\"polar\":{\"angularaxis\":{\"gridcolor\":\"white\",\"linecolor\":\"white\",\"ticks\":\"\"},\"bgcolor\":\"#E5ECF6\",\"radialaxis\":{\"gridcolor\":\"white\",\"linecolor\":\"white\",\"ticks\":\"\"}},\"scene\":{\"xaxis\":{\"backgroundcolor\":\"#E5ECF6\",\"gridcolor\":\"white\",\"gridwidth\":2,\"linecolor\":\"white\",\"showbackground\":true,\"ticks\":\"\",\"zerolinecolor\":\"white\"},\"yaxis\":{\"backgroundcolor\":\"#E5ECF6\",\"gridcolor\":\"white\",\"gridwidth\":2,\"linecolor\":\"white\",\"showbackground\":true,\"ticks\":\"\",\"zerolinecolor\":\"white\"},\"zaxis\":{\"backgroundcolor\":\"#E5ECF6\",\"gridcolor\":\"white\",\"gridwidth\":2,\"linecolor\":\"white\",\"showbackground\":true,\"ticks\":\"\",\"zerolinecolor\":\"white\"}},\"shapedefaults\":{\"line\":{\"color\":\"#2a3f5f\"}},\"ternary\":{\"aaxis\":{\"gridcolor\":\"white\",\"linecolor\":\"white\",\"ticks\":\"\"},\"baxis\":{\"gridcolor\":\"white\",\"linecolor\":\"white\",\"ticks\":\"\"},\"bgcolor\":\"#E5ECF6\",\"caxis\":{\"gridcolor\":\"white\",\"linecolor\":\"white\",\"ticks\":\"\"}},\"title\":{\"x\":0.05},\"xaxis\":{\"automargin\":true,\"gridcolor\":\"white\",\"linecolor\":\"white\",\"ticks\":\"\",\"title\":{\"standoff\":15},\"zerolinecolor\":\"white\",\"zerolinewidth\":2},\"yaxis\":{\"automargin\":true,\"gridcolor\":\"white\",\"linecolor\":\"white\",\"ticks\":\"\",\"title\":{\"standoff\":15},\"zerolinecolor\":\"white\",\"zerolinewidth\":2}}}},                        {\"responsive\": true}                    ).then(function(){\n",
       "                            \n",
       "var gd = document.getElementById('09ab83e3-4a77-4289-aac8-72a9c86455c8');\n",
       "var x = new MutationObserver(function (mutations, observer) {{\n",
       "        var display = window.getComputedStyle(gd).display;\n",
       "        if (!display || display === 'none') {{\n",
       "            console.log([gd, 'removed!']);\n",
       "            Plotly.purge(gd);\n",
       "            observer.disconnect();\n",
       "        }}\n",
       "}});\n",
       "\n",
       "// Listen for the removal of the full notebook cells\n",
       "var notebookContainer = gd.closest('#notebook-container');\n",
       "if (notebookContainer) {{\n",
       "    x.observe(notebookContainer, {childList: true});\n",
       "}}\n",
       "\n",
       "// Listen for the clearing of the current output cell\n",
       "var outputEl = gd.closest('.output');\n",
       "if (outputEl) {{\n",
       "    x.observe(outputEl, {childList: true});\n",
       "}}\n",
       "\n",
       "                        })                };                });            </script>        </div>"
      ]
     },
     "metadata": {},
     "output_type": "display_data"
    }
   ],
   "source": [
    "# Class distribution\n",
    "labels = [\"Default - 0\", \"Default - 1\"]\n",
    "values = np.bincount(y_train)\n",
    "\n",
    "print(X_train.shape, y_train.shape)\n",
    "print(np.bincount(y_train))\n",
    "\n",
    "donut = go.Figure(data=[go.Pie(labels=labels, values=values, hole=.5, marker_colors=[\"rgb(153, 214, 255)\", \"rgb(0, 92, 153)\"])])\n",
    "donut.show()"
   ]
  },
  {
   "cell_type": "markdown",
   "id": "9cf23603",
   "metadata": {},
   "source": [
    "## Modeling"
   ]
  },
  {
   "cell_type": "markdown",
   "id": "7045346b",
   "metadata": {},
   "source": [
    "## Defining the Evaluation Metrics"
   ]
  },
  {
   "cell_type": "code",
   "execution_count": 51,
   "id": "f1e0b2bd",
   "metadata": {},
   "outputs": [
    {
     "data": {
      "image/png": "[encoded data removed]",
      "text/plain": [
       "<Figure size 432x288 with 1 Axes>"
      ]
     },
     "metadata": {
      "needs_background": "light"
     },
     "output_type": "display_data"
    },
    {
     "name": "stdout",
     "output_type": "stream",
     "text": [
      "Best Threshold for Test= 0.080739\n",
      "Train:\tACC=0.5518\n",
      "Test:\tACC=0.5473\n",
      "Train:\tAUC=0.5845\n",
      "Test:\tAUC=0.5840\n"
     ]
    }
   ],
   "source": [
    "from numpy import sqrt \n",
    "# fit model\n",
    "logreg = LogisticRegression()\n",
    "logreg.fit(X_train, y_train)\n",
    "\n",
    "# predict\n",
    "pred_train = logreg.predict_proba(X_train)[:,1]\n",
    "pred_test = logreg.predict_proba(X_test)[:,1]\n",
    "\n",
    "pred_train_df = pd.DataFrame(pred_train)\n",
    "pred_test_df = pd.DataFrame(pred_test)\n",
    "\n",
    "# Calculating the best threshold with ROC curves\n",
    "# # calculate roc curves\n",
    "fpr_train, tpr_train, thresholds_train = roc_curve(y_train, pred_train)\n",
    "fpr_test, tpr_test, thresholds_test = roc_curve(y_test, pred_test)\n",
    "\n",
    "# # calculate the geometric-mean for each threshold\n",
    "gmeans_train = sqrt(tpr_train * (1-fpr_train))\n",
    "gmeans_test = sqrt(tpr_test * (1-fpr_test))\n",
    "\n",
    "# # locate the index of the largest g-mean\n",
    "ix_train = np.argmax(gmeans_train)\n",
    "ix_test = np.argmax(gmeans_test)\n",
    "\n",
    "# # plot the roc curve for the model\n",
    "plt.plot([0,1], [0,1], linestyle='--', label='No Skill')\n",
    "plt.plot(fpr_train, tpr_train, linestyle='-', label='Train')\n",
    "plt.plot(fpr_test, tpr_test, linestyle='-', label='Test')\n",
    "\n",
    "# # axis labels\n",
    "plt.xlabel('False Positive Rate')\n",
    "plt.ylabel('True Positive Rate')\n",
    "plt.title('ROC curve for Logistic Regression')\n",
    "plt.legend()\n",
    "# # show the plot\n",
    "plt.show()\n",
    "\n",
    "print('Best Threshold for Test= %f' % (thresholds_test[ix_test]))\n",
    "\n",
    "# #using the best test threshold to classify the machine failure \n",
    "Y_train_pred = pred_train_df.applymap(lambda x: 1 if x>thresholds_test[ix_test] else 0)\n",
    "Y_test_pred = pred_test_df.applymap(lambda x: 1 if x>thresholds_test[ix_test] else 0)\n",
    "\n",
    "# # # Confusion matrix for train and test predictions\n",
    "cf_matrix_train = confusion_matrix(y_train, Y_train_pred)\n",
    "cf_matrix_test = confusion_matrix(y_test, Y_test_pred)\n",
    "\n",
    "\n",
    "# # # evaluate predictions\n",
    "acc_train = accuracy_score(y_train, np.round(Y_train_pred))\n",
    "acc_test = accuracy_score(y_test, np.round(Y_test_pred))\n",
    "\n",
    "print(f\"Train:\\tACC={acc_train:.4f}\")\n",
    "print(f\"Test:\\tACC={acc_test:.4f}\")\n",
    "\n",
    "# # AUC scores for both test and train\n",
    "auc_train = roc_auc_score(y_train, np.round(Y_train_pred))\n",
    "auc_test = roc_auc_score(y_test, np.round(Y_test_pred))\n",
    "\n",
    "print(f\"Train:\\tAUC={auc_train:.4f}\")\n",
    "print(f\"Test:\\tAUC={auc_test:.4f}\")                                                "
   ]
  },
  {
   "cell_type": "code",
   "execution_count": 52,
   "id": "f9bbcc17",
   "metadata": {},
   "outputs": [
    {
     "data": {
      "image/png": "[encoded data removed]",
      "text/plain": [
       "<Figure size 432x288 with 1 Axes>"
      ]
     },
     "metadata": {
      "needs_background": "light"
     },
     "output_type": "display_data"
    },
    {
     "name": "stdout",
     "output_type": "stream",
     "text": [
      "Best Threshold for Test= 0.085027\n",
      "Train:\tACC=0.6801\n",
      "Test:\tACC=0.6485\n",
      "Train:\tAUC=0.7487\n",
      "Test:\tAUC=0.6679\n"
     ]
    }
   ],
   "source": [
    "from sklearn.ensemble import RandomForestClassifier\n",
    "# define random forest model\n",
    "rf = RandomForestClassifier(n_estimators=200, max_depth=6, random_state=42)\n",
    "rf.fit(X_train, y_train)\n",
    "# predict\n",
    "pred_train = rf.predict_proba(X_train)[:,1]\n",
    "pred_test = rf.predict_proba(X_test)[:,1]\n",
    "\n",
    "pred_train_df = pd.DataFrame(pred_train)\n",
    "pred_test_df = pd.DataFrame(pred_test)\n",
    "\n",
    "# Calculating the best threshold with ROC curves\n",
    "# # calculate roc curves\n",
    "fpr_train, tpr_train, thresholds_train = roc_curve(y_train, pred_train)\n",
    "fpr_test, tpr_test, thresholds_test = roc_curve(y_test, pred_test)\n",
    "\n",
    "# # calculate the geometric-mean for each threshold\n",
    "gmeans_train = sqrt(tpr_train * (1-fpr_train))\n",
    "gmeans_test = sqrt(tpr_test * (1-fpr_test))\n",
    "\n",
    "# # locate the index of the largest g-mean\n",
    "ix_train = np.argmax(gmeans_train)\n",
    "ix_test = np.argmax(gmeans_test)\n",
    "\n",
    "# # plot the roc curve for the model\n",
    "plt.plot([0,1], [0,1], linestyle='--', label='No Skill')\n",
    "plt.plot(fpr_train, tpr_train, linestyle='-', label='Train')\n",
    "plt.plot(fpr_test, tpr_test, linestyle='-', label='Test')\n",
    "# # axis labels\n",
    "plt.xlabel('False Positive Rate')\n",
    "plt.ylabel('True Positive Rate')\n",
    "plt.title('ROC curve for Random Forest')\n",
    "plt.legend()\n",
    "# # show the plot\n",
    "plt.show()\n",
    "\n",
    "print('Best Threshold for Test= %f' % (thresholds_test[ix_test]))\n",
    "\n",
    "# #using the best test threshold to classify the machine failure \n",
    "Y_train_pred = pred_train_df.applymap(lambda x: 1 if x>thresholds_test[ix_test] else 0)\n",
    "Y_test_pred = pred_test_df.applymap(lambda x: 1 if x>thresholds_test[ix_test] else 0)\n",
    "\n",
    "# # # Confusion matrix for train and test predictions\n",
    "cf_matrix_train = confusion_matrix(y_train, Y_train_pred)\n",
    "cf_matrix_test = confusion_matrix(y_test, Y_test_pred)\n",
    "\n",
    "\n",
    "# # # evaluate predictions\n",
    "acc_train = accuracy_score(y_train, np.round(Y_train_pred))\n",
    "acc_test = accuracy_score(y_test, np.round(Y_test_pred))\n",
    "\n",
    "print(f\"Train:\\tACC={acc_train:.4f}\")\n",
    "print(f\"Test:\\tACC={acc_test:.4f}\")\n",
    "\n",
    "# # AUC scores for both test and train\n",
    "auc_train = roc_auc_score(y_train, np.round(Y_train_pred))\n",
    "auc_test = roc_auc_score(y_test, np.round(Y_test_pred))\n",
    "\n",
    "print(f\"Train:\\tAUC={auc_train:.4f}\")\n",
    "print(f\"Test:\\tAUC={auc_test:.4f}\")"
   ]
  },
  {
   "cell_type": "code",
   "execution_count": 43,
   "id": "925d80dd",
   "metadata": {},
   "outputs": [],
   "source": [
    "# Defining the Models as dictionary to run them All together\n",
    "models = {\"Logistic\"           :Logistic,\n",
    "          \"RandomForest\"       :RandomForest\n",
    "          }"
   ]
  },
  {
   "cell_type": "code",
   "execution_count": 44,
   "id": "532f2113",
   "metadata": {},
   "outputs": [],
   "source": [
    "# Fitting the Models\n",
    "for model in models:\n",
    "    models[model].fit(X_train[selected_features],y_train)"
   ]
  },
  {
   "cell_type": "code",
   "execution_count": 45,
   "id": "b398f298",
   "metadata": {},
   "outputs": [
    {
     "ename": "ValueError",
     "evalue": "Expected 2D array, got 1D array instead:\narray=[0 0 0 ... 0 0 0].\nReshape your data either using array.reshape(-1, 1) if your data has a single feature or array.reshape(1, -1) if it contains a single sample.",
     "output_type": "error",
     "traceback": [
      "\u001b[1;31m---------------------------------------------------------------------------\u001b[0m",
      "\u001b[1;31mValueError\u001b[0m                                Traceback (most recent call last)",
      "\u001b[1;32m~\\AppData\\Local\\Temp/ipykernel_6112/108641609.py\u001b[0m in \u001b[0;36m<module>\u001b[1;34m\u001b[0m\n\u001b[0;32m      5\u001b[0m \u001b[1;32mfor\u001b[0m \u001b[0mmodel\u001b[0m \u001b[1;32min\u001b[0m \u001b[0mmodels\u001b[0m\u001b[1;33m:\u001b[0m\u001b[1;33m\u001b[0m\u001b[1;33m\u001b[0m\u001b[0m\n\u001b[0;32m      6\u001b[0m     \u001b[0mpredictions\u001b[0m   \u001b[1;33m=\u001b[0m \u001b[0mmodels\u001b[0m\u001b[1;33m[\u001b[0m\u001b[0mmodel\u001b[0m\u001b[1;33m]\u001b[0m\u001b[1;33m.\u001b[0m\u001b[0mpredict\u001b[0m\u001b[1;33m(\u001b[0m\u001b[0mX_train\u001b[0m\u001b[1;33m[\u001b[0m\u001b[0mselected_features\u001b[0m\u001b[1;33m]\u001b[0m\u001b[1;33m)\u001b[0m\u001b[1;33m\u001b[0m\u001b[1;33m\u001b[0m\u001b[0m\n\u001b[1;32m----> 7\u001b[1;33m     \u001b[0mprobabilities\u001b[0m \u001b[1;33m=\u001b[0m \u001b[0mpd\u001b[0m\u001b[1;33m.\u001b[0m\u001b[0mDataFrame\u001b[0m\u001b[1;33m(\u001b[0m\u001b[0mmodels\u001b[0m\u001b[1;33m[\u001b[0m\u001b[0mmodel\u001b[0m\u001b[1;33m]\u001b[0m\u001b[1;33m.\u001b[0m\u001b[0mpredict_proba\u001b[0m\u001b[1;33m(\u001b[0m\u001b[0my_train\u001b[0m\u001b[1;33m)\u001b[0m\u001b[1;33m)\u001b[0m\u001b[1;33m[\u001b[0m\u001b[1;36m1\u001b[0m\u001b[1;33m]\u001b[0m\u001b[1;33m\u001b[0m\u001b[1;33m\u001b[0m\u001b[0m\n\u001b[0m\u001b[0;32m      8\u001b[0m     \u001b[0maccuracy\u001b[0m      \u001b[1;33m=\u001b[0m \u001b[0maccuracy_score\u001b[0m\u001b[1;33m(\u001b[0m\u001b[0my_train\u001b[0m\u001b[1;33m,\u001b[0m\u001b[0mpredictions\u001b[0m\u001b[1;33m)\u001b[0m\u001b[1;33m\u001b[0m\u001b[1;33m\u001b[0m\u001b[0m\n\u001b[0;32m      9\u001b[0m     \u001b[0mauc\u001b[0m           \u001b[1;33m=\u001b[0m \u001b[0mroc_auc_score\u001b[0m\u001b[1;33m(\u001b[0m\u001b[0mnp\u001b[0m\u001b[1;33m.\u001b[0m\u001b[0marray\u001b[0m\u001b[1;33m(\u001b[0m\u001b[0my_train\u001b[0m\u001b[1;33m)\u001b[0m\u001b[1;33m,\u001b[0m\u001b[0mnp\u001b[0m\u001b[1;33m.\u001b[0m\u001b[0marray\u001b[0m\u001b[1;33m(\u001b[0m\u001b[0mprobabilities\u001b[0m\u001b[1;33m)\u001b[0m\u001b[1;33m)\u001b[0m\u001b[1;33m\u001b[0m\u001b[1;33m\u001b[0m\u001b[0m\n",
      "\u001b[1;32mC:\\tools\\Anaconda3\\envs\\py\\lib\\site-packages\\sklearn\\linear_model\\_logistic.py\u001b[0m in \u001b[0;36mpredict_proba\u001b[1;34m(self, X)\u001b[0m\n\u001b[0;32m   1668\u001b[0m         )\n\u001b[0;32m   1669\u001b[0m         \u001b[1;32mif\u001b[0m \u001b[0movr\u001b[0m\u001b[1;33m:\u001b[0m\u001b[1;33m\u001b[0m\u001b[1;33m\u001b[0m\u001b[0m\n\u001b[1;32m-> 1670\u001b[1;33m             \u001b[1;32mreturn\u001b[0m \u001b[0msuper\u001b[0m\u001b[1;33m(\u001b[0m\u001b[1;33m)\u001b[0m\u001b[1;33m.\u001b[0m\u001b[0m_predict_proba_lr\u001b[0m\u001b[1;33m(\u001b[0m\u001b[0mX\u001b[0m\u001b[1;33m)\u001b[0m\u001b[1;33m\u001b[0m\u001b[1;33m\u001b[0m\u001b[0m\n\u001b[0m\u001b[0;32m   1671\u001b[0m         \u001b[1;32melse\u001b[0m\u001b[1;33m:\u001b[0m\u001b[1;33m\u001b[0m\u001b[1;33m\u001b[0m\u001b[0m\n\u001b[0;32m   1672\u001b[0m             \u001b[0mdecision\u001b[0m \u001b[1;33m=\u001b[0m \u001b[0mself\u001b[0m\u001b[1;33m.\u001b[0m\u001b[0mdecision_function\u001b[0m\u001b[1;33m(\u001b[0m\u001b[0mX\u001b[0m\u001b[1;33m)\u001b[0m\u001b[1;33m\u001b[0m\u001b[1;33m\u001b[0m\u001b[0m\n",
      "\u001b[1;32mC:\\tools\\Anaconda3\\envs\\py\\lib\\site-packages\\sklearn\\linear_model\\_base.py\u001b[0m in \u001b[0;36m_predict_proba_lr\u001b[1;34m(self, X)\u001b[0m\n\u001b[0;32m    437\u001b[0m         \u001b[0mmulticlass\u001b[0m \u001b[1;32mis\u001b[0m \u001b[0mhandled\u001b[0m \u001b[0mby\u001b[0m \u001b[0mnormalizing\u001b[0m \u001b[0mthat\u001b[0m \u001b[0mover\u001b[0m \u001b[0mall\u001b[0m \u001b[0mclasses\u001b[0m\u001b[1;33m.\u001b[0m\u001b[1;33m\u001b[0m\u001b[1;33m\u001b[0m\u001b[0m\n\u001b[0;32m    438\u001b[0m         \"\"\"\n\u001b[1;32m--> 439\u001b[1;33m         \u001b[0mprob\u001b[0m \u001b[1;33m=\u001b[0m \u001b[0mself\u001b[0m\u001b[1;33m.\u001b[0m\u001b[0mdecision_function\u001b[0m\u001b[1;33m(\u001b[0m\u001b[0mX\u001b[0m\u001b[1;33m)\u001b[0m\u001b[1;33m\u001b[0m\u001b[1;33m\u001b[0m\u001b[0m\n\u001b[0m\u001b[0;32m    440\u001b[0m         \u001b[0mexpit\u001b[0m\u001b[1;33m(\u001b[0m\u001b[0mprob\u001b[0m\u001b[1;33m,\u001b[0m \u001b[0mout\u001b[0m\u001b[1;33m=\u001b[0m\u001b[0mprob\u001b[0m\u001b[1;33m)\u001b[0m\u001b[1;33m\u001b[0m\u001b[1;33m\u001b[0m\u001b[0m\n\u001b[0;32m    441\u001b[0m         \u001b[1;32mif\u001b[0m \u001b[0mprob\u001b[0m\u001b[1;33m.\u001b[0m\u001b[0mndim\u001b[0m \u001b[1;33m==\u001b[0m \u001b[1;36m1\u001b[0m\u001b[1;33m:\u001b[0m\u001b[1;33m\u001b[0m\u001b[1;33m\u001b[0m\u001b[0m\n",
      "\u001b[1;32mC:\\tools\\Anaconda3\\envs\\py\\lib\\site-packages\\sklearn\\linear_model\\_base.py\u001b[0m in \u001b[0;36mdecision_function\u001b[1;34m(self, X)\u001b[0m\n\u001b[0;32m    405\u001b[0m         \u001b[0mcheck_is_fitted\u001b[0m\u001b[1;33m(\u001b[0m\u001b[0mself\u001b[0m\u001b[1;33m)\u001b[0m\u001b[1;33m\u001b[0m\u001b[1;33m\u001b[0m\u001b[0m\n\u001b[0;32m    406\u001b[0m \u001b[1;33m\u001b[0m\u001b[0m\n\u001b[1;32m--> 407\u001b[1;33m         \u001b[0mX\u001b[0m \u001b[1;33m=\u001b[0m \u001b[0mself\u001b[0m\u001b[1;33m.\u001b[0m\u001b[0m_validate_data\u001b[0m\u001b[1;33m(\u001b[0m\u001b[0mX\u001b[0m\u001b[1;33m,\u001b[0m \u001b[0maccept_sparse\u001b[0m\u001b[1;33m=\u001b[0m\u001b[1;34m\"csr\"\u001b[0m\u001b[1;33m,\u001b[0m \u001b[0mreset\u001b[0m\u001b[1;33m=\u001b[0m\u001b[1;32mFalse\u001b[0m\u001b[1;33m)\u001b[0m\u001b[1;33m\u001b[0m\u001b[1;33m\u001b[0m\u001b[0m\n\u001b[0m\u001b[0;32m    408\u001b[0m         \u001b[0mscores\u001b[0m \u001b[1;33m=\u001b[0m \u001b[0msafe_sparse_dot\u001b[0m\u001b[1;33m(\u001b[0m\u001b[0mX\u001b[0m\u001b[1;33m,\u001b[0m \u001b[0mself\u001b[0m\u001b[1;33m.\u001b[0m\u001b[0mcoef_\u001b[0m\u001b[1;33m.\u001b[0m\u001b[0mT\u001b[0m\u001b[1;33m,\u001b[0m \u001b[0mdense_output\u001b[0m\u001b[1;33m=\u001b[0m\u001b[1;32mTrue\u001b[0m\u001b[1;33m)\u001b[0m \u001b[1;33m+\u001b[0m \u001b[0mself\u001b[0m\u001b[1;33m.\u001b[0m\u001b[0mintercept_\u001b[0m\u001b[1;33m\u001b[0m\u001b[1;33m\u001b[0m\u001b[0m\n\u001b[0;32m    409\u001b[0m         \u001b[1;32mreturn\u001b[0m \u001b[0mscores\u001b[0m\u001b[1;33m.\u001b[0m\u001b[0mravel\u001b[0m\u001b[1;33m(\u001b[0m\u001b[1;33m)\u001b[0m \u001b[1;32mif\u001b[0m \u001b[0mscores\u001b[0m\u001b[1;33m.\u001b[0m\u001b[0mshape\u001b[0m\u001b[1;33m[\u001b[0m\u001b[1;36m1\u001b[0m\u001b[1;33m]\u001b[0m \u001b[1;33m==\u001b[0m \u001b[1;36m1\u001b[0m \u001b[1;32melse\u001b[0m \u001b[0mscores\u001b[0m\u001b[1;33m\u001b[0m\u001b[1;33m\u001b[0m\u001b[0m\n",
      "\u001b[1;32mC:\\tools\\Anaconda3\\envs\\py\\lib\\site-packages\\sklearn\\base.py\u001b[0m in \u001b[0;36m_validate_data\u001b[1;34m(self, X, y, reset, validate_separately, **check_params)\u001b[0m\n\u001b[0;32m    564\u001b[0m             \u001b[1;32mraise\u001b[0m \u001b[0mValueError\u001b[0m\u001b[1;33m(\u001b[0m\u001b[1;34m\"Validation should be done on X, y or both.\"\u001b[0m\u001b[1;33m)\u001b[0m\u001b[1;33m\u001b[0m\u001b[1;33m\u001b[0m\u001b[0m\n\u001b[0;32m    565\u001b[0m         \u001b[1;32melif\u001b[0m \u001b[1;32mnot\u001b[0m \u001b[0mno_val_X\u001b[0m \u001b[1;32mand\u001b[0m \u001b[0mno_val_y\u001b[0m\u001b[1;33m:\u001b[0m\u001b[1;33m\u001b[0m\u001b[1;33m\u001b[0m\u001b[0m\n\u001b[1;32m--> 566\u001b[1;33m             \u001b[0mX\u001b[0m \u001b[1;33m=\u001b[0m \u001b[0mcheck_array\u001b[0m\u001b[1;33m(\u001b[0m\u001b[0mX\u001b[0m\u001b[1;33m,\u001b[0m \u001b[1;33m**\u001b[0m\u001b[0mcheck_params\u001b[0m\u001b[1;33m)\u001b[0m\u001b[1;33m\u001b[0m\u001b[1;33m\u001b[0m\u001b[0m\n\u001b[0m\u001b[0;32m    567\u001b[0m             \u001b[0mout\u001b[0m \u001b[1;33m=\u001b[0m \u001b[0mX\u001b[0m\u001b[1;33m\u001b[0m\u001b[1;33m\u001b[0m\u001b[0m\n\u001b[0;32m    568\u001b[0m         \u001b[1;32melif\u001b[0m \u001b[0mno_val_X\u001b[0m \u001b[1;32mand\u001b[0m \u001b[1;32mnot\u001b[0m \u001b[0mno_val_y\u001b[0m\u001b[1;33m:\u001b[0m\u001b[1;33m\u001b[0m\u001b[1;33m\u001b[0m\u001b[0m\n",
      "\u001b[1;32mC:\\tools\\Anaconda3\\envs\\py\\lib\\site-packages\\sklearn\\utils\\validation.py\u001b[0m in \u001b[0;36mcheck_array\u001b[1;34m(array, accept_sparse, accept_large_sparse, dtype, order, copy, force_all_finite, ensure_2d, allow_nd, ensure_min_samples, ensure_min_features, estimator)\u001b[0m\n\u001b[0;32m    767\u001b[0m             \u001b[1;31m# If input is 1D raise error\u001b[0m\u001b[1;33m\u001b[0m\u001b[1;33m\u001b[0m\u001b[1;33m\u001b[0m\u001b[0m\n\u001b[0;32m    768\u001b[0m             \u001b[1;32mif\u001b[0m \u001b[0marray\u001b[0m\u001b[1;33m.\u001b[0m\u001b[0mndim\u001b[0m \u001b[1;33m==\u001b[0m \u001b[1;36m1\u001b[0m\u001b[1;33m:\u001b[0m\u001b[1;33m\u001b[0m\u001b[1;33m\u001b[0m\u001b[0m\n\u001b[1;32m--> 769\u001b[1;33m                 raise ValueError(\n\u001b[0m\u001b[0;32m    770\u001b[0m                     \u001b[1;34m\"Expected 2D array, got 1D array instead:\\narray={}.\\n\"\u001b[0m\u001b[1;33m\u001b[0m\u001b[1;33m\u001b[0m\u001b[0m\n\u001b[0;32m    771\u001b[0m                     \u001b[1;34m\"Reshape your data either using array.reshape(-1, 1) if \"\u001b[0m\u001b[1;33m\u001b[0m\u001b[1;33m\u001b[0m\u001b[0m\n",
      "\u001b[1;31mValueError\u001b[0m: Expected 2D array, got 1D array instead:\narray=[0 0 0 ... 0 0 0].\nReshape your data either using array.reshape(-1, 1) if your data has a single feature or array.reshape(1, -1) if it contains a single sample."
     ]
    }
   ],
   "source": [
    "# Checking the Performances of various Models on Training Set\n",
    "\n",
    "performances_train = {}\n",
    "\n",
    "for model in models:\n",
    "    predictions   = models[model].predict(X_train[selected_features])\n",
    "    probabilities = pd.DataFrame(models[model].predict_proba(y_train))[1]\n",
    "    accuracy      = accuracy_score(y_train,predictions)\n",
    "    auc           = roc_auc_score(np.array(y_train),np.array(probabilities))\n",
    "    \n",
    "    performances_train[model] = {\"Accuracy\":accuracy,\"AUC\":auc}"
   ]
  },
  {
   "cell_type": "code",
   "execution_count": 114,
   "id": "d5b678a7",
   "metadata": {},
   "outputs": [
    {
     "data": {
      "text/plain": [
       "array([0, 0, 1, ..., 0, 1, 0], dtype=int64)"
      ]
     },
     "execution_count": 114,
     "metadata": {},
     "output_type": "execute_result"
    }
   ],
   "source": [
    "y_train"
   ]
  },
  {
   "cell_type": "code",
   "execution_count": null,
   "id": "5c2ada99",
   "metadata": {},
   "outputs": [],
   "source": []
  },
  {
   "cell_type": "code",
   "execution_count": null,
   "id": "aa613122",
   "metadata": {},
   "outputs": [],
   "source": []
  },
  {
   "cell_type": "code",
   "execution_count": null,
   "id": "d7f94992",
   "metadata": {},
   "outputs": [],
   "source": []
  },
  {
   "cell_type": "code",
   "execution_count": null,
   "id": "348076b7",
   "metadata": {},
   "outputs": [],
   "source": []
  },
  {
   "cell_type": "markdown",
   "id": "149c4be4",
   "metadata": {},
   "source": [
    "## Weight of Evidence"
   ]
  },
  {
   "cell_type": "code",
   "execution_count": 28,
   "id": "f18d572c",
   "metadata": {},
   "outputs": [
    {
     "name": "stdout",
     "output_type": "stream",
     "text": [
      "Detected 'float64' variable, automatically transformed using q=10 quantiles ... \n"
     ]
    },
    {
     "data": {
      "text/html": [
       "<div>\n",
       "<style scoped>\n",
       "    .dataframe tbody tr th:only-of-type {\n",
       "        vertical-align: middle;\n",
       "    }\n",
       "\n",
       "    .dataframe tbody tr th {\n",
       "        vertical-align: top;\n",
       "    }\n",
       "\n",
       "    .dataframe thead th {\n",
       "        text-align: right;\n",
       "    }\n",
       "</style>\n",
       "<table border=\"1\" class=\"dataframe\">\n",
       "  <thead>\n",
       "    <tr style=\"text-align: right;\">\n",
       "      <th></th>\n",
       "      <th>stop_limit</th>\n",
       "      <th>iv_total</th>\n",
       "      <th>n_bins</th>\n",
       "    </tr>\n",
       "  </thead>\n",
       "  <tbody>\n",
       "    <tr>\n",
       "      <th>0</th>\n",
       "      <td>0.010</td>\n",
       "      <td>0.013256</td>\n",
       "      <td>6</td>\n",
       "    </tr>\n",
       "    <tr>\n",
       "      <th>1</th>\n",
       "      <td>0.025</td>\n",
       "      <td>0.012712</td>\n",
       "      <td>5</td>\n",
       "    </tr>\n",
       "    <tr>\n",
       "      <th>2</th>\n",
       "      <td>0.050</td>\n",
       "      <td>0.009788</td>\n",
       "      <td>3</td>\n",
       "    </tr>\n",
       "    <tr>\n",
       "      <th>3</th>\n",
       "      <td>0.100</td>\n",
       "      <td>0.009788</td>\n",
       "      <td>3</td>\n",
       "    </tr>\n",
       "  </tbody>\n",
       "</table>\n",
       "</div>"
      ],
      "text/plain": [
       "   stop_limit  iv_total  n_bins\n",
       "0       0.010  0.013256       6\n",
       "1       0.025  0.012712       5\n",
       "2       0.050  0.009788       3\n",
       "3       0.100  0.009788       3"
      ]
     },
     "execution_count": 28,
     "metadata": {},
     "output_type": "execute_result"
    }
   ],
   "source": [
    "# Apply WOE binning to the \"total_income\" variable\n",
    "accept_woe= WOE.WOEEncoder(pred_var=\"total_income\", target_var=\"Default\")\n",
    "\n",
    "accept_woe.test_limit(accept_zscore, q=10)"
   ]
  },
  {
   "cell_type": "code",
   "execution_count": 29,
   "id": "9b6c916e",
   "metadata": {},
   "outputs": [],
   "source": [
    "accept_zscore = accept_zscore.drop('total_income', axis = 1)"
   ]
  },
  {
   "cell_type": "code",
   "execution_count": 118,
   "id": "486fe77f",
   "metadata": {},
   "outputs": [
    {
     "name": "stdout",
     "output_type": "stream",
     "text": [
      "Detected 'float64' variable, automatically transformed using q=10 quantiles ... \n"
     ]
    },
    {
     "data": {
      "text/html": [
       "<div>\n",
       "<style scoped>\n",
       "    .dataframe tbody tr th:only-of-type {\n",
       "        vertical-align: middle;\n",
       "    }\n",
       "\n",
       "    .dataframe tbody tr th {\n",
       "        vertical-align: top;\n",
       "    }\n",
       "\n",
       "    .dataframe thead th {\n",
       "        text-align: right;\n",
       "    }\n",
       "</style>\n",
       "<table border=\"1\" class=\"dataframe\">\n",
       "  <thead>\n",
       "    <tr style=\"text-align: right;\">\n",
       "      <th></th>\n",
       "      <th>stop_limit</th>\n",
       "      <th>iv_total</th>\n",
       "      <th>n_bins</th>\n",
       "    </tr>\n",
       "  </thead>\n",
       "  <tbody>\n",
       "    <tr>\n",
       "      <th>0</th>\n",
       "      <td>0.010</td>\n",
       "      <td>0.055958</td>\n",
       "      <td>3</td>\n",
       "    </tr>\n",
       "    <tr>\n",
       "      <th>1</th>\n",
       "      <td>0.025</td>\n",
       "      <td>0.055958</td>\n",
       "      <td>3</td>\n",
       "    </tr>\n",
       "    <tr>\n",
       "      <th>2</th>\n",
       "      <td>0.050</td>\n",
       "      <td>0.055958</td>\n",
       "      <td>3</td>\n",
       "    </tr>\n",
       "    <tr>\n",
       "      <th>3</th>\n",
       "      <td>0.100</td>\n",
       "      <td>0.055958</td>\n",
       "      <td>3</td>\n",
       "    </tr>\n",
       "  </tbody>\n",
       "</table>\n",
       "</div>"
      ],
      "text/plain": [
       "   stop_limit  iv_total  n_bins\n",
       "0       0.010  0.055958       3\n",
       "1       0.025  0.055958       3\n",
       "2       0.050  0.055958       3\n",
       "3       0.100  0.055958       3"
      ]
     },
     "execution_count": 118,
     "metadata": {},
     "output_type": "execute_result"
    }
   ],
   "source": [
    "# Apply WOE binning to the \"loan_amount\" variable\n",
    "accept_woe = WOE.WOEEncoder(pred_var='loan_amount', target_var=\"Default\")\n",
    "\n",
    "accept_woe.test_limit(accept_zscore, q=10)"
   ]
  },
  {
   "cell_type": "code",
   "execution_count": 119,
   "id": "094802b1",
   "metadata": {},
   "outputs": [
    {
     "name": "stdout",
     "output_type": "stream",
     "text": [
      "Detected 'float64' variable, automatically transformed using q=10 quantiles ... \n",
      "Fitted 5 bins for 'loan_amount' (levels=10)...\n",
      "Detected 'float64' variable, automatically transformed using q=10 quantiles ... \n"
     ]
    },
    {
     "ename": "KeyError",
     "evalue": "'Default'",
     "output_type": "error",
     "traceback": [
      "\u001b[1;31m---------------------------------------------------------------------------\u001b[0m",
      "\u001b[1;31mKeyError\u001b[0m                                  Traceback (most recent call last)",
      "\u001b[1;32mC:\\tools\\Anaconda3\\envs\\py\\lib\\site-packages\\pandas\\core\\indexes\\base.py\u001b[0m in \u001b[0;36mget_loc\u001b[1;34m(self, key, method, tolerance)\u001b[0m\n\u001b[0;32m   3620\u001b[0m             \u001b[1;32mtry\u001b[0m\u001b[1;33m:\u001b[0m\u001b[1;33m\u001b[0m\u001b[1;33m\u001b[0m\u001b[0m\n\u001b[1;32m-> 3621\u001b[1;33m                 \u001b[1;32mreturn\u001b[0m \u001b[0mself\u001b[0m\u001b[1;33m.\u001b[0m\u001b[0m_engine\u001b[0m\u001b[1;33m.\u001b[0m\u001b[0mget_loc\u001b[0m\u001b[1;33m(\u001b[0m\u001b[0mcasted_key\u001b[0m\u001b[1;33m)\u001b[0m\u001b[1;33m\u001b[0m\u001b[1;33m\u001b[0m\u001b[0m\n\u001b[0m\u001b[0;32m   3622\u001b[0m             \u001b[1;32mexcept\u001b[0m \u001b[0mKeyError\u001b[0m \u001b[1;32mas\u001b[0m \u001b[0merr\u001b[0m\u001b[1;33m:\u001b[0m\u001b[1;33m\u001b[0m\u001b[1;33m\u001b[0m\u001b[0m\n",
      "\u001b[1;32mC:\\tools\\Anaconda3\\envs\\py\\lib\\site-packages\\pandas\\_libs\\index.pyx\u001b[0m in \u001b[0;36mpandas._libs.index.IndexEngine.get_loc\u001b[1;34m()\u001b[0m\n",
      "\u001b[1;32mC:\\tools\\Anaconda3\\envs\\py\\lib\\site-packages\\pandas\\_libs\\index.pyx\u001b[0m in \u001b[0;36mpandas._libs.index.IndexEngine.get_loc\u001b[1;34m()\u001b[0m\n",
      "\u001b[1;32mpandas\\_libs\\hashtable_class_helper.pxi\u001b[0m in \u001b[0;36mpandas._libs.hashtable.PyObjectHashTable.get_item\u001b[1;34m()\u001b[0m\n",
      "\u001b[1;32mpandas\\_libs\\hashtable_class_helper.pxi\u001b[0m in \u001b[0;36mpandas._libs.hashtable.PyObjectHashTable.get_item\u001b[1;34m()\u001b[0m\n",
      "\u001b[1;31mKeyError\u001b[0m: 'Default'",
      "\nThe above exception was the direct cause of the following exception:\n",
      "\u001b[1;31mKeyError\u001b[0m                                  Traceback (most recent call last)",
      "\u001b[1;32m~\\AppData\\Local\\Temp/ipykernel_14948/1236263534.py\u001b[0m in \u001b[0;36m<module>\u001b[1;34m\u001b[0m\n\u001b[0;32m      1\u001b[0m \u001b[0maccept_zscore\u001b[0m \u001b[1;33m=\u001b[0m \u001b[0maccept_woe\u001b[0m\u001b[1;33m.\u001b[0m\u001b[0mfit_transform\u001b[0m\u001b[1;33m(\u001b[0m\u001b[0maccept_zscore\u001b[0m\u001b[1;33m,\u001b[0m \u001b[0mstop_limit\u001b[0m\u001b[1;33m=\u001b[0m\u001b[1;36m0.05\u001b[0m\u001b[1;33m,\u001b[0m \u001b[0mq\u001b[0m\u001b[1;33m=\u001b[0m\u001b[1;36m10\u001b[0m\u001b[1;33m)\u001b[0m\u001b[1;33m\u001b[0m\u001b[1;33m\u001b[0m\u001b[0m\n\u001b[1;32m----> 2\u001b[1;33m \u001b[0mreject_zscore\u001b[0m \u001b[1;33m=\u001b[0m \u001b[0maccept_woe\u001b[0m\u001b[1;33m.\u001b[0m\u001b[0mfit_transform\u001b[0m\u001b[1;33m(\u001b[0m\u001b[0mreject_zscore\u001b[0m\u001b[1;33m,\u001b[0m \u001b[0mstop_limit\u001b[0m\u001b[1;33m=\u001b[0m\u001b[1;36m0.05\u001b[0m\u001b[1;33m,\u001b[0m \u001b[0mq\u001b[0m\u001b[1;33m=\u001b[0m\u001b[1;36m10\u001b[0m\u001b[1;33m)\u001b[0m\u001b[1;33m\u001b[0m\u001b[1;33m\u001b[0m\u001b[0m\n\u001b[0m",
      "\u001b[1;32m~\\OneDrive - IESEG\\Desktop\\Credit Scoring\\Assignment\\Binning\\WOE.py\u001b[0m in \u001b[0;36mfit_transform\u001b[1;34m(self, df, stop_limit, **kwargs)\u001b[0m\n\u001b[0;32m    122\u001b[0m     \u001b[1;31m# fit and transform training data\u001b[0m\u001b[1;33m\u001b[0m\u001b[1;33m\u001b[0m\u001b[1;33m\u001b[0m\u001b[0m\n\u001b[0;32m    123\u001b[0m     \u001b[1;32mdef\u001b[0m \u001b[0mfit_transform\u001b[0m\u001b[1;33m(\u001b[0m\u001b[0mself\u001b[0m\u001b[1;33m,\u001b[0m \u001b[0mdf\u001b[0m\u001b[1;33m,\u001b[0m \u001b[0mstop_limit\u001b[0m\u001b[1;33m=\u001b[0m\u001b[1;36m0.05\u001b[0m\u001b[1;33m,\u001b[0m \u001b[1;33m**\u001b[0m\u001b[0mkwargs\u001b[0m\u001b[1;33m)\u001b[0m\u001b[1;33m:\u001b[0m\u001b[1;33m\u001b[0m\u001b[1;33m\u001b[0m\u001b[0m\n\u001b[1;32m--> 124\u001b[1;33m         \u001b[0mself\u001b[0m\u001b[1;33m.\u001b[0m\u001b[0mfit\u001b[0m\u001b[1;33m(\u001b[0m\u001b[0mdf\u001b[0m\u001b[1;33m,\u001b[0m \u001b[0mstop_limit\u001b[0m\u001b[1;33m,\u001b[0m \u001b[1;33m**\u001b[0m\u001b[0mkwargs\u001b[0m\u001b[1;33m)\u001b[0m\u001b[1;33m\u001b[0m\u001b[1;33m\u001b[0m\u001b[0m\n\u001b[0m\u001b[0;32m    125\u001b[0m         \u001b[1;32mreturn\u001b[0m \u001b[0mself\u001b[0m\u001b[1;33m.\u001b[0m\u001b[0mtransform\u001b[0m\u001b[1;33m(\u001b[0m\u001b[0mdf\u001b[0m\u001b[1;33m)\u001b[0m\u001b[1;33m\u001b[0m\u001b[1;33m\u001b[0m\u001b[0m\n\u001b[0;32m    126\u001b[0m \u001b[1;33m\u001b[0m\u001b[0m\n",
      "\u001b[1;32m~\\OneDrive - IESEG\\Desktop\\Credit Scoring\\Assignment\\Binning\\WOE.py\u001b[0m in \u001b[0;36mfit\u001b[1;34m(self, df, stop_limit, **kwargs)\u001b[0m\n\u001b[0;32m     85\u001b[0m             \u001b[1;32mwith\u001b[0m \u001b[0mwarnings\u001b[0m\u001b[1;33m.\u001b[0m\u001b[0mcatch_warnings\u001b[0m\u001b[1;33m(\u001b[0m\u001b[1;33m)\u001b[0m\u001b[1;33m:\u001b[0m\u001b[1;33m\u001b[0m\u001b[1;33m\u001b[0m\u001b[0m\n\u001b[0;32m     86\u001b[0m                 \u001b[0mwarnings\u001b[0m\u001b[1;33m.\u001b[0m\u001b[0mfilterwarnings\u001b[0m\u001b[1;33m(\u001b[0m\u001b[1;34m\"ignore\"\u001b[0m\u001b[1;33m)\u001b[0m\u001b[1;33m\u001b[0m\u001b[1;33m\u001b[0m\u001b[0m\n\u001b[1;32m---> 87\u001b[1;33m                 \u001b[0mself\u001b[0m\u001b[1;33m.\u001b[0m\u001b[0mout\u001b[0m \u001b[1;33m=\u001b[0m \u001b[0mwoe_binning\u001b[0m\u001b[1;33m(\u001b[0m\u001b[0mdf\u001b[0m\u001b[1;33m=\u001b[0m\u001b[0mdf_copy\u001b[0m\u001b[1;33m,\u001b[0m \u001b[0mtarget_var\u001b[0m\u001b[1;33m=\u001b[0m\u001b[0mself\u001b[0m\u001b[1;33m.\u001b[0m\u001b[0mtarget_var\u001b[0m\u001b[1;33m,\u001b[0m \u001b[0mpred_var\u001b[0m\u001b[1;33m=\u001b[0m\u001b[0mself\u001b[0m\u001b[1;33m.\u001b[0m\u001b[0mpred_var\u001b[0m\u001b[1;33m,\u001b[0m \u001b[0mmin_perc_total\u001b[0m\u001b[1;33m=\u001b[0m\u001b[1;36m0.05\u001b[0m\u001b[1;33m,\u001b[0m \u001b[0mmin_perc_class\u001b[0m\u001b[1;33m=\u001b[0m\u001b[1;36m0.05\u001b[0m\u001b[1;33m,\u001b[0m \u001b[0mstop_limit\u001b[0m\u001b[1;33m=\u001b[0m\u001b[0mstop_limit\u001b[0m\u001b[1;33m,\u001b[0m \u001b[0mabbrev_fact_levels\u001b[0m\u001b[1;33m=\u001b[0m\u001b[1;36m50\u001b[0m\u001b[1;33m,\u001b[0m \u001b[0mevent_class\u001b[0m\u001b[1;33m=\u001b[0m\u001b[0mself\u001b[0m\u001b[1;33m.\u001b[0m\u001b[0mtarget_value\u001b[0m\u001b[1;33m)\u001b[0m\u001b[1;33m\u001b[0m\u001b[1;33m\u001b[0m\u001b[0m\n\u001b[0m\u001b[0;32m     88\u001b[0m \u001b[1;33m\u001b[0m\u001b[0m\n\u001b[0;32m     89\u001b[0m         \u001b[1;31m# case: categorical\u001b[0m\u001b[1;33m\u001b[0m\u001b[1;33m\u001b[0m\u001b[1;33m\u001b[0m\u001b[0m\n",
      "\u001b[1;32m~\\OneDrive - IESEG\\Desktop\\Credit Scoring\\Assignment\\Binning\\WOE.py\u001b[0m in \u001b[0;36mwoe_binning\u001b[1;34m(df, target_var, pred_var, min_perc_total, min_perc_class, stop_limit, abbrev_fact_levels, event_class)\u001b[0m\n\u001b[0;32m    695\u001b[0m \u001b[1;33m\u001b[0m\u001b[0m\n\u001b[0;32m    696\u001b[0m     \u001b[1;31m#### Display warning message in case of incorrect target variable specification\u001b[0m\u001b[1;33m\u001b[0m\u001b[1;33m\u001b[0m\u001b[1;33m\u001b[0m\u001b[0m\n\u001b[1;32m--> 697\u001b[1;33m     \u001b[1;32mif\u001b[0m \u001b[0mlen\u001b[0m\u001b[1;33m(\u001b[0m\u001b[0mdf\u001b[0m\u001b[1;33m[\u001b[0m\u001b[0mtarget_var\u001b[0m\u001b[1;33m]\u001b[0m\u001b[1;33m.\u001b[0m\u001b[0mdrop_duplicates\u001b[0m\u001b[1;33m(\u001b[0m\u001b[1;33m)\u001b[0m\u001b[1;33m.\u001b[0m\u001b[0misna\u001b[0m\u001b[1;33m(\u001b[0m\u001b[1;33m)\u001b[0m\u001b[1;33m)\u001b[0m\u001b[1;33m!=\u001b[0m\u001b[1;36m2\u001b[0m\u001b[1;33m:\u001b[0m\u001b[1;33m\u001b[0m\u001b[1;33m\u001b[0m\u001b[0m\n\u001b[0m\u001b[0;32m    698\u001b[0m         \u001b[0mwarnings\u001b[0m\u001b[1;33m.\u001b[0m\u001b[0mwarn\u001b[0m\u001b[1;33m(\u001b[0m\u001b[1;34m\"Incorrect variable specification.\\nTarget variable must have two distinct values (NAs are accepted).\"\u001b[0m\u001b[1;33m)\u001b[0m\u001b[1;33m\u001b[0m\u001b[1;33m\u001b[0m\u001b[0m\n\u001b[0;32m    699\u001b[0m \u001b[1;33m\u001b[0m\u001b[0m\n",
      "\u001b[1;32mC:\\tools\\Anaconda3\\envs\\py\\lib\\site-packages\\pandas\\core\\frame.py\u001b[0m in \u001b[0;36m__getitem__\u001b[1;34m(self, key)\u001b[0m\n\u001b[0;32m   3503\u001b[0m             \u001b[1;32mif\u001b[0m \u001b[0mself\u001b[0m\u001b[1;33m.\u001b[0m\u001b[0mcolumns\u001b[0m\u001b[1;33m.\u001b[0m\u001b[0mnlevels\u001b[0m \u001b[1;33m>\u001b[0m \u001b[1;36m1\u001b[0m\u001b[1;33m:\u001b[0m\u001b[1;33m\u001b[0m\u001b[1;33m\u001b[0m\u001b[0m\n\u001b[0;32m   3504\u001b[0m                 \u001b[1;32mreturn\u001b[0m \u001b[0mself\u001b[0m\u001b[1;33m.\u001b[0m\u001b[0m_getitem_multilevel\u001b[0m\u001b[1;33m(\u001b[0m\u001b[0mkey\u001b[0m\u001b[1;33m)\u001b[0m\u001b[1;33m\u001b[0m\u001b[1;33m\u001b[0m\u001b[0m\n\u001b[1;32m-> 3505\u001b[1;33m             \u001b[0mindexer\u001b[0m \u001b[1;33m=\u001b[0m \u001b[0mself\u001b[0m\u001b[1;33m.\u001b[0m\u001b[0mcolumns\u001b[0m\u001b[1;33m.\u001b[0m\u001b[0mget_loc\u001b[0m\u001b[1;33m(\u001b[0m\u001b[0mkey\u001b[0m\u001b[1;33m)\u001b[0m\u001b[1;33m\u001b[0m\u001b[1;33m\u001b[0m\u001b[0m\n\u001b[0m\u001b[0;32m   3506\u001b[0m             \u001b[1;32mif\u001b[0m \u001b[0mis_integer\u001b[0m\u001b[1;33m(\u001b[0m\u001b[0mindexer\u001b[0m\u001b[1;33m)\u001b[0m\u001b[1;33m:\u001b[0m\u001b[1;33m\u001b[0m\u001b[1;33m\u001b[0m\u001b[0m\n\u001b[0;32m   3507\u001b[0m                 \u001b[0mindexer\u001b[0m \u001b[1;33m=\u001b[0m \u001b[1;33m[\u001b[0m\u001b[0mindexer\u001b[0m\u001b[1;33m]\u001b[0m\u001b[1;33m\u001b[0m\u001b[1;33m\u001b[0m\u001b[0m\n",
      "\u001b[1;32mC:\\tools\\Anaconda3\\envs\\py\\lib\\site-packages\\pandas\\core\\indexes\\base.py\u001b[0m in \u001b[0;36mget_loc\u001b[1;34m(self, key, method, tolerance)\u001b[0m\n\u001b[0;32m   3621\u001b[0m                 \u001b[1;32mreturn\u001b[0m \u001b[0mself\u001b[0m\u001b[1;33m.\u001b[0m\u001b[0m_engine\u001b[0m\u001b[1;33m.\u001b[0m\u001b[0mget_loc\u001b[0m\u001b[1;33m(\u001b[0m\u001b[0mcasted_key\u001b[0m\u001b[1;33m)\u001b[0m\u001b[1;33m\u001b[0m\u001b[1;33m\u001b[0m\u001b[0m\n\u001b[0;32m   3622\u001b[0m             \u001b[1;32mexcept\u001b[0m \u001b[0mKeyError\u001b[0m \u001b[1;32mas\u001b[0m \u001b[0merr\u001b[0m\u001b[1;33m:\u001b[0m\u001b[1;33m\u001b[0m\u001b[1;33m\u001b[0m\u001b[0m\n\u001b[1;32m-> 3623\u001b[1;33m                 \u001b[1;32mraise\u001b[0m \u001b[0mKeyError\u001b[0m\u001b[1;33m(\u001b[0m\u001b[0mkey\u001b[0m\u001b[1;33m)\u001b[0m \u001b[1;32mfrom\u001b[0m \u001b[0merr\u001b[0m\u001b[1;33m\u001b[0m\u001b[1;33m\u001b[0m\u001b[0m\n\u001b[0m\u001b[0;32m   3624\u001b[0m             \u001b[1;32mexcept\u001b[0m \u001b[0mTypeError\u001b[0m\u001b[1;33m:\u001b[0m\u001b[1;33m\u001b[0m\u001b[1;33m\u001b[0m\u001b[0m\n\u001b[0;32m   3625\u001b[0m                 \u001b[1;31m# If we have a listlike key, _check_indexing_error will raise\u001b[0m\u001b[1;33m\u001b[0m\u001b[1;33m\u001b[0m\u001b[1;33m\u001b[0m\u001b[0m\n",
      "\u001b[1;31mKeyError\u001b[0m: 'Default'"
     ]
    }
   ],
   "source": [
    "accept_zscore = accept_woe.fit_transform(accept_zscore, stop_limit=0.05, q=10)\n",
    "reject_zscore = accept_woe.fit_transform(reject_zscore, stop_limit=0.05, q=10)"
   ]
  },
  {
   "cell_type": "code",
   "execution_count": 53,
   "id": "1c6678a9",
   "metadata": {},
   "outputs": [],
   "source": [
    "accept_zscore = accept_zscore.astype({\"term\": float})"
   ]
  },
  {
   "cell_type": "code",
   "execution_count": 54,
   "id": "42e97c7b",
   "metadata": {},
   "outputs": [
    {
     "name": "stdout",
     "output_type": "stream",
     "text": [
      "Detected 'float64' variable, automatically transformed using q=10 quantiles ... \n"
     ]
    },
    {
     "data": {
      "text/html": [
       "<div>\n",
       "<style scoped>\n",
       "    .dataframe tbody tr th:only-of-type {\n",
       "        vertical-align: middle;\n",
       "    }\n",
       "\n",
       "    .dataframe tbody tr th {\n",
       "        vertical-align: top;\n",
       "    }\n",
       "\n",
       "    .dataframe thead th {\n",
       "        text-align: right;\n",
       "    }\n",
       "</style>\n",
       "<table border=\"1\" class=\"dataframe\">\n",
       "  <thead>\n",
       "    <tr style=\"text-align: right;\">\n",
       "      <th></th>\n",
       "      <th>stop_limit</th>\n",
       "      <th>iv_total</th>\n",
       "      <th>n_bins</th>\n",
       "    </tr>\n",
       "  </thead>\n",
       "  <tbody>\n",
       "    <tr>\n",
       "      <th>0</th>\n",
       "      <td>0.010</td>\n",
       "      <td>0.002114</td>\n",
       "      <td>3</td>\n",
       "    </tr>\n",
       "    <tr>\n",
       "      <th>1</th>\n",
       "      <td>0.025</td>\n",
       "      <td>0.002114</td>\n",
       "      <td>3</td>\n",
       "    </tr>\n",
       "    <tr>\n",
       "      <th>2</th>\n",
       "      <td>0.050</td>\n",
       "      <td>0.002114</td>\n",
       "      <td>3</td>\n",
       "    </tr>\n",
       "    <tr>\n",
       "      <th>3</th>\n",
       "      <td>0.100</td>\n",
       "      <td>0.002114</td>\n",
       "      <td>3</td>\n",
       "    </tr>\n",
       "  </tbody>\n",
       "</table>\n",
       "</div>"
      ],
      "text/plain": [
       "   stop_limit  iv_total  n_bins\n",
       "0       0.010  0.002114       3\n",
       "1       0.025  0.002114       3\n",
       "2       0.050  0.002114       3\n",
       "3       0.100  0.002114       3"
      ]
     },
     "execution_count": 54,
     "metadata": {},
     "output_type": "execute_result"
    }
   ],
   "source": [
    "# Apply WOE binning to the \"term\" variable\n",
    "accept_woe= WOE.WOEEncoder(pred_var='term', target_var=\"Default\")\n",
    "\n",
    "accept_woe.test_limit(accept_zscore)"
   ]
  },
  {
   "cell_type": "code",
   "execution_count": 55,
   "id": "66e121a6",
   "metadata": {},
   "outputs": [],
   "source": [
    "accept_zscore = accept_zscore.drop('term', axis = 1)"
   ]
  },
  {
   "cell_type": "code",
   "execution_count": 36,
   "id": "5af7d27b",
   "metadata": {},
   "outputs": [
    {
     "name": "stdout",
     "output_type": "stream",
     "text": [
      "Detected 'float64' variable, automatically transformed using q=10 quantiles ... \n"
     ]
    },
    {
     "data": {
      "text/html": [
       "<div>\n",
       "<style scoped>\n",
       "    .dataframe tbody tr th:only-of-type {\n",
       "        vertical-align: middle;\n",
       "    }\n",
       "\n",
       "    .dataframe tbody tr th {\n",
       "        vertical-align: top;\n",
       "    }\n",
       "\n",
       "    .dataframe thead th {\n",
       "        text-align: right;\n",
       "    }\n",
       "</style>\n",
       "<table border=\"1\" class=\"dataframe\">\n",
       "  <thead>\n",
       "    <tr style=\"text-align: right;\">\n",
       "      <th></th>\n",
       "      <th>stop_limit</th>\n",
       "      <th>iv_total</th>\n",
       "      <th>n_bins</th>\n",
       "    </tr>\n",
       "  </thead>\n",
       "  <tbody>\n",
       "    <tr>\n",
       "      <th>0</th>\n",
       "      <td>0.010</td>\n",
       "      <td>0.007859</td>\n",
       "      <td>3</td>\n",
       "    </tr>\n",
       "    <tr>\n",
       "      <th>1</th>\n",
       "      <td>0.025</td>\n",
       "      <td>0.007859</td>\n",
       "      <td>3</td>\n",
       "    </tr>\n",
       "    <tr>\n",
       "      <th>2</th>\n",
       "      <td>0.050</td>\n",
       "      <td>0.007859</td>\n",
       "      <td>3</td>\n",
       "    </tr>\n",
       "    <tr>\n",
       "      <th>3</th>\n",
       "      <td>0.100</td>\n",
       "      <td>0.007859</td>\n",
       "      <td>3</td>\n",
       "    </tr>\n",
       "  </tbody>\n",
       "</table>\n",
       "</div>"
      ],
      "text/plain": [
       "   stop_limit  iv_total  n_bins\n",
       "0       0.010  0.007859       3\n",
       "1       0.025  0.007859       3\n",
       "2       0.050  0.007859       3\n",
       "3       0.100  0.007859       3"
      ]
     },
     "execution_count": 36,
     "metadata": {},
     "output_type": "execute_result"
    }
   ],
   "source": [
    "# Apply WOE binning to the \"interest_rate\" variable\n",
    "accept_woe= WOE.WOEEncoder(pred_var='interest_rate', target_var=\"Default\")\n",
    "\n",
    "accept_woe.test_limit(accept_zscore, q=10)"
   ]
  },
  {
   "cell_type": "code",
   "execution_count": 37,
   "id": "8e032ffd",
   "metadata": {},
   "outputs": [],
   "source": [
    "accept_zscore = accept_zscore.drop('interest_rate', axis = 1)"
   ]
  },
  {
   "cell_type": "code",
   "execution_count": 38,
   "id": "62e079ae",
   "metadata": {},
   "outputs": [
    {
     "name": "stdout",
     "output_type": "stream",
     "text": [
      "Detected 'int32' variable, automatically transformed using q=10 quantiles ... \n"
     ]
    },
    {
     "data": {
      "text/html": [
       "<div>\n",
       "<style scoped>\n",
       "    .dataframe tbody tr th:only-of-type {\n",
       "        vertical-align: middle;\n",
       "    }\n",
       "\n",
       "    .dataframe tbody tr th {\n",
       "        vertical-align: top;\n",
       "    }\n",
       "\n",
       "    .dataframe thead th {\n",
       "        text-align: right;\n",
       "    }\n",
       "</style>\n",
       "<table border=\"1\" class=\"dataframe\">\n",
       "  <thead>\n",
       "    <tr style=\"text-align: right;\">\n",
       "      <th></th>\n",
       "      <th>stop_limit</th>\n",
       "      <th>iv_total</th>\n",
       "      <th>n_bins</th>\n",
       "    </tr>\n",
       "  </thead>\n",
       "  <tbody>\n",
       "    <tr>\n",
       "      <th>0</th>\n",
       "      <td>0.010</td>\n",
       "      <td>0.0</td>\n",
       "      <td>1</td>\n",
       "    </tr>\n",
       "    <tr>\n",
       "      <th>1</th>\n",
       "      <td>0.025</td>\n",
       "      <td>0.0</td>\n",
       "      <td>1</td>\n",
       "    </tr>\n",
       "    <tr>\n",
       "      <th>2</th>\n",
       "      <td>0.050</td>\n",
       "      <td>0.0</td>\n",
       "      <td>1</td>\n",
       "    </tr>\n",
       "    <tr>\n",
       "      <th>3</th>\n",
       "      <td>0.100</td>\n",
       "      <td>0.0</td>\n",
       "      <td>1</td>\n",
       "    </tr>\n",
       "  </tbody>\n",
       "</table>\n",
       "</div>"
      ],
      "text/plain": [
       "   stop_limit  iv_total  n_bins\n",
       "0       0.010       0.0       1\n",
       "1       0.025       0.0       1\n",
       "2       0.050       0.0       1\n",
       "3       0.100       0.0       1"
      ]
     },
     "execution_count": 38,
     "metadata": {},
     "output_type": "execute_result"
    }
   ],
   "source": [
    "# Apply WOE binning to the \"own_car\" variable\n",
    "accept_woe= WOE.WOEEncoder(pred_var='own_car', target_var=\"Default\")\n",
    "\n",
    "accept_woe.test_limit(accept_zscore, q=10)"
   ]
  },
  {
   "cell_type": "code",
   "execution_count": 39,
   "id": "451ce4f4",
   "metadata": {},
   "outputs": [],
   "source": [
    "accept_zscore = accept_zscore.drop('own_car', axis = 1)"
   ]
  },
  {
   "cell_type": "code",
   "execution_count": 42,
   "id": "ea973189",
   "metadata": {},
   "outputs": [
    {
     "ename": "KeyError",
     "evalue": "'own_house'",
     "output_type": "error",
     "traceback": [
      "\u001b[1;31m---------------------------------------------------------------------------\u001b[0m",
      "\u001b[1;31mKeyError\u001b[0m                                  Traceback (most recent call last)",
      "\u001b[1;32mC:\\tools\\Anaconda3\\envs\\py\\lib\\site-packages\\pandas\\core\\indexes\\base.py\u001b[0m in \u001b[0;36mget_loc\u001b[1;34m(self, key, method, tolerance)\u001b[0m\n\u001b[0;32m   3620\u001b[0m             \u001b[1;32mtry\u001b[0m\u001b[1;33m:\u001b[0m\u001b[1;33m\u001b[0m\u001b[1;33m\u001b[0m\u001b[0m\n\u001b[1;32m-> 3621\u001b[1;33m                 \u001b[1;32mreturn\u001b[0m \u001b[0mself\u001b[0m\u001b[1;33m.\u001b[0m\u001b[0m_engine\u001b[0m\u001b[1;33m.\u001b[0m\u001b[0mget_loc\u001b[0m\u001b[1;33m(\u001b[0m\u001b[0mcasted_key\u001b[0m\u001b[1;33m)\u001b[0m\u001b[1;33m\u001b[0m\u001b[1;33m\u001b[0m\u001b[0m\n\u001b[0m\u001b[0;32m   3622\u001b[0m             \u001b[1;32mexcept\u001b[0m \u001b[0mKeyError\u001b[0m \u001b[1;32mas\u001b[0m \u001b[0merr\u001b[0m\u001b[1;33m:\u001b[0m\u001b[1;33m\u001b[0m\u001b[1;33m\u001b[0m\u001b[0m\n",
      "\u001b[1;32mC:\\tools\\Anaconda3\\envs\\py\\lib\\site-packages\\pandas\\_libs\\index.pyx\u001b[0m in \u001b[0;36mpandas._libs.index.IndexEngine.get_loc\u001b[1;34m()\u001b[0m\n",
      "\u001b[1;32mC:\\tools\\Anaconda3\\envs\\py\\lib\\site-packages\\pandas\\_libs\\index.pyx\u001b[0m in \u001b[0;36mpandas._libs.index.IndexEngine.get_loc\u001b[1;34m()\u001b[0m\n",
      "\u001b[1;32mpandas\\_libs\\hashtable_class_helper.pxi\u001b[0m in \u001b[0;36mpandas._libs.hashtable.PyObjectHashTable.get_item\u001b[1;34m()\u001b[0m\n",
      "\u001b[1;32mpandas\\_libs\\hashtable_class_helper.pxi\u001b[0m in \u001b[0;36mpandas._libs.hashtable.PyObjectHashTable.get_item\u001b[1;34m()\u001b[0m\n",
      "\u001b[1;31mKeyError\u001b[0m: 'own_house'",
      "\nThe above exception was the direct cause of the following exception:\n",
      "\u001b[1;31mKeyError\u001b[0m                                  Traceback (most recent call last)",
      "\u001b[1;32m~\\AppData\\Local\\Temp/ipykernel_11528/962078658.py\u001b[0m in \u001b[0;36m<module>\u001b[1;34m\u001b[0m\n\u001b[0;32m      2\u001b[0m \u001b[0maccept_woe\u001b[0m\u001b[1;33m=\u001b[0m \u001b[0mWOE\u001b[0m\u001b[1;33m.\u001b[0m\u001b[0mWOEEncoder\u001b[0m\u001b[1;33m(\u001b[0m\u001b[0mpred_var\u001b[0m\u001b[1;33m=\u001b[0m\u001b[1;34m'own_house'\u001b[0m\u001b[1;33m,\u001b[0m \u001b[0mtarget_var\u001b[0m\u001b[1;33m=\u001b[0m\u001b[1;34m\"Default\"\u001b[0m\u001b[1;33m)\u001b[0m\u001b[1;33m\u001b[0m\u001b[1;33m\u001b[0m\u001b[0m\n\u001b[0;32m      3\u001b[0m \u001b[1;33m\u001b[0m\u001b[0m\n\u001b[1;32m----> 4\u001b[1;33m \u001b[0maccept_woe\u001b[0m\u001b[1;33m.\u001b[0m\u001b[0mtest_limit\u001b[0m\u001b[1;33m(\u001b[0m\u001b[0maccept_zscore\u001b[0m\u001b[1;33m,\u001b[0m \u001b[0mq\u001b[0m\u001b[1;33m=\u001b[0m\u001b[1;36m10\u001b[0m\u001b[1;33m)\u001b[0m\u001b[1;33m\u001b[0m\u001b[1;33m\u001b[0m\u001b[0m\n\u001b[0m",
      "\u001b[1;32m~\\OneDrive - IESEG\\Desktop\\Credit Scoring\\Assignment\\Binning\\WOE.py\u001b[0m in \u001b[0;36mtest_limit\u001b[1;34m(self, df, **kwargs)\u001b[0m\n\u001b[0;32m     22\u001b[0m \u001b[1;33m\u001b[0m\u001b[0m\n\u001b[0;32m     23\u001b[0m         \u001b[1;31m# detect data type\u001b[0m\u001b[1;33m\u001b[0m\u001b[1;33m\u001b[0m\u001b[1;33m\u001b[0m\u001b[0m\n\u001b[1;32m---> 24\u001b[1;33m         \u001b[0mvar_type\u001b[0m \u001b[1;33m=\u001b[0m \u001b[0mdf\u001b[0m\u001b[1;33m[\u001b[0m\u001b[0mself\u001b[0m\u001b[1;33m.\u001b[0m\u001b[0mpred_var\u001b[0m\u001b[1;33m]\u001b[0m\u001b[1;33m.\u001b[0m\u001b[0mdtype\u001b[0m\u001b[1;33m\u001b[0m\u001b[1;33m\u001b[0m\u001b[0m\n\u001b[0m\u001b[0;32m     25\u001b[0m \u001b[1;33m\u001b[0m\u001b[0m\n\u001b[0;32m     26\u001b[0m         \u001b[1;31m# case: continous variable -> convert to categorical\u001b[0m\u001b[1;33m\u001b[0m\u001b[1;33m\u001b[0m\u001b[1;33m\u001b[0m\u001b[0m\n",
      "\u001b[1;32mC:\\tools\\Anaconda3\\envs\\py\\lib\\site-packages\\pandas\\core\\frame.py\u001b[0m in \u001b[0;36m__getitem__\u001b[1;34m(self, key)\u001b[0m\n\u001b[0;32m   3503\u001b[0m             \u001b[1;32mif\u001b[0m \u001b[0mself\u001b[0m\u001b[1;33m.\u001b[0m\u001b[0mcolumns\u001b[0m\u001b[1;33m.\u001b[0m\u001b[0mnlevels\u001b[0m \u001b[1;33m>\u001b[0m \u001b[1;36m1\u001b[0m\u001b[1;33m:\u001b[0m\u001b[1;33m\u001b[0m\u001b[1;33m\u001b[0m\u001b[0m\n\u001b[0;32m   3504\u001b[0m                 \u001b[1;32mreturn\u001b[0m \u001b[0mself\u001b[0m\u001b[1;33m.\u001b[0m\u001b[0m_getitem_multilevel\u001b[0m\u001b[1;33m(\u001b[0m\u001b[0mkey\u001b[0m\u001b[1;33m)\u001b[0m\u001b[1;33m\u001b[0m\u001b[1;33m\u001b[0m\u001b[0m\n\u001b[1;32m-> 3505\u001b[1;33m             \u001b[0mindexer\u001b[0m \u001b[1;33m=\u001b[0m \u001b[0mself\u001b[0m\u001b[1;33m.\u001b[0m\u001b[0mcolumns\u001b[0m\u001b[1;33m.\u001b[0m\u001b[0mget_loc\u001b[0m\u001b[1;33m(\u001b[0m\u001b[0mkey\u001b[0m\u001b[1;33m)\u001b[0m\u001b[1;33m\u001b[0m\u001b[1;33m\u001b[0m\u001b[0m\n\u001b[0m\u001b[0;32m   3506\u001b[0m             \u001b[1;32mif\u001b[0m \u001b[0mis_integer\u001b[0m\u001b[1;33m(\u001b[0m\u001b[0mindexer\u001b[0m\u001b[1;33m)\u001b[0m\u001b[1;33m:\u001b[0m\u001b[1;33m\u001b[0m\u001b[1;33m\u001b[0m\u001b[0m\n\u001b[0;32m   3507\u001b[0m                 \u001b[0mindexer\u001b[0m \u001b[1;33m=\u001b[0m \u001b[1;33m[\u001b[0m\u001b[0mindexer\u001b[0m\u001b[1;33m]\u001b[0m\u001b[1;33m\u001b[0m\u001b[1;33m\u001b[0m\u001b[0m\n",
      "\u001b[1;32mC:\\tools\\Anaconda3\\envs\\py\\lib\\site-packages\\pandas\\core\\indexes\\base.py\u001b[0m in \u001b[0;36mget_loc\u001b[1;34m(self, key, method, tolerance)\u001b[0m\n\u001b[0;32m   3621\u001b[0m                 \u001b[1;32mreturn\u001b[0m \u001b[0mself\u001b[0m\u001b[1;33m.\u001b[0m\u001b[0m_engine\u001b[0m\u001b[1;33m.\u001b[0m\u001b[0mget_loc\u001b[0m\u001b[1;33m(\u001b[0m\u001b[0mcasted_key\u001b[0m\u001b[1;33m)\u001b[0m\u001b[1;33m\u001b[0m\u001b[1;33m\u001b[0m\u001b[0m\n\u001b[0;32m   3622\u001b[0m             \u001b[1;32mexcept\u001b[0m \u001b[0mKeyError\u001b[0m \u001b[1;32mas\u001b[0m \u001b[0merr\u001b[0m\u001b[1;33m:\u001b[0m\u001b[1;33m\u001b[0m\u001b[1;33m\u001b[0m\u001b[0m\n\u001b[1;32m-> 3623\u001b[1;33m                 \u001b[1;32mraise\u001b[0m \u001b[0mKeyError\u001b[0m\u001b[1;33m(\u001b[0m\u001b[0mkey\u001b[0m\u001b[1;33m)\u001b[0m \u001b[1;32mfrom\u001b[0m \u001b[0merr\u001b[0m\u001b[1;33m\u001b[0m\u001b[1;33m\u001b[0m\u001b[0m\n\u001b[0m\u001b[0;32m   3624\u001b[0m             \u001b[1;32mexcept\u001b[0m \u001b[0mTypeError\u001b[0m\u001b[1;33m:\u001b[0m\u001b[1;33m\u001b[0m\u001b[1;33m\u001b[0m\u001b[0m\n\u001b[0;32m   3625\u001b[0m                 \u001b[1;31m# If we have a listlike key, _check_indexing_error will raise\u001b[0m\u001b[1;33m\u001b[0m\u001b[1;33m\u001b[0m\u001b[1;33m\u001b[0m\u001b[0m\n",
      "\u001b[1;31mKeyError\u001b[0m: 'own_house'"
     ]
    }
   ],
   "source": [
    "# Apply WOE binning to the \"own_house\" variable\n",
    "accept_woe= WOE.WOEEncoder(pred_var='own_house', target_var=\"Default\")\n",
    "\n",
    "accept_woe.test_limit(accept_zscore, q=10)"
   ]
  },
  {
   "cell_type": "code",
   "execution_count": 41,
   "id": "a90b4c48",
   "metadata": {},
   "outputs": [],
   "source": [
    "accept_zscore = accept_zscore.drop('own_house', axis = 1)"
   ]
  },
  {
   "cell_type": "code",
   "execution_count": 56,
   "id": "7b4418c8",
   "metadata": {},
   "outputs": [],
   "source": [
    "accept_zscore = accept_zscore.astype({\"nr_children\": float})"
   ]
  },
  {
   "cell_type": "code",
   "execution_count": 57,
   "id": "04fd4ccf",
   "metadata": {},
   "outputs": [
    {
     "name": "stdout",
     "output_type": "stream",
     "text": [
      "Detected 'float64' variable, automatically transformed using q=10 quantiles ... \n"
     ]
    },
    {
     "data": {
      "text/html": [
       "<div>\n",
       "<style scoped>\n",
       "    .dataframe tbody tr th:only-of-type {\n",
       "        vertical-align: middle;\n",
       "    }\n",
       "\n",
       "    .dataframe tbody tr th {\n",
       "        vertical-align: top;\n",
       "    }\n",
       "\n",
       "    .dataframe thead th {\n",
       "        text-align: right;\n",
       "    }\n",
       "</style>\n",
       "<table border=\"1\" class=\"dataframe\">\n",
       "  <thead>\n",
       "    <tr style=\"text-align: right;\">\n",
       "      <th></th>\n",
       "      <th>stop_limit</th>\n",
       "      <th>iv_total</th>\n",
       "      <th>n_bins</th>\n",
       "    </tr>\n",
       "  </thead>\n",
       "  <tbody>\n",
       "    <tr>\n",
       "      <th>0</th>\n",
       "      <td>0.010</td>\n",
       "      <td>0.000528</td>\n",
       "      <td>2</td>\n",
       "    </tr>\n",
       "    <tr>\n",
       "      <th>1</th>\n",
       "      <td>0.025</td>\n",
       "      <td>0.000528</td>\n",
       "      <td>2</td>\n",
       "    </tr>\n",
       "    <tr>\n",
       "      <th>2</th>\n",
       "      <td>0.050</td>\n",
       "      <td>0.000528</td>\n",
       "      <td>2</td>\n",
       "    </tr>\n",
       "    <tr>\n",
       "      <th>3</th>\n",
       "      <td>0.100</td>\n",
       "      <td>0.000528</td>\n",
       "      <td>2</td>\n",
       "    </tr>\n",
       "  </tbody>\n",
       "</table>\n",
       "</div>"
      ],
      "text/plain": [
       "   stop_limit  iv_total  n_bins\n",
       "0       0.010  0.000528       2\n",
       "1       0.025  0.000528       2\n",
       "2       0.050  0.000528       2\n",
       "3       0.100  0.000528       2"
      ]
     },
     "execution_count": 57,
     "metadata": {},
     "output_type": "execute_result"
    }
   ],
   "source": [
    "# Apply WOE binning to the \"nr_children\" variable\n",
    "accept_woe= WOE.WOEEncoder(pred_var='nr_children', target_var=\"Default\")\n",
    "\n",
    "accept_woe.test_limit(accept_zscore, q=10)"
   ]
  },
  {
   "cell_type": "code",
   "execution_count": 58,
   "id": "dcac338d",
   "metadata": {},
   "outputs": [],
   "source": [
    "accept_zscore = accept_zscore.drop('nr_children', axis = 1)"
   ]
  },
  {
   "cell_type": "code",
   "execution_count": 44,
   "id": "faea797f",
   "metadata": {},
   "outputs": [
    {
     "data": {
      "text/html": [
       "<div>\n",
       "<style scoped>\n",
       "    .dataframe tbody tr th:only-of-type {\n",
       "        vertical-align: middle;\n",
       "    }\n",
       "\n",
       "    .dataframe tbody tr th {\n",
       "        vertical-align: top;\n",
       "    }\n",
       "\n",
       "    .dataframe thead th {\n",
       "        text-align: right;\n",
       "    }\n",
       "</style>\n",
       "<table border=\"1\" class=\"dataframe\">\n",
       "  <thead>\n",
       "    <tr style=\"text-align: right;\">\n",
       "      <th></th>\n",
       "      <th>stop_limit</th>\n",
       "      <th>iv_total</th>\n",
       "      <th>n_bins</th>\n",
       "    </tr>\n",
       "  </thead>\n",
       "  <tbody>\n",
       "    <tr>\n",
       "      <th>0</th>\n",
       "      <td>0.010</td>\n",
       "      <td>0.046211</td>\n",
       "      <td>3</td>\n",
       "    </tr>\n",
       "    <tr>\n",
       "      <th>1</th>\n",
       "      <td>0.025</td>\n",
       "      <td>0.046211</td>\n",
       "      <td>3</td>\n",
       "    </tr>\n",
       "    <tr>\n",
       "      <th>2</th>\n",
       "      <td>0.050</td>\n",
       "      <td>0.046211</td>\n",
       "      <td>3</td>\n",
       "    </tr>\n",
       "    <tr>\n",
       "      <th>3</th>\n",
       "      <td>0.100</td>\n",
       "      <td>0.046211</td>\n",
       "      <td>3</td>\n",
       "    </tr>\n",
       "  </tbody>\n",
       "</table>\n",
       "</div>"
      ],
      "text/plain": [
       "   stop_limit  iv_total  n_bins\n",
       "0       0.010  0.046211       3\n",
       "1       0.025  0.046211       3\n",
       "2       0.050  0.046211       3\n",
       "3       0.100  0.046211       3"
      ]
     },
     "execution_count": 44,
     "metadata": {},
     "output_type": "execute_result"
    }
   ],
   "source": [
    "# Apply WOE binning to the \"income_type\" variable\n",
    "accept_woe= WOE.WOEEncoder(pred_var='income_type', target_var=\"Default\")\n",
    "\n",
    "accept_woe.test_limit(accept_zscore, q=10)"
   ]
  },
  {
   "cell_type": "code",
   "execution_count": 45,
   "id": "3f5cdb75",
   "metadata": {},
   "outputs": [
    {
     "name": "stdout",
     "output_type": "stream",
     "text": [
      "Fitted 4 bins for 'income_type' (levels=5)...\n"
     ]
    }
   ],
   "source": [
    "accept_zscore = accept_woe.fit_transform(accept_zscore, stop_limit=0.05, q=10)"
   ]
  },
  {
   "cell_type": "code",
   "execution_count": 48,
   "id": "2b07921b",
   "metadata": {},
   "outputs": [
    {
     "data": {
      "text/html": [
       "<div>\n",
       "<style scoped>\n",
       "    .dataframe tbody tr th:only-of-type {\n",
       "        vertical-align: middle;\n",
       "    }\n",
       "\n",
       "    .dataframe tbody tr th {\n",
       "        vertical-align: top;\n",
       "    }\n",
       "\n",
       "    .dataframe thead th {\n",
       "        text-align: right;\n",
       "    }\n",
       "</style>\n",
       "<table border=\"1\" class=\"dataframe\">\n",
       "  <thead>\n",
       "    <tr style=\"text-align: right;\">\n",
       "      <th></th>\n",
       "      <th>stop_limit</th>\n",
       "      <th>iv_total</th>\n",
       "      <th>n_bins</th>\n",
       "    </tr>\n",
       "  </thead>\n",
       "  <tbody>\n",
       "    <tr>\n",
       "      <th>0</th>\n",
       "      <td>0.010</td>\n",
       "      <td>0.027375</td>\n",
       "      <td>3</td>\n",
       "    </tr>\n",
       "    <tr>\n",
       "      <th>1</th>\n",
       "      <td>0.025</td>\n",
       "      <td>0.027375</td>\n",
       "      <td>3</td>\n",
       "    </tr>\n",
       "    <tr>\n",
       "      <th>2</th>\n",
       "      <td>0.050</td>\n",
       "      <td>0.027375</td>\n",
       "      <td>3</td>\n",
       "    </tr>\n",
       "    <tr>\n",
       "      <th>3</th>\n",
       "      <td>0.100</td>\n",
       "      <td>0.027375</td>\n",
       "      <td>3</td>\n",
       "    </tr>\n",
       "  </tbody>\n",
       "</table>\n",
       "</div>"
      ],
      "text/plain": [
       "   stop_limit  iv_total  n_bins\n",
       "0       0.010  0.027375       3\n",
       "1       0.025  0.027375       3\n",
       "2       0.050  0.027375       3\n",
       "3       0.100  0.027375       3"
      ]
     },
     "execution_count": 48,
     "metadata": {},
     "output_type": "execute_result"
    }
   ],
   "source": [
    "# Apply WOE binning to the \"education_type\" variable\n",
    "accept_woe= WOE.WOEEncoder(pred_var='education_type', target_var=\"Default\")\n",
    "\n",
    "accept_woe.test_limit(accept_zscore, q=10)"
   ]
  },
  {
   "cell_type": "code",
   "execution_count": 49,
   "id": "e623f3d6",
   "metadata": {},
   "outputs": [
    {
     "name": "stdout",
     "output_type": "stream",
     "text": [
      "Fitted 3 bins for 'education_type' (levels=5)...\n"
     ]
    }
   ],
   "source": [
    "accept_zscore = accept_woe.fit_transform(accept_zscore, stop_limit=0.05, q=10)"
   ]
  },
  {
   "cell_type": "code",
   "execution_count": 50,
   "id": "7bc244ef",
   "metadata": {},
   "outputs": [
    {
     "data": {
      "text/html": [
       "<div>\n",
       "<style scoped>\n",
       "    .dataframe tbody tr th:only-of-type {\n",
       "        vertical-align: middle;\n",
       "    }\n",
       "\n",
       "    .dataframe tbody tr th {\n",
       "        vertical-align: top;\n",
       "    }\n",
       "\n",
       "    .dataframe thead th {\n",
       "        text-align: right;\n",
       "    }\n",
       "</style>\n",
       "<table border=\"1\" class=\"dataframe\">\n",
       "  <thead>\n",
       "    <tr style=\"text-align: right;\">\n",
       "      <th></th>\n",
       "      <th>stop_limit</th>\n",
       "      <th>iv_total</th>\n",
       "      <th>n_bins</th>\n",
       "    </tr>\n",
       "  </thead>\n",
       "  <tbody>\n",
       "    <tr>\n",
       "      <th>0</th>\n",
       "      <td>0.010</td>\n",
       "      <td>0.025717</td>\n",
       "      <td>3</td>\n",
       "    </tr>\n",
       "    <tr>\n",
       "      <th>1</th>\n",
       "      <td>0.025</td>\n",
       "      <td>0.025717</td>\n",
       "      <td>3</td>\n",
       "    </tr>\n",
       "    <tr>\n",
       "      <th>2</th>\n",
       "      <td>0.050</td>\n",
       "      <td>0.025717</td>\n",
       "      <td>3</td>\n",
       "    </tr>\n",
       "    <tr>\n",
       "      <th>3</th>\n",
       "      <td>0.100</td>\n",
       "      <td>0.025717</td>\n",
       "      <td>3</td>\n",
       "    </tr>\n",
       "  </tbody>\n",
       "</table>\n",
       "</div>"
      ],
      "text/plain": [
       "   stop_limit  iv_total  n_bins\n",
       "0       0.010  0.025717       3\n",
       "1       0.025  0.025717       3\n",
       "2       0.050  0.025717       3\n",
       "3       0.100  0.025717       3"
      ]
     },
     "execution_count": 50,
     "metadata": {},
     "output_type": "execute_result"
    }
   ],
   "source": [
    "# Apply WOE binning to the \"family_status\" variable\n",
    "accept_woe= WOE.WOEEncoder(pred_var='family_status', target_var=\"Default\")\n",
    "\n",
    "accept_woe.test_limit(accept_zscore, q=10)"
   ]
  },
  {
   "cell_type": "code",
   "execution_count": 51,
   "id": "7b6ef999",
   "metadata": {},
   "outputs": [
    {
     "name": "stdout",
     "output_type": "stream",
     "text": [
      "Fitted 4 bins for 'family_status' (levels=5)...\n"
     ]
    }
   ],
   "source": [
    "accept_zscore = accept_woe.fit_transform(accept_zscore, stop_limit=0.05, q=10)"
   ]
  },
  {
   "cell_type": "code",
   "execution_count": 59,
   "id": "5bdb3eb5",
   "metadata": {},
   "outputs": [
    {
     "data": {
      "text/html": [
       "<div>\n",
       "<style scoped>\n",
       "    .dataframe tbody tr th:only-of-type {\n",
       "        vertical-align: middle;\n",
       "    }\n",
       "\n",
       "    .dataframe tbody tr th {\n",
       "        vertical-align: top;\n",
       "    }\n",
       "\n",
       "    .dataframe thead th {\n",
       "        text-align: right;\n",
       "    }\n",
       "</style>\n",
       "<table border=\"1\" class=\"dataframe\">\n",
       "  <thead>\n",
       "    <tr style=\"text-align: right;\">\n",
       "      <th></th>\n",
       "      <th>stop_limit</th>\n",
       "      <th>iv_total</th>\n",
       "      <th>n_bins</th>\n",
       "    </tr>\n",
       "  </thead>\n",
       "  <tbody>\n",
       "    <tr>\n",
       "      <th>0</th>\n",
       "      <td>0.010</td>\n",
       "      <td>0.035919</td>\n",
       "      <td>3</td>\n",
       "    </tr>\n",
       "    <tr>\n",
       "      <th>1</th>\n",
       "      <td>0.025</td>\n",
       "      <td>0.035919</td>\n",
       "      <td>3</td>\n",
       "    </tr>\n",
       "    <tr>\n",
       "      <th>2</th>\n",
       "      <td>0.050</td>\n",
       "      <td>0.035919</td>\n",
       "      <td>3</td>\n",
       "    </tr>\n",
       "    <tr>\n",
       "      <th>3</th>\n",
       "      <td>0.100</td>\n",
       "      <td>0.035919</td>\n",
       "      <td>3</td>\n",
       "    </tr>\n",
       "  </tbody>\n",
       "</table>\n",
       "</div>"
      ],
      "text/plain": [
       "   stop_limit  iv_total  n_bins\n",
       "0       0.010  0.035919       3\n",
       "1       0.025  0.035919       3\n",
       "2       0.050  0.035919       3\n",
       "3       0.100  0.035919       3"
      ]
     },
     "execution_count": 59,
     "metadata": {},
     "output_type": "execute_result"
    }
   ],
   "source": [
    "# Apply WOE binning to the \"housing_type\" variable\n",
    "accept_woe= WOE.WOEEncoder(pred_var='housing_type', target_var=\"Default\")\n",
    "\n",
    "accept_woe.test_limit(accept_zscore, q=10)"
   ]
  },
  {
   "cell_type": "code",
   "execution_count": 60,
   "id": "48a1082e",
   "metadata": {},
   "outputs": [
    {
     "name": "stdout",
     "output_type": "stream",
     "text": [
      "Fitted 3 bins for 'housing_type' (levels=10)...\n"
     ]
    }
   ],
   "source": [
    "accept_zscore = accept_woe.fit_transform(accept_zscore, stop_limit=0.05, q=10)"
   ]
  },
  {
   "cell_type": "code",
   "execution_count": 61,
   "id": "eef8d8ae",
   "metadata": {},
   "outputs": [
    {
     "name": "stdout",
     "output_type": "stream",
     "text": [
      "Detected 'float64' variable, automatically transformed using q=10 quantiles ... \n"
     ]
    },
    {
     "data": {
      "text/html": [
       "<div>\n",
       "<style scoped>\n",
       "    .dataframe tbody tr th:only-of-type {\n",
       "        vertical-align: middle;\n",
       "    }\n",
       "\n",
       "    .dataframe tbody tr th {\n",
       "        vertical-align: top;\n",
       "    }\n",
       "\n",
       "    .dataframe thead th {\n",
       "        text-align: right;\n",
       "    }\n",
       "</style>\n",
       "<table border=\"1\" class=\"dataframe\">\n",
       "  <thead>\n",
       "    <tr style=\"text-align: right;\">\n",
       "      <th></th>\n",
       "      <th>stop_limit</th>\n",
       "      <th>iv_total</th>\n",
       "      <th>n_bins</th>\n",
       "    </tr>\n",
       "  </thead>\n",
       "  <tbody>\n",
       "    <tr>\n",
       "      <th>0</th>\n",
       "      <td>0.010</td>\n",
       "      <td>0.023486</td>\n",
       "      <td>5</td>\n",
       "    </tr>\n",
       "    <tr>\n",
       "      <th>1</th>\n",
       "      <td>0.025</td>\n",
       "      <td>0.022812</td>\n",
       "      <td>4</td>\n",
       "    </tr>\n",
       "    <tr>\n",
       "      <th>2</th>\n",
       "      <td>0.050</td>\n",
       "      <td>0.017644</td>\n",
       "      <td>3</td>\n",
       "    </tr>\n",
       "    <tr>\n",
       "      <th>3</th>\n",
       "      <td>0.100</td>\n",
       "      <td>0.017644</td>\n",
       "      <td>3</td>\n",
       "    </tr>\n",
       "  </tbody>\n",
       "</table>\n",
       "</div>"
      ],
      "text/plain": [
       "   stop_limit  iv_total  n_bins\n",
       "0       0.010  0.023486       5\n",
       "1       0.025  0.022812       4\n",
       "2       0.050  0.017644       3\n",
       "3       0.100  0.017644       3"
      ]
     },
     "execution_count": 61,
     "metadata": {},
     "output_type": "execute_result"
    }
   ],
   "source": [
    "# Apply WOE binning to the \"region_population_ratio\" variable\n",
    "accept_woe= WOE.WOEEncoder(pred_var='region_population_ratio', target_var=\"Default\")\n",
    "\n",
    "accept_woe.test_limit(accept_zscore, q=10)"
   ]
  },
  {
   "cell_type": "code",
   "execution_count": 62,
   "id": "bc532cf6",
   "metadata": {},
   "outputs": [],
   "source": [
    "accept_zscore = accept_zscore.drop('region_population_ratio', axis = 1)"
   ]
  },
  {
   "cell_type": "code",
   "execution_count": 64,
   "id": "a9037093",
   "metadata": {},
   "outputs": [],
   "source": [
    "accept_zscore = accept_zscore.astype({\"days_birth\": float})"
   ]
  },
  {
   "cell_type": "code",
   "execution_count": 65,
   "id": "c651d6c7",
   "metadata": {},
   "outputs": [
    {
     "name": "stdout",
     "output_type": "stream",
     "text": [
      "Detected 'float64' variable, automatically transformed using q=10 quantiles ... \n"
     ]
    },
    {
     "data": {
      "text/html": [
       "<div>\n",
       "<style scoped>\n",
       "    .dataframe tbody tr th:only-of-type {\n",
       "        vertical-align: middle;\n",
       "    }\n",
       "\n",
       "    .dataframe tbody tr th {\n",
       "        vertical-align: top;\n",
       "    }\n",
       "\n",
       "    .dataframe thead th {\n",
       "        text-align: right;\n",
       "    }\n",
       "</style>\n",
       "<table border=\"1\" class=\"dataframe\">\n",
       "  <thead>\n",
       "    <tr style=\"text-align: right;\">\n",
       "      <th></th>\n",
       "      <th>stop_limit</th>\n",
       "      <th>iv_total</th>\n",
       "      <th>n_bins</th>\n",
       "    </tr>\n",
       "  </thead>\n",
       "  <tbody>\n",
       "    <tr>\n",
       "      <th>0</th>\n",
       "      <td>0.010</td>\n",
       "      <td>0.093705</td>\n",
       "      <td>5</td>\n",
       "    </tr>\n",
       "    <tr>\n",
       "      <th>1</th>\n",
       "      <td>0.025</td>\n",
       "      <td>0.088951</td>\n",
       "      <td>3</td>\n",
       "    </tr>\n",
       "    <tr>\n",
       "      <th>2</th>\n",
       "      <td>0.050</td>\n",
       "      <td>0.088951</td>\n",
       "      <td>3</td>\n",
       "    </tr>\n",
       "    <tr>\n",
       "      <th>3</th>\n",
       "      <td>0.100</td>\n",
       "      <td>0.088951</td>\n",
       "      <td>3</td>\n",
       "    </tr>\n",
       "  </tbody>\n",
       "</table>\n",
       "</div>"
      ],
      "text/plain": [
       "   stop_limit  iv_total  n_bins\n",
       "0       0.010  0.093705       5\n",
       "1       0.025  0.088951       3\n",
       "2       0.050  0.088951       3\n",
       "3       0.100  0.088951       3"
      ]
     },
     "execution_count": 65,
     "metadata": {},
     "output_type": "execute_result"
    }
   ],
   "source": [
    "# Apply WOE binning to the \"days_birth\" variable\n",
    "accept_woe= WOE.WOEEncoder(pred_var='days_birth', target_var=\"Default\")\n",
    "\n",
    "accept_woe.test_limit(accept_zscore, q=10)"
   ]
  },
  {
   "cell_type": "code",
   "execution_count": 66,
   "id": "e9a2f2d7",
   "metadata": {},
   "outputs": [
    {
     "name": "stdout",
     "output_type": "stream",
     "text": [
      "Detected 'float64' variable, automatically transformed using q=10 quantiles ... \n",
      "Fitted 5 bins for 'days_birth' (levels=10)...\n"
     ]
    }
   ],
   "source": [
    "accept_zscore = accept_woe.fit_transform(accept_zscore, stop_limit=0.05, q=10)"
   ]
  },
  {
   "cell_type": "code",
   "execution_count": 76,
   "id": "8639c56f",
   "metadata": {},
   "outputs": [
    {
     "ename": "ValueError",
     "evalue": "could not convert string to float: 'days_employed_5'",
     "output_type": "error",
     "traceback": [
      "\u001b[1;31m---------------------------------------------------------------------------\u001b[0m",
      "\u001b[1;31mValueError\u001b[0m                                Traceback (most recent call last)",
      "\u001b[1;32m~\\AppData\\Local\\Temp/ipykernel_11528/851227037.py\u001b[0m in \u001b[0;36m<module>\u001b[1;34m\u001b[0m\n\u001b[1;32m----> 1\u001b[1;33m accept_zscore = accept_zscore.astype({\"days_employed\": float, 'days_registration':float, 'days_phone_change':float,\n\u001b[0m\u001b[0;32m      2\u001b[0m                                      \u001b[1;34m'family_count'\u001b[0m\u001b[1;33m:\u001b[0m\u001b[0mfloat\u001b[0m\u001b[1;33m,\u001b[0m \u001b[1;34m'EXT4'\u001b[0m\u001b[1;33m:\u001b[0m\u001b[0mfloat\u001b[0m\u001b[1;33m,\u001b[0m \u001b[1;34m'EXT5'\u001b[0m\u001b[1;33m:\u001b[0m\u001b[0mfloat\u001b[0m\u001b[1;33m,\u001b[0m \u001b[1;34m'EXT6'\u001b[0m\u001b[1;33m:\u001b[0m\u001b[0mfloat\u001b[0m\u001b[1;33m,\u001b[0m \u001b[1;34m'EXT7'\u001b[0m\u001b[1;33m:\u001b[0m\u001b[0mfloat\u001b[0m\u001b[1;33m,\u001b[0m\u001b[1;33m\u001b[0m\u001b[1;33m\u001b[0m\u001b[0m\n\u001b[0;32m      3\u001b[0m                                      'mobile_number':float, 'phone_number':float})\n",
      "\u001b[1;32mC:\\tools\\Anaconda3\\envs\\py\\lib\\site-packages\\pandas\\core\\generic.py\u001b[0m in \u001b[0;36mastype\u001b[1;34m(self, dtype, copy, errors)\u001b[0m\n\u001b[0;32m   5896\u001b[0m                     \u001b[0mres_col\u001b[0m \u001b[1;33m=\u001b[0m \u001b[0mcol\u001b[0m\u001b[1;33m.\u001b[0m\u001b[0mcopy\u001b[0m\u001b[1;33m(\u001b[0m\u001b[1;33m)\u001b[0m \u001b[1;32mif\u001b[0m \u001b[0mcopy\u001b[0m \u001b[1;32melse\u001b[0m \u001b[0mcol\u001b[0m\u001b[1;33m\u001b[0m\u001b[1;33m\u001b[0m\u001b[0m\n\u001b[0;32m   5897\u001b[0m                 \u001b[1;32melse\u001b[0m\u001b[1;33m:\u001b[0m\u001b[1;33m\u001b[0m\u001b[1;33m\u001b[0m\u001b[0m\n\u001b[1;32m-> 5898\u001b[1;33m                     \u001b[0mres_col\u001b[0m \u001b[1;33m=\u001b[0m \u001b[0mcol\u001b[0m\u001b[1;33m.\u001b[0m\u001b[0mastype\u001b[0m\u001b[1;33m(\u001b[0m\u001b[0mdtype\u001b[0m\u001b[1;33m=\u001b[0m\u001b[0mcdt\u001b[0m\u001b[1;33m,\u001b[0m \u001b[0mcopy\u001b[0m\u001b[1;33m=\u001b[0m\u001b[0mcopy\u001b[0m\u001b[1;33m,\u001b[0m \u001b[0merrors\u001b[0m\u001b[1;33m=\u001b[0m\u001b[0merrors\u001b[0m\u001b[1;33m)\u001b[0m\u001b[1;33m\u001b[0m\u001b[1;33m\u001b[0m\u001b[0m\n\u001b[0m\u001b[0;32m   5899\u001b[0m                 \u001b[0mresults\u001b[0m\u001b[1;33m.\u001b[0m\u001b[0mappend\u001b[0m\u001b[1;33m(\u001b[0m\u001b[0mres_col\u001b[0m\u001b[1;33m)\u001b[0m\u001b[1;33m\u001b[0m\u001b[1;33m\u001b[0m\u001b[0m\n\u001b[0;32m   5900\u001b[0m \u001b[1;33m\u001b[0m\u001b[0m\n",
      "\u001b[1;32mC:\\tools\\Anaconda3\\envs\\py\\lib\\site-packages\\pandas\\core\\generic.py\u001b[0m in \u001b[0;36mastype\u001b[1;34m(self, dtype, copy, errors)\u001b[0m\n\u001b[0;32m   5910\u001b[0m         \u001b[1;32melse\u001b[0m\u001b[1;33m:\u001b[0m\u001b[1;33m\u001b[0m\u001b[1;33m\u001b[0m\u001b[0m\n\u001b[0;32m   5911\u001b[0m             \u001b[1;31m# else, only a single dtype is given\u001b[0m\u001b[1;33m\u001b[0m\u001b[1;33m\u001b[0m\u001b[1;33m\u001b[0m\u001b[0m\n\u001b[1;32m-> 5912\u001b[1;33m             \u001b[0mnew_data\u001b[0m \u001b[1;33m=\u001b[0m \u001b[0mself\u001b[0m\u001b[1;33m.\u001b[0m\u001b[0m_mgr\u001b[0m\u001b[1;33m.\u001b[0m\u001b[0mastype\u001b[0m\u001b[1;33m(\u001b[0m\u001b[0mdtype\u001b[0m\u001b[1;33m=\u001b[0m\u001b[0mdtype\u001b[0m\u001b[1;33m,\u001b[0m \u001b[0mcopy\u001b[0m\u001b[1;33m=\u001b[0m\u001b[0mcopy\u001b[0m\u001b[1;33m,\u001b[0m \u001b[0merrors\u001b[0m\u001b[1;33m=\u001b[0m\u001b[0merrors\u001b[0m\u001b[1;33m)\u001b[0m\u001b[1;33m\u001b[0m\u001b[1;33m\u001b[0m\u001b[0m\n\u001b[0m\u001b[0;32m   5913\u001b[0m             \u001b[1;32mreturn\u001b[0m \u001b[0mself\u001b[0m\u001b[1;33m.\u001b[0m\u001b[0m_constructor\u001b[0m\u001b[1;33m(\u001b[0m\u001b[0mnew_data\u001b[0m\u001b[1;33m)\u001b[0m\u001b[1;33m.\u001b[0m\u001b[0m__finalize__\u001b[0m\u001b[1;33m(\u001b[0m\u001b[0mself\u001b[0m\u001b[1;33m,\u001b[0m \u001b[0mmethod\u001b[0m\u001b[1;33m=\u001b[0m\u001b[1;34m\"astype\"\u001b[0m\u001b[1;33m)\u001b[0m\u001b[1;33m\u001b[0m\u001b[1;33m\u001b[0m\u001b[0m\n\u001b[0;32m   5914\u001b[0m \u001b[1;33m\u001b[0m\u001b[0m\n",
      "\u001b[1;32mC:\\tools\\Anaconda3\\envs\\py\\lib\\site-packages\\pandas\\core\\internals\\managers.py\u001b[0m in \u001b[0;36mastype\u001b[1;34m(self, dtype, copy, errors)\u001b[0m\n\u001b[0;32m    417\u001b[0m \u001b[1;33m\u001b[0m\u001b[0m\n\u001b[0;32m    418\u001b[0m     \u001b[1;32mdef\u001b[0m \u001b[0mastype\u001b[0m\u001b[1;33m(\u001b[0m\u001b[0mself\u001b[0m\u001b[1;33m:\u001b[0m \u001b[0mT\u001b[0m\u001b[1;33m,\u001b[0m \u001b[0mdtype\u001b[0m\u001b[1;33m,\u001b[0m \u001b[0mcopy\u001b[0m\u001b[1;33m:\u001b[0m \u001b[0mbool\u001b[0m \u001b[1;33m=\u001b[0m \u001b[1;32mFalse\u001b[0m\u001b[1;33m,\u001b[0m \u001b[0merrors\u001b[0m\u001b[1;33m:\u001b[0m \u001b[0mstr\u001b[0m \u001b[1;33m=\u001b[0m \u001b[1;34m\"raise\"\u001b[0m\u001b[1;33m)\u001b[0m \u001b[1;33m->\u001b[0m \u001b[0mT\u001b[0m\u001b[1;33m:\u001b[0m\u001b[1;33m\u001b[0m\u001b[1;33m\u001b[0m\u001b[0m\n\u001b[1;32m--> 419\u001b[1;33m         \u001b[1;32mreturn\u001b[0m \u001b[0mself\u001b[0m\u001b[1;33m.\u001b[0m\u001b[0mapply\u001b[0m\u001b[1;33m(\u001b[0m\u001b[1;34m\"astype\"\u001b[0m\u001b[1;33m,\u001b[0m \u001b[0mdtype\u001b[0m\u001b[1;33m=\u001b[0m\u001b[0mdtype\u001b[0m\u001b[1;33m,\u001b[0m \u001b[0mcopy\u001b[0m\u001b[1;33m=\u001b[0m\u001b[0mcopy\u001b[0m\u001b[1;33m,\u001b[0m \u001b[0merrors\u001b[0m\u001b[1;33m=\u001b[0m\u001b[0merrors\u001b[0m\u001b[1;33m)\u001b[0m\u001b[1;33m\u001b[0m\u001b[1;33m\u001b[0m\u001b[0m\n\u001b[0m\u001b[0;32m    420\u001b[0m \u001b[1;33m\u001b[0m\u001b[0m\n\u001b[0;32m    421\u001b[0m     def convert(\n",
      "\u001b[1;32mC:\\tools\\Anaconda3\\envs\\py\\lib\\site-packages\\pandas\\core\\internals\\managers.py\u001b[0m in \u001b[0;36mapply\u001b[1;34m(self, f, align_keys, ignore_failures, **kwargs)\u001b[0m\n\u001b[0;32m    302\u001b[0m                     \u001b[0mapplied\u001b[0m \u001b[1;33m=\u001b[0m \u001b[0mb\u001b[0m\u001b[1;33m.\u001b[0m\u001b[0mapply\u001b[0m\u001b[1;33m(\u001b[0m\u001b[0mf\u001b[0m\u001b[1;33m,\u001b[0m \u001b[1;33m**\u001b[0m\u001b[0mkwargs\u001b[0m\u001b[1;33m)\u001b[0m\u001b[1;33m\u001b[0m\u001b[1;33m\u001b[0m\u001b[0m\n\u001b[0;32m    303\u001b[0m                 \u001b[1;32melse\u001b[0m\u001b[1;33m:\u001b[0m\u001b[1;33m\u001b[0m\u001b[1;33m\u001b[0m\u001b[0m\n\u001b[1;32m--> 304\u001b[1;33m                     \u001b[0mapplied\u001b[0m \u001b[1;33m=\u001b[0m \u001b[0mgetattr\u001b[0m\u001b[1;33m(\u001b[0m\u001b[0mb\u001b[0m\u001b[1;33m,\u001b[0m \u001b[0mf\u001b[0m\u001b[1;33m)\u001b[0m\u001b[1;33m(\u001b[0m\u001b[1;33m**\u001b[0m\u001b[0mkwargs\u001b[0m\u001b[1;33m)\u001b[0m\u001b[1;33m\u001b[0m\u001b[1;33m\u001b[0m\u001b[0m\n\u001b[0m\u001b[0;32m    305\u001b[0m             \u001b[1;32mexcept\u001b[0m \u001b[1;33m(\u001b[0m\u001b[0mTypeError\u001b[0m\u001b[1;33m,\u001b[0m \u001b[0mNotImplementedError\u001b[0m\u001b[1;33m)\u001b[0m\u001b[1;33m:\u001b[0m\u001b[1;33m\u001b[0m\u001b[1;33m\u001b[0m\u001b[0m\n\u001b[0;32m    306\u001b[0m                 \u001b[1;32mif\u001b[0m \u001b[1;32mnot\u001b[0m \u001b[0mignore_failures\u001b[0m\u001b[1;33m:\u001b[0m\u001b[1;33m\u001b[0m\u001b[1;33m\u001b[0m\u001b[0m\n",
      "\u001b[1;32mC:\\tools\\Anaconda3\\envs\\py\\lib\\site-packages\\pandas\\core\\internals\\blocks.py\u001b[0m in \u001b[0;36mastype\u001b[1;34m(self, dtype, copy, errors)\u001b[0m\n\u001b[0;32m    578\u001b[0m         \u001b[0mvalues\u001b[0m \u001b[1;33m=\u001b[0m \u001b[0mself\u001b[0m\u001b[1;33m.\u001b[0m\u001b[0mvalues\u001b[0m\u001b[1;33m\u001b[0m\u001b[1;33m\u001b[0m\u001b[0m\n\u001b[0;32m    579\u001b[0m \u001b[1;33m\u001b[0m\u001b[0m\n\u001b[1;32m--> 580\u001b[1;33m         \u001b[0mnew_values\u001b[0m \u001b[1;33m=\u001b[0m \u001b[0mastype_array_safe\u001b[0m\u001b[1;33m(\u001b[0m\u001b[0mvalues\u001b[0m\u001b[1;33m,\u001b[0m \u001b[0mdtype\u001b[0m\u001b[1;33m,\u001b[0m \u001b[0mcopy\u001b[0m\u001b[1;33m=\u001b[0m\u001b[0mcopy\u001b[0m\u001b[1;33m,\u001b[0m \u001b[0merrors\u001b[0m\u001b[1;33m=\u001b[0m\u001b[0merrors\u001b[0m\u001b[1;33m)\u001b[0m\u001b[1;33m\u001b[0m\u001b[1;33m\u001b[0m\u001b[0m\n\u001b[0m\u001b[0;32m    581\u001b[0m \u001b[1;33m\u001b[0m\u001b[0m\n\u001b[0;32m    582\u001b[0m         \u001b[0mnew_values\u001b[0m \u001b[1;33m=\u001b[0m \u001b[0mmaybe_coerce_values\u001b[0m\u001b[1;33m(\u001b[0m\u001b[0mnew_values\u001b[0m\u001b[1;33m)\u001b[0m\u001b[1;33m\u001b[0m\u001b[1;33m\u001b[0m\u001b[0m\n",
      "\u001b[1;32mC:\\tools\\Anaconda3\\envs\\py\\lib\\site-packages\\pandas\\core\\dtypes\\cast.py\u001b[0m in \u001b[0;36mastype_array_safe\u001b[1;34m(values, dtype, copy, errors)\u001b[0m\n\u001b[0;32m   1290\u001b[0m \u001b[1;33m\u001b[0m\u001b[0m\n\u001b[0;32m   1291\u001b[0m     \u001b[1;32mtry\u001b[0m\u001b[1;33m:\u001b[0m\u001b[1;33m\u001b[0m\u001b[1;33m\u001b[0m\u001b[0m\n\u001b[1;32m-> 1292\u001b[1;33m         \u001b[0mnew_values\u001b[0m \u001b[1;33m=\u001b[0m \u001b[0mastype_array\u001b[0m\u001b[1;33m(\u001b[0m\u001b[0mvalues\u001b[0m\u001b[1;33m,\u001b[0m \u001b[0mdtype\u001b[0m\u001b[1;33m,\u001b[0m \u001b[0mcopy\u001b[0m\u001b[1;33m=\u001b[0m\u001b[0mcopy\u001b[0m\u001b[1;33m)\u001b[0m\u001b[1;33m\u001b[0m\u001b[1;33m\u001b[0m\u001b[0m\n\u001b[0m\u001b[0;32m   1293\u001b[0m     \u001b[1;32mexcept\u001b[0m \u001b[1;33m(\u001b[0m\u001b[0mValueError\u001b[0m\u001b[1;33m,\u001b[0m \u001b[0mTypeError\u001b[0m\u001b[1;33m)\u001b[0m\u001b[1;33m:\u001b[0m\u001b[1;33m\u001b[0m\u001b[1;33m\u001b[0m\u001b[0m\n\u001b[0;32m   1294\u001b[0m         \u001b[1;31m# e.g. astype_nansafe can fail on object-dtype of strings\u001b[0m\u001b[1;33m\u001b[0m\u001b[1;33m\u001b[0m\u001b[1;33m\u001b[0m\u001b[0m\n",
      "\u001b[1;32mC:\\tools\\Anaconda3\\envs\\py\\lib\\site-packages\\pandas\\core\\dtypes\\cast.py\u001b[0m in \u001b[0;36mastype_array\u001b[1;34m(values, dtype, copy)\u001b[0m\n\u001b[0;32m   1235\u001b[0m \u001b[1;33m\u001b[0m\u001b[0m\n\u001b[0;32m   1236\u001b[0m     \u001b[1;32melse\u001b[0m\u001b[1;33m:\u001b[0m\u001b[1;33m\u001b[0m\u001b[1;33m\u001b[0m\u001b[0m\n\u001b[1;32m-> 1237\u001b[1;33m         \u001b[0mvalues\u001b[0m \u001b[1;33m=\u001b[0m \u001b[0mastype_nansafe\u001b[0m\u001b[1;33m(\u001b[0m\u001b[0mvalues\u001b[0m\u001b[1;33m,\u001b[0m \u001b[0mdtype\u001b[0m\u001b[1;33m,\u001b[0m \u001b[0mcopy\u001b[0m\u001b[1;33m=\u001b[0m\u001b[0mcopy\u001b[0m\u001b[1;33m)\u001b[0m\u001b[1;33m\u001b[0m\u001b[1;33m\u001b[0m\u001b[0m\n\u001b[0m\u001b[0;32m   1238\u001b[0m \u001b[1;33m\u001b[0m\u001b[0m\n\u001b[0;32m   1239\u001b[0m     \u001b[1;31m# in pandas we don't store numpy str dtypes, so convert to object\u001b[0m\u001b[1;33m\u001b[0m\u001b[1;33m\u001b[0m\u001b[1;33m\u001b[0m\u001b[0m\n",
      "\u001b[1;32mC:\\tools\\Anaconda3\\envs\\py\\lib\\site-packages\\pandas\\core\\dtypes\\cast.py\u001b[0m in \u001b[0;36mastype_nansafe\u001b[1;34m(arr, dtype, copy, skipna)\u001b[0m\n\u001b[0;32m   1179\u001b[0m     \u001b[1;32mif\u001b[0m \u001b[0mcopy\u001b[0m \u001b[1;32mor\u001b[0m \u001b[0mis_object_dtype\u001b[0m\u001b[1;33m(\u001b[0m\u001b[0marr\u001b[0m\u001b[1;33m.\u001b[0m\u001b[0mdtype\u001b[0m\u001b[1;33m)\u001b[0m \u001b[1;32mor\u001b[0m \u001b[0mis_object_dtype\u001b[0m\u001b[1;33m(\u001b[0m\u001b[0mdtype\u001b[0m\u001b[1;33m)\u001b[0m\u001b[1;33m:\u001b[0m\u001b[1;33m\u001b[0m\u001b[1;33m\u001b[0m\u001b[0m\n\u001b[0;32m   1180\u001b[0m         \u001b[1;31m# Explicit copy, or required since NumPy can't view from / to object.\u001b[0m\u001b[1;33m\u001b[0m\u001b[1;33m\u001b[0m\u001b[1;33m\u001b[0m\u001b[0m\n\u001b[1;32m-> 1181\u001b[1;33m         \u001b[1;32mreturn\u001b[0m \u001b[0marr\u001b[0m\u001b[1;33m.\u001b[0m\u001b[0mastype\u001b[0m\u001b[1;33m(\u001b[0m\u001b[0mdtype\u001b[0m\u001b[1;33m,\u001b[0m \u001b[0mcopy\u001b[0m\u001b[1;33m=\u001b[0m\u001b[1;32mTrue\u001b[0m\u001b[1;33m)\u001b[0m\u001b[1;33m\u001b[0m\u001b[1;33m\u001b[0m\u001b[0m\n\u001b[0m\u001b[0;32m   1182\u001b[0m \u001b[1;33m\u001b[0m\u001b[0m\n\u001b[0;32m   1183\u001b[0m     \u001b[1;32mreturn\u001b[0m \u001b[0marr\u001b[0m\u001b[1;33m.\u001b[0m\u001b[0mastype\u001b[0m\u001b[1;33m(\u001b[0m\u001b[0mdtype\u001b[0m\u001b[1;33m,\u001b[0m \u001b[0mcopy\u001b[0m\u001b[1;33m=\u001b[0m\u001b[0mcopy\u001b[0m\u001b[1;33m)\u001b[0m\u001b[1;33m\u001b[0m\u001b[1;33m\u001b[0m\u001b[0m\n",
      "\u001b[1;31mValueError\u001b[0m: could not convert string to float: 'days_employed_5'"
     ]
    }
   ],
   "source": [
    "accept_zscore = accept_zscore.astype({\"days_employed\": float, 'days_registration':float, 'days_phone_change':float,\n",
    "                                     'family_count':float, 'EXT4':float, 'EXT5':float, 'EXT6':float, 'EXT7':float,\n",
    "                                     })"
   ]
  },
  {
   "cell_type": "code",
   "execution_count": 71,
   "id": "d12c2f1e",
   "metadata": {},
   "outputs": [
    {
     "name": "stdout",
     "output_type": "stream",
     "text": [
      "Detected 'float64' variable, automatically transformed using q=10 quantiles ... \n"
     ]
    },
    {
     "data": {
      "text/html": [
       "<div>\n",
       "<style scoped>\n",
       "    .dataframe tbody tr th:only-of-type {\n",
       "        vertical-align: middle;\n",
       "    }\n",
       "\n",
       "    .dataframe tbody tr th {\n",
       "        vertical-align: top;\n",
       "    }\n",
       "\n",
       "    .dataframe thead th {\n",
       "        text-align: right;\n",
       "    }\n",
       "</style>\n",
       "<table border=\"1\" class=\"dataframe\">\n",
       "  <thead>\n",
       "    <tr style=\"text-align: right;\">\n",
       "      <th></th>\n",
       "      <th>stop_limit</th>\n",
       "      <th>iv_total</th>\n",
       "      <th>n_bins</th>\n",
       "    </tr>\n",
       "  </thead>\n",
       "  <tbody>\n",
       "    <tr>\n",
       "      <th>0</th>\n",
       "      <td>0.010</td>\n",
       "      <td>0.117992</td>\n",
       "      <td>5</td>\n",
       "    </tr>\n",
       "    <tr>\n",
       "      <th>1</th>\n",
       "      <td>0.025</td>\n",
       "      <td>0.108459</td>\n",
       "      <td>3</td>\n",
       "    </tr>\n",
       "    <tr>\n",
       "      <th>2</th>\n",
       "      <td>0.050</td>\n",
       "      <td>0.108459</td>\n",
       "      <td>3</td>\n",
       "    </tr>\n",
       "    <tr>\n",
       "      <th>3</th>\n",
       "      <td>0.100</td>\n",
       "      <td>0.108459</td>\n",
       "      <td>3</td>\n",
       "    </tr>\n",
       "  </tbody>\n",
       "</table>\n",
       "</div>"
      ],
      "text/plain": [
       "   stop_limit  iv_total  n_bins\n",
       "0       0.010  0.117992       5\n",
       "1       0.025  0.108459       3\n",
       "2       0.050  0.108459       3\n",
       "3       0.100  0.108459       3"
      ]
     },
     "execution_count": 71,
     "metadata": {},
     "output_type": "execute_result"
    }
   ],
   "source": [
    "# Apply WOE binning to the \"days_employed\" variable\n",
    "accept_woe= WOE.WOEEncoder(pred_var='days_employed', target_var=\"Default\")\n",
    "\n",
    "accept_woe.test_limit(accept_zscore, q=10)"
   ]
  },
  {
   "cell_type": "code",
   "execution_count": 72,
   "id": "a44d23e8",
   "metadata": {},
   "outputs": [
    {
     "name": "stdout",
     "output_type": "stream",
     "text": [
      "Detected 'float64' variable, automatically transformed using q=10 quantiles ... \n",
      "Fitted 5 bins for 'days_employed' (levels=9)...\n"
     ]
    }
   ],
   "source": [
    "accept_zscore = accept_woe.fit_transform(accept_zscore, stop_limit=0.05, q=10)"
   ]
  },
  {
   "cell_type": "code",
   "execution_count": 73,
   "id": "e8406157",
   "metadata": {},
   "outputs": [
    {
     "name": "stdout",
     "output_type": "stream",
     "text": [
      "Detected 'float64' variable, automatically transformed using q=10 quantiles ... \n"
     ]
    },
    {
     "data": {
      "text/html": [
       "<div>\n",
       "<style scoped>\n",
       "    .dataframe tbody tr th:only-of-type {\n",
       "        vertical-align: middle;\n",
       "    }\n",
       "\n",
       "    .dataframe tbody tr th {\n",
       "        vertical-align: top;\n",
       "    }\n",
       "\n",
       "    .dataframe thead th {\n",
       "        text-align: right;\n",
       "    }\n",
       "</style>\n",
       "<table border=\"1\" class=\"dataframe\">\n",
       "  <thead>\n",
       "    <tr style=\"text-align: right;\">\n",
       "      <th></th>\n",
       "      <th>stop_limit</th>\n",
       "      <th>iv_total</th>\n",
       "      <th>n_bins</th>\n",
       "    </tr>\n",
       "  </thead>\n",
       "  <tbody>\n",
       "    <tr>\n",
       "      <th>0</th>\n",
       "      <td>0.010</td>\n",
       "      <td>0.043291</td>\n",
       "      <td>5</td>\n",
       "    </tr>\n",
       "    <tr>\n",
       "      <th>1</th>\n",
       "      <td>0.025</td>\n",
       "      <td>0.041712</td>\n",
       "      <td>4</td>\n",
       "    </tr>\n",
       "    <tr>\n",
       "      <th>2</th>\n",
       "      <td>0.050</td>\n",
       "      <td>0.033773</td>\n",
       "      <td>3</td>\n",
       "    </tr>\n",
       "    <tr>\n",
       "      <th>3</th>\n",
       "      <td>0.100</td>\n",
       "      <td>0.033773</td>\n",
       "      <td>3</td>\n",
       "    </tr>\n",
       "  </tbody>\n",
       "</table>\n",
       "</div>"
      ],
      "text/plain": [
       "   stop_limit  iv_total  n_bins\n",
       "0       0.010  0.043291       5\n",
       "1       0.025  0.041712       4\n",
       "2       0.050  0.033773       3\n",
       "3       0.100  0.033773       3"
      ]
     },
     "execution_count": 73,
     "metadata": {},
     "output_type": "execute_result"
    }
   ],
   "source": [
    "# Apply WOE binning to the \"days_registration\" variable\n",
    "accept_woe= WOE.WOEEncoder(pred_var='days_registration', target_var=\"Default\")\n",
    "\n",
    "accept_woe.test_limit(accept_zscore, q=10)"
   ]
  },
  {
   "cell_type": "code",
   "execution_count": 74,
   "id": "e471fd6e",
   "metadata": {},
   "outputs": [
    {
     "name": "stdout",
     "output_type": "stream",
     "text": [
      "Detected 'float64' variable, automatically transformed using q=10 quantiles ... \n",
      "Fitted 5 bins for 'days_registration' (levels=10)...\n"
     ]
    }
   ],
   "source": [
    "accept_zscore = accept_woe.fit_transform(accept_zscore, stop_limit=0.05, q=10)"
   ]
  },
  {
   "cell_type": "code",
   "execution_count": 77,
   "id": "923e6451",
   "metadata": {},
   "outputs": [],
   "source": [
    "accept_zscore = accept_zscore.astype({'mobile_number':float, 'phone_number':float})"
   ]
  },
  {
   "cell_type": "code",
   "execution_count": 78,
   "id": "55145a17",
   "metadata": {},
   "outputs": [
    {
     "name": "stdout",
     "output_type": "stream",
     "text": [
      "Detected 'float64' variable, automatically transformed using q=10 quantiles ... \n"
     ]
    },
    {
     "data": {
      "text/html": [
       "<div>\n",
       "<style scoped>\n",
       "    .dataframe tbody tr th:only-of-type {\n",
       "        vertical-align: middle;\n",
       "    }\n",
       "\n",
       "    .dataframe tbody tr th {\n",
       "        vertical-align: top;\n",
       "    }\n",
       "\n",
       "    .dataframe thead th {\n",
       "        text-align: right;\n",
       "    }\n",
       "</style>\n",
       "<table border=\"1\" class=\"dataframe\">\n",
       "  <thead>\n",
       "    <tr style=\"text-align: right;\">\n",
       "      <th></th>\n",
       "      <th>stop_limit</th>\n",
       "      <th>iv_total</th>\n",
       "      <th>n_bins</th>\n",
       "    </tr>\n",
       "  </thead>\n",
       "  <tbody>\n",
       "    <tr>\n",
       "      <th>0</th>\n",
       "      <td>0.010</td>\n",
       "      <td>0.0</td>\n",
       "      <td>1</td>\n",
       "    </tr>\n",
       "    <tr>\n",
       "      <th>1</th>\n",
       "      <td>0.025</td>\n",
       "      <td>0.0</td>\n",
       "      <td>1</td>\n",
       "    </tr>\n",
       "    <tr>\n",
       "      <th>2</th>\n",
       "      <td>0.050</td>\n",
       "      <td>0.0</td>\n",
       "      <td>1</td>\n",
       "    </tr>\n",
       "    <tr>\n",
       "      <th>3</th>\n",
       "      <td>0.100</td>\n",
       "      <td>0.0</td>\n",
       "      <td>1</td>\n",
       "    </tr>\n",
       "  </tbody>\n",
       "</table>\n",
       "</div>"
      ],
      "text/plain": [
       "   stop_limit  iv_total  n_bins\n",
       "0       0.010       0.0       1\n",
       "1       0.025       0.0       1\n",
       "2       0.050       0.0       1\n",
       "3       0.100       0.0       1"
      ]
     },
     "execution_count": 78,
     "metadata": {},
     "output_type": "execute_result"
    }
   ],
   "source": [
    "# Apply WOE binning to the \"mobile_number\" variable\n",
    "accept_woe= WOE.WOEEncoder(pred_var='mobile_number', target_var=\"Default\")\n",
    "\n",
    "accept_woe.test_limit(accept_zscore, q=10)"
   ]
  },
  {
   "cell_type": "code",
   "execution_count": 79,
   "id": "06d027f2",
   "metadata": {},
   "outputs": [],
   "source": [
    "accept_zscore = accept_zscore.drop('mobile_number', axis = 1)"
   ]
  },
  {
   "cell_type": "code",
   "execution_count": 80,
   "id": "01a4c5b3",
   "metadata": {},
   "outputs": [
    {
     "name": "stdout",
     "output_type": "stream",
     "text": [
      "Detected 'float64' variable, automatically transformed using q=10 quantiles ... \n"
     ]
    },
    {
     "data": {
      "text/html": [
       "<div>\n",
       "<style scoped>\n",
       "    .dataframe tbody tr th:only-of-type {\n",
       "        vertical-align: middle;\n",
       "    }\n",
       "\n",
       "    .dataframe tbody tr th {\n",
       "        vertical-align: top;\n",
       "    }\n",
       "\n",
       "    .dataframe thead th {\n",
       "        text-align: right;\n",
       "    }\n",
       "</style>\n",
       "<table border=\"1\" class=\"dataframe\">\n",
       "  <thead>\n",
       "    <tr style=\"text-align: right;\">\n",
       "      <th></th>\n",
       "      <th>stop_limit</th>\n",
       "      <th>iv_total</th>\n",
       "      <th>n_bins</th>\n",
       "    </tr>\n",
       "  </thead>\n",
       "  <tbody>\n",
       "    <tr>\n",
       "      <th>0</th>\n",
       "      <td>0.010</td>\n",
       "      <td>0.0</td>\n",
       "      <td>1</td>\n",
       "    </tr>\n",
       "    <tr>\n",
       "      <th>1</th>\n",
       "      <td>0.025</td>\n",
       "      <td>0.0</td>\n",
       "      <td>1</td>\n",
       "    </tr>\n",
       "    <tr>\n",
       "      <th>2</th>\n",
       "      <td>0.050</td>\n",
       "      <td>0.0</td>\n",
       "      <td>1</td>\n",
       "    </tr>\n",
       "    <tr>\n",
       "      <th>3</th>\n",
       "      <td>0.100</td>\n",
       "      <td>0.0</td>\n",
       "      <td>1</td>\n",
       "    </tr>\n",
       "  </tbody>\n",
       "</table>\n",
       "</div>"
      ],
      "text/plain": [
       "   stop_limit  iv_total  n_bins\n",
       "0       0.010       0.0       1\n",
       "1       0.025       0.0       1\n",
       "2       0.050       0.0       1\n",
       "3       0.100       0.0       1"
      ]
     },
     "execution_count": 80,
     "metadata": {},
     "output_type": "execute_result"
    }
   ],
   "source": [
    "# Apply WOE binning to the \"phone_number\" variable\n",
    "accept_woe= WOE.WOEEncoder(pred_var='phone_number', target_var=\"Default\")\n",
    "\n",
    "accept_woe.test_limit(accept_zscore, q=10)"
   ]
  },
  {
   "cell_type": "code",
   "execution_count": 81,
   "id": "09f2de4b",
   "metadata": {},
   "outputs": [],
   "source": [
    "accept_zscore = accept_zscore.drop('phone_number', axis = 1)"
   ]
  },
  {
   "cell_type": "code",
   "execution_count": 83,
   "id": "9f62d998",
   "metadata": {},
   "outputs": [],
   "source": [
    "accept_zscore = accept_zscore.astype({'email':float})"
   ]
  },
  {
   "cell_type": "code",
   "execution_count": 84,
   "id": "f8d5ff18",
   "metadata": {},
   "outputs": [
    {
     "name": "stdout",
     "output_type": "stream",
     "text": [
      "Detected 'float64' variable, automatically transformed using q=10 quantiles ... \n"
     ]
    },
    {
     "data": {
      "text/html": [
       "<div>\n",
       "<style scoped>\n",
       "    .dataframe tbody tr th:only-of-type {\n",
       "        vertical-align: middle;\n",
       "    }\n",
       "\n",
       "    .dataframe tbody tr th {\n",
       "        vertical-align: top;\n",
       "    }\n",
       "\n",
       "    .dataframe thead th {\n",
       "        text-align: right;\n",
       "    }\n",
       "</style>\n",
       "<table border=\"1\" class=\"dataframe\">\n",
       "  <thead>\n",
       "    <tr style=\"text-align: right;\">\n",
       "      <th></th>\n",
       "      <th>stop_limit</th>\n",
       "      <th>iv_total</th>\n",
       "      <th>n_bins</th>\n",
       "    </tr>\n",
       "  </thead>\n",
       "  <tbody>\n",
       "    <tr>\n",
       "      <th>0</th>\n",
       "      <td>0.010</td>\n",
       "      <td>0.0</td>\n",
       "      <td>1</td>\n",
       "    </tr>\n",
       "    <tr>\n",
       "      <th>1</th>\n",
       "      <td>0.025</td>\n",
       "      <td>0.0</td>\n",
       "      <td>1</td>\n",
       "    </tr>\n",
       "    <tr>\n",
       "      <th>2</th>\n",
       "      <td>0.050</td>\n",
       "      <td>0.0</td>\n",
       "      <td>1</td>\n",
       "    </tr>\n",
       "    <tr>\n",
       "      <th>3</th>\n",
       "      <td>0.100</td>\n",
       "      <td>0.0</td>\n",
       "      <td>1</td>\n",
       "    </tr>\n",
       "  </tbody>\n",
       "</table>\n",
       "</div>"
      ],
      "text/plain": [
       "   stop_limit  iv_total  n_bins\n",
       "0       0.010       0.0       1\n",
       "1       0.025       0.0       1\n",
       "2       0.050       0.0       1\n",
       "3       0.100       0.0       1"
      ]
     },
     "execution_count": 84,
     "metadata": {},
     "output_type": "execute_result"
    }
   ],
   "source": [
    "# Apply WOE binning to the \"phone_number\" variable\n",
    "accept_woe= WOE.WOEEncoder(pred_var='email', target_var=\"Default\")\n",
    "\n",
    "accept_woe.test_limit(accept_zscore, q=10)"
   ]
  },
  {
   "cell_type": "code",
   "execution_count": 85,
   "id": "48cf1fc9",
   "metadata": {},
   "outputs": [],
   "source": [
    "accept_zscore = accept_zscore.drop('email', axis = 1)"
   ]
  },
  {
   "cell_type": "code",
   "execution_count": 86,
   "id": "c1b5b3de",
   "metadata": {},
   "outputs": [
    {
     "name": "stdout",
     "output_type": "stream",
     "text": [
      "Detected 'float64' variable, automatically transformed using q=10 quantiles ... \n"
     ]
    },
    {
     "data": {
      "text/html": [
       "<div>\n",
       "<style scoped>\n",
       "    .dataframe tbody tr th:only-of-type {\n",
       "        vertical-align: middle;\n",
       "    }\n",
       "\n",
       "    .dataframe tbody tr th {\n",
       "        vertical-align: top;\n",
       "    }\n",
       "\n",
       "    .dataframe thead th {\n",
       "        text-align: right;\n",
       "    }\n",
       "</style>\n",
       "<table border=\"1\" class=\"dataframe\">\n",
       "  <thead>\n",
       "    <tr style=\"text-align: right;\">\n",
       "      <th></th>\n",
       "      <th>stop_limit</th>\n",
       "      <th>iv_total</th>\n",
       "      <th>n_bins</th>\n",
       "    </tr>\n",
       "  </thead>\n",
       "  <tbody>\n",
       "    <tr>\n",
       "      <th>0</th>\n",
       "      <td>0.010</td>\n",
       "      <td>0.064752</td>\n",
       "      <td>4</td>\n",
       "    </tr>\n",
       "    <tr>\n",
       "      <th>1</th>\n",
       "      <td>0.025</td>\n",
       "      <td>0.060157</td>\n",
       "      <td>3</td>\n",
       "    </tr>\n",
       "    <tr>\n",
       "      <th>2</th>\n",
       "      <td>0.050</td>\n",
       "      <td>0.060157</td>\n",
       "      <td>3</td>\n",
       "    </tr>\n",
       "    <tr>\n",
       "      <th>3</th>\n",
       "      <td>0.100</td>\n",
       "      <td>0.060157</td>\n",
       "      <td>3</td>\n",
       "    </tr>\n",
       "  </tbody>\n",
       "</table>\n",
       "</div>"
      ],
      "text/plain": [
       "   stop_limit  iv_total  n_bins\n",
       "0       0.010  0.064752       4\n",
       "1       0.025  0.060157       3\n",
       "2       0.050  0.060157       3\n",
       "3       0.100  0.060157       3"
      ]
     },
     "execution_count": 86,
     "metadata": {},
     "output_type": "execute_result"
    }
   ],
   "source": [
    "# Apply WOE binning to the \"days_phone_change\" variable\n",
    "accept_woe= WOE.WOEEncoder(pred_var='days_phone_change', target_var=\"Default\")\n",
    "\n",
    "accept_woe.test_limit(accept_zscore, q=10)"
   ]
  },
  {
   "cell_type": "code",
   "execution_count": 87,
   "id": "2e0e7b57",
   "metadata": {},
   "outputs": [
    {
     "name": "stdout",
     "output_type": "stream",
     "text": [
      "Detected 'float64' variable, automatically transformed using q=10 quantiles ... \n",
      "Fitted 5 bins for 'days_phone_change' (levels=9)...\n"
     ]
    }
   ],
   "source": [
    "accept_zscore = accept_woe.fit_transform(accept_zscore, stop_limit=0.05, q=10)"
   ]
  },
  {
   "cell_type": "code",
   "execution_count": 88,
   "id": "4ff4b92a",
   "metadata": {},
   "outputs": [
    {
     "name": "stdout",
     "output_type": "stream",
     "text": [
      "Detected 'float64' variable, automatically transformed using q=10 quantiles ... \n"
     ]
    },
    {
     "data": {
      "text/html": [
       "<div>\n",
       "<style scoped>\n",
       "    .dataframe tbody tr th:only-of-type {\n",
       "        vertical-align: middle;\n",
       "    }\n",
       "\n",
       "    .dataframe tbody tr th {\n",
       "        vertical-align: top;\n",
       "    }\n",
       "\n",
       "    .dataframe thead th {\n",
       "        text-align: right;\n",
       "    }\n",
       "</style>\n",
       "<table border=\"1\" class=\"dataframe\">\n",
       "  <thead>\n",
       "    <tr style=\"text-align: right;\">\n",
       "      <th></th>\n",
       "      <th>stop_limit</th>\n",
       "      <th>iv_total</th>\n",
       "      <th>n_bins</th>\n",
       "    </tr>\n",
       "  </thead>\n",
       "  <tbody>\n",
       "    <tr>\n",
       "      <th>0</th>\n",
       "      <td>0.010</td>\n",
       "      <td>0.001053</td>\n",
       "      <td>3</td>\n",
       "    </tr>\n",
       "    <tr>\n",
       "      <th>1</th>\n",
       "      <td>0.025</td>\n",
       "      <td>0.001053</td>\n",
       "      <td>3</td>\n",
       "    </tr>\n",
       "    <tr>\n",
       "      <th>2</th>\n",
       "      <td>0.050</td>\n",
       "      <td>0.001053</td>\n",
       "      <td>3</td>\n",
       "    </tr>\n",
       "    <tr>\n",
       "      <th>3</th>\n",
       "      <td>0.100</td>\n",
       "      <td>0.001053</td>\n",
       "      <td>3</td>\n",
       "    </tr>\n",
       "  </tbody>\n",
       "</table>\n",
       "</div>"
      ],
      "text/plain": [
       "   stop_limit  iv_total  n_bins\n",
       "0       0.010  0.001053       3\n",
       "1       0.025  0.001053       3\n",
       "2       0.050  0.001053       3\n",
       "3       0.100  0.001053       3"
      ]
     },
     "execution_count": 88,
     "metadata": {},
     "output_type": "execute_result"
    }
   ],
   "source": [
    "# Apply WOE binning to the \"days_phone_change\" variable\n",
    "accept_woe= WOE.WOEEncoder(pred_var='family_count', target_var=\"Default\")\n",
    "\n",
    "accept_woe.test_limit(accept_zscore, q=10)"
   ]
  },
  {
   "cell_type": "code",
   "execution_count": 89,
   "id": "b81fa036",
   "metadata": {},
   "outputs": [],
   "source": [
    "accept_zscore = accept_zscore.drop('family_count', axis = 1)"
   ]
  },
  {
   "cell_type": "code",
   "execution_count": null,
   "id": "98bc4ff4",
   "metadata": {},
   "outputs": [],
   "source": []
  },
  {
   "cell_type": "code",
   "execution_count": 46,
   "id": "22ec3c4d",
   "metadata": {},
   "outputs": [
    {
     "data": {
      "text/plain": [
       "Index(['loan_amount', 'term', 'nr_children', 'income_type', 'education_type',\n",
       "       'family_status', 'housing_type', 'region_population_ratio',\n",
       "       'days_birth', 'days_employed', 'days_registration', 'mobile_number',\n",
       "       'phone_number', 'email', 'days_phone_change', 'family_count', 'EXT2',\n",
       "       'EXT3', 'EXT4', 'EXT5', 'EXT6', 'EXT7', 'Default'],\n",
       "      dtype='object')"
      ]
     },
     "execution_count": 46,
     "metadata": {},
     "output_type": "execute_result"
    }
   ],
   "source": [
    "accept_zscore.columns"
   ]
  },
  {
   "cell_type": "code",
   "execution_count": null,
   "id": "1f6bd60c",
   "metadata": {},
   "outputs": [],
   "source": [
    "# subset accept and reject data\n",
    "cols = [\"total_income\", \"loan_amount\", \"term\", \"interest_rate\", \"own_house\", \"nr_children\", \"income_type\", \"education_type\",\n",
    "       'family_status', 'housing_type', 'region_population_ratio']\n",
    "\n",
    "accept = accept[cols]\n",
    "reject = reject[[i for i in cols if i != \"Default\"]]"
   ]
  },
  {
   "cell_type": "code",
   "execution_count": null,
   "id": "7012e2bb",
   "metadata": {},
   "outputs": [],
   "source": [
    "# drop missing values\n",
    "accept = accept.dropna().reset_index(drop=True)\n",
    "reject = reject.dropna().reset_index(drop=True)"
   ]
  },
  {
   "cell_type": "code",
   "execution_count": null,
   "id": "878c4502",
   "metadata": {},
   "outputs": [],
   "source": [
    "accept.Default.value_counts()"
   ]
  },
  {
   "cell_type": "code",
   "execution_count": null,
   "id": "a3302896",
   "metadata": {},
   "outputs": [],
   "source": [
    "reject['Default'] = 1"
   ]
  },
  {
   "cell_type": "code",
   "execution_count": null,
   "id": "9837c2cb",
   "metadata": {},
   "outputs": [],
   "source": [
    "reject.head()"
   ]
  }
 ],
 "metadata": {
  "kernelspec": {
   "display_name": "Python 3",
   "language": "python",
   "name": "python3"
  },
  "language_info": {
   "codemirror_mode": {
    "name": "ipython",
    "version": 3
   },
   "file_extension": ".py",
   "mimetype": "text/x-python",
   "name": "python",
   "nbconvert_exporter": "python",
   "pygments_lexer": "ipython3",
   "version": "3.9.4"
  }
 },
 "nbformat": 4,
 "nbformat_minor": 5
}
