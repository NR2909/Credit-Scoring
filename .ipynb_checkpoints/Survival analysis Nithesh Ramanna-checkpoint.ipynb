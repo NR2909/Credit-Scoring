{
 "cells": [
  {
   "cell_type": "markdown",
   "id": "96abfc31",
   "metadata": {},
   "source": [
    "![](https://www.ieseg.fr/wp-content/uploads/IESEG-Logo-2012-rgb.jpg)"
   ]
  },
  {
   "cell_type": "markdown",
   "id": "6e7394cc",
   "metadata": {},
   "source": [
    "## CREDIT SCORING INDIVIDUAL ASSIGNMENT - SURVIVAL ANALYSIS\n",
    "## STUDENT - NITHESH RAMANNA"
   ]
  },
  {
   "cell_type": "markdown",
   "id": "4417fa4c",
   "metadata": {},
   "source": [
    "# Survival Analysis\n",
    "Survival analysis is a branch of statistics for analyzing the expected duration of time until one event occurs, such as death in biological organisms and failure in mechanical systems. This topic is called reliability theory or reliability analysis in engineering, duration analysis or duration modelling in economics, and event history analysis in sociology. \n",
    "https://en.wikipedia.org/wiki/Survival_analysis"
   ]
  },
  {
   "cell_type": "code",
   "execution_count": 1,
   "id": "d2cfde91",
   "metadata": {},
   "outputs": [
    {
     "name": "stderr",
     "output_type": "stream",
     "text": [
      "C:\\tools\\Anaconda3\\envs\\py\\lib\\site-packages\\numpy\\_distributor_init.py:30: UserWarning: loaded more than 1 DLL from .libs:\n",
      "C:\\tools\\Anaconda3\\envs\\py\\lib\\site-packages\\numpy\\.libs\\libopenblas.EL2C6PLE4ZYW3ECEVIV3OXXGRN2NRFM2.gfortran-win_amd64.dll\n",
      "C:\\tools\\Anaconda3\\envs\\py\\lib\\site-packages\\numpy\\.libs\\libopenblas.WCDJNK7YVMPZQ2ME2ZZHJJRJ3JIKNDB7.gfortran-win_amd64.dll\n",
      "  warnings.warn(\"loaded more than 1 DLL from .libs:\"\n"
     ]
    }
   ],
   "source": [
    "import lifelines # pip install lifelines\n",
    "import pandas as pd \n",
    "import numpy as np \n",
    "import matplotlib.pyplot as plt"
   ]
  },
  {
   "cell_type": "code",
   "execution_count": 2,
   "id": "ca3c4d99",
   "metadata": {},
   "outputs": [],
   "source": [
    "# load dataset\n",
    "data_surv = pd.read_csv('./Assignment2022_Data/mortgage.csv')"
   ]
  },
  {
   "cell_type": "code",
   "execution_count": 3,
   "id": "d400d3bd",
   "metadata": {},
   "outputs": [
    {
     "data": {
      "text/plain": [
       "622489"
      ]
     },
     "execution_count": 3,
     "metadata": {},
     "output_type": "execute_result"
    }
   ],
   "source": [
    "len(data_surv)"
   ]
  },
  {
   "cell_type": "code",
   "execution_count": 4,
   "id": "f40a3d5a",
   "metadata": {},
   "outputs": [
    {
     "data": {
      "text/html": [
       "<div>\n",
       "<style scoped>\n",
       "    .dataframe tbody tr th:only-of-type {\n",
       "        vertical-align: middle;\n",
       "    }\n",
       "\n",
       "    .dataframe tbody tr th {\n",
       "        vertical-align: top;\n",
       "    }\n",
       "\n",
       "    .dataframe thead th {\n",
       "        text-align: right;\n",
       "    }\n",
       "</style>\n",
       "<table border=\"1\" class=\"dataframe\">\n",
       "  <thead>\n",
       "    <tr style=\"text-align: right;\">\n",
       "      <th></th>\n",
       "      <th>id</th>\n",
       "      <th>time</th>\n",
       "      <th>orig_time</th>\n",
       "      <th>first_time</th>\n",
       "      <th>mat_time</th>\n",
       "      <th>balance_time</th>\n",
       "      <th>LTV_time</th>\n",
       "      <th>interest_rate_time</th>\n",
       "      <th>hpi_time</th>\n",
       "      <th>gdp_time</th>\n",
       "      <th>...</th>\n",
       "      <th>REtype_SF_orig_time</th>\n",
       "      <th>investor_orig_time</th>\n",
       "      <th>balance_orig_time</th>\n",
       "      <th>FICO_orig_time</th>\n",
       "      <th>LTV_orig_time</th>\n",
       "      <th>Interest_Rate_orig_time</th>\n",
       "      <th>hpi_orig_time</th>\n",
       "      <th>default_time</th>\n",
       "      <th>payoff_time</th>\n",
       "      <th>status_time</th>\n",
       "    </tr>\n",
       "  </thead>\n",
       "  <tbody>\n",
       "    <tr>\n",
       "      <th>0</th>\n",
       "      <td>1</td>\n",
       "      <td>25</td>\n",
       "      <td>-7</td>\n",
       "      <td>25</td>\n",
       "      <td>113</td>\n",
       "      <td>41303.42</td>\n",
       "      <td>24.498336</td>\n",
       "      <td>9.2</td>\n",
       "      <td>226.29</td>\n",
       "      <td>2.899137</td>\n",
       "      <td>...</td>\n",
       "      <td>1</td>\n",
       "      <td>0</td>\n",
       "      <td>45000.0</td>\n",
       "      <td>715</td>\n",
       "      <td>69.4</td>\n",
       "      <td>9.2</td>\n",
       "      <td>87.03</td>\n",
       "      <td>0</td>\n",
       "      <td>0</td>\n",
       "      <td>0</td>\n",
       "    </tr>\n",
       "    <tr>\n",
       "      <th>1</th>\n",
       "      <td>1</td>\n",
       "      <td>26</td>\n",
       "      <td>-7</td>\n",
       "      <td>25</td>\n",
       "      <td>113</td>\n",
       "      <td>41061.95</td>\n",
       "      <td>24.483867</td>\n",
       "      <td>9.2</td>\n",
       "      <td>225.10</td>\n",
       "      <td>2.151365</td>\n",
       "      <td>...</td>\n",
       "      <td>1</td>\n",
       "      <td>0</td>\n",
       "      <td>45000.0</td>\n",
       "      <td>715</td>\n",
       "      <td>69.4</td>\n",
       "      <td>9.2</td>\n",
       "      <td>87.03</td>\n",
       "      <td>0</td>\n",
       "      <td>0</td>\n",
       "      <td>0</td>\n",
       "    </tr>\n",
       "    <tr>\n",
       "      <th>2</th>\n",
       "      <td>1</td>\n",
       "      <td>27</td>\n",
       "      <td>-7</td>\n",
       "      <td>25</td>\n",
       "      <td>113</td>\n",
       "      <td>40804.42</td>\n",
       "      <td>24.626795</td>\n",
       "      <td>9.2</td>\n",
       "      <td>222.39</td>\n",
       "      <td>2.361722</td>\n",
       "      <td>...</td>\n",
       "      <td>1</td>\n",
       "      <td>0</td>\n",
       "      <td>45000.0</td>\n",
       "      <td>715</td>\n",
       "      <td>69.4</td>\n",
       "      <td>9.2</td>\n",
       "      <td>87.03</td>\n",
       "      <td>0</td>\n",
       "      <td>0</td>\n",
       "      <td>0</td>\n",
       "    </tr>\n",
       "    <tr>\n",
       "      <th>3</th>\n",
       "      <td>1</td>\n",
       "      <td>28</td>\n",
       "      <td>-7</td>\n",
       "      <td>25</td>\n",
       "      <td>113</td>\n",
       "      <td>40483.89</td>\n",
       "      <td>24.735883</td>\n",
       "      <td>9.2</td>\n",
       "      <td>219.67</td>\n",
       "      <td>1.229172</td>\n",
       "      <td>...</td>\n",
       "      <td>1</td>\n",
       "      <td>0</td>\n",
       "      <td>45000.0</td>\n",
       "      <td>715</td>\n",
       "      <td>69.4</td>\n",
       "      <td>9.2</td>\n",
       "      <td>87.03</td>\n",
       "      <td>0</td>\n",
       "      <td>0</td>\n",
       "      <td>0</td>\n",
       "    </tr>\n",
       "    <tr>\n",
       "      <th>4</th>\n",
       "      <td>1</td>\n",
       "      <td>29</td>\n",
       "      <td>-7</td>\n",
       "      <td>25</td>\n",
       "      <td>113</td>\n",
       "      <td>40367.06</td>\n",
       "      <td>24.925476</td>\n",
       "      <td>9.2</td>\n",
       "      <td>217.37</td>\n",
       "      <td>1.692969</td>\n",
       "      <td>...</td>\n",
       "      <td>1</td>\n",
       "      <td>0</td>\n",
       "      <td>45000.0</td>\n",
       "      <td>715</td>\n",
       "      <td>69.4</td>\n",
       "      <td>9.2</td>\n",
       "      <td>87.03</td>\n",
       "      <td>0</td>\n",
       "      <td>0</td>\n",
       "      <td>0</td>\n",
       "    </tr>\n",
       "  </tbody>\n",
       "</table>\n",
       "<p>5 rows × 23 columns</p>\n",
       "</div>"
      ],
      "text/plain": [
       "   id  time  orig_time  first_time  mat_time  balance_time   LTV_time  \\\n",
       "0   1    25         -7          25       113      41303.42  24.498336   \n",
       "1   1    26         -7          25       113      41061.95  24.483867   \n",
       "2   1    27         -7          25       113      40804.42  24.626795   \n",
       "3   1    28         -7          25       113      40483.89  24.735883   \n",
       "4   1    29         -7          25       113      40367.06  24.925476   \n",
       "\n",
       "   interest_rate_time  hpi_time  gdp_time  ...  REtype_SF_orig_time  \\\n",
       "0                 9.2    226.29  2.899137  ...                    1   \n",
       "1                 9.2    225.10  2.151365  ...                    1   \n",
       "2                 9.2    222.39  2.361722  ...                    1   \n",
       "3                 9.2    219.67  1.229172  ...                    1   \n",
       "4                 9.2    217.37  1.692969  ...                    1   \n",
       "\n",
       "   investor_orig_time  balance_orig_time  FICO_orig_time  LTV_orig_time  \\\n",
       "0                   0            45000.0             715           69.4   \n",
       "1                   0            45000.0             715           69.4   \n",
       "2                   0            45000.0             715           69.4   \n",
       "3                   0            45000.0             715           69.4   \n",
       "4                   0            45000.0             715           69.4   \n",
       "\n",
       "   Interest_Rate_orig_time  hpi_orig_time  default_time  payoff_time  \\\n",
       "0                      9.2          87.03             0            0   \n",
       "1                      9.2          87.03             0            0   \n",
       "2                      9.2          87.03             0            0   \n",
       "3                      9.2          87.03             0            0   \n",
       "4                      9.2          87.03             0            0   \n",
       "\n",
       "   status_time  \n",
       "0            0  \n",
       "1            0  \n",
       "2            0  \n",
       "3            0  \n",
       "4            0  \n",
       "\n",
       "[5 rows x 23 columns]"
      ]
     },
     "execution_count": 4,
     "metadata": {},
     "output_type": "execute_result"
    }
   ],
   "source": [
    "data_surv.head()"
   ]
  },
  {
   "cell_type": "code",
   "execution_count": 5,
   "id": "220c4a83",
   "metadata": {},
   "outputs": [
    {
     "data": {
      "text/plain": [
       "id                           0\n",
       "time                         0\n",
       "orig_time                    0\n",
       "first_time                   0\n",
       "mat_time                     0\n",
       "balance_time                 0\n",
       "LTV_time                   270\n",
       "interest_rate_time           0\n",
       "hpi_time                     0\n",
       "gdp_time                     0\n",
       "uer_time                     0\n",
       "REtype_CO_orig_time          0\n",
       "REtype_PU_orig_time          0\n",
       "REtype_SF_orig_time          0\n",
       "investor_orig_time           0\n",
       "balance_orig_time            0\n",
       "FICO_orig_time               0\n",
       "LTV_orig_time                0\n",
       "Interest_Rate_orig_time      0\n",
       "hpi_orig_time                0\n",
       "default_time                 0\n",
       "payoff_time                  0\n",
       "status_time                  0\n",
       "dtype: int64"
      ]
     },
     "execution_count": 5,
     "metadata": {},
     "output_type": "execute_result"
    }
   ],
   "source": [
    "data_surv.isna().sum()"
   ]
  },
  {
   "cell_type": "markdown",
   "id": "c56bdc91",
   "metadata": {},
   "source": [
    "## Data Preprocessing"
   ]
  },
  {
   "cell_type": "code",
   "execution_count": 6,
   "id": "5efe29d0",
   "metadata": {},
   "outputs": [],
   "source": [
    "# Handling Missing values by Filling them with NA\n",
    "data_surv['LTV_time'] = data_surv.LTV_time.fillna(data_surv.LTV_time.mean())"
   ]
  },
  {
   "cell_type": "code",
   "execution_count": 7,
   "id": "59235d66",
   "metadata": {},
   "outputs": [],
   "source": [
    "# convert episodic data to static\n",
    "data_static = data_surv.groupby(\"id\").agg(np.max).reset_index()"
   ]
  },
  {
   "cell_type": "code",
   "execution_count": 8,
   "id": "cffb43cc",
   "metadata": {},
   "outputs": [
    {
     "data": {
      "text/html": [
       "<div>\n",
       "<style scoped>\n",
       "    .dataframe tbody tr th:only-of-type {\n",
       "        vertical-align: middle;\n",
       "    }\n",
       "\n",
       "    .dataframe tbody tr th {\n",
       "        vertical-align: top;\n",
       "    }\n",
       "\n",
       "    .dataframe thead th {\n",
       "        text-align: right;\n",
       "    }\n",
       "</style>\n",
       "<table border=\"1\" class=\"dataframe\">\n",
       "  <thead>\n",
       "    <tr style=\"text-align: right;\">\n",
       "      <th></th>\n",
       "      <th>id</th>\n",
       "      <th>time</th>\n",
       "      <th>orig_time</th>\n",
       "      <th>first_time</th>\n",
       "      <th>mat_time</th>\n",
       "      <th>balance_time</th>\n",
       "      <th>LTV_time</th>\n",
       "      <th>interest_rate_time</th>\n",
       "      <th>hpi_time</th>\n",
       "      <th>gdp_time</th>\n",
       "      <th>...</th>\n",
       "      <th>REtype_SF_orig_time</th>\n",
       "      <th>investor_orig_time</th>\n",
       "      <th>balance_orig_time</th>\n",
       "      <th>FICO_orig_time</th>\n",
       "      <th>LTV_orig_time</th>\n",
       "      <th>Interest_Rate_orig_time</th>\n",
       "      <th>hpi_orig_time</th>\n",
       "      <th>default_time</th>\n",
       "      <th>payoff_time</th>\n",
       "      <th>status_time</th>\n",
       "    </tr>\n",
       "  </thead>\n",
       "  <tbody>\n",
       "    <tr>\n",
       "      <th>0</th>\n",
       "      <td>1</td>\n",
       "      <td>48</td>\n",
       "      <td>-7</td>\n",
       "      <td>25</td>\n",
       "      <td>113</td>\n",
       "      <td>41303.42</td>\n",
       "      <td>28.963629</td>\n",
       "      <td>9.200</td>\n",
       "      <td>226.29</td>\n",
       "      <td>3.029499</td>\n",
       "      <td>...</td>\n",
       "      <td>1</td>\n",
       "      <td>0</td>\n",
       "      <td>45000.0</td>\n",
       "      <td>715</td>\n",
       "      <td>69.4</td>\n",
       "      <td>9.200</td>\n",
       "      <td>87.03</td>\n",
       "      <td>1</td>\n",
       "      <td>0</td>\n",
       "      <td>1</td>\n",
       "    </tr>\n",
       "    <tr>\n",
       "      <th>1</th>\n",
       "      <td>2</td>\n",
       "      <td>26</td>\n",
       "      <td>18</td>\n",
       "      <td>25</td>\n",
       "      <td>138</td>\n",
       "      <td>105826.38</td>\n",
       "      <td>65.469851</td>\n",
       "      <td>7.680</td>\n",
       "      <td>226.29</td>\n",
       "      <td>2.899137</td>\n",
       "      <td>...</td>\n",
       "      <td>1</td>\n",
       "      <td>0</td>\n",
       "      <td>107200.0</td>\n",
       "      <td>558</td>\n",
       "      <td>80.0</td>\n",
       "      <td>7.680</td>\n",
       "      <td>186.91</td>\n",
       "      <td>0</td>\n",
       "      <td>1</td>\n",
       "      <td>2</td>\n",
       "    </tr>\n",
       "    <tr>\n",
       "      <th>2</th>\n",
       "      <td>3</td>\n",
       "      <td>29</td>\n",
       "      <td>-6</td>\n",
       "      <td>25</td>\n",
       "      <td>114</td>\n",
       "      <td>44866.18</td>\n",
       "      <td>31.459735</td>\n",
       "      <td>11.375</td>\n",
       "      <td>226.29</td>\n",
       "      <td>2.899137</td>\n",
       "      <td>...</td>\n",
       "      <td>1</td>\n",
       "      <td>0</td>\n",
       "      <td>48600.0</td>\n",
       "      <td>680</td>\n",
       "      <td>83.6</td>\n",
       "      <td>8.750</td>\n",
       "      <td>89.58</td>\n",
       "      <td>0</td>\n",
       "      <td>1</td>\n",
       "      <td>2</td>\n",
       "    </tr>\n",
       "    <tr>\n",
       "      <th>3</th>\n",
       "      <td>4</td>\n",
       "      <td>60</td>\n",
       "      <td>-2</td>\n",
       "      <td>25</td>\n",
       "      <td>119</td>\n",
       "      <td>61031.10</td>\n",
       "      <td>49.156858</td>\n",
       "      <td>11.000</td>\n",
       "      <td>226.29</td>\n",
       "      <td>3.029499</td>\n",
       "      <td>...</td>\n",
       "      <td>1</td>\n",
       "      <td>0</td>\n",
       "      <td>63750.0</td>\n",
       "      <td>587</td>\n",
       "      <td>81.8</td>\n",
       "      <td>10.500</td>\n",
       "      <td>97.99</td>\n",
       "      <td>0</td>\n",
       "      <td>0</td>\n",
       "      <td>0</td>\n",
       "    </tr>\n",
       "    <tr>\n",
       "      <th>4</th>\n",
       "      <td>5</td>\n",
       "      <td>27</td>\n",
       "      <td>18</td>\n",
       "      <td>25</td>\n",
       "      <td>138</td>\n",
       "      <td>52295.07</td>\n",
       "      <td>66.346343</td>\n",
       "      <td>9.155</td>\n",
       "      <td>226.29</td>\n",
       "      <td>2.899137</td>\n",
       "      <td>...</td>\n",
       "      <td>1</td>\n",
       "      <td>0</td>\n",
       "      <td>52800.0</td>\n",
       "      <td>527</td>\n",
       "      <td>80.0</td>\n",
       "      <td>9.155</td>\n",
       "      <td>186.91</td>\n",
       "      <td>0</td>\n",
       "      <td>1</td>\n",
       "      <td>2</td>\n",
       "    </tr>\n",
       "  </tbody>\n",
       "</table>\n",
       "<p>5 rows × 23 columns</p>\n",
       "</div>"
      ],
      "text/plain": [
       "   id  time  orig_time  first_time  mat_time  balance_time   LTV_time  \\\n",
       "0   1    48         -7          25       113      41303.42  28.963629   \n",
       "1   2    26         18          25       138     105826.38  65.469851   \n",
       "2   3    29         -6          25       114      44866.18  31.459735   \n",
       "3   4    60         -2          25       119      61031.10  49.156858   \n",
       "4   5    27         18          25       138      52295.07  66.346343   \n",
       "\n",
       "   interest_rate_time  hpi_time  gdp_time  ...  REtype_SF_orig_time  \\\n",
       "0               9.200    226.29  3.029499  ...                    1   \n",
       "1               7.680    226.29  2.899137  ...                    1   \n",
       "2              11.375    226.29  2.899137  ...                    1   \n",
       "3              11.000    226.29  3.029499  ...                    1   \n",
       "4               9.155    226.29  2.899137  ...                    1   \n",
       "\n",
       "   investor_orig_time  balance_orig_time  FICO_orig_time  LTV_orig_time  \\\n",
       "0                   0            45000.0             715           69.4   \n",
       "1                   0           107200.0             558           80.0   \n",
       "2                   0            48600.0             680           83.6   \n",
       "3                   0            63750.0             587           81.8   \n",
       "4                   0            52800.0             527           80.0   \n",
       "\n",
       "   Interest_Rate_orig_time  hpi_orig_time  default_time  payoff_time  \\\n",
       "0                    9.200          87.03             1            0   \n",
       "1                    7.680         186.91             0            1   \n",
       "2                    8.750          89.58             0            1   \n",
       "3                   10.500          97.99             0            0   \n",
       "4                    9.155         186.91             0            1   \n",
       "\n",
       "   status_time  \n",
       "0            1  \n",
       "1            2  \n",
       "2            2  \n",
       "3            0  \n",
       "4            2  \n",
       "\n",
       "[5 rows x 23 columns]"
      ]
     },
     "execution_count": 8,
     "metadata": {},
     "output_type": "execute_result"
    }
   ],
   "source": [
    "data_static.head()"
   ]
  },
  {
   "cell_type": "code",
   "execution_count": 9,
   "id": "02340f35",
   "metadata": {},
   "outputs": [
    {
     "data": {
      "text/plain": [
       "50000"
      ]
     },
     "execution_count": 9,
     "metadata": {},
     "output_type": "execute_result"
    }
   ],
   "source": [
    "len(data_static)"
   ]
  },
  {
   "cell_type": "code",
   "execution_count": 10,
   "id": "33956528",
   "metadata": {},
   "outputs": [],
   "source": [
    "# Checking the 30th Quantile of Balance at Origin Time\n",
    "\n",
    "data_static['balance_orig_time'].quantile(0.3)\n",
    "data_static['Low_balance'] = 1\n",
    "data_static.loc[(data_static['balance_orig_time'] > data_static['balance_orig_time'].quantile(0.3)),'Low_balance'] = 0"
   ]
  },
  {
   "cell_type": "code",
   "execution_count": 11,
   "id": "b2cf315c",
   "metadata": {},
   "outputs": [
    {
     "data": {
      "image/png": "[encoded data removed]",
      "text/plain": [
       "<Figure size 432x288 with 1 Axes>"
      ]
     },
     "metadata": {
      "needs_background": "light"
     },
     "output_type": "display_data"
    }
   ],
   "source": [
    "from lifelines.plotting import plot_lifetimes\n",
    "\n",
    "df_samp = data_static.sample(20)\n",
    "ax = plot_lifetimes(df_samp[\"time\"], event_observed=df_samp[\"default_time\"])\n",
    "ax.set_xlabel(\"Time\")\n",
    "ax.set_title(\"Time to default\")\n",
    "plt.show()"
   ]
  },
  {
   "cell_type": "markdown",
   "id": "082d75a7",
   "metadata": {},
   "source": [
    "## Kaplan Meier Estimator\n",
    "The Kaplan–Meier estimator, also known as the product limit estimator, is a non-parametric statistic used to estimate the survival function from lifetime data.\n",
    "\n",
    "A plot of the Kaplan–Meier estimator is a series of declining horizontal steps which, with a large enough sample size, approaches the true survival function for that population. The value of the survival function between successive distinct sampled observations (\"clicks\") is assumed to be constant.\n",
    "\n",
    "References: https://en.wikipedia.org/wiki/Kaplan%E2%80%93Meier_estimator"
   ]
  },
  {
   "cell_type": "code",
   "execution_count": 12,
   "id": "f2db1884",
   "metadata": {},
   "outputs": [
    {
     "data": {
      "image/png": "[encoded data removed]",
      "text/plain": [
       "<Figure size 1080x576 with 2 Axes>"
      ]
     },
     "metadata": {
      "needs_background": "light"
     },
     "output_type": "display_data"
    }
   ],
   "source": [
    "from lifelines import KaplanMeierFitter\n",
    "\n",
    "kmf = KaplanMeierFitter()\n",
    "# fit on static data: TIME indicates the last observed timestep, TARGET indicates whether the customer defaulted\n",
    "kmf.fit(data_static['time'], data_static['default_time'], label='Kaplan Meier Estimator')\n",
    "\n",
    "\n",
    "# plot survival function\n",
    "ax = kmf.plot_survival_function(at_risk_counts=True,figsize=(15,8))\n",
    "ax.set_ylabel('Probability of non-default')\n",
    "plt.show()"
   ]
  },
  {
   "cell_type": "code",
   "execution_count": 13,
   "id": "914543c9",
   "metadata": {},
   "outputs": [
    {
     "name": "stdout",
     "output_type": "stream",
     "text": [
      "35.0\n"
     ]
    },
    {
     "data": {
      "image/png": "[encoded data removed]",
      "text/plain": [
       "<Figure size 1080x576 with 2 Axes>"
      ]
     },
     "metadata": {
      "needs_background": "light"
     },
     "output_type": "display_data"
    }
   ],
   "source": [
    "# Median default_time?\n",
    "median_default = data_static.query(\"default_time==1\")[\"time\"].median()\n",
    "print(median_default)\n",
    "\n",
    "# add to plot\n",
    "ax = kmf.plot_survival_function(at_risk_counts=True,figsize=(15,8))\n",
    "ax.set_ylabel('Probability of non-default')\n",
    "plt.plot([median_default, median_default], [0,1], 'k-', c=\"red\")\n",
    "plt.show()"
   ]
  },
  {
   "cell_type": "code",
   "execution_count": 14,
   "id": "ea882ab3",
   "metadata": {},
   "outputs": [
    {
     "data": {
      "text/html": [
       "<div>\n",
       "<style scoped>\n",
       "    .dataframe tbody tr th:only-of-type {\n",
       "        vertical-align: middle;\n",
       "    }\n",
       "\n",
       "    .dataframe tbody tr th {\n",
       "        vertical-align: top;\n",
       "    }\n",
       "\n",
       "    .dataframe thead th {\n",
       "        text-align: right;\n",
       "    }\n",
       "</style>\n",
       "<table border=\"1\" class=\"dataframe\">\n",
       "  <thead>\n",
       "    <tr style=\"text-align: right;\">\n",
       "      <th></th>\n",
       "      <th>removed</th>\n",
       "      <th>observed</th>\n",
       "      <th>censored</th>\n",
       "      <th>entrance</th>\n",
       "      <th>at_risk</th>\n",
       "    </tr>\n",
       "    <tr>\n",
       "      <th>event_at</th>\n",
       "      <th></th>\n",
       "      <th></th>\n",
       "      <th></th>\n",
       "      <th></th>\n",
       "      <th></th>\n",
       "    </tr>\n",
       "  </thead>\n",
       "  <tbody>\n",
       "    <tr>\n",
       "      <th>0.0</th>\n",
       "      <td>0</td>\n",
       "      <td>0</td>\n",
       "      <td>0</td>\n",
       "      <td>50000</td>\n",
       "      <td>50000</td>\n",
       "    </tr>\n",
       "    <tr>\n",
       "      <th>1.0</th>\n",
       "      <td>22</td>\n",
       "      <td>3</td>\n",
       "      <td>19</td>\n",
       "      <td>0</td>\n",
       "      <td>50000</td>\n",
       "    </tr>\n",
       "    <tr>\n",
       "      <th>2.0</th>\n",
       "      <td>37</td>\n",
       "      <td>5</td>\n",
       "      <td>32</td>\n",
       "      <td>0</td>\n",
       "      <td>49978</td>\n",
       "    </tr>\n",
       "    <tr>\n",
       "      <th>3.0</th>\n",
       "      <td>57</td>\n",
       "      <td>14</td>\n",
       "      <td>43</td>\n",
       "      <td>0</td>\n",
       "      <td>49941</td>\n",
       "    </tr>\n",
       "    <tr>\n",
       "      <th>4.0</th>\n",
       "      <td>56</td>\n",
       "      <td>25</td>\n",
       "      <td>31</td>\n",
       "      <td>0</td>\n",
       "      <td>49884</td>\n",
       "    </tr>\n",
       "    <tr>\n",
       "      <th>...</th>\n",
       "      <td>...</td>\n",
       "      <td>...</td>\n",
       "      <td>...</td>\n",
       "      <td>...</td>\n",
       "      <td>...</td>\n",
       "    </tr>\n",
       "    <tr>\n",
       "      <th>56.0</th>\n",
       "      <td>223</td>\n",
       "      <td>58</td>\n",
       "      <td>165</td>\n",
       "      <td>0</td>\n",
       "      <td>8996</td>\n",
       "    </tr>\n",
       "    <tr>\n",
       "      <th>57.0</th>\n",
       "      <td>231</td>\n",
       "      <td>49</td>\n",
       "      <td>182</td>\n",
       "      <td>0</td>\n",
       "      <td>8773</td>\n",
       "    </tr>\n",
       "    <tr>\n",
       "      <th>58.0</th>\n",
       "      <td>245</td>\n",
       "      <td>77</td>\n",
       "      <td>168</td>\n",
       "      <td>0</td>\n",
       "      <td>8542</td>\n",
       "    </tr>\n",
       "    <tr>\n",
       "      <th>59.0</th>\n",
       "      <td>293</td>\n",
       "      <td>53</td>\n",
       "      <td>240</td>\n",
       "      <td>0</td>\n",
       "      <td>8297</td>\n",
       "    </tr>\n",
       "    <tr>\n",
       "      <th>60.0</th>\n",
       "      <td>8004</td>\n",
       "      <td>43</td>\n",
       "      <td>7961</td>\n",
       "      <td>0</td>\n",
       "      <td>8004</td>\n",
       "    </tr>\n",
       "  </tbody>\n",
       "</table>\n",
       "<p>61 rows × 5 columns</p>\n",
       "</div>"
      ],
      "text/plain": [
       "          removed  observed  censored  entrance  at_risk\n",
       "event_at                                                \n",
       "0.0             0         0         0     50000    50000\n",
       "1.0            22         3        19         0    50000\n",
       "2.0            37         5        32         0    49978\n",
       "3.0            57        14        43         0    49941\n",
       "4.0            56        25        31         0    49884\n",
       "...           ...       ...       ...       ...      ...\n",
       "56.0          223        58       165         0     8996\n",
       "57.0          231        49       182         0     8773\n",
       "58.0          245        77       168         0     8542\n",
       "59.0          293        53       240         0     8297\n",
       "60.0         8004        43      7961         0     8004\n",
       "\n",
       "[61 rows x 5 columns]"
      ]
     },
     "execution_count": 14,
     "metadata": {},
     "output_type": "execute_result"
    }
   ],
   "source": [
    "kmf.event_table"
   ]
  },
  {
   "cell_type": "code",
   "execution_count": 15,
   "id": "311177fc",
   "metadata": {},
   "outputs": [
    {
     "data": {
      "text/plain": [
       "<AxesSubplot:xlabel='timeline'>"
      ]
     },
     "execution_count": 15,
     "metadata": {},
     "output_type": "execute_result"
    },
    {
     "data": {
      "image/png": "[encoded data removed]",
      "text/plain": [
       "<Figure size 432x288 with 1 Axes>"
      ]
     },
     "metadata": {
      "needs_background": "light"
     },
     "output_type": "display_data"
    }
   ],
   "source": [
    "# plot cumulative hazard function\n",
    "kmf.plot_cumulative_density()"
   ]
  },
  {
   "cell_type": "code",
   "execution_count": 16,
   "id": "504b47f0",
   "metadata": {},
   "outputs": [
    {
     "data": {
      "text/plain": [
       "0.027535396793506917"
      ]
     },
     "execution_count": 16,
     "metadata": {},
     "output_type": "execute_result"
    }
   ],
   "source": [
    "# \"predict\" probability to default at time 60\n",
    "\n",
    "# 1 - probability of non-default at time 60\n",
    "1 - kmf.predict(25)"
   ]
  },
  {
   "cell_type": "code",
   "execution_count": 17,
   "id": "1d2a5428",
   "metadata": {},
   "outputs": [
    {
     "data": {
      "text/plain": [
       "0.49651115609746754"
      ]
     },
     "execution_count": 17,
     "metadata": {},
     "output_type": "execute_result"
    }
   ],
   "source": [
    "1 - kmf.predict(50)"
   ]
  },
  {
   "cell_type": "code",
   "execution_count": 18,
   "id": "ca29410b",
   "metadata": {},
   "outputs": [
    {
     "data": {
      "text/plain": [
       "<AxesSubplot:ylabel='Low_balance'>"
      ]
     },
     "execution_count": 18,
     "metadata": {},
     "output_type": "execute_result"
    },
    {
     "data": {
      "image/png": "[encoded data removed]",
      "text/plain": [
       "<Figure size 360x576 with 1 Axes>"
      ]
     },
     "metadata": {},
     "output_type": "display_data"
    }
   ],
   "source": [
    "# display pie chart low balance\n",
    "data_static[\"Low_balance\"].value_counts().plot.pie(autopct='%.2f%%', figsize=(5,8))"
   ]
  },
  {
   "cell_type": "code",
   "execution_count": 19,
   "id": "fd71d9b7",
   "metadata": {},
   "outputs": [
    {
     "data": {
      "image/png": "[encoded data removed]",
      "text/plain": [
       "<Figure size 1080x576 with 2 Axes>"
      ]
     },
     "metadata": {
      "needs_background": "light"
     },
     "output_type": "display_data"
    }
   ],
   "source": [
    "# Compare two groups\n",
    "\n",
    "kmf1 = KaplanMeierFitter()\n",
    "kmf2 = KaplanMeierFitter()\n",
    "\n",
    "fig, ax = plt.subplots(1,1 , figsize=(15,8))\n",
    "\n",
    "# subset data\n",
    "df1 = data_static.loc[data_static[\"Low_balance\"] == 1,:]\n",
    "df2 = data_static.loc[data_static[\"Low_balance\"] == 0,:]\n",
    "\n",
    "# fit subset gender = male\n",
    "ax = kmf1.fit(df1['time'], df1['default_time'], label='1').plot_survival_function(ax=ax)\n",
    "\n",
    "# fit subset gender = female\n",
    "ax = kmf2.fit(df2['time'], df2['default_time'], label='0').plot_survival_function(ax=ax)\n",
    "\n",
    "from lifelines.plotting import add_at_risk_counts\n",
    "add_at_risk_counts(kmf1, kmf2, ax=ax)\n",
    "plt.tight_layout()"
   ]
  },
  {
   "cell_type": "markdown",
   "id": "f77b603e",
   "metadata": {},
   "source": [
    "## Logrank test\n",
    "The logrank test, or log-rank test, is a hypothesis test to compare the survival distributions of two samples. It is a nonparametric test and appropriate to use when the data are right skewed and censored (technically, the censoring must be non-informative) https://en.wikipedia.org/wiki/Logrank_test\n",
    "\n",
    "The logrank test statistic compares estimates of the hazard functions of the two groups at each observed event time. It is constructed by computing the observed and expected number of events in one of the groups at each observed event time and then adding these to obtain an overall summary across all-time points where there is an event."
   ]
  },
  {
   "cell_type": "code",
   "execution_count": 20,
   "id": "19c4cf15",
   "metadata": {},
   "outputs": [
    {
     "data": {
      "text/html": [
       "<div>\n",
       "<style scoped>\n",
       "    .dataframe tbody tr th:only-of-type {\n",
       "        vertical-align: middle;\n",
       "    }\n",
       "\n",
       "    .dataframe tbody tr th {\n",
       "        vertical-align: top;\n",
       "    }\n",
       "\n",
       "    .dataframe thead th {\n",
       "        text-align: right;\n",
       "    }\n",
       "</style>\n",
       "<table border=\"1\" class=\"dataframe\">\n",
       "  <thead>\n",
       "    <tr style=\"text-align: right;\">\n",
       "      <th></th>\n",
       "      <th>test_statistic</th>\n",
       "      <th>p</th>\n",
       "      <th>-log2(p)</th>\n",
       "    </tr>\n",
       "  </thead>\n",
       "  <tbody>\n",
       "    <tr>\n",
       "      <th>0</th>\n",
       "      <td>58.657144</td>\n",
       "      <td>1.876854e-14</td>\n",
       "      <td>45.598677</td>\n",
       "    </tr>\n",
       "  </tbody>\n",
       "</table>\n",
       "</div>"
      ],
      "text/plain": [
       "   test_statistic             p   -log2(p)\n",
       "0       58.657144  1.876854e-14  45.598677"
      ]
     },
     "execution_count": 20,
     "metadata": {},
     "output_type": "execute_result"
    }
   ],
   "source": [
    "# Perform logrank test to assess whether there is a difference between Males and Females in time to default\n",
    "\n",
    "from lifelines.statistics import logrank_test\n",
    "\n",
    "# Null-Hypothesis: No difference between the two groups\n",
    "res = logrank_test(df1['time'], df2['time'], event_observed_A=df1['default_time'],event_observed_B=df2['default_time'])\n",
    "\n",
    "# We can reject the Null-Hypothesis (p < 0.05)\n",
    "res.summary "
   ]
  },
  {
   "cell_type": "markdown",
   "id": "0b76abd6",
   "metadata": {},
   "source": [
    "Since the p value is <0.05 we can reject the null hypothesis which means there is a difference between 2 groups"
   ]
  },
  {
   "cell_type": "markdown",
   "id": "f9d4f45d",
   "metadata": {},
   "source": [
    "# Cox Proportional Hazarmode for varying variables\n",
    "The cox proportional-hazards model is one of the most important methods used for modelling survival analysis data\n",
    "The purpose of the model is to evaluate simultaneously the effect of several factors on survival. In other words, it allows us to examine how specified factors influence the rate of a particular event happening (e.g., infection, death) at a particular point in time. This rate is commonly referred as the hazard rate. Predictor variables (or factors) are usually termed covariates in the survival-analysis literature.\n",
    "\n",
    "The Cox model is expressed by the hazard function denoted by h(t). Briefly, the hazard function can be interpreted as the risk of dying at time t. It can be estimated as follow:\n",
    "\n",
    "h(t)=h0(t)×exp(b1x1+b2x2+...+bpxp)\n",
    "\n",
    "where,\n",
    "t represents the survival time\n",
    "h(t) is the hazard function determined by a set of p covariates (x1,x2,...,xp)\n",
    "the coefficients (b1,b2,...,bp) measure the impact (i.e., the effect size) of covariates.\n",
    "the term h0 is called the baseline hazard. It corresponds to the value of the hazard if all the xi are equal to zero (the quantity exp(0) equals 1). The ‘t’ in h(t) reminds us that the hazard may vary over time.\n",
    "\n",
    "The quantities exp(bi) are called hazard ratios (HR). A value of bi greater than zero, or equivalently a hazard ratio greater than one, indicates that as the value of the ith covariate increases, the event hazard increases and thus the length of survival decreases.\n",
    "\n",
    "In summary,\n",
    "\n",
    "HR = 1: No effect\n",
    "HR < 1: Reduction in the hazard\n",
    "HR > 1: Increase in Hazard\n",
    "http://www.sthda.com/english/wiki/cox-proportional-hazards-model"
   ]
  },
  {
   "cell_type": "code",
   "execution_count": 21,
   "id": "b056cf6e",
   "metadata": {},
   "outputs": [],
   "source": [
    "# select variables used in previous model + time varying variables\n",
    "data_tv = pd.merge(data_surv[[\"id\", \"time\", \"default_time\", \"hpi_time\", \"gdp_time\", \"uer_time\", \"balance_time\",\n",
    "\"interest_rate_time\", \"FICO_orig_time\", \"LTV_time\"]], data_static[[\"id\", \"time\"]]\\\n",
    ".rename(columns={\"time\":\"time_end\"}), on=\"id\", how=\"inner\")\n",
    "\n",
    "# Assumption: time always starts at 0 (no interval censored data)\n",
    "data_tv[\"first_time\"] = 0"
   ]
  },
  {
   "cell_type": "code",
   "execution_count": 22,
   "id": "d73cfe9d",
   "metadata": {},
   "outputs": [
    {
     "name": "stdout",
     "output_type": "stream",
     "text": [
      "Iteration 8: norm_delta = 0.00001, step_size = 1.00000, ll = -192581.15265, newton_decrement = 0.00000, seconds_since_start = 46.9Convergence completed after 8 iterations.\n"
     ]
    },
    {
     "data": {
      "text/html": [
       "<div>\n",
       "<style scoped>\n",
       "    .dataframe tbody tr th:only-of-type {\n",
       "        vertical-align: middle;\n",
       "    }\n",
       "\n",
       "    .dataframe tbody tr th {\n",
       "        vertical-align: top;\n",
       "    }\n",
       "\n",
       "    .dataframe thead th {\n",
       "        text-align: right;\n",
       "    }\n",
       "</style>\n",
       "<table border=\"1\" class=\"dataframe\">\n",
       "  <thead>\n",
       "    <tr style=\"text-align: right;\">\n",
       "      <th></th>\n",
       "      <th>coef</th>\n",
       "      <th>exp(coef)</th>\n",
       "      <th>se(coef)</th>\n",
       "      <th>coef lower 95%</th>\n",
       "      <th>coef upper 95%</th>\n",
       "      <th>exp(coef) lower 95%</th>\n",
       "      <th>exp(coef) upper 95%</th>\n",
       "      <th>cmp to</th>\n",
       "      <th>z</th>\n",
       "      <th>p</th>\n",
       "      <th>-log2(p)</th>\n",
       "    </tr>\n",
       "    <tr>\n",
       "      <th>covariate</th>\n",
       "      <th></th>\n",
       "      <th></th>\n",
       "      <th></th>\n",
       "      <th></th>\n",
       "      <th></th>\n",
       "      <th></th>\n",
       "      <th></th>\n",
       "      <th></th>\n",
       "      <th></th>\n",
       "      <th></th>\n",
       "      <th></th>\n",
       "    </tr>\n",
       "  </thead>\n",
       "  <tbody>\n",
       "    <tr>\n",
       "      <th>time</th>\n",
       "      <td>-5.304219e-02</td>\n",
       "      <td>0.948340</td>\n",
       "      <td>1.240797e-03</td>\n",
       "      <td>-5.547411e-02</td>\n",
       "      <td>-5.061027e-02</td>\n",
       "      <td>0.946037</td>\n",
       "      <td>0.950649</td>\n",
       "      <td>0.0</td>\n",
       "      <td>-42.748474</td>\n",
       "      <td>0.000000e+00</td>\n",
       "      <td>inf</td>\n",
       "    </tr>\n",
       "    <tr>\n",
       "      <th>hpi_time</th>\n",
       "      <td>-1.493606e-02</td>\n",
       "      <td>0.985175</td>\n",
       "      <td>5.855678e-04</td>\n",
       "      <td>-1.608375e-02</td>\n",
       "      <td>-1.378837e-02</td>\n",
       "      <td>0.984045</td>\n",
       "      <td>0.986306</td>\n",
       "      <td>0.0</td>\n",
       "      <td>-25.506970</td>\n",
       "      <td>1.649772e-143</td>\n",
       "      <td>474.313451</td>\n",
       "    </tr>\n",
       "    <tr>\n",
       "      <th>gdp_time</th>\n",
       "      <td>-1.726084e-02</td>\n",
       "      <td>0.982887</td>\n",
       "      <td>4.074025e-03</td>\n",
       "      <td>-2.524578e-02</td>\n",
       "      <td>-9.275893e-03</td>\n",
       "      <td>0.975070</td>\n",
       "      <td>0.990767</td>\n",
       "      <td>0.0</td>\n",
       "      <td>-4.236801</td>\n",
       "      <td>2.267265e-05</td>\n",
       "      <td>15.428687</td>\n",
       "    </tr>\n",
       "    <tr>\n",
       "      <th>uer_time</th>\n",
       "      <td>-8.018080e-02</td>\n",
       "      <td>0.922949</td>\n",
       "      <td>7.544854e-03</td>\n",
       "      <td>-9.496844e-02</td>\n",
       "      <td>-6.539316e-02</td>\n",
       "      <td>0.909402</td>\n",
       "      <td>0.936699</td>\n",
       "      <td>0.0</td>\n",
       "      <td>-10.627217</td>\n",
       "      <td>2.226574e-26</td>\n",
       "      <td>85.215305</td>\n",
       "    </tr>\n",
       "    <tr>\n",
       "      <th>balance_time</th>\n",
       "      <td>5.499832e-07</td>\n",
       "      <td>1.000001</td>\n",
       "      <td>2.250246e-08</td>\n",
       "      <td>5.058792e-07</td>\n",
       "      <td>5.940873e-07</td>\n",
       "      <td>1.000001</td>\n",
       "      <td>1.000001</td>\n",
       "      <td>0.0</td>\n",
       "      <td>24.441024</td>\n",
       "      <td>6.269418e-132</td>\n",
       "      <td>435.846177</td>\n",
       "    </tr>\n",
       "    <tr>\n",
       "      <th>interest_rate_time</th>\n",
       "      <td>1.403192e-01</td>\n",
       "      <td>1.150641</td>\n",
       "      <td>3.918051e-03</td>\n",
       "      <td>1.326399e-01</td>\n",
       "      <td>1.479984e-01</td>\n",
       "      <td>1.141839</td>\n",
       "      <td>1.159511</td>\n",
       "      <td>0.0</td>\n",
       "      <td>35.813517</td>\n",
       "      <td>6.804017e-281</td>\n",
       "      <td>930.695408</td>\n",
       "    </tr>\n",
       "    <tr>\n",
       "      <th>FICO_orig_time</th>\n",
       "      <td>-4.845199e-03</td>\n",
       "      <td>0.995167</td>\n",
       "      <td>1.238280e-04</td>\n",
       "      <td>-5.087897e-03</td>\n",
       "      <td>-4.602500e-03</td>\n",
       "      <td>0.994925</td>\n",
       "      <td>0.995408</td>\n",
       "      <td>0.0</td>\n",
       "      <td>-39.128469</td>\n",
       "      <td>0.000000e+00</td>\n",
       "      <td>inf</td>\n",
       "    </tr>\n",
       "    <tr>\n",
       "      <th>LTV_time</th>\n",
       "      <td>8.384300e-03</td>\n",
       "      <td>1.008420</td>\n",
       "      <td>1.331929e-04</td>\n",
       "      <td>8.123246e-03</td>\n",
       "      <td>8.645353e-03</td>\n",
       "      <td>1.008156</td>\n",
       "      <td>1.008683</td>\n",
       "      <td>0.0</td>\n",
       "      <td>62.948535</td>\n",
       "      <td>0.000000e+00</td>\n",
       "      <td>inf</td>\n",
       "    </tr>\n",
       "  </tbody>\n",
       "</table>\n",
       "</div>"
      ],
      "text/plain": [
       "                            coef  exp(coef)      se(coef)  coef lower 95%  \\\n",
       "covariate                                                                   \n",
       "time               -5.304219e-02   0.948340  1.240797e-03   -5.547411e-02   \n",
       "hpi_time           -1.493606e-02   0.985175  5.855678e-04   -1.608375e-02   \n",
       "gdp_time           -1.726084e-02   0.982887  4.074025e-03   -2.524578e-02   \n",
       "uer_time           -8.018080e-02   0.922949  7.544854e-03   -9.496844e-02   \n",
       "balance_time        5.499832e-07   1.000001  2.250246e-08    5.058792e-07   \n",
       "interest_rate_time  1.403192e-01   1.150641  3.918051e-03    1.326399e-01   \n",
       "FICO_orig_time     -4.845199e-03   0.995167  1.238280e-04   -5.087897e-03   \n",
       "LTV_time            8.384300e-03   1.008420  1.331929e-04    8.123246e-03   \n",
       "\n",
       "                    coef upper 95%  exp(coef) lower 95%  exp(coef) upper 95%  \\\n",
       "covariate                                                                      \n",
       "time                 -5.061027e-02             0.946037             0.950649   \n",
       "hpi_time             -1.378837e-02             0.984045             0.986306   \n",
       "gdp_time             -9.275893e-03             0.975070             0.990767   \n",
       "uer_time             -6.539316e-02             0.909402             0.936699   \n",
       "balance_time          5.940873e-07             1.000001             1.000001   \n",
       "interest_rate_time    1.479984e-01             1.141839             1.159511   \n",
       "FICO_orig_time       -4.602500e-03             0.994925             0.995408   \n",
       "LTV_time              8.645353e-03             1.008156             1.008683   \n",
       "\n",
       "                    cmp to          z              p    -log2(p)  \n",
       "covariate                                                         \n",
       "time                   0.0 -42.748474   0.000000e+00         inf  \n",
       "hpi_time               0.0 -25.506970  1.649772e-143  474.313451  \n",
       "gdp_time               0.0  -4.236801   2.267265e-05   15.428687  \n",
       "uer_time               0.0 -10.627217   2.226574e-26   85.215305  \n",
       "balance_time           0.0  24.441024  6.269418e-132  435.846177  \n",
       "interest_rate_time     0.0  35.813517  6.804017e-281  930.695408  \n",
       "FICO_orig_time         0.0 -39.128469   0.000000e+00         inf  \n",
       "LTV_time               0.0  62.948535   0.000000e+00         inf  "
      ]
     },
     "execution_count": 22,
     "metadata": {},
     "output_type": "execute_result"
    }
   ],
   "source": [
    "from lifelines import CoxTimeVaryingFitter\n",
    "\n",
    "# Note: credit_tv contains both time varying and static variables \n",
    "ctv = CoxTimeVaryingFitter()\n",
    "ctv.fit(data_tv, id_col=\"id\", event_col=\"default_time\", start_col=\"first_time\", stop_col=\"time_end\", show_progress=True)\n",
    "ctv.summary"
   ]
  },
  {
   "cell_type": "code",
   "execution_count": 23,
   "id": "b02f0f52",
   "metadata": {},
   "outputs": [
    {
     "data": {
      "text/plain": [
       "<AxesSubplot:xlabel='log(HR) (95% CI)'>"
      ]
     },
     "execution_count": 23,
     "metadata": {},
     "output_type": "execute_result"
    },
    {
     "data": {
      "image/png": "[encoded data removed]",
      "text/plain": [
       "<Figure size 432x288 with 1 Axes>"
      ]
     },
     "metadata": {
      "needs_background": "light"
     },
     "output_type": "display_data"
    }
   ],
   "source": [
    "ctv.plot()"
   ]
  },
  {
   "cell_type": "code",
   "execution_count": 24,
   "id": "9ab7e07b",
   "metadata": {},
   "outputs": [
    {
     "data": {
      "text/plain": [
       "covariate\n",
       "time                  0.000000\n",
       "hpi_time              0.000000\n",
       "gdp_time              0.000023\n",
       "uer_time              0.000000\n",
       "balance_time          0.000000\n",
       "interest_rate_time    0.000000\n",
       "FICO_orig_time        0.000000\n",
       "LTV_time              0.000000\n",
       "Name: p, dtype: float64"
      ]
     },
     "execution_count": 24,
     "metadata": {},
     "output_type": "execute_result"
    }
   ],
   "source": [
    "# inspect p-values\n",
    "round(ctv.summary['p'], 8)"
   ]
  },
  {
   "cell_type": "code",
   "execution_count": 25,
   "id": "ee3a0303",
   "metadata": {},
   "outputs": [
    {
     "data": {
      "text/plain": [
       "<AxesSubplot:>"
      ]
     },
     "execution_count": 25,
     "metadata": {},
     "output_type": "execute_result"
    },
    {
     "data": {
      "image/png": "[encoded data removed]",
      "text/plain": [
       "<Figure size 432x288 with 1 Axes>"
      ]
     },
     "metadata": {
      "needs_background": "light"
     },
     "output_type": "display_data"
    }
   ],
   "source": [
    "np.exp(ctv.baseline_cumulative_hazard_).plot()"
   ]
  },
  {
   "cell_type": "code",
   "execution_count": 26,
   "id": "d0e1220a",
   "metadata": {},
   "outputs": [
    {
     "name": "stdout",
     "output_type": "stream",
     "text": [
      "covariate\n",
      "time                 -0.053042\n",
      "hpi_time             -0.014936\n",
      "gdp_time             -0.017261\n",
      "uer_time             -0.080181\n",
      "balance_time          0.000001\n",
      "interest_rate_time    0.140319\n",
      "FICO_orig_time       -0.004845\n",
      "LTV_time              0.008384\n",
      "dtype: float64\n"
     ]
    }
   ],
   "source": [
    "# print parameter values\n",
    "print(round(ctv.params_, 6))"
   ]
  },
  {
   "cell_type": "code",
   "execution_count": 27,
   "id": "67ba0706",
   "metadata": {},
   "outputs": [
    {
     "name": "stdout",
     "output_type": "stream",
     "text": [
      "\n",
      " An additional increase in outstanding balance increases the probability of default by 0.000%\n",
      "\n",
      " An additional increase in interest_rate_time increases the probability of default by 15.064%\n",
      "\n",
      " An additional increase in unemployment rate increases the probability of default by -7.705%\n",
      "\n",
      " An additional increase in GDP increases the probability of default by -1.711%\n"
     ]
    }
   ],
   "source": [
    "# Interpretation (under ceteris paribus assumption): \n",
    "print('\\n An additional increase in outstanding balance increases the probability of default by {:.3f}%'.format((np.exp(0.000001) - 1)*100))\n",
    "print('\\n An additional increase in interest_rate_time increases the probability of default by {:.3f}%'.format((np.exp(0.140319) - 1)*100))\n",
    "print('\\n An additional increase in unemployment rate increases the probability of default by {:.3f}%'.format((np.exp(-0.080181) - 1)*100))\n",
    "print('\\n An additional increase in GDP increases the probability of default by {:.3f}%'.format((np.exp(-0.017261) - 1)*100))"
   ]
  },
  {
   "cell_type": "markdown",
   "id": "5e03ee52",
   "metadata": {},
   "source": [
    "## Reference\n",
    "    Professor's study material"
   ]
  }
 ],
 "metadata": {
  "kernelspec": {
   "display_name": "Python 3",
   "language": "python",
   "name": "python3"
  },
  "language_info": {
   "codemirror_mode": {
    "name": "ipython",
    "version": 3
   },
   "file_extension": ".py",
   "mimetype": "text/x-python",
   "name": "python",
   "nbconvert_exporter": "python",
   "pygments_lexer": "ipython3",
   "version": "3.9.4"
  }
 },
 "nbformat": 4,
 "nbformat_minor": 5
}
